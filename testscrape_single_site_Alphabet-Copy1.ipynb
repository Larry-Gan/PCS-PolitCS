{
 "cells": [
  {
   "cell_type": "code",
   "execution_count": 1,
   "metadata": {},
   "outputs": [],
   "source": [
    "import requests\n",
    "import lxml.html as lh\n",
    "import pandas as pd\n"
   ]
  },
  {
   "cell_type": "code",
   "execution_count": 2,
   "metadata": {},
   "outputs": [],
   "source": [
    "#getting url\n",
    "url='https://www1.salary.com/ALPHABET-INC-Executive-Salaries.html'\n",
    "page=requests.get(url)\n",
    "\n",
    "#getting all the tables\n",
    "doc=lh.fromstring(page.content)\n",
    "tr_elements=doc.xpath('//tr')"
   ]
  },
  {
   "cell_type": "code",
   "execution_count": 3,
   "metadata": {},
   "outputs": [
    {
     "data": {
      "text/plain": [
       "[1, 4, 4, 4, 4, 4, 4, 5, 5, 5, 5, 5, 5, 4, 4, 2, 2, 2, 2, 2, 2, 2, 2, 2, 2]"
      ]
     },
     "execution_count": 3,
     "metadata": {},
     "output_type": "execute_result"
    }
   ],
   "source": [
    "#seeing length of each row in the website\n",
    "[len(T) for T in tr_elements[:]]"
   ]
  },
  {
   "cell_type": "code",
   "execution_count": 4,
   "metadata": {},
   "outputs": [
    {
     "name": "stdout",
     "output_type": "stream",
     "text": [
      "1 CEO Name\n",
      "2 CEO Pay\n",
      "3 Median Employee Pay\n",
      "4 CEO Pay Ratio\n"
     ]
    }
   ],
   "source": [
    "col=[]\n",
    "i=0\n",
    "\n",
    "#seeing the content of a specified row\n",
    "for t in tr_elements[13]:\n",
    "    i+=1\n",
    "    name=t.text_content()\n",
    "    print(i,name)\n",
    "    col.append((name, []))"
   ]
  },
  {
   "cell_type": "code",
   "execution_count": 5,
   "metadata": {},
   "outputs": [
    {
     "data": {
      "text/plain": [
       "[('CEO Name', []),\n",
       " ('CEO Pay', []),\n",
       " ('Median Employee Pay', []),\n",
       " ('CEO Pay Ratio', [])]"
      ]
     },
     "execution_count": 5,
     "metadata": {},
     "output_type": "execute_result"
    }
   ],
   "source": [
    "col"
   ]
  },
  {
   "cell_type": "code",
   "execution_count": 6,
   "metadata": {},
   "outputs": [],
   "source": [
    "for j in range(1,len(tr_elements)):\n",
    "    #T is our j'th row\n",
    "    T=tr_elements[j]\n",
    "\n",
    "    #If row is not of a certain size, the //tr data is not from our table \n",
    "    if len(T)==4:\n",
    "        table_Name = ['','','','']\n",
    "        i=0\n",
    "        for t in T:\n",
    "            name = t.text_content()\n",
    "            name = name.__str__()\n",
    "            table_Name[i]=name\n",
    "            i+=1\n",
    "\n",
    "        if (table_Name[0] == 'CEO Name' and table_Name[1] == 'CEO Pay' and table_Name[2] == 'Median Employee Pay' and table_Name[3] == 'CEO Pay Ratio'):\n",
    "            #i is the index of our column\n",
    "            i=0\n",
    "\n",
    "            #Iterate through each element of the row\n",
    "            for t in T.iterchildren():\n",
    "                data=t.text_content() \n",
    "                data = data.__str__()\n",
    "                data = data.replace(r'$', '')\n",
    "                data = data.replace(r',', '')\n",
    "                data = data.strip()\n",
    "                data = data.replace(r'CEO Pay', '')\n",
    "                data = data.replace(r'Median Employee Pay', '')\n",
    "                data = data.replace(r'CEO Pay Ratio', '')\n",
    "                data = data.replace(r'Ratio', '')\n",
    "                data = data.strip()\n",
    "                #Check if row is empty\n",
    "                if i>0:\n",
    "                #Convert any numerical value to integers\n",
    "                    try:\n",
    "                        data=int(data)\n",
    "                    except:\n",
    "                        pass\n",
    "                #Append the data to the empty list of the i'th column\n",
    "                col[i][1].append(data)\n",
    "                #Increment i for the next column\n",
    "                i+=1        "
   ]
  },
  {
   "cell_type": "code",
   "execution_count": 7,
   "metadata": {},
   "outputs": [
    {
     "data": {
      "text/plain": [
       "[1, 1, 1, 1]"
      ]
     },
     "execution_count": 7,
     "metadata": {},
     "output_type": "execute_result"
    }
   ],
   "source": [
    "[len(C) for (title,C) in col]"
   ]
  },
  {
   "cell_type": "code",
   "execution_count": 8,
   "metadata": {},
   "outputs": [],
   "source": [
    "Dict={title:column for (title,column) in col}\n",
    "df=pd.DataFrame(Dict)"
   ]
  },
  {
   "cell_type": "code",
   "execution_count": 9,
   "metadata": {},
   "outputs": [
    {
     "data": {
      "text/html": [
       "<div>\n",
       "<style scoped>\n",
       "    .dataframe tbody tr th:only-of-type {\n",
       "        vertical-align: middle;\n",
       "    }\n",
       "\n",
       "    .dataframe tbody tr th {\n",
       "        vertical-align: top;\n",
       "    }\n",
       "\n",
       "    .dataframe thead th {\n",
       "        text-align: right;\n",
       "    }\n",
       "</style>\n",
       "<table border=\"1\" class=\"dataframe\">\n",
       "  <thead>\n",
       "    <tr style=\"text-align: right;\">\n",
       "      <th></th>\n",
       "      <th>CEO Name</th>\n",
       "      <th>CEO Pay</th>\n",
       "      <th>Median Employee Pay</th>\n",
       "      <th>CEO Pay Ratio</th>\n",
       "    </tr>\n",
       "  </thead>\n",
       "  <tbody>\n",
       "    <tr>\n",
       "      <th>0</th>\n",
       "      <td>CEO Name</td>\n",
       "      <td></td>\n",
       "      <td></td>\n",
       "      <td></td>\n",
       "    </tr>\n",
       "  </tbody>\n",
       "</table>\n",
       "</div>"
      ],
      "text/plain": [
       "   CEO Name CEO Pay Median Employee Pay CEO Pay Ratio\n",
       "0  CEO Name                                          "
      ]
     },
     "execution_count": 9,
     "metadata": {},
     "output_type": "execute_result"
    }
   ],
   "source": [
    "df"
   ]
  },
  {
   "cell_type": "code",
   "execution_count": 10,
   "metadata": {
    "scrolled": false
   },
   "outputs": [
    {
     "data": {
      "text/plain": [
       "False"
      ]
     },
     "execution_count": 10,
     "metadata": {},
     "output_type": "execute_result"
    }
   ],
   "source": [
    "df.at[0, 'CEO Pay'] == 280621552"
   ]
  },
  {
   "cell_type": "code",
   "execution_count": 11,
   "metadata": {},
   "outputs": [
    {
     "data": {
      "text/plain": [
       "False"
      ]
     },
     "execution_count": 11,
     "metadata": {},
     "output_type": "execute_result"
    }
   ],
   "source": [
    "df.at[0, 'CEO Name'] == 'Sundar Pichai'"
   ]
  },
  {
   "cell_type": "code",
   "execution_count": 12,
   "metadata": {},
   "outputs": [
    {
     "name": "stdout",
     "output_type": "stream",
     "text": [
      "['CEO Name']\n",
      "['CEO Name', 'CEO Pay']\n",
      "['CEO Name', 'CEO Pay', 'Median Employee Pay']\n",
      "['CEO Name', 'CEO Pay', 'Median Employee Pay', 'CEO Pay Ratio']\n",
      "['CEO Name', 'CEO Pay', 'Median Employee Pay', 'CEO Pay Ratio']\n",
      "CEO Name\n"
     ]
    }
   ],
   "source": [
    "table_Name = []\n",
    "for t in tr_elements[13]:\n",
    "    if (len(table_Name) <= 4):\n",
    "        name = t.text_content()\n",
    "        name = name.__str__()\n",
    "        table_Name.append(name)\n",
    "        print(table_Name)\n",
    "    else:\n",
    "        break\n",
    "print(table_Name)\n",
    "print(table_Name[0])"
   ]
  },
  {
   "cell_type": "code",
   "execution_count": 13,
   "metadata": {},
   "outputs": [
    {
     "name": "stdout",
     "output_type": "stream",
     "text": [
      "True\n"
     ]
    }
   ],
   "source": [
    "if (table_Name[0] == 'CEO Name' and table_Name[1] == 'CEO Pay' and table_Name[2] == 'Median Employee Pay' and table_Name[3] == 'CEO Pay Ratio'):\n",
    "    print(True)\n",
    "else:\n",
    "    print(False)"
   ]
  },
  {
   "cell_type": "code",
   "execution_count": null,
   "metadata": {},
   "outputs": [],
   "source": []
  }
 ],
 "metadata": {
  "kernelspec": {
   "display_name": "Python 3",
   "language": "python",
   "name": "python3"
  },
  "language_info": {
   "codemirror_mode": {
    "name": "ipython",
    "version": 3
   },
   "file_extension": ".py",
   "mimetype": "text/x-python",
   "name": "python",
   "nbconvert_exporter": "python",
   "pygments_lexer": "ipython3",
   "version": "3.7.3"
  }
 },
 "nbformat": 4,
 "nbformat_minor": 2
}
