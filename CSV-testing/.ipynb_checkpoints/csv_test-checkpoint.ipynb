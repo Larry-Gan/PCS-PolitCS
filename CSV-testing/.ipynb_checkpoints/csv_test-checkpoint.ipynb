{
 "cells": [
  {
   "cell_type": "code",
   "execution_count": 1,
   "metadata": {},
   "outputs": [],
   "source": [
    "import requests\n",
    "from requests.exceptions import ConnectionError\n",
    "import lxml.html as lh\n",
    "import pandas as pd\n",
    "import bs4\n",
    "from urllib.request import urlopen as uReq\n",
    "from bs4 import BeautifulSoup as soup"
   ]
  },
  {
   "cell_type": "code",
   "execution_count": 2,
   "metadata": {},
   "outputs": [],
   "source": [
    "#getting url\n",
    "url='https://www.salary.com/tools/executive-compensation-calculator/walmart-inc-executive-salaries?year=2020'\n",
    "page=requests.get(url)\n",
    "\n",
    "#getting all the tables\n",
    "doc=lh.fromstring(page.content)\n",
    "tr_elements=doc.xpath('//tr')"
   ]
  },
  {
   "cell_type": "code",
   "execution_count": 3,
   "metadata": {},
   "outputs": [
    {
     "data": {
      "text/plain": [
       "54"
      ]
     },
     "execution_count": 3,
     "metadata": {},
     "output_type": "execute_result"
    }
   ],
   "source": [
    "#making the csv to write into\n",
    "filename = \"testratio.csv\"\n",
    "f = open(filename, \"w\")\n",
    "\n",
    "#writing in the header of the csv\n",
    "headers = \"CEO_Name, CEO_Pay, Median_Employee_Pay, CEO_Pay_Ratio\\n\"\n",
    "f.write(headers)"
   ]
  },
  {
   "cell_type": "code",
   "execution_count": 4,
   "metadata": {
    "scrolled": true
   },
   "outputs": [
    {
     "data": {
      "text/plain": [
       "[1, 1]"
      ]
     },
     "execution_count": 4,
     "metadata": {},
     "output_type": "execute_result"
    }
   ],
   "source": [
    "#seeing length of each row in the website\n",
    "[len(T) for T in tr_elements[:]]\n",
    "#I can probably use this to skip sites that don't have 4 columns"
   ]
  },
  {
   "cell_type": "code",
   "execution_count": 5,
   "metadata": {},
   "outputs": [
    {
     "name": "stdout",
     "output_type": "stream",
     "text": [
      "1 \r\n",
      "                      \r\n",
      "\r\n",
      "<!-- Web.Config Configuration File -->\r\n",
      "\r\n",
      "<configuration>\r\n",
      "    <system.web>\r\n",
      "        <customErrors mode=\"Off\"/>\r\n",
      "    </system.web>\r\n",
      "</configuration>\r\n",
      "\r\n",
      "                  \n"
     ]
    },
    {
     "data": {
      "text/plain": [
       "[('\\r\\n                      \\r\\n\\r\\n<!-- Web.Config Configuration File -->\\r\\n\\r\\n<configuration>\\r\\n    <system.web>\\r\\n        <customErrors mode=\"Off\"/>\\r\\n    </system.web>\\r\\n</configuration>\\r\\n\\r\\n                  ',\n",
       "  [])]"
      ]
     },
     "execution_count": 5,
     "metadata": {},
     "output_type": "execute_result"
    }
   ],
   "source": [
    "tcol=[]\n",
    "i=0\n",
    "\n",
    "#seeing the content of a specified row this is for testing purposes only\n",
    "for t in tr_elements[0]:\n",
    "    i+=1\n",
    "    name=t.text_content()\n",
    "    print(i,name)\n",
    "    tcol.append((name, []))\n",
    "tcol"
   ]
  },
  {
   "cell_type": "code",
   "execution_count": 6,
   "metadata": {},
   "outputs": [
    {
     "data": {
      "text/plain": [
       "[('CEO Name', []),\n",
       " ('CEO Pay', []),\n",
       " ('Median Employee Pay', []),\n",
       " ('CEO Pay Ratio', [])]"
      ]
     },
     "execution_count": 6,
     "metadata": {},
     "output_type": "execute_result"
    }
   ],
   "source": [
    "#write this into the csv\n",
    "write_This = \"\"\n",
    "\n",
    "#Makes a list of to make the graph later on\n",
    "col=[('CEO Name', []), ('CEO Pay', []), ('Median Employee Pay', []), ('CEO Pay Ratio', [])]\n",
    "col"
   ]
  },
  {
   "cell_type": "code",
   "execution_count": 7,
   "metadata": {},
   "outputs": [],
   "source": [
    "#this will find the table that has the relevant info for the CEO,\n",
    "#and put the correct info into col\n",
    "for j in range(0,len(tr_elements)):\n",
    "    #T is our j'th row\n",
    "    T=tr_elements[j]\n",
    "\n",
    "    #Only check rows of size 4 (with CEO Name, CEO Pay, Median Employee Pay,\n",
    "    #and CEO Pay Ratio)\n",
    "    if len(T)==4:\n",
    "        #checks if the current row has the 4 maagic words\n",
    "        table_Name = ['','','','']\n",
    "        i=0\n",
    "        for t in T:\n",
    "            name = t.text_content()\n",
    "            name = name.__str__()\n",
    "            table_Name[i]=name\n",
    "            i+=1\n",
    "        \n",
    "        #if it does, I'll take the data from the row right below it\n",
    "        if (table_Name[0] == 'CEO Name' and table_Name[1] == 'CEO Pay' and table_Name[2] == 'Median Employee Pay' and table_Name[3] == 'CEO Pay Ratio'):\n",
    "            T=tr_elements[j+1]\n",
    "            #i is the index of our column\n",
    "            i=0\n",
    "            \n",
    "            #this is a temporary storage of the content of each line of the csv\n",
    "            content = []\n",
    "            \n",
    "            #Iterate through each element of the row\n",
    "            for t in T.iterchildren():\n",
    "                #this part if for cleaning the cell contents\n",
    "                data=t.text_content() #gets the content of cell\n",
    "                data = data.__str__() #turns content to string\n",
    "                data = data.replace(r'$', '') #takes out dollar sign for number conversion\n",
    "                data = data.replace(r',', '') #takes out comma for number conversion\n",
    "                data = data.strip() #clears our \\r and \\n and spaces, cleans up the content string\n",
    "                data = data.replace(r'CEO Pay', '') #cleans up the content string\n",
    "                data = data.replace(r'Median Employee Pay', '') #cleans up the content string\n",
    "                data = data.replace(r'CEO Pay Ratio', '') #cleans up the content string\n",
    "                data = data.replace(r'Ratio', '') #cleans up the content string\n",
    "                data = data.replace(r':1', '') #takes out :1 in the ratio for number conversion\n",
    "                data = data.strip() #clears our \\r and \\n and spaces again to finish cleaning up\n",
    "                \n",
    "                content.append(data)\n",
    "                \n",
    "                #Check if row is empty\n",
    "                if i>0:\n",
    "                #Convert any numerical value to integers\n",
    "                    try:\n",
    "                        data=int(data)\n",
    "                    except:\n",
    "                        pass\n",
    "                #Append the data to col\n",
    "                col[i][1].append(data)\n",
    "                #Increment i for the next column\n",
    "                i+=1\n",
    "            write_This = content[0]\n",
    "            for j in range(1, len(content)):\n",
    "                write_This += \", \" + content[j]\n",
    "            write_This += \"\\n\"\n",
    "            f.write(write_This)\n",
    "            break"
   ]
  },
  {
   "cell_type": "code",
   "execution_count": 8,
   "metadata": {},
   "outputs": [
    {
     "data": {
      "text/plain": [
       "''"
      ]
     },
     "execution_count": 8,
     "metadata": {},
     "output_type": "execute_result"
    }
   ],
   "source": [
    "write_This"
   ]
  },
  {
   "cell_type": "code",
   "execution_count": 9,
   "metadata": {},
   "outputs": [],
   "source": [
    "f.close()"
   ]
  },
  {
   "cell_type": "code",
   "execution_count": 10,
   "metadata": {},
   "outputs": [],
   "source": [
    "#making the dataframe\n",
    "Dict={title:column for (title,column) in col}\n",
    "df=pd.DataFrame(Dict)"
   ]
  },
  {
   "cell_type": "code",
   "execution_count": 11,
   "metadata": {},
   "outputs": [
    {
     "data": {
      "text/html": [
       "<div>\n",
       "<style scoped>\n",
       "    .dataframe tbody tr th:only-of-type {\n",
       "        vertical-align: middle;\n",
       "    }\n",
       "\n",
       "    .dataframe tbody tr th {\n",
       "        vertical-align: top;\n",
       "    }\n",
       "\n",
       "    .dataframe thead th {\n",
       "        text-align: right;\n",
       "    }\n",
       "</style>\n",
       "<table border=\"1\" class=\"dataframe\">\n",
       "  <thead>\n",
       "    <tr style=\"text-align: right;\">\n",
       "      <th></th>\n",
       "      <th>CEO Name</th>\n",
       "      <th>CEO Pay</th>\n",
       "      <th>Median Employee Pay</th>\n",
       "      <th>CEO Pay Ratio</th>\n",
       "    </tr>\n",
       "  </thead>\n",
       "  <tbody>\n",
       "  </tbody>\n",
       "</table>\n",
       "</div>"
      ],
      "text/plain": [
       "Empty DataFrame\n",
       "Columns: [CEO Name, CEO Pay, Median Employee Pay, CEO Pay Ratio]\n",
       "Index: []"
      ]
     },
     "execution_count": 11,
     "metadata": {},
     "output_type": "execute_result"
    }
   ],
   "source": [
    "#displaying the dataframe\n",
    "df"
   ]
  },
  {
   "cell_type": "code",
   "execution_count": null,
   "metadata": {},
   "outputs": [],
   "source": []
  }
 ],
 "metadata": {
  "kernelspec": {
   "display_name": "Python 3",
   "language": "python",
   "name": "python3"
  },
  "language_info": {
   "codemirror_mode": {
    "name": "ipython",
    "version": 3
   },
   "file_extension": ".py",
   "mimetype": "text/x-python",
   "name": "python",
   "nbconvert_exporter": "python",
   "pygments_lexer": "ipython3",
   "version": "3.7.3"
  }
 },
 "nbformat": 4,
 "nbformat_minor": 2
}
