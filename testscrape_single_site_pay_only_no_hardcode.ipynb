{
 "cells": [
  {
   "cell_type": "code",
   "execution_count": 1,
   "metadata": {},
   "outputs": [],
   "source": [
    "import requests\n",
    "import lxml.html as lh\n",
    "import pandas as pd\n",
    "import bs4\n",
    "from urllib.request import urlopen as uReq\n",
    "from bs4 import BeautifulSoup as soup"
   ]
  },
  {
   "cell_type": "code",
   "execution_count": 2,
   "metadata": {},
   "outputs": [],
   "source": [
    "#getting url, apparently this one only works with the urls with a year at the back...\n",
    "url='https://www.salary.com/tools/executive-compensation-calculator/accenture-plc-executive-salaries?year=2009'\n",
    "#year = int(url[-4:])\n",
    "#using Beautiful Soup to read the contents of the website\n",
    "uClient = uReq(url)\n",
    "page_html = uClient.read()\n",
    "uClient.close()"
   ]
  },
  {
   "cell_type": "code",
   "execution_count": 3,
   "metadata": {},
   "outputs": [],
   "source": [
    "#html parser\n",
    "page_soup = soup(page_html, \"html.parser\")"
   ]
  },
  {
   "cell_type": "code",
   "execution_count": 4,
   "metadata": {},
   "outputs": [],
   "source": [
    "#grabs the divs that contain all the names, positions, and salaries\n",
    "containers = page_soup.findAll(\"div\", {\"class\":\"border-bottom font-semibold\"})"
   ]
  },
  {
   "cell_type": "code",
   "execution_count": 5,
   "metadata": {},
   "outputs": [
    {
     "data": {
      "text/plain": [
       "5"
      ]
     },
     "execution_count": 5,
     "metadata": {},
     "output_type": "execute_result"
    }
   ],
   "source": [
    "#see how many rows we have to go through\n",
    "len(containers)"
   ]
  },
  {
   "cell_type": "code",
   "execution_count": 6,
   "metadata": {},
   "outputs": [],
   "source": [
    "#Makes a list of to make the graph later on\n",
    "col=[('CEO Name', ['']), ('CEO Pay', [0]), ('Year', [0])]"
   ]
  },
  {
   "cell_type": "code",
   "execution_count": 7,
   "metadata": {},
   "outputs": [],
   "source": [
    "#this will find the data for the ceo by going through the relevant rows\n",
    "for i in range(len(containers)):\n",
    "    #this is to find the name of the person in the row\n",
    "    name_container = containers[i].div.a.text\n",
    "    #this is to find the position the person held\n",
    "    pos_container = containers[i].find(\"div\", \"padding-bottom10 text-size15\")\n",
    "    #this is to find their salary\n",
    "    sal = containers[i].find_all('div',class_='padding-left15')[1].div.text\n",
    "    #this part converts the salary to a number\n",
    "    sal = sal.strip()\n",
    "    sal = sal.replace(r'$', '')\n",
    "    sal = sal.replace(r',', '')\n",
    "    try:\n",
    "        sal=int(sal)\n",
    "    except:\n",
    "        print(sal)\n",
    "        print('the ceo pay is not a number')\n",
    "        break\n",
    "    try:\n",
    "        #this tries to verify that the person in the row is the ceo\n",
    "        if \"CEO\" in pos_container.text or \"Chief Executive Officer\" in pos_container.text and not (\"Former\" in pos_container.text or \"former\" in pos_container.text):\n",
    "            #If there are multiple CEOs, I'll take the one with the highest salary\n",
    "            if sal > col[1][1][0]:\n",
    "                col[0][1][0] = (name_container)\n",
    "                col[1][1][0] = (sal)\n",
    "                col[2][1][0] = (year)\n",
    "    except:\n",
    "        pass\n"
   ]
  },
  {
   "cell_type": "code",
   "execution_count": 8,
   "metadata": {},
   "outputs": [],
   "source": [
    "#making the dataframe\n",
    "Dict={title:column for (title,column) in col}\n",
    "df=pd.DataFrame(Dict)"
   ]
  },
  {
   "cell_type": "code",
   "execution_count": 9,
   "metadata": {},
   "outputs": [
    {
     "data": {
      "text/html": [
       "<div>\n",
       "<style scoped>\n",
       "    .dataframe tbody tr th:only-of-type {\n",
       "        vertical-align: middle;\n",
       "    }\n",
       "\n",
       "    .dataframe tbody tr th {\n",
       "        vertical-align: top;\n",
       "    }\n",
       "\n",
       "    .dataframe thead th {\n",
       "        text-align: right;\n",
       "    }\n",
       "</style>\n",
       "<table border=\"1\" class=\"dataframe\">\n",
       "  <thead>\n",
       "    <tr style=\"text-align: right;\">\n",
       "      <th></th>\n",
       "      <th>CEO Name</th>\n",
       "      <th>CEO Pay</th>\n",
       "      <th>Year</th>\n",
       "    </tr>\n",
       "  </thead>\n",
       "  <tbody>\n",
       "    <tr>\n",
       "      <th>0</th>\n",
       "      <td>William D. Green</td>\n",
       "      <td>18277099</td>\n",
       "      <td>0</td>\n",
       "    </tr>\n",
       "  </tbody>\n",
       "</table>\n",
       "</div>"
      ],
      "text/plain": [
       "           CEO Name   CEO Pay  Year\n",
       "0  William D. Green  18277099     0"
      ]
     },
     "execution_count": 9,
     "metadata": {},
     "output_type": "execute_result"
    }
   ],
   "source": [
    "#displaying the dataframe\n",
    "df"
   ]
  },
  {
   "cell_type": "code",
   "execution_count": 10,
   "metadata": {},
   "outputs": [
    {
     "name": "stdout",
     "output_type": "stream",
     "text": [
      "William D. Green\n",
      "Chief Executive Officer\n"
     ]
    },
    {
     "data": {
      "text/plain": [
       "6678758"
      ]
     },
     "execution_count": 10,
     "metadata": {},
     "output_type": "execute_result"
    }
   ],
   "source": [
    "#the following were for testing purposes\n",
    "container = containers[1]\n",
    "print(container.div.a.text)\n",
    "container = containers[1].find(\"div\", \"padding-bottom10 text-size15\")\n",
    "print(container.text)\n",
    "\"CEO\" in container.text\n",
    "c = containers[0]\n",
    "sal = c.find_all('div',class_='padding-left15')[1].div.text\n",
    "sal = sal.strip()\n",
    "sal = sal.replace(r'$', '')\n",
    "sal = sal.replace(r',', '')\n",
    "try:\n",
    "    sal=int(sal)\n",
    "except:\n",
    "    print('salary isn\\'t a number')\n",
    "sal"
   ]
  }
 ],
 "metadata": {
  "kernelspec": {
   "display_name": "Python 3",
   "language": "python",
   "name": "python3"
  },
  "language_info": {
   "codemirror_mode": {
    "name": "ipython",
    "version": 3
   },
   "file_extension": ".py",
   "mimetype": "text/x-python",
   "name": "python",
   "nbconvert_exporter": "python",
   "pygments_lexer": "ipython3",
   "version": "3.7.3"
  }
 },
 "nbformat": 4,
 "nbformat_minor": 2
}
