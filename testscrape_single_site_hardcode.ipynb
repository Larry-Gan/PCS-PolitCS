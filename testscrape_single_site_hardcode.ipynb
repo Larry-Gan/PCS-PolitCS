{
 "cells": [
  {
   "cell_type": "code",
   "execution_count": 1,
   "metadata": {},
   "outputs": [],
   "source": [
    "import requests\n",
    "import lxml.html as lh\n",
    "import pandas as pd\n"
   ]
  },
  {
   "cell_type": "code",
   "execution_count": 2,
   "metadata": {},
   "outputs": [],
   "source": [
    "#getting url\n",
    "url='https://www1.salary.com/ALPHABET-INC-Executive-Salaries.html'\n",
    "page=requests.get(url)\n",
    "\n",
    "#getting all the tables\n",
    "doc=lh.fromstring(page.content)\n",
    "tr_elements=doc.xpath('//tr')"
   ]
  },
  {
   "cell_type": "code",
   "execution_count": 3,
   "metadata": {},
   "outputs": [
    {
     "data": {
      "text/plain": [
       "[1, 4, 4, 4, 4, 4, 4, 5, 5, 5, 5, 5, 5, 4, 4, 2, 2, 2, 2, 2, 2, 2, 2, 2, 2]"
      ]
     },
     "execution_count": 3,
     "metadata": {},
     "output_type": "execute_result"
    }
   ],
   "source": [
    "#seeing length of each row in the website\n",
    "[len(T) for T in tr_elements[:]]"
   ]
  },
  {
   "cell_type": "code",
   "execution_count": 4,
   "metadata": {},
   "outputs": [
    {
     "name": "stdout",
     "output_type": "stream",
     "text": [
      "1 CEO Name\n",
      "2 CEO Pay\n",
      "3 Median Employee Pay\n",
      "4 CEO Pay Ratio\n"
     ]
    }
   ],
   "source": [
    "col=[]\n",
    "i=0\n",
    "\n",
    "#seeing the content of a specified row\n",
    "for t in tr_elements[13]:\n",
    "    i+=1\n",
    "    name=t.text_content()\n",
    "    print(i,name)\n",
    "    col.append((name, []))"
   ]
  },
  {
   "cell_type": "code",
   "execution_count": 5,
   "metadata": {},
   "outputs": [
    {
     "name": "stdout",
     "output_type": "stream",
     "text": [
      "1 \r\n",
      "\r\n",
      "                                Sundar Pichai\r\n",
      "                            \n",
      "2 \r\n",
      "                                CEO Pay\r\n",
      "                                $280,621,552\r\n",
      "                            \n",
      "3 \r\n",
      "                                Median Employee Pay\r\n",
      "                                $258,708\r\n",
      "                            \n",
      "4 \r\n",
      "                                CEO Pay Ratio\r\n",
      "                                1085:1\r\n",
      "                            \n"
     ]
    },
    {
     "data": {
      "text/plain": [
       "[('\\r\\n\\r\\n                                Sundar Pichai\\r\\n                            ',\n",
       "  []),\n",
       " ('\\r\\n                                CEO Pay\\r\\n                                $280,621,552\\r\\n                            ',\n",
       "  []),\n",
       " ('\\r\\n                                Median Employee Pay\\r\\n                                $258,708\\r\\n                            ',\n",
       "  []),\n",
       " ('\\r\\n                                CEO Pay Ratio\\r\\n                                1085:1\\r\\n                            ',\n",
       "  [])]"
      ]
     },
     "execution_count": 5,
     "metadata": {},
     "output_type": "execute_result"
    }
   ],
   "source": [
    "tcol=[]\n",
    "i=0\n",
    "\n",
    "#seeing the content of a specified row\n",
    "for t in tr_elements[14]:\n",
    "    i+=1\n",
    "    name=t.text_content()\n",
    "    print(i,name)\n",
    "    tcol.append((name, []))\n",
    "tcol"
   ]
  },
  {
   "cell_type": "code",
   "execution_count": 6,
   "metadata": {},
   "outputs": [
    {
     "data": {
      "text/plain": [
       "[('CEO Name', []),\n",
       " ('CEO Pay', []),\n",
       " ('Median Employee Pay', []),\n",
       " ('CEO Pay Ratio', [])]"
      ]
     },
     "execution_count": 6,
     "metadata": {},
     "output_type": "execute_result"
    }
   ],
   "source": [
    "col"
   ]
  },
  {
   "cell_type": "code",
   "execution_count": 7,
   "metadata": {},
   "outputs": [
    {
     "ename": "SyntaxError",
     "evalue": "'break' outside loop (<ipython-input-7-ab4cbc71d861>, line 10)",
     "output_type": "error",
     "traceback": [
      "\u001b[1;36m  File \u001b[1;32m\"<ipython-input-7-ab4cbc71d861>\"\u001b[1;36m, line \u001b[1;32m10\u001b[0m\n\u001b[1;33m    i=0\u001b[0m\n\u001b[1;37m       \n^\u001b[0m\n\u001b[1;31mSyntaxError\u001b[0m\u001b[1;31m:\u001b[0m 'break' outside loop\n"
     ]
    }
   ],
   "source": [
    "#for j in range(15,len(tr_elements)):\n",
    "    #T is our j'th row\n",
    "T=tr_elements[14]\n",
    "\n",
    "#If row is not of a certain size, the //tr data is not from our table \n",
    "if len(T)!=2:\n",
    "    break\n",
    "\n",
    "#i is the index of our column\n",
    "i=0\n",
    "\n",
    "#Iterate through each element of the row\n",
    "for t in T.iterchildren():\n",
    "    data=t.text_content() \n",
    "    data = data.__str__()\n",
    "    data = data.replace(r'$', '')\n",
    "    data = data.replace(r',', '')\n",
    "    data = data.strip()\n",
    "    data = data.replace(r'CEO Pay', '')\n",
    "    data = data.replace(r'Median Employee Pay', '')\n",
    "    data = data.replace(r'CEO Pay Ratio', '')\n",
    "    data = data.replace(r'Ratio', '')\n",
    "    data = data.strip()\n",
    "    #Check if row is empty\n",
    "    if i>0:\n",
    "    #Convert any numerical value to integers\n",
    "        try:\n",
    "            data=int(data)\n",
    "        except:\n",
    "            pass\n",
    "    #Append the data to the empty list of the i'th column\n",
    "    col[i][1].append(data)\n",
    "    #Increment i for the next column\n",
    "    i+=1"
   ]
  },
  {
   "cell_type": "code",
   "execution_count": null,
   "metadata": {},
   "outputs": [],
   "source": [
    "[len(C) for (title,C) in col]"
   ]
  },
  {
   "cell_type": "code",
   "execution_count": null,
   "metadata": {},
   "outputs": [],
   "source": [
    "Dict={title:column for (title,column) in col}\n",
    "df=pd.DataFrame(Dict)"
   ]
  },
  {
   "cell_type": "code",
   "execution_count": null,
   "metadata": {},
   "outputs": [],
   "source": [
    "df"
   ]
  },
  {
   "cell_type": "code",
   "execution_count": null,
   "metadata": {
    "scrolled": false
   },
   "outputs": [],
   "source": [
    "df.at[0, 'CEO Pay'] == 280621552"
   ]
  },
  {
   "cell_type": "code",
   "execution_count": null,
   "metadata": {},
   "outputs": [],
   "source": [
    "df.at[0, 'CEO Name'] == 'Sundar Pichai'"
   ]
  },
  {
   "cell_type": "code",
   "execution_count": null,
   "metadata": {},
   "outputs": [],
   "source": [
    "table_Name = []\n",
    "for t in tr_elements[13]:\n",
    "    if (len(table_Name) <= 4):\n",
    "        name = t.text_content()\n",
    "        name = name.__str__()\n",
    "        table_Name.append(name)\n",
    "        print(table_Name)\n",
    "    else:\n",
    "        break\n",
    "print(table_Name)\n",
    "print(table_Name[0])"
   ]
  },
  {
   "cell_type": "code",
   "execution_count": null,
   "metadata": {},
   "outputs": [],
   "source": [
    "if (table_Name[0] == 'CEO Name' and table_Name[1] == 'CEO Pay' and table_Name[2] == 'Median Employee Pay' and table_Name[3] == 'CEO Pay Ratio'):\n",
    "    print(True)\n",
    "else:\n",
    "    print(False)"
   ]
  },
  {
   "cell_type": "code",
   "execution_count": null,
   "metadata": {},
   "outputs": [],
   "source": []
  }
 ],
 "metadata": {
  "kernelspec": {
   "display_name": "Python 3",
   "language": "python",
   "name": "python3"
  },
  "language_info": {
   "codemirror_mode": {
    "name": "ipython",
    "version": 3
   },
   "file_extension": ".py",
   "mimetype": "text/x-python",
   "name": "python",
   "nbconvert_exporter": "python",
   "pygments_lexer": "ipython3",
   "version": "3.7.3"
  }
 },
 "nbformat": 4,
 "nbformat_minor": 2
}
