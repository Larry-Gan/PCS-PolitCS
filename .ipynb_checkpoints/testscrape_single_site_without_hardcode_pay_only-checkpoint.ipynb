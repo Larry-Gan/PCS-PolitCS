{
 "cells": [
  {
   "cell_type": "code",
   "execution_count": 1,
   "metadata": {},
   "outputs": [],
   "source": [
    "import requests\n",
    "import lxml.html as lh\n",
    "import pandas as pd\n",
    "import bs4\n",
    "from urllib.request import urlopen as uReq\n",
    "from bs4 import BeautifulSoup as soup"
   ]
  },
  {
   "cell_type": "code",
   "execution_count": 2,
   "metadata": {},
   "outputs": [],
   "source": [
    "#ratios go back to 2017\n",
    "#best buy only went back to \n",
    "#getting url\n",
    "year = 2020\n",
    "url='https://www.salary.com/tools/executive-compensation-calculator/walmart-inc-executive-salaries?year=2007'\n",
    "year = int(url[-4:])\n",
    "urll = 'https://www.salary.com/tools/executive-compensation-calculator/walmart-inc-executive-salaries?year=2020'\n",
    "uClient = uReq(url)\n",
    "page_html = uClient.read()\n",
    "uClient.close()"
   ]
  },
  {
   "cell_type": "code",
   "execution_count": 3,
   "metadata": {},
   "outputs": [],
   "source": [
    "#html parser\n",
    "page_soup = soup(page_html, \"html.parser\")"
   ]
  },
  {
   "cell_type": "code",
   "execution_count": 4,
   "metadata": {},
   "outputs": [],
   "source": [
    "#grabs stuff\n",
    "containers = page_soup.findAll(\"div\", {\"class\":\"border-bottom font-semibold\"})"
   ]
  },
  {
   "cell_type": "code",
   "execution_count": 5,
   "metadata": {},
   "outputs": [
    {
     "data": {
      "text/plain": [
       "20"
      ]
     },
     "execution_count": 5,
     "metadata": {},
     "output_type": "execute_result"
    }
   ],
   "source": [
    "len(containers)"
   ]
  },
  {
   "cell_type": "code",
   "execution_count": 6,
   "metadata": {},
   "outputs": [],
   "source": [
    "col=[('CEO Name', []), ('CEO Pay', []), ('Year', [])]"
   ]
  },
  {
   "cell_type": "code",
   "execution_count": 7,
   "metadata": {},
   "outputs": [],
   "source": [
    "for i in range(len(containers)):\n",
    "    name_container = containers[i]\n",
    "    pos_container = containers[i].find(\"div\", \"padding-bottom10 text-size15\")\n",
    "    sal = containers[i].find_all('div',class_='padding-left15')[1].div.text\n",
    "    sal = sal.strip()\n",
    "    sal = sal.replace(r'$', '')\n",
    "    sal = sal.replace(r',', '')\n",
    "    try:\n",
    "        sal=int(sal)\n",
    "    except:\n",
    "        print(sal)\n",
    "        print('the ceo pay is not a number')\n",
    "        break\n",
    "    try:\n",
    "        if \"CEO\" in pos_container.text or \"Chief Executive Officer\" in pos_container.text:\n",
    "            col[0][1].append(name_container.div.a.text)\n",
    "            col[1][1].append(sal)\n",
    "            col[2][1].append(year)\n",
    "    except:\n",
    "        pass\n"
   ]
  },
  {
   "cell_type": "code",
   "execution_count": 8,
   "metadata": {},
   "outputs": [],
   "source": [
    "Dict={title:column for (title,column) in col}\n",
    "df=pd.DataFrame(Dict)"
   ]
  },
  {
   "cell_type": "code",
   "execution_count": 9,
   "metadata": {},
   "outputs": [
    {
     "data": {
      "text/html": [
       "<div>\n",
       "<style scoped>\n",
       "    .dataframe tbody tr th:only-of-type {\n",
       "        vertical-align: middle;\n",
       "    }\n",
       "\n",
       "    .dataframe tbody tr th {\n",
       "        vertical-align: top;\n",
       "    }\n",
       "\n",
       "    .dataframe thead th {\n",
       "        text-align: right;\n",
       "    }\n",
       "</style>\n",
       "<table border=\"1\" class=\"dataframe\">\n",
       "  <thead>\n",
       "    <tr style=\"text-align: right;\">\n",
       "      <th></th>\n",
       "      <th>CEO Name</th>\n",
       "      <th>CEO Pay</th>\n",
       "      <th>Year</th>\n",
       "    </tr>\n",
       "  </thead>\n",
       "  <tbody>\n",
       "    <tr>\n",
       "      <th>0</th>\n",
       "      <td>Eduardo Castro-Wright</td>\n",
       "      <td>6148900</td>\n",
       "      <td>2007</td>\n",
       "    </tr>\n",
       "    <tr>\n",
       "      <th>1</th>\n",
       "      <td>H. Lee Scott Jr.</td>\n",
       "      <td>29364143</td>\n",
       "      <td>2007</td>\n",
       "    </tr>\n",
       "  </tbody>\n",
       "</table>\n",
       "</div>"
      ],
      "text/plain": [
       "                CEO Name   CEO Pay  Year\n",
       "0  Eduardo Castro-Wright   6148900  2007\n",
       "1       H. Lee Scott Jr.  29364143  2007"
      ]
     },
     "execution_count": 9,
     "metadata": {},
     "output_type": "execute_result"
    }
   ],
   "source": [
    "df"
   ]
  },
  {
   "cell_type": "code",
   "execution_count": 10,
   "metadata": {
    "scrolled": false
   },
   "outputs": [
    {
     "data": {
      "text/plain": [
       "<div class=\"border-bottom font-semibold\" style=\"display:flex;align-items:center;\">\n",
       "<div class=\"padding-left15\" style=\"width:50%;position:relative;\">\n",
       "<div class=\"padding-top10 padding-bottom5 padding-right15\">\n",
       "<a href=\"/tools/executive-compensation-calculator/eduardo-castro-wright-salary-bonus-stock-options-for-walmart-inc?year=2007\">Eduardo Castro-Wright</a>\n",
       "</div>\n",
       "<div class=\"padding-bottom10 text-size15\">Executive Vice President and President and CEO, Wal-Mart Stores Division</div>\n",
       "</div>\n",
       "<div class=\"padding-left15\" style=\"display:flex;align-items:center; flex-wrap:wrap; flex-grow:1;width:50%;\">\n",
       "<div class=\"padding-top10\" style=\"width:100%; margin-bottom:-10px;\">\n",
       "                                        $6,148,900\n",
       "                                    </div>\n",
       "<div style=\"width:100%;height:66px; position:relative;\">\n",
       "<canvas id=\"chart_executive_Eduardo-Castro-Wright\"></canvas>\n",
       "<input name=\"hd_equity\" type=\"hidden\" value=\"4108329.0000\">\n",
       "<input name=\"hd_cash\" type=\"hidden\" value=\"1948409.0000\">\n",
       "<input name=\"hd_other\" type=\"hidden\" value=\"92162.0000\"/>\n",
       "</input></input></div>\n",
       "</div>\n",
       "</div>"
      ]
     },
     "execution_count": 10,
     "metadata": {},
     "output_type": "execute_result"
    }
   ],
   "source": [
    "containers[0]"
   ]
  },
  {
   "cell_type": "code",
   "execution_count": 11,
   "metadata": {},
   "outputs": [
    {
     "data": {
      "text/plain": [
       "'H. Lee Scott Jr.'"
      ]
     },
     "execution_count": 11,
     "metadata": {},
     "output_type": "execute_result"
    }
   ],
   "source": [
    "container = containers[1]\n",
    "container.div.a.text"
   ]
  },
  {
   "cell_type": "code",
   "execution_count": 12,
   "metadata": {},
   "outputs": [
    {
     "data": {
      "text/plain": [
       "'President and CEO'"
      ]
     },
     "execution_count": 12,
     "metadata": {},
     "output_type": "execute_result"
    }
   ],
   "source": [
    "container = containers[1].find(\"div\", \"padding-bottom10 text-size15\")\n",
    "container.text"
   ]
  },
  {
   "cell_type": "code",
   "execution_count": 13,
   "metadata": {},
   "outputs": [
    {
     "data": {
      "text/plain": [
       "True"
      ]
     },
     "execution_count": 13,
     "metadata": {},
     "output_type": "execute_result"
    }
   ],
   "source": [
    "\"CEO\" in container.text"
   ]
  },
  {
   "cell_type": "code",
   "execution_count": 14,
   "metadata": {},
   "outputs": [
    {
     "data": {
      "text/plain": [
       "<div class=\"border-bottom font-semibold\" style=\"display:flex;align-items:center;\">\n",
       "<div class=\"padding-left15\" style=\"width:50%;position:relative;\">\n",
       "<div class=\"padding-top10 padding-bottom5 padding-right15\">\n",
       "<a href=\"/tools/executive-compensation-calculator/eduardo-castro-wright-salary-bonus-stock-options-for-walmart-inc?year=2007\">Eduardo Castro-Wright</a>\n",
       "</div>\n",
       "<div class=\"padding-bottom10 text-size15\">Executive Vice President and President and CEO, Wal-Mart Stores Division</div>\n",
       "</div>\n",
       "<div class=\"padding-left15\" style=\"display:flex;align-items:center; flex-wrap:wrap; flex-grow:1;width:50%;\">\n",
       "<div class=\"padding-top10\" style=\"width:100%; margin-bottom:-10px;\">\n",
       "                                        $6,148,900\n",
       "                                    </div>\n",
       "<div style=\"width:100%;height:66px; position:relative;\">\n",
       "<canvas id=\"chart_executive_Eduardo-Castro-Wright\"></canvas>\n",
       "<input name=\"hd_equity\" type=\"hidden\" value=\"4108329.0000\">\n",
       "<input name=\"hd_cash\" type=\"hidden\" value=\"1948409.0000\">\n",
       "<input name=\"hd_other\" type=\"hidden\" value=\"92162.0000\"/>\n",
       "</input></input></div>\n",
       "</div>\n",
       "</div>"
      ]
     },
     "execution_count": 14,
     "metadata": {},
     "output_type": "execute_result"
    }
   ],
   "source": [
    "c = containers[0]\n",
    "c"
   ]
  },
  {
   "cell_type": "code",
   "execution_count": 15,
   "metadata": {},
   "outputs": [
    {
     "data": {
      "text/plain": [
       "6148900"
      ]
     },
     "execution_count": 15,
     "metadata": {},
     "output_type": "execute_result"
    }
   ],
   "source": [
    "sal = c.find_all('div',class_='padding-left15')[1].div.text\n",
    "sal = sal.strip()\n",
    "sal = sal.replace(r'$', '')\n",
    "sal = sal.replace(r',', '')\n",
    "try:\n",
    "    sal=int(sal)\n",
    "except:\n",
    "    print('you fucked up')\n",
    "sal"
   ]
  }
 ],
 "metadata": {
  "kernelspec": {
   "display_name": "Python 3",
   "language": "python",
   "name": "python3"
  },
  "language_info": {
   "codemirror_mode": {
    "name": "ipython",
    "version": 3
   },
   "file_extension": ".py",
   "mimetype": "text/x-python",
   "name": "python",
   "nbconvert_exporter": "python",
   "pygments_lexer": "ipython3",
   "version": "3.7.3"
  }
 },
 "nbformat": 4,
 "nbformat_minor": 2
}
