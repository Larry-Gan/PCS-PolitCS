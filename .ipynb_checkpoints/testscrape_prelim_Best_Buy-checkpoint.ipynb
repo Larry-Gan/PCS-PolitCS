{
 "cells": [
  {
   "cell_type": "code",
   "execution_count": 1,
   "metadata": {},
   "outputs": [],
   "source": [
    "import requests\n",
    "import lxml.html as lh\n",
    "import pandas as pd"
   ]
  },
  {
   "cell_type": "code",
   "execution_count": 2,
   "metadata": {},
   "outputs": [],
   "source": [
    "url='https://www1.salary.com/ALPHABET-INC-Executive-Salaries.html'\n",
    "\n",
    "page = requests.get(url)\n",
    "\n",
    "doc = lh.fromstring(page.content)\n",
    "\n",
    "tr_elements = doc.xpath('//tr')"
   ]
  },
  {
   "cell_type": "code",
   "execution_count": 3,
   "metadata": {},
   "outputs": [
    {
     "data": {
      "text/plain": [
       "[1, 4, 4, 4, 4, 4, 4, 5, 5, 5, 5, 5, 5, 4, 4, 2, 2, 2, 2, 2, 2, 2, 2, 2, 2]"
      ]
     },
     "execution_count": 3,
     "metadata": {},
     "output_type": "execute_result"
    }
   ],
   "source": [
    "[len(T) for T in tr_elements[:]]"
   ]
  },
  {
   "cell_type": "code",
   "execution_count": 4,
   "metadata": {},
   "outputs": [
    {
     "data": {
      "text/plain": [
       "[<Element tr at 0x1ea2d933688>,\n",
       " <Element tr at 0x1ea2d933638>,\n",
       " <Element tr at 0x1ea2fef84a8>,\n",
       " <Element tr at 0x1ea2fef84f8>,\n",
       " <Element tr at 0x1ea2fef8cc8>,\n",
       " <Element tr at 0x1ea2fef8ef8>,\n",
       " <Element tr at 0x1ea2ff221d8>,\n",
       " <Element tr at 0x1ea2ff222c8>,\n",
       " <Element tr at 0x1ea2ff22368>,\n",
       " <Element tr at 0x1ea2ff223b8>,\n",
       " <Element tr at 0x1ea2ff22408>,\n",
       " <Element tr at 0x1ea2ff22458>]"
      ]
     },
     "execution_count": 4,
     "metadata": {},
     "output_type": "execute_result"
    }
   ],
   "source": [
    "[T for T in tr_elements[:12]]"
   ]
  },
  {
   "cell_type": "code",
   "execution_count": 5,
   "metadata": {},
   "outputs": [],
   "source": [
    "tr_elements = doc.xpath('//tr')"
   ]
  },
  {
   "cell_type": "code",
   "execution_count": 6,
   "metadata": {},
   "outputs": [
    {
     "name": "stdout",
     "output_type": "stream",
     "text": [
      "1 CEO Name\n",
      "2 CEO Pay\n",
      "3 Median Employee Pay\n",
      "4 CEO Pay Ratio\n"
     ]
    }
   ],
   "source": [
    "col=[]\n",
    "i=0\n",
    "\n",
    "for t in tr_elements[13]:\n",
    "    i+=1\n",
    "    name=t.text_content()\n",
    "    print(i,name)\n",
    "    col.append((name, []))"
   ]
  },
  {
   "cell_type": "code",
   "execution_count": 7,
   "metadata": {},
   "outputs": [
    {
     "data": {
      "text/plain": [
       "[('CEO Name', []),\n",
       " ('CEO Pay', []),\n",
       " ('Median Employee Pay', []),\n",
       " ('CEO Pay Ratio', [])]"
      ]
     },
     "execution_count": 7,
     "metadata": {},
     "output_type": "execute_result"
    }
   ],
   "source": [
    "col"
   ]
  },
  {
   "cell_type": "code",
   "execution_count": 8,
   "metadata": {},
   "outputs": [],
   "source": [
    "#for j in range(15,len(tr_elements)):\n",
    "    #T is our j'th row\n",
    "T=tr_elements[14]\n",
    "\n",
    "#If row is not of size 10, the //tr data is not from our table \n",
    "#if len(T)!=2:\n",
    "#    break\n",
    "\n",
    "#i is the index of our column\n",
    "i=0\n",
    "\n",
    "#Iterate through each element of the row\n",
    "for t in T.iterchildren():\n",
    "    data=t.text_content() \n",
    "    #Check if row is empty\n",
    "    if i>0:\n",
    "    #Convert any numerical value to integers\n",
    "        try:\n",
    "            data=int(data)\n",
    "        except:\n",
    "            pass\n",
    "    #Append the data to the empty list of the i'th column\n",
    "    col[i][1].append(data)\n",
    "    #Increment i for the next column\n",
    "    i+=1"
   ]
  },
  {
   "cell_type": "code",
   "execution_count": 9,
   "metadata": {},
   "outputs": [
    {
     "data": {
      "text/plain": [
       "[1, 1, 1, 1]"
      ]
     },
     "execution_count": 9,
     "metadata": {},
     "output_type": "execute_result"
    }
   ],
   "source": [
    "[len(C) for (title,C) in col]"
   ]
  },
  {
   "cell_type": "code",
   "execution_count": 10,
   "metadata": {},
   "outputs": [],
   "source": [
    "Dict={title:column for (title,column) in col}\n",
    "df=pd.DataFrame(Dict)"
   ]
  },
  {
   "cell_type": "code",
   "execution_count": 11,
   "metadata": {},
   "outputs": [
    {
     "data": {
      "text/html": [
       "<div>\n",
       "<style scoped>\n",
       "    .dataframe tbody tr th:only-of-type {\n",
       "        vertical-align: middle;\n",
       "    }\n",
       "\n",
       "    .dataframe tbody tr th {\n",
       "        vertical-align: top;\n",
       "    }\n",
       "\n",
       "    .dataframe thead th {\n",
       "        text-align: right;\n",
       "    }\n",
       "</style>\n",
       "<table border=\"1\" class=\"dataframe\">\n",
       "  <thead>\n",
       "    <tr style=\"text-align: right;\">\n",
       "      <th></th>\n",
       "      <th>CEO Name</th>\n",
       "      <th>CEO Pay</th>\n",
       "      <th>Median Employee Pay</th>\n",
       "      <th>CEO Pay Ratio</th>\n",
       "    </tr>\n",
       "  </thead>\n",
       "  <tbody>\n",
       "    <tr>\n",
       "      <th>0</th>\n",
       "      <td>\\r\\n\\r\\n                                Sundar...</td>\n",
       "      <td>\\r\\n                                CEO Pay\\r\\...</td>\n",
       "      <td>\\r\\n                                Median Emp...</td>\n",
       "      <td>\\r\\n                                CEO Pay Ra...</td>\n",
       "    </tr>\n",
       "  </tbody>\n",
       "</table>\n",
       "</div>"
      ],
      "text/plain": [
       "                                            CEO Name  \\\n",
       "0  \\r\\n\\r\\n                                Sundar...   \n",
       "\n",
       "                                             CEO Pay  \\\n",
       "0  \\r\\n                                CEO Pay\\r\\...   \n",
       "\n",
       "                                 Median Employee Pay  \\\n",
       "0  \\r\\n                                Median Emp...   \n",
       "\n",
       "                                       CEO Pay Ratio  \n",
       "0  \\r\\n                                CEO Pay Ra...  "
      ]
     },
     "execution_count": 11,
     "metadata": {},
     "output_type": "execute_result"
    }
   ],
   "source": [
    "df"
   ]
  },
  {
   "cell_type": "code",
   "execution_count": 15,
   "metadata": {
    "scrolled": true
   },
   "outputs": [
    {
     "name": "stdout",
     "output_type": "stream",
     "text": [
      "\r\n",
      "\r\n",
      "                                Sundar Pichai\r\n",
      "                            \n"
     ]
    }
   ],
   "source": [
    "print(df.at[0, 'CEO Name'])"
   ]
  },
  {
   "cell_type": "code",
   "execution_count": null,
   "metadata": {},
   "outputs": [],
   "source": []
  }
 ],
 "metadata": {
  "kernelspec": {
   "display_name": "Python 3",
   "language": "python",
   "name": "python3"
  },
  "language_info": {
   "codemirror_mode": {
    "name": "ipython",
    "version": 3
   },
   "file_extension": ".py",
   "mimetype": "text/x-python",
   "name": "python",
   "nbconvert_exporter": "python",
   "pygments_lexer": "ipython3",
   "version": "3.7.3"
  }
 },
 "nbformat": 4,
 "nbformat_minor": 2
}
