{
 "cells": [
  {
   "cell_type": "code",
   "execution_count": 1,
   "metadata": {},
   "outputs": [],
   "source": [
    "import plotly.express as px\n",
    "import pandas as pd"
   ]
  },
  {
   "cell_type": "code",
   "execution_count": 2,
   "metadata": {},
   "outputs": [],
   "source": [
    "ceo_data = pd.read_csv(\"official_ratio_with_industries_396.csv\")\n",
    "industry_data = ceo_data[ceo_data['CEO Pay'] != -1].groupby('GICS Sub-Industry')"
   ]
  },
  {
   "cell_type": "code",
   "execution_count": 3,
   "metadata": {},
   "outputs": [
    {
     "data": {
      "text/html": [
       "<div>\n",
       "<style scoped>\n",
       "    .dataframe tbody tr th:only-of-type {\n",
       "        vertical-align: middle;\n",
       "    }\n",
       "\n",
       "    .dataframe tbody tr th {\n",
       "        vertical-align: top;\n",
       "    }\n",
       "\n",
       "    .dataframe thead th {\n",
       "        text-align: right;\n",
       "    }\n",
       "</style>\n",
       "<table border=\"1\" class=\"dataframe\">\n",
       "  <thead>\n",
       "    <tr style=\"text-align: right;\">\n",
       "      <th></th>\n",
       "      <th>GICS Sub-Industry</th>\n",
       "      <th>CEO Pay</th>\n",
       "      <th>Median Employee Pay</th>\n",
       "      <th>CEO Pay Ratio</th>\n",
       "    </tr>\n",
       "  </thead>\n",
       "  <tbody>\n",
       "    <tr>\n",
       "      <th>82</th>\n",
       "      <td>Multi-Sector Holdings</td>\n",
       "      <td>3.747730e+05</td>\n",
       "      <td>65740.000000</td>\n",
       "      <td>6.000000</td>\n",
       "    </tr>\n",
       "    <tr>\n",
       "      <th>89</th>\n",
       "      <td>Oil &amp; Gas Storage &amp; Transportation</td>\n",
       "      <td>5.476506e+06</td>\n",
       "      <td>123813.000000</td>\n",
       "      <td>40.000000</td>\n",
       "    </tr>\n",
       "    <tr>\n",
       "      <th>56</th>\n",
       "      <td>Hotel &amp; Resort REITs</td>\n",
       "      <td>9.434465e+06</td>\n",
       "      <td>197781.000000</td>\n",
       "      <td>48.000000</td>\n",
       "    </tr>\n",
       "    <tr>\n",
       "      <th>98</th>\n",
       "      <td>Reinsurance</td>\n",
       "      <td>7.626619e+06</td>\n",
       "      <td>144915.000000</td>\n",
       "      <td>53.000000</td>\n",
       "    </tr>\n",
       "    <tr>\n",
       "      <th>116</th>\n",
       "      <td>Water Utilities</td>\n",
       "      <td>4.983114e+06</td>\n",
       "      <td>83599.000000</td>\n",
       "      <td>60.000000</td>\n",
       "    </tr>\n",
       "    <tr>\n",
       "      <th>32</th>\n",
       "      <td>Diversified Support Services</td>\n",
       "      <td>3.427418e+06</td>\n",
       "      <td>45536.000000</td>\n",
       "      <td>62.000000</td>\n",
       "    </tr>\n",
       "    <tr>\n",
       "      <th>111</th>\n",
       "      <td>Technology Distributors</td>\n",
       "      <td>6.191797e+06</td>\n",
       "      <td>93452.000000</td>\n",
       "      <td>66.000000</td>\n",
       "    </tr>\n",
       "    <tr>\n",
       "      <th>63</th>\n",
       "      <td>Independent Power Producers &amp; Energy Traders</td>\n",
       "      <td>9.146053e+06</td>\n",
       "      <td>114883.000000</td>\n",
       "      <td>80.000000</td>\n",
       "    </tr>\n",
       "    <tr>\n",
       "      <th>115</th>\n",
       "      <td>Trading Companies &amp; Distributors</td>\n",
       "      <td>6.215830e+06</td>\n",
       "      <td>73881.000000</td>\n",
       "      <td>84.000000</td>\n",
       "    </tr>\n",
       "    <tr>\n",
       "      <th>113</th>\n",
       "      <td>Thrifts &amp; Mortgage Finance</td>\n",
       "      <td>5.700284e+06</td>\n",
       "      <td>66596.000000</td>\n",
       "      <td>86.000000</td>\n",
       "    </tr>\n",
       "    <tr>\n",
       "      <th>102</th>\n",
       "      <td>Retail REITs</td>\n",
       "      <td>7.635445e+06</td>\n",
       "      <td>95417.000000</td>\n",
       "      <td>87.000000</td>\n",
       "    </tr>\n",
       "    <tr>\n",
       "      <th>34</th>\n",
       "      <td>Electric Utilities</td>\n",
       "      <td>1.283043e+07</td>\n",
       "      <td>143280.545455</td>\n",
       "      <td>91.636364</td>\n",
       "    </tr>\n",
       "    <tr>\n",
       "      <th>24</th>\n",
       "      <td>Consumer Electronics</td>\n",
       "      <td>3.233412e+06</td>\n",
       "      <td>35188.000000</td>\n",
       "      <td>92.000000</td>\n",
       "    </tr>\n",
       "    <tr>\n",
       "      <th>37</th>\n",
       "      <td>Electronic Equipment &amp; Instruments</td>\n",
       "      <td>8.308316e+06</td>\n",
       "      <td>80714.000000</td>\n",
       "      <td>101.500000</td>\n",
       "    </tr>\n",
       "    <tr>\n",
       "      <th>83</th>\n",
       "      <td>Multi-Utilities</td>\n",
       "      <td>1.292646e+07</td>\n",
       "      <td>124371.636364</td>\n",
       "      <td>102.272727</td>\n",
       "    </tr>\n",
       "    <tr>\n",
       "      <th>88</th>\n",
       "      <td>Oil &amp; Gas Refining &amp; Marketing</td>\n",
       "      <td>2.235037e+07</td>\n",
       "      <td>200158.750000</td>\n",
       "      <td>106.750000</td>\n",
       "    </tr>\n",
       "    <tr>\n",
       "      <th>87</th>\n",
       "      <td>Oil &amp; Gas Exploration &amp; Production</td>\n",
       "      <td>1.566776e+07</td>\n",
       "      <td>149869.777778</td>\n",
       "      <td>109.111111</td>\n",
       "    </tr>\n",
       "    <tr>\n",
       "      <th>103</th>\n",
       "      <td>Semiconductor Equipment</td>\n",
       "      <td>1.127777e+07</td>\n",
       "      <td>102075.333333</td>\n",
       "      <td>109.666667</td>\n",
       "    </tr>\n",
       "    <tr>\n",
       "      <th>13</th>\n",
       "      <td>Biotechnology</td>\n",
       "      <td>1.918121e+07</td>\n",
       "      <td>185329.857143</td>\n",
       "      <td>113.428571</td>\n",
       "    </tr>\n",
       "    <tr>\n",
       "      <th>23</th>\n",
       "      <td>Construction Materials</td>\n",
       "      <td>9.053993e+06</td>\n",
       "      <td>78448.500000</td>\n",
       "      <td>116.000000</td>\n",
       "    </tr>\n",
       "    <tr>\n",
       "      <th>19</th>\n",
       "      <td>Communications Equipment</td>\n",
       "      <td>1.428747e+07</td>\n",
       "      <td>138871.000000</td>\n",
       "      <td>116.400000</td>\n",
       "    </tr>\n",
       "    <tr>\n",
       "      <th>78</th>\n",
       "      <td>Life Sciences Tools &amp; Services</td>\n",
       "      <td>9.394836e+06</td>\n",
       "      <td>83847.333333</td>\n",
       "      <td>122.000000</td>\n",
       "    </tr>\n",
       "    <tr>\n",
       "      <th>55</th>\n",
       "      <td>Homebuilding</td>\n",
       "      <td>1.146507e+07</td>\n",
       "      <td>91162.750000</td>\n",
       "      <td>122.500000</td>\n",
       "    </tr>\n",
       "    <tr>\n",
       "      <th>44</th>\n",
       "      <td>Gas Utilities</td>\n",
       "      <td>1.039599e+07</td>\n",
       "      <td>84516.000000</td>\n",
       "      <td>123.000000</td>\n",
       "    </tr>\n",
       "    <tr>\n",
       "      <th>100</th>\n",
       "      <td>Residential REITs</td>\n",
       "      <td>8.391829e+06</td>\n",
       "      <td>69459.400000</td>\n",
       "      <td>123.800000</td>\n",
       "    </tr>\n",
       "    <tr>\n",
       "      <th>80</th>\n",
       "      <td>Metal &amp; Glass Containers</td>\n",
       "      <td>1.185592e+07</td>\n",
       "      <td>93903.000000</td>\n",
       "      <td>126.000000</td>\n",
       "    </tr>\n",
       "    <tr>\n",
       "      <th>106</th>\n",
       "      <td>Specialized REITs</td>\n",
       "      <td>9.232088e+06</td>\n",
       "      <td>83803.428571</td>\n",
       "      <td>126.285714</td>\n",
       "    </tr>\n",
       "    <tr>\n",
       "      <th>76</th>\n",
       "      <td>Leisure Products</td>\n",
       "      <td>8.499623e+06</td>\n",
       "      <td>66893.000000</td>\n",
       "      <td>127.000000</td>\n",
       "    </tr>\n",
       "    <tr>\n",
       "      <th>49</th>\n",
       "      <td>Health Care REITs</td>\n",
       "      <td>1.224523e+07</td>\n",
       "      <td>95907.500000</td>\n",
       "      <td>128.500000</td>\n",
       "    </tr>\n",
       "    <tr>\n",
       "      <th>110</th>\n",
       "      <td>Systems Software</td>\n",
       "      <td>2.374454e+07</td>\n",
       "      <td>175944.333333</td>\n",
       "      <td>132.000000</td>\n",
       "    </tr>\n",
       "    <tr>\n",
       "      <th>9</th>\n",
       "      <td>Asset Management &amp; Custody Banks</td>\n",
       "      <td>1.236328e+07</td>\n",
       "      <td>80823.500000</td>\n",
       "      <td>135.833333</td>\n",
       "    </tr>\n",
       "    <tr>\n",
       "      <th>5</th>\n",
       "      <td>Airlines</td>\n",
       "      <td>1.095997e+07</td>\n",
       "      <td>79422.600000</td>\n",
       "      <td>137.800000</td>\n",
       "    </tr>\n",
       "    <tr>\n",
       "      <th>29</th>\n",
       "      <td>Distributors</td>\n",
       "      <td>4.859646e+06</td>\n",
       "      <td>40020.000000</td>\n",
       "      <td>140.500000</td>\n",
       "    </tr>\n",
       "    <tr>\n",
       "      <th>21</th>\n",
       "      <td>Construction &amp; Engineering</td>\n",
       "      <td>1.171773e+07</td>\n",
       "      <td>83438.500000</td>\n",
       "      <td>142.000000</td>\n",
       "    </tr>\n",
       "    <tr>\n",
       "      <th>18</th>\n",
       "      <td>Commodity Chemicals</td>\n",
       "      <td>1.587864e+07</td>\n",
       "      <td>109556.000000</td>\n",
       "      <td>145.000000</td>\n",
       "    </tr>\n",
       "    <tr>\n",
       "      <th>40</th>\n",
       "      <td>Fertilizers &amp; Agricultural Chemicals</td>\n",
       "      <td>1.021720e+07</td>\n",
       "      <td>79996.666667</td>\n",
       "      <td>146.000000</td>\n",
       "    </tr>\n",
       "    <tr>\n",
       "      <th>69</th>\n",
       "      <td>Integrated Oil &amp; Gas</td>\n",
       "      <td>2.305746e+07</td>\n",
       "      <td>164227.666667</td>\n",
       "      <td>147.000000</td>\n",
       "    </tr>\n",
       "    <tr>\n",
       "      <th>39</th>\n",
       "      <td>Environmental &amp; Facilities Services</td>\n",
       "      <td>9.565416e+06</td>\n",
       "      <td>63360.333333</td>\n",
       "      <td>147.000000</td>\n",
       "    </tr>\n",
       "    <tr>\n",
       "      <th>74</th>\n",
       "      <td>Internet Services &amp; Infrastructure</td>\n",
       "      <td>1.298729e+07</td>\n",
       "      <td>120325.333333</td>\n",
       "      <td>148.000000</td>\n",
       "    </tr>\n",
       "    <tr>\n",
       "      <th>95</th>\n",
       "      <td>Railroads</td>\n",
       "      <td>1.259243e+07</td>\n",
       "      <td>83435.500000</td>\n",
       "      <td>148.250000</td>\n",
       "    </tr>\n",
       "    <tr>\n",
       "      <th>28</th>\n",
       "      <td>Distillers &amp; Vintners</td>\n",
       "      <td>8.254592e+06</td>\n",
       "      <td>55985.500000</td>\n",
       "      <td>149.500000</td>\n",
       "    </tr>\n",
       "    <tr>\n",
       "      <th>52</th>\n",
       "      <td>Health Care Technology</td>\n",
       "      <td>9.798716e+06</td>\n",
       "      <td>64784.000000</td>\n",
       "      <td>151.000000</td>\n",
       "    </tr>\n",
       "    <tr>\n",
       "      <th>42</th>\n",
       "      <td>Food Distributors</td>\n",
       "      <td>1.074268e+07</td>\n",
       "      <td>70801.000000</td>\n",
       "      <td>152.000000</td>\n",
       "    </tr>\n",
       "    <tr>\n",
       "      <th>8</th>\n",
       "      <td>Application Software</td>\n",
       "      <td>1.842988e+07</td>\n",
       "      <td>120321.250000</td>\n",
       "      <td>153.250000</td>\n",
       "    </tr>\n",
       "    <tr>\n",
       "      <th>97</th>\n",
       "      <td>Regional Banks</td>\n",
       "      <td>9.835753e+06</td>\n",
       "      <td>64137.200000</td>\n",
       "      <td>154.200000</td>\n",
       "    </tr>\n",
       "    <tr>\n",
       "      <th>73</th>\n",
       "      <td>Internet &amp; Direct Marketing Retail</td>\n",
       "      <td>7.728369e+06</td>\n",
       "      <td>84488.333333</td>\n",
       "      <td>155.333333</td>\n",
       "    </tr>\n",
       "    <tr>\n",
       "      <th>67</th>\n",
       "      <td>Industrial REITs</td>\n",
       "      <td>1.853867e+07</td>\n",
       "      <td>120232.500000</td>\n",
       "      <td>156.500000</td>\n",
       "    </tr>\n",
       "    <tr>\n",
       "      <th>96</th>\n",
       "      <td>Real Estate Services</td>\n",
       "      <td>1.034756e+07</td>\n",
       "      <td>65849.000000</td>\n",
       "      <td>157.000000</td>\n",
       "    </tr>\n",
       "    <tr>\n",
       "      <th>41</th>\n",
       "      <td>Financial Exchanges &amp; Data</td>\n",
       "      <td>1.194608e+07</td>\n",
       "      <td>105986.857143</td>\n",
       "      <td>158.571429</td>\n",
       "    </tr>\n",
       "    <tr>\n",
       "      <th>31</th>\n",
       "      <td>Diversified Chemicals</td>\n",
       "      <td>1.455613e+07</td>\n",
       "      <td>81638.000000</td>\n",
       "      <td>178.000000</td>\n",
       "    </tr>\n",
       "    <tr>\n",
       "      <th>84</th>\n",
       "      <td>Multi-line Insurance</td>\n",
       "      <td>1.129702e+07</td>\n",
       "      <td>62113.666667</td>\n",
       "      <td>189.000000</td>\n",
       "    </tr>\n",
       "    <tr>\n",
       "      <th>85</th>\n",
       "      <td>Office REITs</td>\n",
       "      <td>1.479150e+07</td>\n",
       "      <td>84198.333333</td>\n",
       "      <td>190.000000</td>\n",
       "    </tr>\n",
       "    <tr>\n",
       "      <th>47</th>\n",
       "      <td>Health Care Equipment</td>\n",
       "      <td>1.248845e+07</td>\n",
       "      <td>74927.000000</td>\n",
       "      <td>192.882353</td>\n",
       "    </tr>\n",
       "    <tr>\n",
       "      <th>15</th>\n",
       "      <td>Building Products</td>\n",
       "      <td>8.835322e+06</td>\n",
       "      <td>46096.800000</td>\n",
       "      <td>195.400000</td>\n",
       "    </tr>\n",
       "    <tr>\n",
       "      <th>53</th>\n",
       "      <td>Home Furnishings</td>\n",
       "      <td>7.417914e+06</td>\n",
       "      <td>39094.000000</td>\n",
       "      <td>195.500000</td>\n",
       "    </tr>\n",
       "    <tr>\n",
       "      <th>26</th>\n",
       "      <td>Copper</td>\n",
       "      <td>1.574225e+07</td>\n",
       "      <td>75874.000000</td>\n",
       "      <td>207.000000</td>\n",
       "    </tr>\n",
       "    <tr>\n",
       "      <th>75</th>\n",
       "      <td>Investment Banking &amp; Brokerage</td>\n",
       "      <td>2.815007e+07</td>\n",
       "      <td>133134.000000</td>\n",
       "      <td>213.000000</td>\n",
       "    </tr>\n",
       "    <tr>\n",
       "      <th>99</th>\n",
       "      <td>Research &amp; Consulting Services</td>\n",
       "      <td>1.233472e+07</td>\n",
       "      <td>68232.500000</td>\n",
       "      <td>213.750000</td>\n",
       "    </tr>\n",
       "    <tr>\n",
       "      <th>70</th>\n",
       "      <td>Integrated Telecommunication Services</td>\n",
       "      <td>2.507237e+07</td>\n",
       "      <td>135800.500000</td>\n",
       "      <td>215.000000</td>\n",
       "    </tr>\n",
       "    <tr>\n",
       "      <th>1</th>\n",
       "      <td>Aerospace &amp; Defense</td>\n",
       "      <td>1.955749e+07</td>\n",
       "      <td>97959.000000</td>\n",
       "      <td>215.333333</td>\n",
       "    </tr>\n",
       "    <tr>\n",
       "      <th>109</th>\n",
       "      <td>Steel</td>\n",
       "      <td>1.909958e+07</td>\n",
       "      <td>87573.000000</td>\n",
       "      <td>218.000000</td>\n",
       "    </tr>\n",
       "    <tr>\n",
       "      <th>68</th>\n",
       "      <td>Insurance Brokers</td>\n",
       "      <td>1.461131e+07</td>\n",
       "      <td>65390.000000</td>\n",
       "      <td>219.333333</td>\n",
       "    </tr>\n",
       "    <tr>\n",
       "      <th>86</th>\n",
       "      <td>Oil &amp; Gas Equipment &amp; Services</td>\n",
       "      <td>1.490570e+07</td>\n",
       "      <td>68244.500000</td>\n",
       "      <td>220.500000</td>\n",
       "    </tr>\n",
       "    <tr>\n",
       "      <th>94</th>\n",
       "      <td>Property &amp; Casualty Insurance</td>\n",
       "      <td>1.483800e+07</td>\n",
       "      <td>75125.000000</td>\n",
       "      <td>220.666667</td>\n",
       "    </tr>\n",
       "    <tr>\n",
       "      <th>16</th>\n",
       "      <td>Cable &amp; Satellite</td>\n",
       "      <td>1.802402e+07</td>\n",
       "      <td>68445.000000</td>\n",
       "      <td>222.000000</td>\n",
       "    </tr>\n",
       "    <tr>\n",
       "      <th>46</th>\n",
       "      <td>Health Care Distributors</td>\n",
       "      <td>1.406999e+07</td>\n",
       "      <td>69108.666667</td>\n",
       "      <td>223.500000</td>\n",
       "    </tr>\n",
       "    <tr>\n",
       "      <th>93</th>\n",
       "      <td>Pharmaceuticals</td>\n",
       "      <td>1.850418e+07</td>\n",
       "      <td>86932.750000</td>\n",
       "      <td>225.125000</td>\n",
       "    </tr>\n",
       "    <tr>\n",
       "      <th>77</th>\n",
       "      <td>Life &amp; Health Insurance</td>\n",
       "      <td>1.701991e+07</td>\n",
       "      <td>74100.500000</td>\n",
       "      <td>225.250000</td>\n",
       "    </tr>\n",
       "    <tr>\n",
       "      <th>4</th>\n",
       "      <td>Air Freight &amp; Logistics</td>\n",
       "      <td>1.419119e+07</td>\n",
       "      <td>63461.000000</td>\n",
       "      <td>227.000000</td>\n",
       "    </tr>\n",
       "    <tr>\n",
       "      <th>11</th>\n",
       "      <td>Automobile Manufacturers</td>\n",
       "      <td>1.969185e+07</td>\n",
       "      <td>85515.500000</td>\n",
       "      <td>239.500000</td>\n",
       "    </tr>\n",
       "    <tr>\n",
       "      <th>38</th>\n",
       "      <td>Electronic Manufacturing Services</td>\n",
       "      <td>5.271910e+06</td>\n",
       "      <td>26025.500000</td>\n",
       "      <td>243.000000</td>\n",
       "    </tr>\n",
       "    <tr>\n",
       "      <th>66</th>\n",
       "      <td>Industrial Machinery</td>\n",
       "      <td>1.385024e+07</td>\n",
       "      <td>58193.000000</td>\n",
       "      <td>247.250000</td>\n",
       "    </tr>\n",
       "    <tr>\n",
       "      <th>25</th>\n",
       "      <td>Consumer Finance</td>\n",
       "      <td>1.456099e+07</td>\n",
       "      <td>59663.333333</td>\n",
       "      <td>249.000000</td>\n",
       "    </tr>\n",
       "    <tr>\n",
       "      <th>107</th>\n",
       "      <td>Specialty Chemicals</td>\n",
       "      <td>1.416245e+07</td>\n",
       "      <td>62098.000000</td>\n",
       "      <td>257.000000</td>\n",
       "    </tr>\n",
       "    <tr>\n",
       "      <th>27</th>\n",
       "      <td>Data Processing &amp; Outsourced Services</td>\n",
       "      <td>1.736814e+07</td>\n",
       "      <td>75266.857143</td>\n",
       "      <td>258.714286</td>\n",
       "    </tr>\n",
       "    <tr>\n",
       "      <th>71</th>\n",
       "      <td>Interactive Home Entertainment</td>\n",
       "      <td>2.574432e+07</td>\n",
       "      <td>96147.000000</td>\n",
       "      <td>268.500000</td>\n",
       "    </tr>\n",
       "    <tr>\n",
       "      <th>2</th>\n",
       "      <td>Agricultural &amp; Farm Machinery</td>\n",
       "      <td>2.169788e+07</td>\n",
       "      <td>80267.000000</td>\n",
       "      <td>270.000000</td>\n",
       "    </tr>\n",
       "    <tr>\n",
       "      <th>60</th>\n",
       "      <td>Housewares &amp; Specialties</td>\n",
       "      <td>8.624805e+06</td>\n",
       "      <td>31704.000000</td>\n",
       "      <td>272.000000</td>\n",
       "    </tr>\n",
       "    <tr>\n",
       "      <th>3</th>\n",
       "      <td>Agricultural Products</td>\n",
       "      <td>1.817441e+07</td>\n",
       "      <td>63981.000000</td>\n",
       "      <td>284.000000</td>\n",
       "    </tr>\n",
       "    <tr>\n",
       "      <th>59</th>\n",
       "      <td>Household Products</td>\n",
       "      <td>1.085486e+07</td>\n",
       "      <td>45911.666667</td>\n",
       "      <td>287.000000</td>\n",
       "    </tr>\n",
       "    <tr>\n",
       "      <th>62</th>\n",
       "      <td>IT Consulting &amp; Other Services</td>\n",
       "      <td>1.441281e+07</td>\n",
       "      <td>71122.500000</td>\n",
       "      <td>295.000000</td>\n",
       "    </tr>\n",
       "    <tr>\n",
       "      <th>35</th>\n",
       "      <td>Electrical Components &amp; Equipment</td>\n",
       "      <td>1.682244e+07</td>\n",
       "      <td>63810.333333</td>\n",
       "      <td>297.333333</td>\n",
       "    </tr>\n",
       "    <tr>\n",
       "      <th>91</th>\n",
       "      <td>Paper Packaging</td>\n",
       "      <td>9.870541e+06</td>\n",
       "      <td>49383.250000</td>\n",
       "      <td>299.500000</td>\n",
       "    </tr>\n",
       "    <tr>\n",
       "      <th>104</th>\n",
       "      <td>Semiconductors</td>\n",
       "      <td>2.275254e+07</td>\n",
       "      <td>85674.583333</td>\n",
       "      <td>301.083333</td>\n",
       "    </tr>\n",
       "    <tr>\n",
       "      <th>79</th>\n",
       "      <td>Managed Health Care</td>\n",
       "      <td>1.937171e+07</td>\n",
       "      <td>64522.000000</td>\n",
       "      <td>302.400000</td>\n",
       "    </tr>\n",
       "    <tr>\n",
       "      <th>108</th>\n",
       "      <td>Specialty Stores</td>\n",
       "      <td>9.062430e+06</td>\n",
       "      <td>31326.400000</td>\n",
       "      <td>304.800000</td>\n",
       "    </tr>\n",
       "    <tr>\n",
       "      <th>90</th>\n",
       "      <td>Packaged Foods &amp; Meats</td>\n",
       "      <td>1.305860e+07</td>\n",
       "      <td>46025.444444</td>\n",
       "      <td>306.777778</td>\n",
       "    </tr>\n",
       "    <tr>\n",
       "      <th>30</th>\n",
       "      <td>Diversified Banks</td>\n",
       "      <td>2.406101e+07</td>\n",
       "      <td>78037.000000</td>\n",
       "      <td>327.250000</td>\n",
       "    </tr>\n",
       "    <tr>\n",
       "      <th>92</th>\n",
       "      <td>Personal Products</td>\n",
       "      <td>2.290513e+07</td>\n",
       "      <td>68883.000000</td>\n",
       "      <td>333.000000</td>\n",
       "    </tr>\n",
       "    <tr>\n",
       "      <th>64</th>\n",
       "      <td>Industrial Conglomerates</td>\n",
       "      <td>2.397659e+07</td>\n",
       "      <td>65557.333333</td>\n",
       "      <td>377.666667</td>\n",
       "    </tr>\n",
       "    <tr>\n",
       "      <th>72</th>\n",
       "      <td>Interactive Media &amp; Services</td>\n",
       "      <td>1.013458e+08</td>\n",
       "      <td>239915.333333</td>\n",
       "      <td>393.000000</td>\n",
       "    </tr>\n",
       "    <tr>\n",
       "      <th>12</th>\n",
       "      <td>Automotive Retail</td>\n",
       "      <td>7.691513e+06</td>\n",
       "      <td>19463.000000</td>\n",
       "      <td>395.000000</td>\n",
       "    </tr>\n",
       "    <tr>\n",
       "      <th>50</th>\n",
       "      <td>Health Care Services</td>\n",
       "      <td>1.596000e+07</td>\n",
       "      <td>41139.000000</td>\n",
       "      <td>415.500000</td>\n",
       "    </tr>\n",
       "    <tr>\n",
       "      <th>57</th>\n",
       "      <td>Hotels, Resorts &amp; Cruise Lines</td>\n",
       "      <td>1.741170e+07</td>\n",
       "      <td>41286.500000</td>\n",
       "      <td>417.500000</td>\n",
       "    </tr>\n",
       "    <tr>\n",
       "      <th>17</th>\n",
       "      <td>Casinos &amp; Gaming</td>\n",
       "      <td>1.825213e+07</td>\n",
       "      <td>40970.666667</td>\n",
       "      <td>442.000000</td>\n",
       "    </tr>\n",
       "    <tr>\n",
       "      <th>117</th>\n",
       "      <td>Wireless Telecommunication Services</td>\n",
       "      <td>2.776223e+07</td>\n",
       "      <td>62195.000000</td>\n",
       "      <td>446.000000</td>\n",
       "    </tr>\n",
       "    <tr>\n",
       "      <th>0</th>\n",
       "      <td>Advertising</td>\n",
       "      <td>1.981878e+07</td>\n",
       "      <td>44059.000000</td>\n",
       "      <td>450.000000</td>\n",
       "    </tr>\n",
       "    <tr>\n",
       "      <th>43</th>\n",
       "      <td>Food Retail</td>\n",
       "      <td>1.203787e+07</td>\n",
       "      <td>24912.000000</td>\n",
       "      <td>483.000000</td>\n",
       "    </tr>\n",
       "    <tr>\n",
       "      <th>54</th>\n",
       "      <td>Home Improvement Retail</td>\n",
       "      <td>1.125560e+07</td>\n",
       "      <td>22700.000000</td>\n",
       "      <td>496.000000</td>\n",
       "    </tr>\n",
       "    <tr>\n",
       "      <th>48</th>\n",
       "      <td>Health Care Facilities</td>\n",
       "      <td>2.940971e+07</td>\n",
       "      <td>58450.500000</td>\n",
       "      <td>502.000000</td>\n",
       "    </tr>\n",
       "    <tr>\n",
       "      <th>36</th>\n",
       "      <td>Electronic Components</td>\n",
       "      <td>1.219701e+07</td>\n",
       "      <td>31159.000000</td>\n",
       "      <td>528.500000</td>\n",
       "    </tr>\n",
       "    <tr>\n",
       "      <th>22</th>\n",
       "      <td>Construction Machinery &amp; Heavy Trucks</td>\n",
       "      <td>3.451913e+07</td>\n",
       "      <td>65132.000000</td>\n",
       "      <td>530.000000</td>\n",
       "    </tr>\n",
       "    <tr>\n",
       "      <th>112</th>\n",
       "      <td>Technology Hardware, Storage &amp; Peripherals</td>\n",
       "      <td>1.515974e+07</td>\n",
       "      <td>66659.714286</td>\n",
       "      <td>538.571429</td>\n",
       "    </tr>\n",
       "    <tr>\n",
       "      <th>33</th>\n",
       "      <td>Drug Retail</td>\n",
       "      <td>1.915620e+07</td>\n",
       "      <td>34074.000000</td>\n",
       "      <td>562.000000</td>\n",
       "    </tr>\n",
       "    <tr>\n",
       "      <th>61</th>\n",
       "      <td>Hypermarkets &amp; Super Centers</td>\n",
       "      <td>1.506078e+07</td>\n",
       "      <td>34898.000000</td>\n",
       "      <td>576.000000</td>\n",
       "    </tr>\n",
       "    <tr>\n",
       "      <th>14</th>\n",
       "      <td>Broadcasting</td>\n",
       "      <td>4.584391e+07</td>\n",
       "      <td>79343.000000</td>\n",
       "      <td>578.000000</td>\n",
       "    </tr>\n",
       "    <tr>\n",
       "      <th>20</th>\n",
       "      <td>Computer &amp; Electronics Retail</td>\n",
       "      <td>1.738249e+07</td>\n",
       "      <td>28500.000000</td>\n",
       "      <td>610.000000</td>\n",
       "    </tr>\n",
       "    <tr>\n",
       "      <th>81</th>\n",
       "      <td>Movies &amp; Entertainment</td>\n",
       "      <td>3.355527e+07</td>\n",
       "      <td>91149.333333</td>\n",
       "      <td>631.666667</td>\n",
       "    </tr>\n",
       "    <tr>\n",
       "      <th>114</th>\n",
       "      <td>Tobacco</td>\n",
       "      <td>1.878252e+07</td>\n",
       "      <td>80690.000000</td>\n",
       "      <td>632.500000</td>\n",
       "    </tr>\n",
       "    <tr>\n",
       "      <th>7</th>\n",
       "      <td>Apparel, Accessories &amp; Luxury Goods</td>\n",
       "      <td>9.295914e+06</td>\n",
       "      <td>18804.000000</td>\n",
       "      <td>647.333333</td>\n",
       "    </tr>\n",
       "    <tr>\n",
       "      <th>58</th>\n",
       "      <td>Household Appliances</td>\n",
       "      <td>1.401166e+07</td>\n",
       "      <td>20765.000000</td>\n",
       "      <td>675.000000</td>\n",
       "    </tr>\n",
       "    <tr>\n",
       "      <th>6</th>\n",
       "      <td>Apparel Retail</td>\n",
       "      <td>8.016108e+06</td>\n",
       "      <td>11758.500000</td>\n",
       "      <td>751.000000</td>\n",
       "    </tr>\n",
       "    <tr>\n",
       "      <th>105</th>\n",
       "      <td>Soft Drinks</td>\n",
       "      <td>1.649563e+07</td>\n",
       "      <td>37517.000000</td>\n",
       "      <td>758.666667</td>\n",
       "    </tr>\n",
       "    <tr>\n",
       "      <th>51</th>\n",
       "      <td>Health Care Supplies</td>\n",
       "      <td>1.481769e+07</td>\n",
       "      <td>32308.500000</td>\n",
       "      <td>775.500000</td>\n",
       "    </tr>\n",
       "    <tr>\n",
       "      <th>45</th>\n",
       "      <td>General Merchandise Stores</td>\n",
       "      <td>1.385035e+07</td>\n",
       "      <td>17675.333333</td>\n",
       "      <td>778.333333</td>\n",
       "    </tr>\n",
       "    <tr>\n",
       "      <th>65</th>\n",
       "      <td>Industrial Gases</td>\n",
       "      <td>4.159064e+07</td>\n",
       "      <td>50818.000000</td>\n",
       "      <td>954.000000</td>\n",
       "    </tr>\n",
       "    <tr>\n",
       "      <th>10</th>\n",
       "      <td>Auto Parts &amp; Equipment</td>\n",
       "      <td>1.455578e+07</td>\n",
       "      <td>25845.500000</td>\n",
       "      <td>1195.500000</td>\n",
       "    </tr>\n",
       "    <tr>\n",
       "      <th>101</th>\n",
       "      <td>Restaurants</td>\n",
       "      <td>6.763833e+07</td>\n",
       "      <td>13706.166667</td>\n",
       "      <td>5051.333333</td>\n",
       "    </tr>\n",
       "  </tbody>\n",
       "</table>\n",
       "</div>"
      ],
      "text/plain": [
       "                                GICS Sub-Industry       CEO Pay  \\\n",
       "82                          Multi-Sector Holdings  3.747730e+05   \n",
       "89             Oil & Gas Storage & Transportation  5.476506e+06   \n",
       "56                           Hotel & Resort REITs  9.434465e+06   \n",
       "98                                    Reinsurance  7.626619e+06   \n",
       "116                               Water Utilities  4.983114e+06   \n",
       "32                   Diversified Support Services  3.427418e+06   \n",
       "111                       Technology Distributors  6.191797e+06   \n",
       "63   Independent Power Producers & Energy Traders  9.146053e+06   \n",
       "115              Trading Companies & Distributors  6.215830e+06   \n",
       "113                    Thrifts & Mortgage Finance  5.700284e+06   \n",
       "102                                  Retail REITs  7.635445e+06   \n",
       "34                             Electric Utilities  1.283043e+07   \n",
       "24                           Consumer Electronics  3.233412e+06   \n",
       "37             Electronic Equipment & Instruments  8.308316e+06   \n",
       "83                                Multi-Utilities  1.292646e+07   \n",
       "88                 Oil & Gas Refining & Marketing  2.235037e+07   \n",
       "87             Oil & Gas Exploration & Production  1.566776e+07   \n",
       "103                       Semiconductor Equipment  1.127777e+07   \n",
       "13                                  Biotechnology  1.918121e+07   \n",
       "23                         Construction Materials  9.053993e+06   \n",
       "19                       Communications Equipment  1.428747e+07   \n",
       "78                 Life Sciences Tools & Services  9.394836e+06   \n",
       "55                                   Homebuilding  1.146507e+07   \n",
       "44                                  Gas Utilities  1.039599e+07   \n",
       "100                             Residential REITs  8.391829e+06   \n",
       "80                       Metal & Glass Containers  1.185592e+07   \n",
       "106                             Specialized REITs  9.232088e+06   \n",
       "76                               Leisure Products  8.499623e+06   \n",
       "49                              Health Care REITs  1.224523e+07   \n",
       "110                              Systems Software  2.374454e+07   \n",
       "9                Asset Management & Custody Banks  1.236328e+07   \n",
       "5                                        Airlines  1.095997e+07   \n",
       "29                                   Distributors  4.859646e+06   \n",
       "21                     Construction & Engineering  1.171773e+07   \n",
       "18                            Commodity Chemicals  1.587864e+07   \n",
       "40           Fertilizers & Agricultural Chemicals  1.021720e+07   \n",
       "69                           Integrated Oil & Gas  2.305746e+07   \n",
       "39            Environmental & Facilities Services  9.565416e+06   \n",
       "74             Internet Services & Infrastructure  1.298729e+07   \n",
       "95                                      Railroads  1.259243e+07   \n",
       "28                          Distillers & Vintners  8.254592e+06   \n",
       "52                         Health Care Technology  9.798716e+06   \n",
       "42                              Food Distributors  1.074268e+07   \n",
       "8                            Application Software  1.842988e+07   \n",
       "97                                 Regional Banks  9.835753e+06   \n",
       "73             Internet & Direct Marketing Retail  7.728369e+06   \n",
       "67                               Industrial REITs  1.853867e+07   \n",
       "96                           Real Estate Services  1.034756e+07   \n",
       "41                     Financial Exchanges & Data  1.194608e+07   \n",
       "31                          Diversified Chemicals  1.455613e+07   \n",
       "84                           Multi-line Insurance  1.129702e+07   \n",
       "85                                   Office REITs  1.479150e+07   \n",
       "47                          Health Care Equipment  1.248845e+07   \n",
       "15                              Building Products  8.835322e+06   \n",
       "53                               Home Furnishings  7.417914e+06   \n",
       "26                                         Copper  1.574225e+07   \n",
       "75                 Investment Banking & Brokerage  2.815007e+07   \n",
       "99                 Research & Consulting Services  1.233472e+07   \n",
       "70          Integrated Telecommunication Services  2.507237e+07   \n",
       "1                             Aerospace & Defense  1.955749e+07   \n",
       "109                                         Steel  1.909958e+07   \n",
       "68                              Insurance Brokers  1.461131e+07   \n",
       "86                 Oil & Gas Equipment & Services  1.490570e+07   \n",
       "94                  Property & Casualty Insurance  1.483800e+07   \n",
       "16                              Cable & Satellite  1.802402e+07   \n",
       "46                       Health Care Distributors  1.406999e+07   \n",
       "93                                Pharmaceuticals  1.850418e+07   \n",
       "77                        Life & Health Insurance  1.701991e+07   \n",
       "4                         Air Freight & Logistics  1.419119e+07   \n",
       "11                       Automobile Manufacturers  1.969185e+07   \n",
       "38              Electronic Manufacturing Services  5.271910e+06   \n",
       "66                           Industrial Machinery  1.385024e+07   \n",
       "25                               Consumer Finance  1.456099e+07   \n",
       "107                           Specialty Chemicals  1.416245e+07   \n",
       "27          Data Processing & Outsourced Services  1.736814e+07   \n",
       "71                 Interactive Home Entertainment  2.574432e+07   \n",
       "2                   Agricultural & Farm Machinery  2.169788e+07   \n",
       "60                       Housewares & Specialties  8.624805e+06   \n",
       "3                           Agricultural Products  1.817441e+07   \n",
       "59                             Household Products  1.085486e+07   \n",
       "62                 IT Consulting & Other Services  1.441281e+07   \n",
       "35              Electrical Components & Equipment  1.682244e+07   \n",
       "91                                Paper Packaging  9.870541e+06   \n",
       "104                                Semiconductors  2.275254e+07   \n",
       "79                            Managed Health Care  1.937171e+07   \n",
       "108                              Specialty Stores  9.062430e+06   \n",
       "90                         Packaged Foods & Meats  1.305860e+07   \n",
       "30                              Diversified Banks  2.406101e+07   \n",
       "92                              Personal Products  2.290513e+07   \n",
       "64                       Industrial Conglomerates  2.397659e+07   \n",
       "72                   Interactive Media & Services  1.013458e+08   \n",
       "12                              Automotive Retail  7.691513e+06   \n",
       "50                           Health Care Services  1.596000e+07   \n",
       "57                 Hotels, Resorts & Cruise Lines  1.741170e+07   \n",
       "17                               Casinos & Gaming  1.825213e+07   \n",
       "117           Wireless Telecommunication Services  2.776223e+07   \n",
       "0                                     Advertising  1.981878e+07   \n",
       "43                                    Food Retail  1.203787e+07   \n",
       "54                        Home Improvement Retail  1.125560e+07   \n",
       "48                         Health Care Facilities  2.940971e+07   \n",
       "36                          Electronic Components  1.219701e+07   \n",
       "22          Construction Machinery & Heavy Trucks  3.451913e+07   \n",
       "112    Technology Hardware, Storage & Peripherals  1.515974e+07   \n",
       "33                                    Drug Retail  1.915620e+07   \n",
       "61                   Hypermarkets & Super Centers  1.506078e+07   \n",
       "14                                   Broadcasting  4.584391e+07   \n",
       "20                  Computer & Electronics Retail  1.738249e+07   \n",
       "81                         Movies & Entertainment  3.355527e+07   \n",
       "114                                       Tobacco  1.878252e+07   \n",
       "7             Apparel, Accessories & Luxury Goods  9.295914e+06   \n",
       "58                           Household Appliances  1.401166e+07   \n",
       "6                                  Apparel Retail  8.016108e+06   \n",
       "105                                   Soft Drinks  1.649563e+07   \n",
       "51                           Health Care Supplies  1.481769e+07   \n",
       "45                     General Merchandise Stores  1.385035e+07   \n",
       "65                               Industrial Gases  4.159064e+07   \n",
       "10                         Auto Parts & Equipment  1.455578e+07   \n",
       "101                                   Restaurants  6.763833e+07   \n",
       "\n",
       "     Median Employee Pay  CEO Pay Ratio  \n",
       "82          65740.000000       6.000000  \n",
       "89         123813.000000      40.000000  \n",
       "56         197781.000000      48.000000  \n",
       "98         144915.000000      53.000000  \n",
       "116         83599.000000      60.000000  \n",
       "32          45536.000000      62.000000  \n",
       "111         93452.000000      66.000000  \n",
       "63         114883.000000      80.000000  \n",
       "115         73881.000000      84.000000  \n",
       "113         66596.000000      86.000000  \n",
       "102         95417.000000      87.000000  \n",
       "34         143280.545455      91.636364  \n",
       "24          35188.000000      92.000000  \n",
       "37          80714.000000     101.500000  \n",
       "83         124371.636364     102.272727  \n",
       "88         200158.750000     106.750000  \n",
       "87         149869.777778     109.111111  \n",
       "103        102075.333333     109.666667  \n",
       "13         185329.857143     113.428571  \n",
       "23          78448.500000     116.000000  \n",
       "19         138871.000000     116.400000  \n",
       "78          83847.333333     122.000000  \n",
       "55          91162.750000     122.500000  \n",
       "44          84516.000000     123.000000  \n",
       "100         69459.400000     123.800000  \n",
       "80          93903.000000     126.000000  \n",
       "106         83803.428571     126.285714  \n",
       "76          66893.000000     127.000000  \n",
       "49          95907.500000     128.500000  \n",
       "110        175944.333333     132.000000  \n",
       "9           80823.500000     135.833333  \n",
       "5           79422.600000     137.800000  \n",
       "29          40020.000000     140.500000  \n",
       "21          83438.500000     142.000000  \n",
       "18         109556.000000     145.000000  \n",
       "40          79996.666667     146.000000  \n",
       "69         164227.666667     147.000000  \n",
       "39          63360.333333     147.000000  \n",
       "74         120325.333333     148.000000  \n",
       "95          83435.500000     148.250000  \n",
       "28          55985.500000     149.500000  \n",
       "52          64784.000000     151.000000  \n",
       "42          70801.000000     152.000000  \n",
       "8          120321.250000     153.250000  \n",
       "97          64137.200000     154.200000  \n",
       "73          84488.333333     155.333333  \n",
       "67         120232.500000     156.500000  \n",
       "96          65849.000000     157.000000  \n",
       "41         105986.857143     158.571429  \n",
       "31          81638.000000     178.000000  \n",
       "84          62113.666667     189.000000  \n",
       "85          84198.333333     190.000000  \n",
       "47          74927.000000     192.882353  \n",
       "15          46096.800000     195.400000  \n",
       "53          39094.000000     195.500000  \n",
       "26          75874.000000     207.000000  \n",
       "75         133134.000000     213.000000  \n",
       "99          68232.500000     213.750000  \n",
       "70         135800.500000     215.000000  \n",
       "1           97959.000000     215.333333  \n",
       "109         87573.000000     218.000000  \n",
       "68          65390.000000     219.333333  \n",
       "86          68244.500000     220.500000  \n",
       "94          75125.000000     220.666667  \n",
       "16          68445.000000     222.000000  \n",
       "46          69108.666667     223.500000  \n",
       "93          86932.750000     225.125000  \n",
       "77          74100.500000     225.250000  \n",
       "4           63461.000000     227.000000  \n",
       "11          85515.500000     239.500000  \n",
       "38          26025.500000     243.000000  \n",
       "66          58193.000000     247.250000  \n",
       "25          59663.333333     249.000000  \n",
       "107         62098.000000     257.000000  \n",
       "27          75266.857143     258.714286  \n",
       "71          96147.000000     268.500000  \n",
       "2           80267.000000     270.000000  \n",
       "60          31704.000000     272.000000  \n",
       "3           63981.000000     284.000000  \n",
       "59          45911.666667     287.000000  \n",
       "62          71122.500000     295.000000  \n",
       "35          63810.333333     297.333333  \n",
       "91          49383.250000     299.500000  \n",
       "104         85674.583333     301.083333  \n",
       "79          64522.000000     302.400000  \n",
       "108         31326.400000     304.800000  \n",
       "90          46025.444444     306.777778  \n",
       "30          78037.000000     327.250000  \n",
       "92          68883.000000     333.000000  \n",
       "64          65557.333333     377.666667  \n",
       "72         239915.333333     393.000000  \n",
       "12          19463.000000     395.000000  \n",
       "50          41139.000000     415.500000  \n",
       "57          41286.500000     417.500000  \n",
       "17          40970.666667     442.000000  \n",
       "117         62195.000000     446.000000  \n",
       "0           44059.000000     450.000000  \n",
       "43          24912.000000     483.000000  \n",
       "54          22700.000000     496.000000  \n",
       "48          58450.500000     502.000000  \n",
       "36          31159.000000     528.500000  \n",
       "22          65132.000000     530.000000  \n",
       "112         66659.714286     538.571429  \n",
       "33          34074.000000     562.000000  \n",
       "61          34898.000000     576.000000  \n",
       "14          79343.000000     578.000000  \n",
       "20          28500.000000     610.000000  \n",
       "81          91149.333333     631.666667  \n",
       "114         80690.000000     632.500000  \n",
       "7           18804.000000     647.333333  \n",
       "58          20765.000000     675.000000  \n",
       "6           11758.500000     751.000000  \n",
       "105         37517.000000     758.666667  \n",
       "51          32308.500000     775.500000  \n",
       "45          17675.333333     778.333333  \n",
       "65          50818.000000     954.000000  \n",
       "10          25845.500000    1195.500000  \n",
       "101         13706.166667    5051.333333  "
      ]
     },
     "execution_count": 3,
     "metadata": {},
     "output_type": "execute_result"
    }
   ],
   "source": [
    "mean_ceo_pay_df = industry_data.mean().reset_index()\n",
    "pd.set_option('display.max_rows', None)\n",
    "mean_ceo_pay_df.sort_values(by = 'CEO Pay Ratio')\n"
   ]
  },
  {
   "cell_type": "code",
   "execution_count": 5,
   "metadata": {},
   "outputs": [
    {
     "data": {
      "application/vnd.plotly.v1+json": {
       "config": {
        "plotlyServerURL": "https://plot.ly"
       },
       "data": [
        {
         "hovertemplate": "GICS Sub-Industry=Advertising<br>CEO Pay Ratio=%{marker.size}<br>CEO Pay=%{y}<extra></extra>",
         "legendgroup": "Advertising",
         "marker": {
          "color": "#636efa",
          "size": [
           450
          ],
          "sizemode": "area",
          "sizeref": 12.628333333333332,
          "symbol": "circle"
         },
         "mode": "markers",
         "name": "Advertising",
         "orientation": "v",
         "showlegend": true,
         "type": "scatter",
         "x": [
          450
         ],
         "xaxis": "x",
         "y": [
          19818780
         ],
         "yaxis": "y"
        },
        {
         "hovertemplate": "GICS Sub-Industry=Aerospace & Defense<br>CEO Pay Ratio=%{marker.size}<br>CEO Pay=%{y}<extra></extra>",
         "legendgroup": "Aerospace & Defense",
         "marker": {
          "color": "#EF553B",
          "size": [
           215.33333333333334
          ],
          "sizemode": "area",
          "sizeref": 12.628333333333332,
          "symbol": "circle"
         },
         "mode": "markers",
         "name": "Aerospace & Defense",
         "orientation": "v",
         "showlegend": true,
         "type": "scatter",
         "x": [
          215.33333333333334
         ],
         "xaxis": "x",
         "y": [
          19557494
         ],
         "yaxis": "y"
        },
        {
         "hovertemplate": "GICS Sub-Industry=Agricultural & Farm Machinery<br>CEO Pay Ratio=%{marker.size}<br>CEO Pay=%{y}<extra></extra>",
         "legendgroup": "Agricultural & Farm Machinery",
         "marker": {
          "color": "#00cc96",
          "size": [
           270
          ],
          "sizemode": "area",
          "sizeref": 12.628333333333332,
          "symbol": "circle"
         },
         "mode": "markers",
         "name": "Agricultural & Farm Machinery",
         "orientation": "v",
         "showlegend": true,
         "type": "scatter",
         "x": [
          270
         ],
         "xaxis": "x",
         "y": [
          21697885
         ],
         "yaxis": "y"
        },
        {
         "hovertemplate": "GICS Sub-Industry=Agricultural Products<br>CEO Pay Ratio=%{marker.size}<br>CEO Pay=%{y}<extra></extra>",
         "legendgroup": "Agricultural Products",
         "marker": {
          "color": "#ab63fa",
          "size": [
           284
          ],
          "sizemode": "area",
          "sizeref": 12.628333333333332,
          "symbol": "circle"
         },
         "mode": "markers",
         "name": "Agricultural Products",
         "orientation": "v",
         "showlegend": true,
         "type": "scatter",
         "x": [
          284
         ],
         "xaxis": "x",
         "y": [
          18174409
         ],
         "yaxis": "y"
        },
        {
         "hovertemplate": "GICS Sub-Industry=Air Freight & Logistics<br>CEO Pay Ratio=%{marker.size}<br>CEO Pay=%{y}<extra></extra>",
         "legendgroup": "Air Freight & Logistics",
         "marker": {
          "color": "#FFA15A",
          "size": [
           227
          ],
          "sizemode": "area",
          "sizeref": 12.628333333333332,
          "symbol": "circle"
         },
         "mode": "markers",
         "name": "Air Freight & Logistics",
         "orientation": "v",
         "showlegend": true,
         "type": "scatter",
         "x": [
          227
         ],
         "xaxis": "x",
         "y": [
          14191193.666666666
         ],
         "yaxis": "y"
        },
        {
         "hovertemplate": "GICS Sub-Industry=Airlines<br>CEO Pay Ratio=%{marker.size}<br>CEO Pay=%{y}<extra></extra>",
         "legendgroup": "Airlines",
         "marker": {
          "color": "#19d3f3",
          "size": [
           137.8
          ],
          "sizemode": "area",
          "sizeref": 12.628333333333332,
          "symbol": "circle"
         },
         "mode": "markers",
         "name": "Airlines",
         "orientation": "v",
         "showlegend": true,
         "type": "scatter",
         "x": [
          137.8
         ],
         "xaxis": "x",
         "y": [
          10959974.6
         ],
         "yaxis": "y"
        },
        {
         "hovertemplate": "GICS Sub-Industry=Apparel Retail<br>CEO Pay Ratio=%{marker.size}<br>CEO Pay=%{y}<extra></extra>",
         "legendgroup": "Apparel Retail",
         "marker": {
          "color": "#FF6692",
          "size": [
           751
          ],
          "sizemode": "area",
          "sizeref": 12.628333333333332,
          "symbol": "circle"
         },
         "mode": "markers",
         "name": "Apparel Retail",
         "orientation": "v",
         "showlegend": true,
         "type": "scatter",
         "x": [
          751
         ],
         "xaxis": "x",
         "y": [
          8016107.5
         ],
         "yaxis": "y"
        },
        {
         "hovertemplate": "GICS Sub-Industry=Apparel, Accessories & Luxury Goods<br>CEO Pay Ratio=%{marker.size}<br>CEO Pay=%{y}<extra></extra>",
         "legendgroup": "Apparel, Accessories & Luxury Goods",
         "marker": {
          "color": "#B6E880",
          "size": [
           647.3333333333334
          ],
          "sizemode": "area",
          "sizeref": 12.628333333333332,
          "symbol": "circle"
         },
         "mode": "markers",
         "name": "Apparel, Accessories & Luxury Goods",
         "orientation": "v",
         "showlegend": true,
         "type": "scatter",
         "x": [
          647.3333333333334
         ],
         "xaxis": "x",
         "y": [
          9295914
         ],
         "yaxis": "y"
        },
        {
         "hovertemplate": "GICS Sub-Industry=Application Software<br>CEO Pay Ratio=%{marker.size}<br>CEO Pay=%{y}<extra></extra>",
         "legendgroup": "Application Software",
         "marker": {
          "color": "#FF97FF",
          "size": [
           153.25
          ],
          "sizemode": "area",
          "sizeref": 12.628333333333332,
          "symbol": "circle"
         },
         "mode": "markers",
         "name": "Application Software",
         "orientation": "v",
         "showlegend": true,
         "type": "scatter",
         "x": [
          153.25
         ],
         "xaxis": "x",
         "y": [
          18429876.375
         ],
         "yaxis": "y"
        },
        {
         "hovertemplate": "GICS Sub-Industry=Asset Management & Custody Banks<br>CEO Pay Ratio=%{marker.size}<br>CEO Pay=%{y}<extra></extra>",
         "legendgroup": "Asset Management & Custody Banks",
         "marker": {
          "color": "#FECB52",
          "size": [
           135.83333333333334
          ],
          "sizemode": "area",
          "sizeref": 12.628333333333332,
          "symbol": "circle"
         },
         "mode": "markers",
         "name": "Asset Management & Custody Banks",
         "orientation": "v",
         "showlegend": true,
         "type": "scatter",
         "x": [
          135.83333333333334
         ],
         "xaxis": "x",
         "y": [
          12363275
         ],
         "yaxis": "y"
        },
        {
         "hovertemplate": "GICS Sub-Industry=Auto Parts & Equipment<br>CEO Pay Ratio=%{marker.size}<br>CEO Pay=%{y}<extra></extra>",
         "legendgroup": "Auto Parts & Equipment",
         "marker": {
          "color": "#636efa",
          "size": [
           1195.5
          ],
          "sizemode": "area",
          "sizeref": 12.628333333333332,
          "symbol": "circle"
         },
         "mode": "markers",
         "name": "Auto Parts & Equipment",
         "orientation": "v",
         "showlegend": true,
         "type": "scatter",
         "x": [
          1195.5
         ],
         "xaxis": "x",
         "y": [
          14555781
         ],
         "yaxis": "y"
        },
        {
         "hovertemplate": "GICS Sub-Industry=Automobile Manufacturers<br>CEO Pay Ratio=%{marker.size}<br>CEO Pay=%{y}<extra></extra>",
         "legendgroup": "Automobile Manufacturers",
         "marker": {
          "color": "#EF553B",
          "size": [
           239.5
          ],
          "sizemode": "area",
          "sizeref": 12.628333333333332,
          "symbol": "circle"
         },
         "mode": "markers",
         "name": "Automobile Manufacturers",
         "orientation": "v",
         "showlegend": true,
         "type": "scatter",
         "x": [
          239.5
         ],
         "xaxis": "x",
         "y": [
          19691851
         ],
         "yaxis": "y"
        },
        {
         "hovertemplate": "GICS Sub-Industry=Automotive Retail<br>CEO Pay Ratio=%{marker.size}<br>CEO Pay=%{y}<extra></extra>",
         "legendgroup": "Automotive Retail",
         "marker": {
          "color": "#00cc96",
          "size": [
           395
          ],
          "sizemode": "area",
          "sizeref": 12.628333333333332,
          "symbol": "circle"
         },
         "mode": "markers",
         "name": "Automotive Retail",
         "orientation": "v",
         "showlegend": true,
         "type": "scatter",
         "x": [
          395
         ],
         "xaxis": "x",
         "y": [
          7691513
         ],
         "yaxis": "y"
        },
        {
         "hovertemplate": "GICS Sub-Industry=Biotechnology<br>CEO Pay Ratio=%{marker.size}<br>CEO Pay=%{y}<extra></extra>",
         "legendgroup": "Biotechnology",
         "marker": {
          "color": "#ab63fa",
          "size": [
           113.42857142857143
          ],
          "sizemode": "area",
          "sizeref": 12.628333333333332,
          "symbol": "circle"
         },
         "mode": "markers",
         "name": "Biotechnology",
         "orientation": "v",
         "showlegend": true,
         "type": "scatter",
         "x": [
          113.42857142857143
         ],
         "xaxis": "x",
         "y": [
          19181210.14285714
         ],
         "yaxis": "y"
        },
        {
         "hovertemplate": "GICS Sub-Industry=Broadcasting<br>CEO Pay Ratio=%{marker.size}<br>CEO Pay=%{y}<extra></extra>",
         "legendgroup": "Broadcasting",
         "marker": {
          "color": "#FFA15A",
          "size": [
           578
          ],
          "sizemode": "area",
          "sizeref": 12.628333333333332,
          "symbol": "circle"
         },
         "mode": "markers",
         "name": "Broadcasting",
         "orientation": "v",
         "showlegend": true,
         "type": "scatter",
         "x": [
          578
         ],
         "xaxis": "x",
         "y": [
          45843912
         ],
         "yaxis": "y"
        },
        {
         "hovertemplate": "GICS Sub-Industry=Building Products<br>CEO Pay Ratio=%{marker.size}<br>CEO Pay=%{y}<extra></extra>",
         "legendgroup": "Building Products",
         "marker": {
          "color": "#19d3f3",
          "size": [
           195.4
          ],
          "sizemode": "area",
          "sizeref": 12.628333333333332,
          "symbol": "circle"
         },
         "mode": "markers",
         "name": "Building Products",
         "orientation": "v",
         "showlegend": true,
         "type": "scatter",
         "x": [
          195.4
         ],
         "xaxis": "x",
         "y": [
          8835322.2
         ],
         "yaxis": "y"
        },
        {
         "hovertemplate": "GICS Sub-Industry=Cable & Satellite<br>CEO Pay Ratio=%{marker.size}<br>CEO Pay=%{y}<extra></extra>",
         "legendgroup": "Cable & Satellite",
         "marker": {
          "color": "#FF6692",
          "size": [
           222
          ],
          "sizemode": "area",
          "sizeref": 12.628333333333332,
          "symbol": "circle"
         },
         "mode": "markers",
         "name": "Cable & Satellite",
         "orientation": "v",
         "showlegend": true,
         "type": "scatter",
         "x": [
          222
         ],
         "xaxis": "x",
         "y": [
          18024024.5
         ],
         "yaxis": "y"
        },
        {
         "hovertemplate": "GICS Sub-Industry=Casinos & Gaming<br>CEO Pay Ratio=%{marker.size}<br>CEO Pay=%{y}<extra></extra>",
         "legendgroup": "Casinos & Gaming",
         "marker": {
          "color": "#B6E880",
          "size": [
           442
          ],
          "sizemode": "area",
          "sizeref": 12.628333333333332,
          "symbol": "circle"
         },
         "mode": "markers",
         "name": "Casinos & Gaming",
         "orientation": "v",
         "showlegend": true,
         "type": "scatter",
         "x": [
          442
         ],
         "xaxis": "x",
         "y": [
          18252133
         ],
         "yaxis": "y"
        },
        {
         "hovertemplate": "GICS Sub-Industry=Commodity Chemicals<br>CEO Pay Ratio=%{marker.size}<br>CEO Pay=%{y}<extra></extra>",
         "legendgroup": "Commodity Chemicals",
         "marker": {
          "color": "#FF97FF",
          "size": [
           145
          ],
          "sizemode": "area",
          "sizeref": 12.628333333333332,
          "symbol": "circle"
         },
         "mode": "markers",
         "name": "Commodity Chemicals",
         "orientation": "v",
         "showlegend": true,
         "type": "scatter",
         "x": [
          145
         ],
         "xaxis": "x",
         "y": [
          15878639
         ],
         "yaxis": "y"
        },
        {
         "hovertemplate": "GICS Sub-Industry=Communications Equipment<br>CEO Pay Ratio=%{marker.size}<br>CEO Pay=%{y}<extra></extra>",
         "legendgroup": "Communications Equipment",
         "marker": {
          "color": "#FECB52",
          "size": [
           116.4
          ],
          "sizemode": "area",
          "sizeref": 12.628333333333332,
          "symbol": "circle"
         },
         "mode": "markers",
         "name": "Communications Equipment",
         "orientation": "v",
         "showlegend": true,
         "type": "scatter",
         "x": [
          116.4
         ],
         "xaxis": "x",
         "y": [
          14287468.2
         ],
         "yaxis": "y"
        },
        {
         "hovertemplate": "GICS Sub-Industry=Computer & Electronics Retail<br>CEO Pay Ratio=%{marker.size}<br>CEO Pay=%{y}<extra></extra>",
         "legendgroup": "Computer & Electronics Retail",
         "marker": {
          "color": "#636efa",
          "size": [
           610
          ],
          "sizemode": "area",
          "sizeref": 12.628333333333332,
          "symbol": "circle"
         },
         "mode": "markers",
         "name": "Computer & Electronics Retail",
         "orientation": "v",
         "showlegend": true,
         "type": "scatter",
         "x": [
          610
         ],
         "xaxis": "x",
         "y": [
          17382486
         ],
         "yaxis": "y"
        },
        {
         "hovertemplate": "GICS Sub-Industry=Construction & Engineering<br>CEO Pay Ratio=%{marker.size}<br>CEO Pay=%{y}<extra></extra>",
         "legendgroup": "Construction & Engineering",
         "marker": {
          "color": "#EF553B",
          "size": [
           142
          ],
          "sizemode": "area",
          "sizeref": 12.628333333333332,
          "symbol": "circle"
         },
         "mode": "markers",
         "name": "Construction & Engineering",
         "orientation": "v",
         "showlegend": true,
         "type": "scatter",
         "x": [
          142
         ],
         "xaxis": "x",
         "y": [
          11717729
         ],
         "yaxis": "y"
        },
        {
         "hovertemplate": "GICS Sub-Industry=Construction Machinery & Heavy Trucks<br>CEO Pay Ratio=%{marker.size}<br>CEO Pay=%{y}<extra></extra>",
         "legendgroup": "Construction Machinery & Heavy Trucks",
         "marker": {
          "color": "#00cc96",
          "size": [
           530
          ],
          "sizemode": "area",
          "sizeref": 12.628333333333332,
          "symbol": "circle"
         },
         "mode": "markers",
         "name": "Construction Machinery & Heavy Trucks",
         "orientation": "v",
         "showlegend": true,
         "type": "scatter",
         "x": [
          530
         ],
         "xaxis": "x",
         "y": [
          34519129
         ],
         "yaxis": "y"
        },
        {
         "hovertemplate": "GICS Sub-Industry=Construction Materials<br>CEO Pay Ratio=%{marker.size}<br>CEO Pay=%{y}<extra></extra>",
         "legendgroup": "Construction Materials",
         "marker": {
          "color": "#ab63fa",
          "size": [
           116
          ],
          "sizemode": "area",
          "sizeref": 12.628333333333332,
          "symbol": "circle"
         },
         "mode": "markers",
         "name": "Construction Materials",
         "orientation": "v",
         "showlegend": true,
         "type": "scatter",
         "x": [
          116
         ],
         "xaxis": "x",
         "y": [
          9053993
         ],
         "yaxis": "y"
        },
        {
         "hovertemplate": "GICS Sub-Industry=Consumer Electronics<br>CEO Pay Ratio=%{marker.size}<br>CEO Pay=%{y}<extra></extra>",
         "legendgroup": "Consumer Electronics",
         "marker": {
          "color": "#FFA15A",
          "size": [
           92
          ],
          "sizemode": "area",
          "sizeref": 12.628333333333332,
          "symbol": "circle"
         },
         "mode": "markers",
         "name": "Consumer Electronics",
         "orientation": "v",
         "showlegend": true,
         "type": "scatter",
         "x": [
          92
         ],
         "xaxis": "x",
         "y": [
          3233412
         ],
         "yaxis": "y"
        },
        {
         "hovertemplate": "GICS Sub-Industry=Consumer Finance<br>CEO Pay Ratio=%{marker.size}<br>CEO Pay=%{y}<extra></extra>",
         "legendgroup": "Consumer Finance",
         "marker": {
          "color": "#19d3f3",
          "size": [
           249
          ],
          "sizemode": "area",
          "sizeref": 12.628333333333332,
          "symbol": "circle"
         },
         "mode": "markers",
         "name": "Consumer Finance",
         "orientation": "v",
         "showlegend": true,
         "type": "scatter",
         "x": [
          249
         ],
         "xaxis": "x",
         "y": [
          14560992.333333334
         ],
         "yaxis": "y"
        },
        {
         "hovertemplate": "GICS Sub-Industry=Copper<br>CEO Pay Ratio=%{marker.size}<br>CEO Pay=%{y}<extra></extra>",
         "legendgroup": "Copper",
         "marker": {
          "color": "#FF6692",
          "size": [
           207
          ],
          "sizemode": "area",
          "sizeref": 12.628333333333332,
          "symbol": "circle"
         },
         "mode": "markers",
         "name": "Copper",
         "orientation": "v",
         "showlegend": true,
         "type": "scatter",
         "x": [
          207
         ],
         "xaxis": "x",
         "y": [
          15742249
         ],
         "yaxis": "y"
        },
        {
         "hovertemplate": "GICS Sub-Industry=Data Processing & Outsourced Services<br>CEO Pay Ratio=%{marker.size}<br>CEO Pay=%{y}<extra></extra>",
         "legendgroup": "Data Processing & Outsourced Services",
         "marker": {
          "color": "#B6E880",
          "size": [
           258.7142857142857
          ],
          "sizemode": "area",
          "sizeref": 12.628333333333332,
          "symbol": "circle"
         },
         "mode": "markers",
         "name": "Data Processing & Outsourced Services",
         "orientation": "v",
         "showlegend": true,
         "type": "scatter",
         "x": [
          258.7142857142857
         ],
         "xaxis": "x",
         "y": [
          17368143.57142857
         ],
         "yaxis": "y"
        },
        {
         "hovertemplate": "GICS Sub-Industry=Distillers & Vintners<br>CEO Pay Ratio=%{marker.size}<br>CEO Pay=%{y}<extra></extra>",
         "legendgroup": "Distillers & Vintners",
         "marker": {
          "color": "#FF97FF",
          "size": [
           149.5
          ],
          "sizemode": "area",
          "sizeref": 12.628333333333332,
          "symbol": "circle"
         },
         "mode": "markers",
         "name": "Distillers & Vintners",
         "orientation": "v",
         "showlegend": true,
         "type": "scatter",
         "x": [
          149.5
         ],
         "xaxis": "x",
         "y": [
          8254592.5
         ],
         "yaxis": "y"
        },
        {
         "hovertemplate": "GICS Sub-Industry=Distributors<br>CEO Pay Ratio=%{marker.size}<br>CEO Pay=%{y}<extra></extra>",
         "legendgroup": "Distributors",
         "marker": {
          "color": "#FECB52",
          "size": [
           140.5
          ],
          "sizemode": "area",
          "sizeref": 12.628333333333332,
          "symbol": "circle"
         },
         "mode": "markers",
         "name": "Distributors",
         "orientation": "v",
         "showlegend": true,
         "type": "scatter",
         "x": [
          140.5
         ],
         "xaxis": "x",
         "y": [
          4859646
         ],
         "yaxis": "y"
        },
        {
         "hovertemplate": "GICS Sub-Industry=Diversified Banks<br>CEO Pay Ratio=%{marker.size}<br>CEO Pay=%{y}<extra></extra>",
         "legendgroup": "Diversified Banks",
         "marker": {
          "color": "#636efa",
          "size": [
           327.25
          ],
          "sizemode": "area",
          "sizeref": 12.628333333333332,
          "symbol": "circle"
         },
         "mode": "markers",
         "name": "Diversified Banks",
         "orientation": "v",
         "showlegend": true,
         "type": "scatter",
         "x": [
          327.25
         ],
         "xaxis": "x",
         "y": [
          24061005.5
         ],
         "yaxis": "y"
        },
        {
         "hovertemplate": "GICS Sub-Industry=Diversified Chemicals<br>CEO Pay Ratio=%{marker.size}<br>CEO Pay=%{y}<extra></extra>",
         "legendgroup": "Diversified Chemicals",
         "marker": {
          "color": "#EF553B",
          "size": [
           178
          ],
          "sizemode": "area",
          "sizeref": 12.628333333333332,
          "symbol": "circle"
         },
         "mode": "markers",
         "name": "Diversified Chemicals",
         "orientation": "v",
         "showlegend": true,
         "type": "scatter",
         "x": [
          178
         ],
         "xaxis": "x",
         "y": [
          14556133
         ],
         "yaxis": "y"
        },
        {
         "hovertemplate": "GICS Sub-Industry=Diversified Support Services<br>CEO Pay Ratio=%{marker.size}<br>CEO Pay=%{y}<extra></extra>",
         "legendgroup": "Diversified Support Services",
         "marker": {
          "color": "#00cc96",
          "size": [
           62
          ],
          "sizemode": "area",
          "sizeref": 12.628333333333332,
          "symbol": "circle"
         },
         "mode": "markers",
         "name": "Diversified Support Services",
         "orientation": "v",
         "showlegend": true,
         "type": "scatter",
         "x": [
          62
         ],
         "xaxis": "x",
         "y": [
          3427417.5
         ],
         "yaxis": "y"
        },
        {
         "hovertemplate": "GICS Sub-Industry=Drug Retail<br>CEO Pay Ratio=%{marker.size}<br>CEO Pay=%{y}<extra></extra>",
         "legendgroup": "Drug Retail",
         "marker": {
          "color": "#ab63fa",
          "size": [
           562
          ],
          "sizemode": "area",
          "sizeref": 12.628333333333332,
          "symbol": "circle"
         },
         "mode": "markers",
         "name": "Drug Retail",
         "orientation": "v",
         "showlegend": true,
         "type": "scatter",
         "x": [
          562
         ],
         "xaxis": "x",
         "y": [
          19156202
         ],
         "yaxis": "y"
        },
        {
         "hovertemplate": "GICS Sub-Industry=Electric Utilities<br>CEO Pay Ratio=%{marker.size}<br>CEO Pay=%{y}<extra></extra>",
         "legendgroup": "Electric Utilities",
         "marker": {
          "color": "#FFA15A",
          "size": [
           91.63636363636364
          ],
          "sizemode": "area",
          "sizeref": 12.628333333333332,
          "symbol": "circle"
         },
         "mode": "markers",
         "name": "Electric Utilities",
         "orientation": "v",
         "showlegend": true,
         "type": "scatter",
         "x": [
          91.63636363636364
         ],
         "xaxis": "x",
         "y": [
          12830433.454545455
         ],
         "yaxis": "y"
        },
        {
         "hovertemplate": "GICS Sub-Industry=Electrical Components & Equipment<br>CEO Pay Ratio=%{marker.size}<br>CEO Pay=%{y}<extra></extra>",
         "legendgroup": "Electrical Components & Equipment",
         "marker": {
          "color": "#19d3f3",
          "size": [
           297.3333333333333
          ],
          "sizemode": "area",
          "sizeref": 12.628333333333332,
          "symbol": "circle"
         },
         "mode": "markers",
         "name": "Electrical Components & Equipment",
         "orientation": "v",
         "showlegend": true,
         "type": "scatter",
         "x": [
          297.3333333333333
         ],
         "xaxis": "x",
         "y": [
          16822437
         ],
         "yaxis": "y"
        },
        {
         "hovertemplate": "GICS Sub-Industry=Electronic Components<br>CEO Pay Ratio=%{marker.size}<br>CEO Pay=%{y}<extra></extra>",
         "legendgroup": "Electronic Components",
         "marker": {
          "color": "#FF6692",
          "size": [
           528.5
          ],
          "sizemode": "area",
          "sizeref": 12.628333333333332,
          "symbol": "circle"
         },
         "mode": "markers",
         "name": "Electronic Components",
         "orientation": "v",
         "showlegend": true,
         "type": "scatter",
         "x": [
          528.5
         ],
         "xaxis": "x",
         "y": [
          12197007
         ],
         "yaxis": "y"
        },
        {
         "hovertemplate": "GICS Sub-Industry=Electronic Equipment & Instruments<br>CEO Pay Ratio=%{marker.size}<br>CEO Pay=%{y}<extra></extra>",
         "legendgroup": "Electronic Equipment & Instruments",
         "marker": {
          "color": "#B6E880",
          "size": [
           101.5
          ],
          "sizemode": "area",
          "sizeref": 12.628333333333332,
          "symbol": "circle"
         },
         "mode": "markers",
         "name": "Electronic Equipment & Instruments",
         "orientation": "v",
         "showlegend": true,
         "type": "scatter",
         "x": [
          101.5
         ],
         "xaxis": "x",
         "y": [
          8308316
         ],
         "yaxis": "y"
        },
        {
         "hovertemplate": "GICS Sub-Industry=Electronic Manufacturing Services<br>CEO Pay Ratio=%{marker.size}<br>CEO Pay=%{y}<extra></extra>",
         "legendgroup": "Electronic Manufacturing Services",
         "marker": {
          "color": "#FF97FF",
          "size": [
           243
          ],
          "sizemode": "area",
          "sizeref": 12.628333333333332,
          "symbol": "circle"
         },
         "mode": "markers",
         "name": "Electronic Manufacturing Services",
         "orientation": "v",
         "showlegend": true,
         "type": "scatter",
         "x": [
          243
         ],
         "xaxis": "x",
         "y": [
          5271910
         ],
         "yaxis": "y"
        },
        {
         "hovertemplate": "GICS Sub-Industry=Environmental & Facilities Services<br>CEO Pay Ratio=%{marker.size}<br>CEO Pay=%{y}<extra></extra>",
         "legendgroup": "Environmental & Facilities Services",
         "marker": {
          "color": "#FECB52",
          "size": [
           147
          ],
          "sizemode": "area",
          "sizeref": 12.628333333333332,
          "symbol": "circle"
         },
         "mode": "markers",
         "name": "Environmental & Facilities Services",
         "orientation": "v",
         "showlegend": true,
         "type": "scatter",
         "x": [
          147
         ],
         "xaxis": "x",
         "y": [
          9565416.333333334
         ],
         "yaxis": "y"
        },
        {
         "hovertemplate": "GICS Sub-Industry=Fertilizers & Agricultural Chemicals<br>CEO Pay Ratio=%{marker.size}<br>CEO Pay=%{y}<extra></extra>",
         "legendgroup": "Fertilizers & Agricultural Chemicals",
         "marker": {
          "color": "#636efa",
          "size": [
           146
          ],
          "sizemode": "area",
          "sizeref": 12.628333333333332,
          "symbol": "circle"
         },
         "mode": "markers",
         "name": "Fertilizers & Agricultural Chemicals",
         "orientation": "v",
         "showlegend": true,
         "type": "scatter",
         "x": [
          146
         ],
         "xaxis": "x",
         "y": [
          10217203.333333334
         ],
         "yaxis": "y"
        },
        {
         "hovertemplate": "GICS Sub-Industry=Financial Exchanges & Data<br>CEO Pay Ratio=%{marker.size}<br>CEO Pay=%{y}<extra></extra>",
         "legendgroup": "Financial Exchanges & Data",
         "marker": {
          "color": "#EF553B",
          "size": [
           158.57142857142858
          ],
          "sizemode": "area",
          "sizeref": 12.628333333333332,
          "symbol": "circle"
         },
         "mode": "markers",
         "name": "Financial Exchanges & Data",
         "orientation": "v",
         "showlegend": true,
         "type": "scatter",
         "x": [
          158.57142857142858
         ],
         "xaxis": "x",
         "y": [
          11946079.57142857
         ],
         "yaxis": "y"
        },
        {
         "hovertemplate": "GICS Sub-Industry=Food Distributors<br>CEO Pay Ratio=%{marker.size}<br>CEO Pay=%{y}<extra></extra>",
         "legendgroup": "Food Distributors",
         "marker": {
          "color": "#00cc96",
          "size": [
           152
          ],
          "sizemode": "area",
          "sizeref": 12.628333333333332,
          "symbol": "circle"
         },
         "mode": "markers",
         "name": "Food Distributors",
         "orientation": "v",
         "showlegend": true,
         "type": "scatter",
         "x": [
          152
         ],
         "xaxis": "x",
         "y": [
          10742679
         ],
         "yaxis": "y"
        },
        {
         "hovertemplate": "GICS Sub-Industry=Food Retail<br>CEO Pay Ratio=%{marker.size}<br>CEO Pay=%{y}<extra></extra>",
         "legendgroup": "Food Retail",
         "marker": {
          "color": "#ab63fa",
          "size": [
           483
          ],
          "sizemode": "area",
          "sizeref": 12.628333333333332,
          "symbol": "circle"
         },
         "mode": "markers",
         "name": "Food Retail",
         "orientation": "v",
         "showlegend": true,
         "type": "scatter",
         "x": [
          483
         ],
         "xaxis": "x",
         "y": [
          12037872
         ],
         "yaxis": "y"
        },
        {
         "hovertemplate": "GICS Sub-Industry=Gas Utilities<br>CEO Pay Ratio=%{marker.size}<br>CEO Pay=%{y}<extra></extra>",
         "legendgroup": "Gas Utilities",
         "marker": {
          "color": "#FFA15A",
          "size": [
           123
          ],
          "sizemode": "area",
          "sizeref": 12.628333333333332,
          "symbol": "circle"
         },
         "mode": "markers",
         "name": "Gas Utilities",
         "orientation": "v",
         "showlegend": true,
         "type": "scatter",
         "x": [
          123
         ],
         "xaxis": "x",
         "y": [
          10395993
         ],
         "yaxis": "y"
        },
        {
         "hovertemplate": "GICS Sub-Industry=General Merchandise Stores<br>CEO Pay Ratio=%{marker.size}<br>CEO Pay=%{y}<extra></extra>",
         "legendgroup": "General Merchandise Stores",
         "marker": {
          "color": "#19d3f3",
          "size": [
           778.3333333333334
          ],
          "sizemode": "area",
          "sizeref": 12.628333333333332,
          "symbol": "circle"
         },
         "mode": "markers",
         "name": "General Merchandise Stores",
         "orientation": "v",
         "showlegend": true,
         "type": "scatter",
         "x": [
          778.3333333333334
         ],
         "xaxis": "x",
         "y": [
          13850347.666666666
         ],
         "yaxis": "y"
        },
        {
         "hovertemplate": "GICS Sub-Industry=Health Care Distributors<br>CEO Pay Ratio=%{marker.size}<br>CEO Pay=%{y}<extra></extra>",
         "legendgroup": "Health Care Distributors",
         "marker": {
          "color": "#FF6692",
          "size": [
           223.5
          ],
          "sizemode": "area",
          "sizeref": 12.628333333333332,
          "symbol": "circle"
         },
         "mode": "markers",
         "name": "Health Care Distributors",
         "orientation": "v",
         "showlegend": true,
         "type": "scatter",
         "x": [
          223.5
         ],
         "xaxis": "x",
         "y": [
          14069992.333333334
         ],
         "yaxis": "y"
        },
        {
         "hovertemplate": "GICS Sub-Industry=Health Care Equipment<br>CEO Pay Ratio=%{marker.size}<br>CEO Pay=%{y}<extra></extra>",
         "legendgroup": "Health Care Equipment",
         "marker": {
          "color": "#B6E880",
          "size": [
           192.88235294117646
          ],
          "sizemode": "area",
          "sizeref": 12.628333333333332,
          "symbol": "circle"
         },
         "mode": "markers",
         "name": "Health Care Equipment",
         "orientation": "v",
         "showlegend": true,
         "type": "scatter",
         "x": [
          192.88235294117646
         ],
         "xaxis": "x",
         "y": [
          12488449.88235294
         ],
         "yaxis": "y"
        },
        {
         "hovertemplate": "GICS Sub-Industry=Health Care Facilities<br>CEO Pay Ratio=%{marker.size}<br>CEO Pay=%{y}<extra></extra>",
         "legendgroup": "Health Care Facilities",
         "marker": {
          "color": "#FF97FF",
          "size": [
           502
          ],
          "sizemode": "area",
          "sizeref": 12.628333333333332,
          "symbol": "circle"
         },
         "mode": "markers",
         "name": "Health Care Facilities",
         "orientation": "v",
         "showlegend": true,
         "type": "scatter",
         "x": [
          502
         ],
         "xaxis": "x",
         "y": [
          29409713
         ],
         "yaxis": "y"
        },
        {
         "hovertemplate": "GICS Sub-Industry=Health Care REITs<br>CEO Pay Ratio=%{marker.size}<br>CEO Pay=%{y}<extra></extra>",
         "legendgroup": "Health Care REITs",
         "marker": {
          "color": "#FECB52",
          "size": [
           128.5
          ],
          "sizemode": "area",
          "sizeref": 12.628333333333332,
          "symbol": "circle"
         },
         "mode": "markers",
         "name": "Health Care REITs",
         "orientation": "v",
         "showlegend": true,
         "type": "scatter",
         "x": [
          128.5
         ],
         "xaxis": "x",
         "y": [
          12245229.5
         ],
         "yaxis": "y"
        },
        {
         "hovertemplate": "GICS Sub-Industry=Health Care Services<br>CEO Pay Ratio=%{marker.size}<br>CEO Pay=%{y}<extra></extra>",
         "legendgroup": "Health Care Services",
         "marker": {
          "color": "#636efa",
          "size": [
           415.5
          ],
          "sizemode": "area",
          "sizeref": 12.628333333333332,
          "symbol": "circle"
         },
         "mode": "markers",
         "name": "Health Care Services",
         "orientation": "v",
         "showlegend": true,
         "type": "scatter",
         "x": [
          415.5
         ],
         "xaxis": "x",
         "y": [
          15960002
         ],
         "yaxis": "y"
        },
        {
         "hovertemplate": "GICS Sub-Industry=Health Care Supplies<br>CEO Pay Ratio=%{marker.size}<br>CEO Pay=%{y}<extra></extra>",
         "legendgroup": "Health Care Supplies",
         "marker": {
          "color": "#EF553B",
          "size": [
           775.5
          ],
          "sizemode": "area",
          "sizeref": 12.628333333333332,
          "symbol": "circle"
         },
         "mode": "markers",
         "name": "Health Care Supplies",
         "orientation": "v",
         "showlegend": true,
         "type": "scatter",
         "x": [
          775.5
         ],
         "xaxis": "x",
         "y": [
          14817691
         ],
         "yaxis": "y"
        },
        {
         "hovertemplate": "GICS Sub-Industry=Health Care Technology<br>CEO Pay Ratio=%{marker.size}<br>CEO Pay=%{y}<extra></extra>",
         "legendgroup": "Health Care Technology",
         "marker": {
          "color": "#00cc96",
          "size": [
           151
          ],
          "sizemode": "area",
          "sizeref": 12.628333333333332,
          "symbol": "circle"
         },
         "mode": "markers",
         "name": "Health Care Technology",
         "orientation": "v",
         "showlegend": true,
         "type": "scatter",
         "x": [
          151
         ],
         "xaxis": "x",
         "y": [
          9798716
         ],
         "yaxis": "y"
        },
        {
         "hovertemplate": "GICS Sub-Industry=Home Furnishings<br>CEO Pay Ratio=%{marker.size}<br>CEO Pay=%{y}<extra></extra>",
         "legendgroup": "Home Furnishings",
         "marker": {
          "color": "#ab63fa",
          "size": [
           195.5
          ],
          "sizemode": "area",
          "sizeref": 12.628333333333332,
          "symbol": "circle"
         },
         "mode": "markers",
         "name": "Home Furnishings",
         "orientation": "v",
         "showlegend": true,
         "type": "scatter",
         "x": [
          195.5
         ],
         "xaxis": "x",
         "y": [
          7417913.5
         ],
         "yaxis": "y"
        },
        {
         "hovertemplate": "GICS Sub-Industry=Home Improvement Retail<br>CEO Pay Ratio=%{marker.size}<br>CEO Pay=%{y}<extra></extra>",
         "legendgroup": "Home Improvement Retail",
         "marker": {
          "color": "#FFA15A",
          "size": [
           496
          ],
          "sizemode": "area",
          "sizeref": 12.628333333333332,
          "symbol": "circle"
         },
         "mode": "markers",
         "name": "Home Improvement Retail",
         "orientation": "v",
         "showlegend": true,
         "type": "scatter",
         "x": [
          496
         ],
         "xaxis": "x",
         "y": [
          11255601
         ],
         "yaxis": "y"
        },
        {
         "hovertemplate": "GICS Sub-Industry=Homebuilding<br>CEO Pay Ratio=%{marker.size}<br>CEO Pay=%{y}<extra></extra>",
         "legendgroup": "Homebuilding",
         "marker": {
          "color": "#19d3f3",
          "size": [
           122.5
          ],
          "sizemode": "area",
          "sizeref": 12.628333333333332,
          "symbol": "circle"
         },
         "mode": "markers",
         "name": "Homebuilding",
         "orientation": "v",
         "showlegend": true,
         "type": "scatter",
         "x": [
          122.5
         ],
         "xaxis": "x",
         "y": [
          11465071
         ],
         "yaxis": "y"
        },
        {
         "hovertemplate": "GICS Sub-Industry=Hotel & Resort REITs<br>CEO Pay Ratio=%{marker.size}<br>CEO Pay=%{y}<extra></extra>",
         "legendgroup": "Hotel & Resort REITs",
         "marker": {
          "color": "#FF6692",
          "size": [
           48
          ],
          "sizemode": "area",
          "sizeref": 12.628333333333332,
          "symbol": "circle"
         },
         "mode": "markers",
         "name": "Hotel & Resort REITs",
         "orientation": "v",
         "showlegend": true,
         "type": "scatter",
         "x": [
          48
         ],
         "xaxis": "x",
         "y": [
          9434465
         ],
         "yaxis": "y"
        },
        {
         "hovertemplate": "GICS Sub-Industry=Hotels, Resorts & Cruise Lines<br>CEO Pay Ratio=%{marker.size}<br>CEO Pay=%{y}<extra></extra>",
         "legendgroup": "Hotels, Resorts & Cruise Lines",
         "marker": {
          "color": "#B6E880",
          "size": [
           417.5
          ],
          "sizemode": "area",
          "sizeref": 12.628333333333332,
          "symbol": "circle"
         },
         "mode": "markers",
         "name": "Hotels, Resorts & Cruise Lines",
         "orientation": "v",
         "showlegend": true,
         "type": "scatter",
         "x": [
          417.5
         ],
         "xaxis": "x",
         "y": [
          17411699
         ],
         "yaxis": "y"
        },
        {
         "hovertemplate": "GICS Sub-Industry=Household Appliances<br>CEO Pay Ratio=%{marker.size}<br>CEO Pay=%{y}<extra></extra>",
         "legendgroup": "Household Appliances",
         "marker": {
          "color": "#FF97FF",
          "size": [
           675
          ],
          "sizemode": "area",
          "sizeref": 12.628333333333332,
          "symbol": "circle"
         },
         "mode": "markers",
         "name": "Household Appliances",
         "orientation": "v",
         "showlegend": true,
         "type": "scatter",
         "x": [
          675
         ],
         "xaxis": "x",
         "y": [
          14011663
         ],
         "yaxis": "y"
        },
        {
         "hovertemplate": "GICS Sub-Industry=Household Products<br>CEO Pay Ratio=%{marker.size}<br>CEO Pay=%{y}<extra></extra>",
         "legendgroup": "Household Products",
         "marker": {
          "color": "#FECB52",
          "size": [
           287
          ],
          "sizemode": "area",
          "sizeref": 12.628333333333332,
          "symbol": "circle"
         },
         "mode": "markers",
         "name": "Household Products",
         "orientation": "v",
         "showlegend": true,
         "type": "scatter",
         "x": [
          287
         ],
         "xaxis": "x",
         "y": [
          10854856.666666666
         ],
         "yaxis": "y"
        },
        {
         "hovertemplate": "GICS Sub-Industry=Housewares & Specialties<br>CEO Pay Ratio=%{marker.size}<br>CEO Pay=%{y}<extra></extra>",
         "legendgroup": "Housewares & Specialties",
         "marker": {
          "color": "#636efa",
          "size": [
           272
          ],
          "sizemode": "area",
          "sizeref": 12.628333333333332,
          "symbol": "circle"
         },
         "mode": "markers",
         "name": "Housewares & Specialties",
         "orientation": "v",
         "showlegend": true,
         "type": "scatter",
         "x": [
          272
         ],
         "xaxis": "x",
         "y": [
          8624805
         ],
         "yaxis": "y"
        },
        {
         "hovertemplate": "GICS Sub-Industry=Hypermarkets & Super Centers<br>CEO Pay Ratio=%{marker.size}<br>CEO Pay=%{y}<extra></extra>",
         "legendgroup": "Hypermarkets & Super Centers",
         "marker": {
          "color": "#EF553B",
          "size": [
           576
          ],
          "sizemode": "area",
          "sizeref": 12.628333333333332,
          "symbol": "circle"
         },
         "mode": "markers",
         "name": "Hypermarkets & Super Centers",
         "orientation": "v",
         "showlegend": true,
         "type": "scatter",
         "x": [
          576
         ],
         "xaxis": "x",
         "y": [
          15060775
         ],
         "yaxis": "y"
        },
        {
         "hovertemplate": "GICS Sub-Industry=IT Consulting & Other Services<br>CEO Pay Ratio=%{marker.size}<br>CEO Pay=%{y}<extra></extra>",
         "legendgroup": "IT Consulting & Other Services",
         "marker": {
          "color": "#00cc96",
          "size": [
           295
          ],
          "sizemode": "area",
          "sizeref": 12.628333333333332,
          "symbol": "circle"
         },
         "mode": "markers",
         "name": "IT Consulting & Other Services",
         "orientation": "v",
         "showlegend": true,
         "type": "scatter",
         "x": [
          295
         ],
         "xaxis": "x",
         "y": [
          14412811.5
         ],
         "yaxis": "y"
        },
        {
         "hovertemplate": "GICS Sub-Industry=Independent Power Producers & Energy Traders<br>CEO Pay Ratio=%{marker.size}<br>CEO Pay=%{y}<extra></extra>",
         "legendgroup": "Independent Power Producers & Energy Traders",
         "marker": {
          "color": "#ab63fa",
          "size": [
           80
          ],
          "sizemode": "area",
          "sizeref": 12.628333333333332,
          "symbol": "circle"
         },
         "mode": "markers",
         "name": "Independent Power Producers & Energy Traders",
         "orientation": "v",
         "showlegend": true,
         "type": "scatter",
         "x": [
          80
         ],
         "xaxis": "x",
         "y": [
          9146053
         ],
         "yaxis": "y"
        },
        {
         "hovertemplate": "GICS Sub-Industry=Industrial Conglomerates<br>CEO Pay Ratio=%{marker.size}<br>CEO Pay=%{y}<extra></extra>",
         "legendgroup": "Industrial Conglomerates",
         "marker": {
          "color": "#FFA15A",
          "size": [
           377.6666666666667
          ],
          "sizemode": "area",
          "sizeref": 12.628333333333332,
          "symbol": "circle"
         },
         "mode": "markers",
         "name": "Industrial Conglomerates",
         "orientation": "v",
         "showlegend": true,
         "type": "scatter",
         "x": [
          377.6666666666667
         ],
         "xaxis": "x",
         "y": [
          23976594.666666668
         ],
         "yaxis": "y"
        },
        {
         "hovertemplate": "GICS Sub-Industry=Industrial Gases<br>CEO Pay Ratio=%{marker.size}<br>CEO Pay=%{y}<extra></extra>",
         "legendgroup": "Industrial Gases",
         "marker": {
          "color": "#19d3f3",
          "size": [
           954
          ],
          "sizemode": "area",
          "sizeref": 12.628333333333332,
          "symbol": "circle"
         },
         "mode": "markers",
         "name": "Industrial Gases",
         "orientation": "v",
         "showlegend": true,
         "type": "scatter",
         "x": [
          954
         ],
         "xaxis": "x",
         "y": [
          41590641.5
         ],
         "yaxis": "y"
        },
        {
         "hovertemplate": "GICS Sub-Industry=Industrial Machinery<br>CEO Pay Ratio=%{marker.size}<br>CEO Pay=%{y}<extra></extra>",
         "legendgroup": "Industrial Machinery",
         "marker": {
          "color": "#FF6692",
          "size": [
           247.25
          ],
          "sizemode": "area",
          "sizeref": 12.628333333333332,
          "symbol": "circle"
         },
         "mode": "markers",
         "name": "Industrial Machinery",
         "orientation": "v",
         "showlegend": true,
         "type": "scatter",
         "x": [
          247.25
         ],
         "xaxis": "x",
         "y": [
          13850243.75
         ],
         "yaxis": "y"
        },
        {
         "hovertemplate": "GICS Sub-Industry=Industrial REITs<br>CEO Pay Ratio=%{marker.size}<br>CEO Pay=%{y}<extra></extra>",
         "legendgroup": "Industrial REITs",
         "marker": {
          "color": "#B6E880",
          "size": [
           156.5
          ],
          "sizemode": "area",
          "sizeref": 12.628333333333332,
          "symbol": "circle"
         },
         "mode": "markers",
         "name": "Industrial REITs",
         "orientation": "v",
         "showlegend": true,
         "type": "scatter",
         "x": [
          156.5
         ],
         "xaxis": "x",
         "y": [
          18538671
         ],
         "yaxis": "y"
        },
        {
         "hovertemplate": "GICS Sub-Industry=Insurance Brokers<br>CEO Pay Ratio=%{marker.size}<br>CEO Pay=%{y}<extra></extra>",
         "legendgroup": "Insurance Brokers",
         "marker": {
          "color": "#FF97FF",
          "size": [
           219.33333333333334
          ],
          "sizemode": "area",
          "sizeref": 12.628333333333332,
          "symbol": "circle"
         },
         "mode": "markers",
         "name": "Insurance Brokers",
         "orientation": "v",
         "showlegend": true,
         "type": "scatter",
         "x": [
          219.33333333333334
         ],
         "xaxis": "x",
         "y": [
          14611312.666666666
         ],
         "yaxis": "y"
        },
        {
         "hovertemplate": "GICS Sub-Industry=Integrated Oil & Gas<br>CEO Pay Ratio=%{marker.size}<br>CEO Pay=%{y}<extra></extra>",
         "legendgroup": "Integrated Oil & Gas",
         "marker": {
          "color": "#FECB52",
          "size": [
           147
          ],
          "sizemode": "area",
          "sizeref": 12.628333333333332,
          "symbol": "circle"
         },
         "mode": "markers",
         "name": "Integrated Oil & Gas",
         "orientation": "v",
         "showlegend": true,
         "type": "scatter",
         "x": [
          147
         ],
         "xaxis": "x",
         "y": [
          23057464.666666668
         ],
         "yaxis": "y"
        },
        {
         "hovertemplate": "GICS Sub-Industry=Integrated Telecommunication Services<br>CEO Pay Ratio=%{marker.size}<br>CEO Pay=%{y}<extra></extra>",
         "legendgroup": "Integrated Telecommunication Services",
         "marker": {
          "color": "#636efa",
          "size": [
           215
          ],
          "sizemode": "area",
          "sizeref": 12.628333333333332,
          "symbol": "circle"
         },
         "mode": "markers",
         "name": "Integrated Telecommunication Services",
         "orientation": "v",
         "showlegend": true,
         "type": "scatter",
         "x": [
          215
         ],
         "xaxis": "x",
         "y": [
          25072374
         ],
         "yaxis": "y"
        },
        {
         "hovertemplate": "GICS Sub-Industry=Interactive Home Entertainment<br>CEO Pay Ratio=%{marker.size}<br>CEO Pay=%{y}<extra></extra>",
         "legendgroup": "Interactive Home Entertainment",
         "marker": {
          "color": "#EF553B",
          "size": [
           268.5
          ],
          "sizemode": "area",
          "sizeref": 12.628333333333332,
          "symbol": "circle"
         },
         "mode": "markers",
         "name": "Interactive Home Entertainment",
         "orientation": "v",
         "showlegend": true,
         "type": "scatter",
         "x": [
          268.5
         ],
         "xaxis": "x",
         "y": [
          25744323.5
         ],
         "yaxis": "y"
        },
        {
         "hovertemplate": "GICS Sub-Industry=Interactive Media & Services<br>CEO Pay Ratio=%{marker.size}<br>CEO Pay=%{y}<extra></extra>",
         "legendgroup": "Interactive Media & Services",
         "marker": {
          "color": "#00cc96",
          "size": [
           393
          ],
          "sizemode": "area",
          "sizeref": 12.628333333333332,
          "symbol": "circle"
         },
         "mode": "markers",
         "name": "Interactive Media & Services",
         "orientation": "v",
         "showlegend": true,
         "type": "scatter",
         "x": [
          393
         ],
         "xaxis": "x",
         "y": [
          101345842
         ],
         "yaxis": "y"
        },
        {
         "hovertemplate": "GICS Sub-Industry=Internet & Direct Marketing Retail<br>CEO Pay Ratio=%{marker.size}<br>CEO Pay=%{y}<extra></extra>",
         "legendgroup": "Internet & Direct Marketing Retail",
         "marker": {
          "color": "#ab63fa",
          "size": [
           155.33333333333334
          ],
          "sizemode": "area",
          "sizeref": 12.628333333333332,
          "symbol": "circle"
         },
         "mode": "markers",
         "name": "Internet & Direct Marketing Retail",
         "orientation": "v",
         "showlegend": true,
         "type": "scatter",
         "x": [
          155.33333333333334
         ],
         "xaxis": "x",
         "y": [
          7728369
         ],
         "yaxis": "y"
        },
        {
         "hovertemplate": "GICS Sub-Industry=Internet Services & Infrastructure<br>CEO Pay Ratio=%{marker.size}<br>CEO Pay=%{y}<extra></extra>",
         "legendgroup": "Internet Services & Infrastructure",
         "marker": {
          "color": "#FFA15A",
          "size": [
           148
          ],
          "sizemode": "area",
          "sizeref": 12.628333333333332,
          "symbol": "circle"
         },
         "mode": "markers",
         "name": "Internet Services & Infrastructure",
         "orientation": "v",
         "showlegend": true,
         "type": "scatter",
         "x": [
          148
         ],
         "xaxis": "x",
         "y": [
          12987287
         ],
         "yaxis": "y"
        },
        {
         "hovertemplate": "GICS Sub-Industry=Investment Banking & Brokerage<br>CEO Pay Ratio=%{marker.size}<br>CEO Pay=%{y}<extra></extra>",
         "legendgroup": "Investment Banking & Brokerage",
         "marker": {
          "color": "#19d3f3",
          "size": [
           213
          ],
          "sizemode": "area",
          "sizeref": 12.628333333333332,
          "symbol": "circle"
         },
         "mode": "markers",
         "name": "Investment Banking & Brokerage",
         "orientation": "v",
         "showlegend": true,
         "type": "scatter",
         "x": [
          213
         ],
         "xaxis": "x",
         "y": [
          28150066
         ],
         "yaxis": "y"
        },
        {
         "hovertemplate": "GICS Sub-Industry=Leisure Products<br>CEO Pay Ratio=%{marker.size}<br>CEO Pay=%{y}<extra></extra>",
         "legendgroup": "Leisure Products",
         "marker": {
          "color": "#FF6692",
          "size": [
           127
          ],
          "sizemode": "area",
          "sizeref": 12.628333333333332,
          "symbol": "circle"
         },
         "mode": "markers",
         "name": "Leisure Products",
         "orientation": "v",
         "showlegend": true,
         "type": "scatter",
         "x": [
          127
         ],
         "xaxis": "x",
         "y": [
          8499623
         ],
         "yaxis": "y"
        },
        {
         "hovertemplate": "GICS Sub-Industry=Life & Health Insurance<br>CEO Pay Ratio=%{marker.size}<br>CEO Pay=%{y}<extra></extra>",
         "legendgroup": "Life & Health Insurance",
         "marker": {
          "color": "#B6E880",
          "size": [
           225.25
          ],
          "sizemode": "area",
          "sizeref": 12.628333333333332,
          "symbol": "circle"
         },
         "mode": "markers",
         "name": "Life & Health Insurance",
         "orientation": "v",
         "showlegend": true,
         "type": "scatter",
         "x": [
          225.25
         ],
         "xaxis": "x",
         "y": [
          17019914.75
         ],
         "yaxis": "y"
        },
        {
         "hovertemplate": "GICS Sub-Industry=Life Sciences Tools & Services<br>CEO Pay Ratio=%{marker.size}<br>CEO Pay=%{y}<extra></extra>",
         "legendgroup": "Life Sciences Tools & Services",
         "marker": {
          "color": "#FF97FF",
          "size": [
           122
          ],
          "sizemode": "area",
          "sizeref": 12.628333333333332,
          "symbol": "circle"
         },
         "mode": "markers",
         "name": "Life Sciences Tools & Services",
         "orientation": "v",
         "showlegend": true,
         "type": "scatter",
         "x": [
          122
         ],
         "xaxis": "x",
         "y": [
          9394836
         ],
         "yaxis": "y"
        },
        {
         "hovertemplate": "GICS Sub-Industry=Managed Health Care<br>CEO Pay Ratio=%{marker.size}<br>CEO Pay=%{y}<extra></extra>",
         "legendgroup": "Managed Health Care",
         "marker": {
          "color": "#FECB52",
          "size": [
           302.4
          ],
          "sizemode": "area",
          "sizeref": 12.628333333333332,
          "symbol": "circle"
         },
         "mode": "markers",
         "name": "Managed Health Care",
         "orientation": "v",
         "showlegend": true,
         "type": "scatter",
         "x": [
          302.4
         ],
         "xaxis": "x",
         "y": [
          19371714.6
         ],
         "yaxis": "y"
        },
        {
         "hovertemplate": "GICS Sub-Industry=Metal & Glass Containers<br>CEO Pay Ratio=%{marker.size}<br>CEO Pay=%{y}<extra></extra>",
         "legendgroup": "Metal & Glass Containers",
         "marker": {
          "color": "#636efa",
          "size": [
           126
          ],
          "sizemode": "area",
          "sizeref": 12.628333333333332,
          "symbol": "circle"
         },
         "mode": "markers",
         "name": "Metal & Glass Containers",
         "orientation": "v",
         "showlegend": true,
         "type": "scatter",
         "x": [
          126
         ],
         "xaxis": "x",
         "y": [
          11855919
         ],
         "yaxis": "y"
        },
        {
         "hovertemplate": "GICS Sub-Industry=Movies & Entertainment<br>CEO Pay Ratio=%{marker.size}<br>CEO Pay=%{y}<extra></extra>",
         "legendgroup": "Movies & Entertainment",
         "marker": {
          "color": "#EF553B",
          "size": [
           631.6666666666666
          ],
          "sizemode": "area",
          "sizeref": 12.628333333333332,
          "symbol": "circle"
         },
         "mode": "markers",
         "name": "Movies & Entertainment",
         "orientation": "v",
         "showlegend": true,
         "type": "scatter",
         "x": [
          631.6666666666666
         ],
         "xaxis": "x",
         "y": [
          33555270.333333336
         ],
         "yaxis": "y"
        },
        {
         "hovertemplate": "GICS Sub-Industry=Multi-Sector Holdings<br>CEO Pay Ratio=%{marker.size}<br>CEO Pay=%{y}<extra></extra>",
         "legendgroup": "Multi-Sector Holdings",
         "marker": {
          "color": "#00cc96",
          "size": [
           6
          ],
          "sizemode": "area",
          "sizeref": 12.628333333333332,
          "symbol": "circle"
         },
         "mode": "markers",
         "name": "Multi-Sector Holdings",
         "orientation": "v",
         "showlegend": true,
         "type": "scatter",
         "x": [
          6
         ],
         "xaxis": "x",
         "y": [
          374773
         ],
         "yaxis": "y"
        },
        {
         "hovertemplate": "GICS Sub-Industry=Multi-Utilities<br>CEO Pay Ratio=%{marker.size}<br>CEO Pay=%{y}<extra></extra>",
         "legendgroup": "Multi-Utilities",
         "marker": {
          "color": "#ab63fa",
          "size": [
           102.27272727272727
          ],
          "sizemode": "area",
          "sizeref": 12.628333333333332,
          "symbol": "circle"
         },
         "mode": "markers",
         "name": "Multi-Utilities",
         "orientation": "v",
         "showlegend": true,
         "type": "scatter",
         "x": [
          102.27272727272727
         ],
         "xaxis": "x",
         "y": [
          12926458.272727273
         ],
         "yaxis": "y"
        },
        {
         "hovertemplate": "GICS Sub-Industry=Multi-line Insurance<br>CEO Pay Ratio=%{marker.size}<br>CEO Pay=%{y}<extra></extra>",
         "legendgroup": "Multi-line Insurance",
         "marker": {
          "color": "#FFA15A",
          "size": [
           189
          ],
          "sizemode": "area",
          "sizeref": 12.628333333333332,
          "symbol": "circle"
         },
         "mode": "markers",
         "name": "Multi-line Insurance",
         "orientation": "v",
         "showlegend": true,
         "type": "scatter",
         "x": [
          189
         ],
         "xaxis": "x",
         "y": [
          11297016.333333334
         ],
         "yaxis": "y"
        },
        {
         "hovertemplate": "GICS Sub-Industry=Office REITs<br>CEO Pay Ratio=%{marker.size}<br>CEO Pay=%{y}<extra></extra>",
         "legendgroup": "Office REITs",
         "marker": {
          "color": "#19d3f3",
          "size": [
           190
          ],
          "sizemode": "area",
          "sizeref": 12.628333333333332,
          "symbol": "circle"
         },
         "mode": "markers",
         "name": "Office REITs",
         "orientation": "v",
         "showlegend": true,
         "type": "scatter",
         "x": [
          190
         ],
         "xaxis": "x",
         "y": [
          14791500.333333334
         ],
         "yaxis": "y"
        },
        {
         "hovertemplate": "GICS Sub-Industry=Oil & Gas Equipment & Services<br>CEO Pay Ratio=%{marker.size}<br>CEO Pay=%{y}<extra></extra>",
         "legendgroup": "Oil & Gas Equipment & Services",
         "marker": {
          "color": "#FF6692",
          "size": [
           220.5
          ],
          "sizemode": "area",
          "sizeref": 12.628333333333332,
          "symbol": "circle"
         },
         "mode": "markers",
         "name": "Oil & Gas Equipment & Services",
         "orientation": "v",
         "showlegend": true,
         "type": "scatter",
         "x": [
          220.5
         ],
         "xaxis": "x",
         "y": [
          14905698.5
         ],
         "yaxis": "y"
        },
        {
         "hovertemplate": "GICS Sub-Industry=Oil & Gas Exploration & Production<br>CEO Pay Ratio=%{marker.size}<br>CEO Pay=%{y}<extra></extra>",
         "legendgroup": "Oil & Gas Exploration & Production",
         "marker": {
          "color": "#B6E880",
          "size": [
           109.11111111111111
          ],
          "sizemode": "area",
          "sizeref": 12.628333333333332,
          "symbol": "circle"
         },
         "mode": "markers",
         "name": "Oil & Gas Exploration & Production",
         "orientation": "v",
         "showlegend": true,
         "type": "scatter",
         "x": [
          109.11111111111111
         ],
         "xaxis": "x",
         "y": [
          15667760.555555556
         ],
         "yaxis": "y"
        },
        {
         "hovertemplate": "GICS Sub-Industry=Oil & Gas Refining & Marketing<br>CEO Pay Ratio=%{marker.size}<br>CEO Pay=%{y}<extra></extra>",
         "legendgroup": "Oil & Gas Refining & Marketing",
         "marker": {
          "color": "#FF97FF",
          "size": [
           106.75
          ],
          "sizemode": "area",
          "sizeref": 12.628333333333332,
          "symbol": "circle"
         },
         "mode": "markers",
         "name": "Oil & Gas Refining & Marketing",
         "orientation": "v",
         "showlegend": true,
         "type": "scatter",
         "x": [
          106.75
         ],
         "xaxis": "x",
         "y": [
          22350369.25
         ],
         "yaxis": "y"
        },
        {
         "hovertemplate": "GICS Sub-Industry=Oil & Gas Storage & Transportation<br>CEO Pay Ratio=%{marker.size}<br>CEO Pay=%{y}<extra></extra>",
         "legendgroup": "Oil & Gas Storage & Transportation",
         "marker": {
          "color": "#FECB52",
          "size": [
           40
          ],
          "sizemode": "area",
          "sizeref": 12.628333333333332,
          "symbol": "circle"
         },
         "mode": "markers",
         "name": "Oil & Gas Storage & Transportation",
         "orientation": "v",
         "showlegend": true,
         "type": "scatter",
         "x": [
          40
         ],
         "xaxis": "x",
         "y": [
          5476505.5
         ],
         "yaxis": "y"
        },
        {
         "hovertemplate": "GICS Sub-Industry=Packaged Foods & Meats<br>CEO Pay Ratio=%{marker.size}<br>CEO Pay=%{y}<extra></extra>",
         "legendgroup": "Packaged Foods & Meats",
         "marker": {
          "color": "#636efa",
          "size": [
           306.77777777777777
          ],
          "sizemode": "area",
          "sizeref": 12.628333333333332,
          "symbol": "circle"
         },
         "mode": "markers",
         "name": "Packaged Foods & Meats",
         "orientation": "v",
         "showlegend": true,
         "type": "scatter",
         "x": [
          306.77777777777777
         ],
         "xaxis": "x",
         "y": [
          13058601.777777778
         ],
         "yaxis": "y"
        },
        {
         "hovertemplate": "GICS Sub-Industry=Paper Packaging<br>CEO Pay Ratio=%{marker.size}<br>CEO Pay=%{y}<extra></extra>",
         "legendgroup": "Paper Packaging",
         "marker": {
          "color": "#EF553B",
          "size": [
           299.5
          ],
          "sizemode": "area",
          "sizeref": 12.628333333333332,
          "symbol": "circle"
         },
         "mode": "markers",
         "name": "Paper Packaging",
         "orientation": "v",
         "showlegend": true,
         "type": "scatter",
         "x": [
          299.5
         ],
         "xaxis": "x",
         "y": [
          9870540.75
         ],
         "yaxis": "y"
        },
        {
         "hovertemplate": "GICS Sub-Industry=Personal Products<br>CEO Pay Ratio=%{marker.size}<br>CEO Pay=%{y}<extra></extra>",
         "legendgroup": "Personal Products",
         "marker": {
          "color": "#00cc96",
          "size": [
           333
          ],
          "sizemode": "area",
          "sizeref": 12.628333333333332,
          "symbol": "circle"
         },
         "mode": "markers",
         "name": "Personal Products",
         "orientation": "v",
         "showlegend": true,
         "type": "scatter",
         "x": [
          333
         ],
         "xaxis": "x",
         "y": [
          22905128
         ],
         "yaxis": "y"
        },
        {
         "hovertemplate": "GICS Sub-Industry=Pharmaceuticals<br>CEO Pay Ratio=%{marker.size}<br>CEO Pay=%{y}<extra></extra>",
         "legendgroup": "Pharmaceuticals",
         "marker": {
          "color": "#ab63fa",
          "size": [
           225.125
          ],
          "sizemode": "area",
          "sizeref": 12.628333333333332,
          "symbol": "circle"
         },
         "mode": "markers",
         "name": "Pharmaceuticals",
         "orientation": "v",
         "showlegend": true,
         "type": "scatter",
         "x": [
          225.125
         ],
         "xaxis": "x",
         "y": [
          18504178.75
         ],
         "yaxis": "y"
        },
        {
         "hovertemplate": "GICS Sub-Industry=Property & Casualty Insurance<br>CEO Pay Ratio=%{marker.size}<br>CEO Pay=%{y}<extra></extra>",
         "legendgroup": "Property & Casualty Insurance",
         "marker": {
          "color": "#FFA15A",
          "size": [
           220.66666666666666
          ],
          "sizemode": "area",
          "sizeref": 12.628333333333332,
          "symbol": "circle"
         },
         "mode": "markers",
         "name": "Property & Casualty Insurance",
         "orientation": "v",
         "showlegend": true,
         "type": "scatter",
         "x": [
          220.66666666666666
         ],
         "xaxis": "x",
         "y": [
          14837995.666666666
         ],
         "yaxis": "y"
        },
        {
         "hovertemplate": "GICS Sub-Industry=Railroads<br>CEO Pay Ratio=%{marker.size}<br>CEO Pay=%{y}<extra></extra>",
         "legendgroup": "Railroads",
         "marker": {
          "color": "#19d3f3",
          "size": [
           148.25
          ],
          "sizemode": "area",
          "sizeref": 12.628333333333332,
          "symbol": "circle"
         },
         "mode": "markers",
         "name": "Railroads",
         "orientation": "v",
         "showlegend": true,
         "type": "scatter",
         "x": [
          148.25
         ],
         "xaxis": "x",
         "y": [
          12592428.25
         ],
         "yaxis": "y"
        },
        {
         "hovertemplate": "GICS Sub-Industry=Real Estate Services<br>CEO Pay Ratio=%{marker.size}<br>CEO Pay=%{y}<extra></extra>",
         "legendgroup": "Real Estate Services",
         "marker": {
          "color": "#FF6692",
          "size": [
           157
          ],
          "sizemode": "area",
          "sizeref": 12.628333333333332,
          "symbol": "circle"
         },
         "mode": "markers",
         "name": "Real Estate Services",
         "orientation": "v",
         "showlegend": true,
         "type": "scatter",
         "x": [
          157
         ],
         "xaxis": "x",
         "y": [
          10347557
         ],
         "yaxis": "y"
        },
        {
         "hovertemplate": "GICS Sub-Industry=Regional Banks<br>CEO Pay Ratio=%{marker.size}<br>CEO Pay=%{y}<extra></extra>",
         "legendgroup": "Regional Banks",
         "marker": {
          "color": "#B6E880",
          "size": [
           154.2
          ],
          "sizemode": "area",
          "sizeref": 12.628333333333332,
          "symbol": "circle"
         },
         "mode": "markers",
         "name": "Regional Banks",
         "orientation": "v",
         "showlegend": true,
         "type": "scatter",
         "x": [
          154.2
         ],
         "xaxis": "x",
         "y": [
          9835753.4
         ],
         "yaxis": "y"
        },
        {
         "hovertemplate": "GICS Sub-Industry=Reinsurance<br>CEO Pay Ratio=%{marker.size}<br>CEO Pay=%{y}<extra></extra>",
         "legendgroup": "Reinsurance",
         "marker": {
          "color": "#FF97FF",
          "size": [
           53
          ],
          "sizemode": "area",
          "sizeref": 12.628333333333332,
          "symbol": "circle"
         },
         "mode": "markers",
         "name": "Reinsurance",
         "orientation": "v",
         "showlegend": true,
         "type": "scatter",
         "x": [
          53
         ],
         "xaxis": "x",
         "y": [
          7626619
         ],
         "yaxis": "y"
        },
        {
         "hovertemplate": "GICS Sub-Industry=Research & Consulting Services<br>CEO Pay Ratio=%{marker.size}<br>CEO Pay=%{y}<extra></extra>",
         "legendgroup": "Research & Consulting Services",
         "marker": {
          "color": "#FECB52",
          "size": [
           213.75
          ],
          "sizemode": "area",
          "sizeref": 12.628333333333332,
          "symbol": "circle"
         },
         "mode": "markers",
         "name": "Research & Consulting Services",
         "orientation": "v",
         "showlegend": true,
         "type": "scatter",
         "x": [
          213.75
         ],
         "xaxis": "x",
         "y": [
          12334722.5
         ],
         "yaxis": "y"
        },
        {
         "hovertemplate": "GICS Sub-Industry=Residential REITs<br>CEO Pay Ratio=%{marker.size}<br>CEO Pay=%{y}<extra></extra>",
         "legendgroup": "Residential REITs",
         "marker": {
          "color": "#636efa",
          "size": [
           123.8
          ],
          "sizemode": "area",
          "sizeref": 12.628333333333332,
          "symbol": "circle"
         },
         "mode": "markers",
         "name": "Residential REITs",
         "orientation": "v",
         "showlegend": true,
         "type": "scatter",
         "x": [
          123.8
         ],
         "xaxis": "x",
         "y": [
          8391829
         ],
         "yaxis": "y"
        },
        {
         "hovertemplate": "GICS Sub-Industry=Restaurants<br>CEO Pay Ratio=%{marker.size}<br>CEO Pay=%{y}<extra></extra>",
         "legendgroup": "Restaurants",
         "marker": {
          "color": "#EF553B",
          "size": [
           5051.333333333333
          ],
          "sizemode": "area",
          "sizeref": 12.628333333333332,
          "symbol": "circle"
         },
         "mode": "markers",
         "name": "Restaurants",
         "orientation": "v",
         "showlegend": true,
         "type": "scatter",
         "x": [
          5051.333333333333
         ],
         "xaxis": "x",
         "y": [
          67638328.5
         ],
         "yaxis": "y"
        },
        {
         "hovertemplate": "GICS Sub-Industry=Retail REITs<br>CEO Pay Ratio=%{marker.size}<br>CEO Pay=%{y}<extra></extra>",
         "legendgroup": "Retail REITs",
         "marker": {
          "color": "#00cc96",
          "size": [
           87
          ],
          "sizemode": "area",
          "sizeref": 12.628333333333332,
          "symbol": "circle"
         },
         "mode": "markers",
         "name": "Retail REITs",
         "orientation": "v",
         "showlegend": true,
         "type": "scatter",
         "x": [
          87
         ],
         "xaxis": "x",
         "y": [
          7635445.4
         ],
         "yaxis": "y"
        },
        {
         "hovertemplate": "GICS Sub-Industry=Semiconductor Equipment<br>CEO Pay Ratio=%{marker.size}<br>CEO Pay=%{y}<extra></extra>",
         "legendgroup": "Semiconductor Equipment",
         "marker": {
          "color": "#ab63fa",
          "size": [
           109.66666666666667
          ],
          "sizemode": "area",
          "sizeref": 12.628333333333332,
          "symbol": "circle"
         },
         "mode": "markers",
         "name": "Semiconductor Equipment",
         "orientation": "v",
         "showlegend": true,
         "type": "scatter",
         "x": [
          109.66666666666667
         ],
         "xaxis": "x",
         "y": [
          11277770.666666666
         ],
         "yaxis": "y"
        },
        {
         "hovertemplate": "GICS Sub-Industry=Semiconductors<br>CEO Pay Ratio=%{marker.size}<br>CEO Pay=%{y}<extra></extra>",
         "legendgroup": "Semiconductors",
         "marker": {
          "color": "#FFA15A",
          "size": [
           301.0833333333333
          ],
          "sizemode": "area",
          "sizeref": 12.628333333333332,
          "symbol": "circle"
         },
         "mode": "markers",
         "name": "Semiconductors",
         "orientation": "v",
         "showlegend": true,
         "type": "scatter",
         "x": [
          301.0833333333333
         ],
         "xaxis": "x",
         "y": [
          22752542.833333332
         ],
         "yaxis": "y"
        },
        {
         "hovertemplate": "GICS Sub-Industry=Soft Drinks<br>CEO Pay Ratio=%{marker.size}<br>CEO Pay=%{y}<extra></extra>",
         "legendgroup": "Soft Drinks",
         "marker": {
          "color": "#19d3f3",
          "size": [
           758.6666666666666
          ],
          "sizemode": "area",
          "sizeref": 12.628333333333332,
          "symbol": "circle"
         },
         "mode": "markers",
         "name": "Soft Drinks",
         "orientation": "v",
         "showlegend": true,
         "type": "scatter",
         "x": [
          758.6666666666666
         ],
         "xaxis": "x",
         "y": [
          16495632.333333334
         ],
         "yaxis": "y"
        },
        {
         "hovertemplate": "GICS Sub-Industry=Specialized REITs<br>CEO Pay Ratio=%{marker.size}<br>CEO Pay=%{y}<extra></extra>",
         "legendgroup": "Specialized REITs",
         "marker": {
          "color": "#FF6692",
          "size": [
           126.28571428571429
          ],
          "sizemode": "area",
          "sizeref": 12.628333333333332,
          "symbol": "circle"
         },
         "mode": "markers",
         "name": "Specialized REITs",
         "orientation": "v",
         "showlegend": true,
         "type": "scatter",
         "x": [
          126.28571428571429
         ],
         "xaxis": "x",
         "y": [
          9232087.857142856
         ],
         "yaxis": "y"
        },
        {
         "hovertemplate": "GICS Sub-Industry=Specialty Chemicals<br>CEO Pay Ratio=%{marker.size}<br>CEO Pay=%{y}<extra></extra>",
         "legendgroup": "Specialty Chemicals",
         "marker": {
          "color": "#B6E880",
          "size": [
           257
          ],
          "sizemode": "area",
          "sizeref": 12.628333333333332,
          "symbol": "circle"
         },
         "mode": "markers",
         "name": "Specialty Chemicals",
         "orientation": "v",
         "showlegend": true,
         "type": "scatter",
         "x": [
          257
         ],
         "xaxis": "x",
         "y": [
          14162454.833333334
         ],
         "yaxis": "y"
        },
        {
         "hovertemplate": "GICS Sub-Industry=Specialty Stores<br>CEO Pay Ratio=%{marker.size}<br>CEO Pay=%{y}<extra></extra>",
         "legendgroup": "Specialty Stores",
         "marker": {
          "color": "#FF97FF",
          "size": [
           304.8
          ],
          "sizemode": "area",
          "sizeref": 12.628333333333332,
          "symbol": "circle"
         },
         "mode": "markers",
         "name": "Specialty Stores",
         "orientation": "v",
         "showlegend": true,
         "type": "scatter",
         "x": [
          304.8
         ],
         "xaxis": "x",
         "y": [
          9062430.2
         ],
         "yaxis": "y"
        },
        {
         "hovertemplate": "GICS Sub-Industry=Steel<br>CEO Pay Ratio=%{marker.size}<br>CEO Pay=%{y}<extra></extra>",
         "legendgroup": "Steel",
         "marker": {
          "color": "#FECB52",
          "size": [
           218
          ],
          "sizemode": "area",
          "sizeref": 12.628333333333332,
          "symbol": "circle"
         },
         "mode": "markers",
         "name": "Steel",
         "orientation": "v",
         "showlegend": true,
         "type": "scatter",
         "x": [
          218
         ],
         "xaxis": "x",
         "y": [
          19099582
         ],
         "yaxis": "y"
        },
        {
         "hovertemplate": "GICS Sub-Industry=Systems Software<br>CEO Pay Ratio=%{marker.size}<br>CEO Pay=%{y}<extra></extra>",
         "legendgroup": "Systems Software",
         "marker": {
          "color": "#636efa",
          "size": [
           132
          ],
          "sizemode": "area",
          "sizeref": 12.628333333333332,
          "symbol": "circle"
         },
         "mode": "markers",
         "name": "Systems Software",
         "orientation": "v",
         "showlegend": true,
         "type": "scatter",
         "x": [
          132
         ],
         "xaxis": "x",
         "y": [
          23744538.666666668
         ],
         "yaxis": "y"
        },
        {
         "hovertemplate": "GICS Sub-Industry=Technology Distributors<br>CEO Pay Ratio=%{marker.size}<br>CEO Pay=%{y}<extra></extra>",
         "legendgroup": "Technology Distributors",
         "marker": {
          "color": "#EF553B",
          "size": [
           66
          ],
          "sizemode": "area",
          "sizeref": 12.628333333333332,
          "symbol": "circle"
         },
         "mode": "markers",
         "name": "Technology Distributors",
         "orientation": "v",
         "showlegend": true,
         "type": "scatter",
         "x": [
          66
         ],
         "xaxis": "x",
         "y": [
          6191797
         ],
         "yaxis": "y"
        },
        {
         "hovertemplate": "GICS Sub-Industry=Technology Hardware, Storage & Peripherals<br>CEO Pay Ratio=%{marker.size}<br>CEO Pay=%{y}<extra></extra>",
         "legendgroup": "Technology Hardware, Storage & Peripherals",
         "marker": {
          "color": "#00cc96",
          "size": [
           538.5714285714286
          ],
          "sizemode": "area",
          "sizeref": 12.628333333333332,
          "symbol": "circle"
         },
         "mode": "markers",
         "name": "Technology Hardware, Storage & Peripherals",
         "orientation": "v",
         "showlegend": true,
         "type": "scatter",
         "x": [
          538.5714285714286
         ],
         "xaxis": "x",
         "y": [
          15159740.42857143
         ],
         "yaxis": "y"
        },
        {
         "hovertemplate": "GICS Sub-Industry=Thrifts & Mortgage Finance<br>CEO Pay Ratio=%{marker.size}<br>CEO Pay=%{y}<extra></extra>",
         "legendgroup": "Thrifts & Mortgage Finance",
         "marker": {
          "color": "#ab63fa",
          "size": [
           86
          ],
          "sizemode": "area",
          "sizeref": 12.628333333333332,
          "symbol": "circle"
         },
         "mode": "markers",
         "name": "Thrifts & Mortgage Finance",
         "orientation": "v",
         "showlegend": true,
         "type": "scatter",
         "x": [
          86
         ],
         "xaxis": "x",
         "y": [
          5700284
         ],
         "yaxis": "y"
        },
        {
         "hovertemplate": "GICS Sub-Industry=Tobacco<br>CEO Pay Ratio=%{marker.size}<br>CEO Pay=%{y}<extra></extra>",
         "legendgroup": "Tobacco",
         "marker": {
          "color": "#FFA15A",
          "size": [
           632.5
          ],
          "sizemode": "area",
          "sizeref": 12.628333333333332,
          "symbol": "circle"
         },
         "mode": "markers",
         "name": "Tobacco",
         "orientation": "v",
         "showlegend": true,
         "type": "scatter",
         "x": [
          632.5
         ],
         "xaxis": "x",
         "y": [
          18782523.5
         ],
         "yaxis": "y"
        },
        {
         "hovertemplate": "GICS Sub-Industry=Trading Companies & Distributors<br>CEO Pay Ratio=%{marker.size}<br>CEO Pay=%{y}<extra></extra>",
         "legendgroup": "Trading Companies & Distributors",
         "marker": {
          "color": "#19d3f3",
          "size": [
           84
          ],
          "sizemode": "area",
          "sizeref": 12.628333333333332,
          "symbol": "circle"
         },
         "mode": "markers",
         "name": "Trading Companies & Distributors",
         "orientation": "v",
         "showlegend": true,
         "type": "scatter",
         "x": [
          84
         ],
         "xaxis": "x",
         "y": [
          6215830
         ],
         "yaxis": "y"
        },
        {
         "hovertemplate": "GICS Sub-Industry=Water Utilities<br>CEO Pay Ratio=%{marker.size}<br>CEO Pay=%{y}<extra></extra>",
         "legendgroup": "Water Utilities",
         "marker": {
          "color": "#FF6692",
          "size": [
           60
          ],
          "sizemode": "area",
          "sizeref": 12.628333333333332,
          "symbol": "circle"
         },
         "mode": "markers",
         "name": "Water Utilities",
         "orientation": "v",
         "showlegend": true,
         "type": "scatter",
         "x": [
          60
         ],
         "xaxis": "x",
         "y": [
          4983114
         ],
         "yaxis": "y"
        },
        {
         "hovertemplate": "GICS Sub-Industry=Wireless Telecommunication Services<br>CEO Pay Ratio=%{marker.size}<br>CEO Pay=%{y}<extra></extra>",
         "legendgroup": "Wireless Telecommunication Services",
         "marker": {
          "color": "#B6E880",
          "size": [
           446
          ],
          "sizemode": "area",
          "sizeref": 12.628333333333332,
          "symbol": "circle"
         },
         "mode": "markers",
         "name": "Wireless Telecommunication Services",
         "orientation": "v",
         "showlegend": true,
         "type": "scatter",
         "x": [
          446
         ],
         "xaxis": "x",
         "y": [
          27762231
         ],
         "yaxis": "y"
        }
       ],
       "layout": {
        "legend": {
         "itemsizing": "constant",
         "title": {
          "text": "GICS Sub-Industry"
         },
         "tracegroupgap": 0
        },
        "margin": {
         "t": 60
        },
        "template": {
         "data": {
          "bar": [
           {
            "error_x": {
             "color": "#2a3f5f"
            },
            "error_y": {
             "color": "#2a3f5f"
            },
            "marker": {
             "line": {
              "color": "#E5ECF6",
              "width": 0.5
             }
            },
            "type": "bar"
           }
          ],
          "barpolar": [
           {
            "marker": {
             "line": {
              "color": "#E5ECF6",
              "width": 0.5
             }
            },
            "type": "barpolar"
           }
          ],
          "carpet": [
           {
            "aaxis": {
             "endlinecolor": "#2a3f5f",
             "gridcolor": "white",
             "linecolor": "white",
             "minorgridcolor": "white",
             "startlinecolor": "#2a3f5f"
            },
            "baxis": {
             "endlinecolor": "#2a3f5f",
             "gridcolor": "white",
             "linecolor": "white",
             "minorgridcolor": "white",
             "startlinecolor": "#2a3f5f"
            },
            "type": "carpet"
           }
          ],
          "choropleth": [
           {
            "colorbar": {
             "outlinewidth": 0,
             "ticks": ""
            },
            "type": "choropleth"
           }
          ],
          "contour": [
           {
            "colorbar": {
             "outlinewidth": 0,
             "ticks": ""
            },
            "colorscale": [
             [
              0,
              "#0d0887"
             ],
             [
              0.1111111111111111,
              "#46039f"
             ],
             [
              0.2222222222222222,
              "#7201a8"
             ],
             [
              0.3333333333333333,
              "#9c179e"
             ],
             [
              0.4444444444444444,
              "#bd3786"
             ],
             [
              0.5555555555555556,
              "#d8576b"
             ],
             [
              0.6666666666666666,
              "#ed7953"
             ],
             [
              0.7777777777777778,
              "#fb9f3a"
             ],
             [
              0.8888888888888888,
              "#fdca26"
             ],
             [
              1,
              "#f0f921"
             ]
            ],
            "type": "contour"
           }
          ],
          "contourcarpet": [
           {
            "colorbar": {
             "outlinewidth": 0,
             "ticks": ""
            },
            "type": "contourcarpet"
           }
          ],
          "heatmap": [
           {
            "colorbar": {
             "outlinewidth": 0,
             "ticks": ""
            },
            "colorscale": [
             [
              0,
              "#0d0887"
             ],
             [
              0.1111111111111111,
              "#46039f"
             ],
             [
              0.2222222222222222,
              "#7201a8"
             ],
             [
              0.3333333333333333,
              "#9c179e"
             ],
             [
              0.4444444444444444,
              "#bd3786"
             ],
             [
              0.5555555555555556,
              "#d8576b"
             ],
             [
              0.6666666666666666,
              "#ed7953"
             ],
             [
              0.7777777777777778,
              "#fb9f3a"
             ],
             [
              0.8888888888888888,
              "#fdca26"
             ],
             [
              1,
              "#f0f921"
             ]
            ],
            "type": "heatmap"
           }
          ],
          "heatmapgl": [
           {
            "colorbar": {
             "outlinewidth": 0,
             "ticks": ""
            },
            "colorscale": [
             [
              0,
              "#0d0887"
             ],
             [
              0.1111111111111111,
              "#46039f"
             ],
             [
              0.2222222222222222,
              "#7201a8"
             ],
             [
              0.3333333333333333,
              "#9c179e"
             ],
             [
              0.4444444444444444,
              "#bd3786"
             ],
             [
              0.5555555555555556,
              "#d8576b"
             ],
             [
              0.6666666666666666,
              "#ed7953"
             ],
             [
              0.7777777777777778,
              "#fb9f3a"
             ],
             [
              0.8888888888888888,
              "#fdca26"
             ],
             [
              1,
              "#f0f921"
             ]
            ],
            "type": "heatmapgl"
           }
          ],
          "histogram": [
           {
            "marker": {
             "colorbar": {
              "outlinewidth": 0,
              "ticks": ""
             }
            },
            "type": "histogram"
           }
          ],
          "histogram2d": [
           {
            "colorbar": {
             "outlinewidth": 0,
             "ticks": ""
            },
            "colorscale": [
             [
              0,
              "#0d0887"
             ],
             [
              0.1111111111111111,
              "#46039f"
             ],
             [
              0.2222222222222222,
              "#7201a8"
             ],
             [
              0.3333333333333333,
              "#9c179e"
             ],
             [
              0.4444444444444444,
              "#bd3786"
             ],
             [
              0.5555555555555556,
              "#d8576b"
             ],
             [
              0.6666666666666666,
              "#ed7953"
             ],
             [
              0.7777777777777778,
              "#fb9f3a"
             ],
             [
              0.8888888888888888,
              "#fdca26"
             ],
             [
              1,
              "#f0f921"
             ]
            ],
            "type": "histogram2d"
           }
          ],
          "histogram2dcontour": [
           {
            "colorbar": {
             "outlinewidth": 0,
             "ticks": ""
            },
            "colorscale": [
             [
              0,
              "#0d0887"
             ],
             [
              0.1111111111111111,
              "#46039f"
             ],
             [
              0.2222222222222222,
              "#7201a8"
             ],
             [
              0.3333333333333333,
              "#9c179e"
             ],
             [
              0.4444444444444444,
              "#bd3786"
             ],
             [
              0.5555555555555556,
              "#d8576b"
             ],
             [
              0.6666666666666666,
              "#ed7953"
             ],
             [
              0.7777777777777778,
              "#fb9f3a"
             ],
             [
              0.8888888888888888,
              "#fdca26"
             ],
             [
              1,
              "#f0f921"
             ]
            ],
            "type": "histogram2dcontour"
           }
          ],
          "mesh3d": [
           {
            "colorbar": {
             "outlinewidth": 0,
             "ticks": ""
            },
            "type": "mesh3d"
           }
          ],
          "parcoords": [
           {
            "line": {
             "colorbar": {
              "outlinewidth": 0,
              "ticks": ""
             }
            },
            "type": "parcoords"
           }
          ],
          "pie": [
           {
            "automargin": true,
            "type": "pie"
           }
          ],
          "scatter": [
           {
            "marker": {
             "colorbar": {
              "outlinewidth": 0,
              "ticks": ""
             }
            },
            "type": "scatter"
           }
          ],
          "scatter3d": [
           {
            "line": {
             "colorbar": {
              "outlinewidth": 0,
              "ticks": ""
             }
            },
            "marker": {
             "colorbar": {
              "outlinewidth": 0,
              "ticks": ""
             }
            },
            "type": "scatter3d"
           }
          ],
          "scattercarpet": [
           {
            "marker": {
             "colorbar": {
              "outlinewidth": 0,
              "ticks": ""
             }
            },
            "type": "scattercarpet"
           }
          ],
          "scattergeo": [
           {
            "marker": {
             "colorbar": {
              "outlinewidth": 0,
              "ticks": ""
             }
            },
            "type": "scattergeo"
           }
          ],
          "scattergl": [
           {
            "marker": {
             "colorbar": {
              "outlinewidth": 0,
              "ticks": ""
             }
            },
            "type": "scattergl"
           }
          ],
          "scattermapbox": [
           {
            "marker": {
             "colorbar": {
              "outlinewidth": 0,
              "ticks": ""
             }
            },
            "type": "scattermapbox"
           }
          ],
          "scatterpolar": [
           {
            "marker": {
             "colorbar": {
              "outlinewidth": 0,
              "ticks": ""
             }
            },
            "type": "scatterpolar"
           }
          ],
          "scatterpolargl": [
           {
            "marker": {
             "colorbar": {
              "outlinewidth": 0,
              "ticks": ""
             }
            },
            "type": "scatterpolargl"
           }
          ],
          "scatterternary": [
           {
            "marker": {
             "colorbar": {
              "outlinewidth": 0,
              "ticks": ""
             }
            },
            "type": "scatterternary"
           }
          ],
          "surface": [
           {
            "colorbar": {
             "outlinewidth": 0,
             "ticks": ""
            },
            "colorscale": [
             [
              0,
              "#0d0887"
             ],
             [
              0.1111111111111111,
              "#46039f"
             ],
             [
              0.2222222222222222,
              "#7201a8"
             ],
             [
              0.3333333333333333,
              "#9c179e"
             ],
             [
              0.4444444444444444,
              "#bd3786"
             ],
             [
              0.5555555555555556,
              "#d8576b"
             ],
             [
              0.6666666666666666,
              "#ed7953"
             ],
             [
              0.7777777777777778,
              "#fb9f3a"
             ],
             [
              0.8888888888888888,
              "#fdca26"
             ],
             [
              1,
              "#f0f921"
             ]
            ],
            "type": "surface"
           }
          ],
          "table": [
           {
            "cells": {
             "fill": {
              "color": "#EBF0F8"
             },
             "line": {
              "color": "white"
             }
            },
            "header": {
             "fill": {
              "color": "#C8D4E3"
             },
             "line": {
              "color": "white"
             }
            },
            "type": "table"
           }
          ]
         },
         "layout": {
          "annotationdefaults": {
           "arrowcolor": "#2a3f5f",
           "arrowhead": 0,
           "arrowwidth": 1
          },
          "autotypenumbers": "strict",
          "coloraxis": {
           "colorbar": {
            "outlinewidth": 0,
            "ticks": ""
           }
          },
          "colorscale": {
           "diverging": [
            [
             0,
             "#8e0152"
            ],
            [
             0.1,
             "#c51b7d"
            ],
            [
             0.2,
             "#de77ae"
            ],
            [
             0.3,
             "#f1b6da"
            ],
            [
             0.4,
             "#fde0ef"
            ],
            [
             0.5,
             "#f7f7f7"
            ],
            [
             0.6,
             "#e6f5d0"
            ],
            [
             0.7,
             "#b8e186"
            ],
            [
             0.8,
             "#7fbc41"
            ],
            [
             0.9,
             "#4d9221"
            ],
            [
             1,
             "#276419"
            ]
           ],
           "sequential": [
            [
             0,
             "#0d0887"
            ],
            [
             0.1111111111111111,
             "#46039f"
            ],
            [
             0.2222222222222222,
             "#7201a8"
            ],
            [
             0.3333333333333333,
             "#9c179e"
            ],
            [
             0.4444444444444444,
             "#bd3786"
            ],
            [
             0.5555555555555556,
             "#d8576b"
            ],
            [
             0.6666666666666666,
             "#ed7953"
            ],
            [
             0.7777777777777778,
             "#fb9f3a"
            ],
            [
             0.8888888888888888,
             "#fdca26"
            ],
            [
             1,
             "#f0f921"
            ]
           ],
           "sequentialminus": [
            [
             0,
             "#0d0887"
            ],
            [
             0.1111111111111111,
             "#46039f"
            ],
            [
             0.2222222222222222,
             "#7201a8"
            ],
            [
             0.3333333333333333,
             "#9c179e"
            ],
            [
             0.4444444444444444,
             "#bd3786"
            ],
            [
             0.5555555555555556,
             "#d8576b"
            ],
            [
             0.6666666666666666,
             "#ed7953"
            ],
            [
             0.7777777777777778,
             "#fb9f3a"
            ],
            [
             0.8888888888888888,
             "#fdca26"
            ],
            [
             1,
             "#f0f921"
            ]
           ]
          },
          "colorway": [
           "#636efa",
           "#EF553B",
           "#00cc96",
           "#ab63fa",
           "#FFA15A",
           "#19d3f3",
           "#FF6692",
           "#B6E880",
           "#FF97FF",
           "#FECB52"
          ],
          "font": {
           "color": "#2a3f5f"
          },
          "geo": {
           "bgcolor": "white",
           "lakecolor": "white",
           "landcolor": "#E5ECF6",
           "showlakes": true,
           "showland": true,
           "subunitcolor": "white"
          },
          "hoverlabel": {
           "align": "left"
          },
          "hovermode": "closest",
          "mapbox": {
           "style": "light"
          },
          "paper_bgcolor": "white",
          "plot_bgcolor": "#E5ECF6",
          "polar": {
           "angularaxis": {
            "gridcolor": "white",
            "linecolor": "white",
            "ticks": ""
           },
           "bgcolor": "#E5ECF6",
           "radialaxis": {
            "gridcolor": "white",
            "linecolor": "white",
            "ticks": ""
           }
          },
          "scene": {
           "xaxis": {
            "backgroundcolor": "#E5ECF6",
            "gridcolor": "white",
            "gridwidth": 2,
            "linecolor": "white",
            "showbackground": true,
            "ticks": "",
            "zerolinecolor": "white"
           },
           "yaxis": {
            "backgroundcolor": "#E5ECF6",
            "gridcolor": "white",
            "gridwidth": 2,
            "linecolor": "white",
            "showbackground": true,
            "ticks": "",
            "zerolinecolor": "white"
           },
           "zaxis": {
            "backgroundcolor": "#E5ECF6",
            "gridcolor": "white",
            "gridwidth": 2,
            "linecolor": "white",
            "showbackground": true,
            "ticks": "",
            "zerolinecolor": "white"
           }
          },
          "shapedefaults": {
           "line": {
            "color": "#2a3f5f"
           }
          },
          "ternary": {
           "aaxis": {
            "gridcolor": "white",
            "linecolor": "white",
            "ticks": ""
           },
           "baxis": {
            "gridcolor": "white",
            "linecolor": "white",
            "ticks": ""
           },
           "bgcolor": "#E5ECF6",
           "caxis": {
            "gridcolor": "white",
            "linecolor": "white",
            "ticks": ""
           }
          },
          "title": {
           "x": 0.05
          },
          "xaxis": {
           "automargin": true,
           "gridcolor": "white",
           "linecolor": "white",
           "ticks": "",
           "title": {
            "standoff": 15
           },
           "zerolinecolor": "white",
           "zerolinewidth": 2
          },
          "yaxis": {
           "automargin": true,
           "gridcolor": "white",
           "linecolor": "white",
           "ticks": "",
           "title": {
            "standoff": 15
           },
           "zerolinecolor": "white",
           "zerolinewidth": 2
          }
         }
        },
        "xaxis": {
         "anchor": "y",
         "domain": [
          0,
          1
         ],
         "title": {
          "text": "CEO Pay Ratio"
         }
        },
        "yaxis": {
         "anchor": "x",
         "domain": [
          0,
          1
         ],
         "title": {
          "text": "CEO Pay"
         }
        }
       }
      },
      "text/html": [
       "<div>                            <div id=\"08d518da-e48c-4a7c-a8a4-5fd0f5fd1986\" class=\"plotly-graph-div\" style=\"height:525px; width:100%;\"></div>            <script type=\"text/javascript\">                require([\"plotly\"], function(Plotly) {                    window.PLOTLYENV=window.PLOTLYENV || {};                                    if (document.getElementById(\"08d518da-e48c-4a7c-a8a4-5fd0f5fd1986\")) {                    Plotly.newPlot(                        \"08d518da-e48c-4a7c-a8a4-5fd0f5fd1986\",                        [{\"hovertemplate\": \"GICS Sub-Industry=Advertising<br>CEO Pay Ratio=%{marker.size}<br>CEO Pay=%{y}<extra></extra>\", \"legendgroup\": \"Advertising\", \"marker\": {\"color\": \"#636efa\", \"size\": [450.0], \"sizemode\": \"area\", \"sizeref\": 12.628333333333332, \"symbol\": \"circle\"}, \"mode\": \"markers\", \"name\": \"Advertising\", \"orientation\": \"v\", \"showlegend\": true, \"type\": \"scatter\", \"x\": [450.0], \"xaxis\": \"x\", \"y\": [19818780.0], \"yaxis\": \"y\"}, {\"hovertemplate\": \"GICS Sub-Industry=Aerospace & Defense<br>CEO Pay Ratio=%{marker.size}<br>CEO Pay=%{y}<extra></extra>\", \"legendgroup\": \"Aerospace & Defense\", \"marker\": {\"color\": \"#EF553B\", \"size\": [215.33333333333334], \"sizemode\": \"area\", \"sizeref\": 12.628333333333332, \"symbol\": \"circle\"}, \"mode\": \"markers\", \"name\": \"Aerospace & Defense\", \"orientation\": \"v\", \"showlegend\": true, \"type\": \"scatter\", \"x\": [215.33333333333334], \"xaxis\": \"x\", \"y\": [19557494.0], \"yaxis\": \"y\"}, {\"hovertemplate\": \"GICS Sub-Industry=Agricultural & Farm Machinery<br>CEO Pay Ratio=%{marker.size}<br>CEO Pay=%{y}<extra></extra>\", \"legendgroup\": \"Agricultural & Farm Machinery\", \"marker\": {\"color\": \"#00cc96\", \"size\": [270.0], \"sizemode\": \"area\", \"sizeref\": 12.628333333333332, \"symbol\": \"circle\"}, \"mode\": \"markers\", \"name\": \"Agricultural & Farm Machinery\", \"orientation\": \"v\", \"showlegend\": true, \"type\": \"scatter\", \"x\": [270.0], \"xaxis\": \"x\", \"y\": [21697885.0], \"yaxis\": \"y\"}, {\"hovertemplate\": \"GICS Sub-Industry=Agricultural Products<br>CEO Pay Ratio=%{marker.size}<br>CEO Pay=%{y}<extra></extra>\", \"legendgroup\": \"Agricultural Products\", \"marker\": {\"color\": \"#ab63fa\", \"size\": [284.0], \"sizemode\": \"area\", \"sizeref\": 12.628333333333332, \"symbol\": \"circle\"}, \"mode\": \"markers\", \"name\": \"Agricultural Products\", \"orientation\": \"v\", \"showlegend\": true, \"type\": \"scatter\", \"x\": [284.0], \"xaxis\": \"x\", \"y\": [18174409.0], \"yaxis\": \"y\"}, {\"hovertemplate\": \"GICS Sub-Industry=Air Freight & Logistics<br>CEO Pay Ratio=%{marker.size}<br>CEO Pay=%{y}<extra></extra>\", \"legendgroup\": \"Air Freight & Logistics\", \"marker\": {\"color\": \"#FFA15A\", \"size\": [227.0], \"sizemode\": \"area\", \"sizeref\": 12.628333333333332, \"symbol\": \"circle\"}, \"mode\": \"markers\", \"name\": \"Air Freight & Logistics\", \"orientation\": \"v\", \"showlegend\": true, \"type\": \"scatter\", \"x\": [227.0], \"xaxis\": \"x\", \"y\": [14191193.666666666], \"yaxis\": \"y\"}, {\"hovertemplate\": \"GICS Sub-Industry=Airlines<br>CEO Pay Ratio=%{marker.size}<br>CEO Pay=%{y}<extra></extra>\", \"legendgroup\": \"Airlines\", \"marker\": {\"color\": \"#19d3f3\", \"size\": [137.8], \"sizemode\": \"area\", \"sizeref\": 12.628333333333332, \"symbol\": \"circle\"}, \"mode\": \"markers\", \"name\": \"Airlines\", \"orientation\": \"v\", \"showlegend\": true, \"type\": \"scatter\", \"x\": [137.8], \"xaxis\": \"x\", \"y\": [10959974.6], \"yaxis\": \"y\"}, {\"hovertemplate\": \"GICS Sub-Industry=Apparel Retail<br>CEO Pay Ratio=%{marker.size}<br>CEO Pay=%{y}<extra></extra>\", \"legendgroup\": \"Apparel Retail\", \"marker\": {\"color\": \"#FF6692\", \"size\": [751.0], \"sizemode\": \"area\", \"sizeref\": 12.628333333333332, \"symbol\": \"circle\"}, \"mode\": \"markers\", \"name\": \"Apparel Retail\", \"orientation\": \"v\", \"showlegend\": true, \"type\": \"scatter\", \"x\": [751.0], \"xaxis\": \"x\", \"y\": [8016107.5], \"yaxis\": \"y\"}, {\"hovertemplate\": \"GICS Sub-Industry=Apparel, Accessories & Luxury Goods<br>CEO Pay Ratio=%{marker.size}<br>CEO Pay=%{y}<extra></extra>\", \"legendgroup\": \"Apparel, Accessories & Luxury Goods\", \"marker\": {\"color\": \"#B6E880\", \"size\": [647.3333333333334], \"sizemode\": \"area\", \"sizeref\": 12.628333333333332, \"symbol\": \"circle\"}, \"mode\": \"markers\", \"name\": \"Apparel, Accessories & Luxury Goods\", \"orientation\": \"v\", \"showlegend\": true, \"type\": \"scatter\", \"x\": [647.3333333333334], \"xaxis\": \"x\", \"y\": [9295914.0], \"yaxis\": \"y\"}, {\"hovertemplate\": \"GICS Sub-Industry=Application Software<br>CEO Pay Ratio=%{marker.size}<br>CEO Pay=%{y}<extra></extra>\", \"legendgroup\": \"Application Software\", \"marker\": {\"color\": \"#FF97FF\", \"size\": [153.25], \"sizemode\": \"area\", \"sizeref\": 12.628333333333332, \"symbol\": \"circle\"}, \"mode\": \"markers\", \"name\": \"Application Software\", \"orientation\": \"v\", \"showlegend\": true, \"type\": \"scatter\", \"x\": [153.25], \"xaxis\": \"x\", \"y\": [18429876.375], \"yaxis\": \"y\"}, {\"hovertemplate\": \"GICS Sub-Industry=Asset Management & Custody Banks<br>CEO Pay Ratio=%{marker.size}<br>CEO Pay=%{y}<extra></extra>\", \"legendgroup\": \"Asset Management & Custody Banks\", \"marker\": {\"color\": \"#FECB52\", \"size\": [135.83333333333334], \"sizemode\": \"area\", \"sizeref\": 12.628333333333332, \"symbol\": \"circle\"}, \"mode\": \"markers\", \"name\": \"Asset Management & Custody Banks\", \"orientation\": \"v\", \"showlegend\": true, \"type\": \"scatter\", \"x\": [135.83333333333334], \"xaxis\": \"x\", \"y\": [12363275.0], \"yaxis\": \"y\"}, {\"hovertemplate\": \"GICS Sub-Industry=Auto Parts & Equipment<br>CEO Pay Ratio=%{marker.size}<br>CEO Pay=%{y}<extra></extra>\", \"legendgroup\": \"Auto Parts & Equipment\", \"marker\": {\"color\": \"#636efa\", \"size\": [1195.5], \"sizemode\": \"area\", \"sizeref\": 12.628333333333332, \"symbol\": \"circle\"}, \"mode\": \"markers\", \"name\": \"Auto Parts & Equipment\", \"orientation\": \"v\", \"showlegend\": true, \"type\": \"scatter\", \"x\": [1195.5], \"xaxis\": \"x\", \"y\": [14555781.0], \"yaxis\": \"y\"}, {\"hovertemplate\": \"GICS Sub-Industry=Automobile Manufacturers<br>CEO Pay Ratio=%{marker.size}<br>CEO Pay=%{y}<extra></extra>\", \"legendgroup\": \"Automobile Manufacturers\", \"marker\": {\"color\": \"#EF553B\", \"size\": [239.5], \"sizemode\": \"area\", \"sizeref\": 12.628333333333332, \"symbol\": \"circle\"}, \"mode\": \"markers\", \"name\": \"Automobile Manufacturers\", \"orientation\": \"v\", \"showlegend\": true, \"type\": \"scatter\", \"x\": [239.5], \"xaxis\": \"x\", \"y\": [19691851.0], \"yaxis\": \"y\"}, {\"hovertemplate\": \"GICS Sub-Industry=Automotive Retail<br>CEO Pay Ratio=%{marker.size}<br>CEO Pay=%{y}<extra></extra>\", \"legendgroup\": \"Automotive Retail\", \"marker\": {\"color\": \"#00cc96\", \"size\": [395.0], \"sizemode\": \"area\", \"sizeref\": 12.628333333333332, \"symbol\": \"circle\"}, \"mode\": \"markers\", \"name\": \"Automotive Retail\", \"orientation\": \"v\", \"showlegend\": true, \"type\": \"scatter\", \"x\": [395.0], \"xaxis\": \"x\", \"y\": [7691513.0], \"yaxis\": \"y\"}, {\"hovertemplate\": \"GICS Sub-Industry=Biotechnology<br>CEO Pay Ratio=%{marker.size}<br>CEO Pay=%{y}<extra></extra>\", \"legendgroup\": \"Biotechnology\", \"marker\": {\"color\": \"#ab63fa\", \"size\": [113.42857142857143], \"sizemode\": \"area\", \"sizeref\": 12.628333333333332, \"symbol\": \"circle\"}, \"mode\": \"markers\", \"name\": \"Biotechnology\", \"orientation\": \"v\", \"showlegend\": true, \"type\": \"scatter\", \"x\": [113.42857142857143], \"xaxis\": \"x\", \"y\": [19181210.14285714], \"yaxis\": \"y\"}, {\"hovertemplate\": \"GICS Sub-Industry=Broadcasting<br>CEO Pay Ratio=%{marker.size}<br>CEO Pay=%{y}<extra></extra>\", \"legendgroup\": \"Broadcasting\", \"marker\": {\"color\": \"#FFA15A\", \"size\": [578.0], \"sizemode\": \"area\", \"sizeref\": 12.628333333333332, \"symbol\": \"circle\"}, \"mode\": \"markers\", \"name\": \"Broadcasting\", \"orientation\": \"v\", \"showlegend\": true, \"type\": \"scatter\", \"x\": [578.0], \"xaxis\": \"x\", \"y\": [45843912.0], \"yaxis\": \"y\"}, {\"hovertemplate\": \"GICS Sub-Industry=Building Products<br>CEO Pay Ratio=%{marker.size}<br>CEO Pay=%{y}<extra></extra>\", \"legendgroup\": \"Building Products\", \"marker\": {\"color\": \"#19d3f3\", \"size\": [195.4], \"sizemode\": \"area\", \"sizeref\": 12.628333333333332, \"symbol\": \"circle\"}, \"mode\": \"markers\", \"name\": \"Building Products\", \"orientation\": \"v\", \"showlegend\": true, \"type\": \"scatter\", \"x\": [195.4], \"xaxis\": \"x\", \"y\": [8835322.2], \"yaxis\": \"y\"}, {\"hovertemplate\": \"GICS Sub-Industry=Cable & Satellite<br>CEO Pay Ratio=%{marker.size}<br>CEO Pay=%{y}<extra></extra>\", \"legendgroup\": \"Cable & Satellite\", \"marker\": {\"color\": \"#FF6692\", \"size\": [222.0], \"sizemode\": \"area\", \"sizeref\": 12.628333333333332, \"symbol\": \"circle\"}, \"mode\": \"markers\", \"name\": \"Cable & Satellite\", \"orientation\": \"v\", \"showlegend\": true, \"type\": \"scatter\", \"x\": [222.0], \"xaxis\": \"x\", \"y\": [18024024.5], \"yaxis\": \"y\"}, {\"hovertemplate\": \"GICS Sub-Industry=Casinos & Gaming<br>CEO Pay Ratio=%{marker.size}<br>CEO Pay=%{y}<extra></extra>\", \"legendgroup\": \"Casinos & Gaming\", \"marker\": {\"color\": \"#B6E880\", \"size\": [442.0], \"sizemode\": \"area\", \"sizeref\": 12.628333333333332, \"symbol\": \"circle\"}, \"mode\": \"markers\", \"name\": \"Casinos & Gaming\", \"orientation\": \"v\", \"showlegend\": true, \"type\": \"scatter\", \"x\": [442.0], \"xaxis\": \"x\", \"y\": [18252133.0], \"yaxis\": \"y\"}, {\"hovertemplate\": \"GICS Sub-Industry=Commodity Chemicals<br>CEO Pay Ratio=%{marker.size}<br>CEO Pay=%{y}<extra></extra>\", \"legendgroup\": \"Commodity Chemicals\", \"marker\": {\"color\": \"#FF97FF\", \"size\": [145.0], \"sizemode\": \"area\", \"sizeref\": 12.628333333333332, \"symbol\": \"circle\"}, \"mode\": \"markers\", \"name\": \"Commodity Chemicals\", \"orientation\": \"v\", \"showlegend\": true, \"type\": \"scatter\", \"x\": [145.0], \"xaxis\": \"x\", \"y\": [15878639.0], \"yaxis\": \"y\"}, {\"hovertemplate\": \"GICS Sub-Industry=Communications Equipment<br>CEO Pay Ratio=%{marker.size}<br>CEO Pay=%{y}<extra></extra>\", \"legendgroup\": \"Communications Equipment\", \"marker\": {\"color\": \"#FECB52\", \"size\": [116.4], \"sizemode\": \"area\", \"sizeref\": 12.628333333333332, \"symbol\": \"circle\"}, \"mode\": \"markers\", \"name\": \"Communications Equipment\", \"orientation\": \"v\", \"showlegend\": true, \"type\": \"scatter\", \"x\": [116.4], \"xaxis\": \"x\", \"y\": [14287468.2], \"yaxis\": \"y\"}, {\"hovertemplate\": \"GICS Sub-Industry=Computer & Electronics Retail<br>CEO Pay Ratio=%{marker.size}<br>CEO Pay=%{y}<extra></extra>\", \"legendgroup\": \"Computer & Electronics Retail\", \"marker\": {\"color\": \"#636efa\", \"size\": [610.0], \"sizemode\": \"area\", \"sizeref\": 12.628333333333332, \"symbol\": \"circle\"}, \"mode\": \"markers\", \"name\": \"Computer & Electronics Retail\", \"orientation\": \"v\", \"showlegend\": true, \"type\": \"scatter\", \"x\": [610.0], \"xaxis\": \"x\", \"y\": [17382486.0], \"yaxis\": \"y\"}, {\"hovertemplate\": \"GICS Sub-Industry=Construction & Engineering<br>CEO Pay Ratio=%{marker.size}<br>CEO Pay=%{y}<extra></extra>\", \"legendgroup\": \"Construction & Engineering\", \"marker\": {\"color\": \"#EF553B\", \"size\": [142.0], \"sizemode\": \"area\", \"sizeref\": 12.628333333333332, \"symbol\": \"circle\"}, \"mode\": \"markers\", \"name\": \"Construction & Engineering\", \"orientation\": \"v\", \"showlegend\": true, \"type\": \"scatter\", \"x\": [142.0], \"xaxis\": \"x\", \"y\": [11717729.0], \"yaxis\": \"y\"}, {\"hovertemplate\": \"GICS Sub-Industry=Construction Machinery & Heavy Trucks<br>CEO Pay Ratio=%{marker.size}<br>CEO Pay=%{y}<extra></extra>\", \"legendgroup\": \"Construction Machinery & Heavy Trucks\", \"marker\": {\"color\": \"#00cc96\", \"size\": [530.0], \"sizemode\": \"area\", \"sizeref\": 12.628333333333332, \"symbol\": \"circle\"}, \"mode\": \"markers\", \"name\": \"Construction Machinery & Heavy Trucks\", \"orientation\": \"v\", \"showlegend\": true, \"type\": \"scatter\", \"x\": [530.0], \"xaxis\": \"x\", \"y\": [34519129.0], \"yaxis\": \"y\"}, {\"hovertemplate\": \"GICS Sub-Industry=Construction Materials<br>CEO Pay Ratio=%{marker.size}<br>CEO Pay=%{y}<extra></extra>\", \"legendgroup\": \"Construction Materials\", \"marker\": {\"color\": \"#ab63fa\", \"size\": [116.0], \"sizemode\": \"area\", \"sizeref\": 12.628333333333332, \"symbol\": \"circle\"}, \"mode\": \"markers\", \"name\": \"Construction Materials\", \"orientation\": \"v\", \"showlegend\": true, \"type\": \"scatter\", \"x\": [116.0], \"xaxis\": \"x\", \"y\": [9053993.0], \"yaxis\": \"y\"}, {\"hovertemplate\": \"GICS Sub-Industry=Consumer Electronics<br>CEO Pay Ratio=%{marker.size}<br>CEO Pay=%{y}<extra></extra>\", \"legendgroup\": \"Consumer Electronics\", \"marker\": {\"color\": \"#FFA15A\", \"size\": [92.0], \"sizemode\": \"area\", \"sizeref\": 12.628333333333332, \"symbol\": \"circle\"}, \"mode\": \"markers\", \"name\": \"Consumer Electronics\", \"orientation\": \"v\", \"showlegend\": true, \"type\": \"scatter\", \"x\": [92.0], \"xaxis\": \"x\", \"y\": [3233412.0], \"yaxis\": \"y\"}, {\"hovertemplate\": \"GICS Sub-Industry=Consumer Finance<br>CEO Pay Ratio=%{marker.size}<br>CEO Pay=%{y}<extra></extra>\", \"legendgroup\": \"Consumer Finance\", \"marker\": {\"color\": \"#19d3f3\", \"size\": [249.0], \"sizemode\": \"area\", \"sizeref\": 12.628333333333332, \"symbol\": \"circle\"}, \"mode\": \"markers\", \"name\": \"Consumer Finance\", \"orientation\": \"v\", \"showlegend\": true, \"type\": \"scatter\", \"x\": [249.0], \"xaxis\": \"x\", \"y\": [14560992.333333334], \"yaxis\": \"y\"}, {\"hovertemplate\": \"GICS Sub-Industry=Copper<br>CEO Pay Ratio=%{marker.size}<br>CEO Pay=%{y}<extra></extra>\", \"legendgroup\": \"Copper\", \"marker\": {\"color\": \"#FF6692\", \"size\": [207.0], \"sizemode\": \"area\", \"sizeref\": 12.628333333333332, \"symbol\": \"circle\"}, \"mode\": \"markers\", \"name\": \"Copper\", \"orientation\": \"v\", \"showlegend\": true, \"type\": \"scatter\", \"x\": [207.0], \"xaxis\": \"x\", \"y\": [15742249.0], \"yaxis\": \"y\"}, {\"hovertemplate\": \"GICS Sub-Industry=Data Processing & Outsourced Services<br>CEO Pay Ratio=%{marker.size}<br>CEO Pay=%{y}<extra></extra>\", \"legendgroup\": \"Data Processing & Outsourced Services\", \"marker\": {\"color\": \"#B6E880\", \"size\": [258.7142857142857], \"sizemode\": \"area\", \"sizeref\": 12.628333333333332, \"symbol\": \"circle\"}, \"mode\": \"markers\", \"name\": \"Data Processing & Outsourced Services\", \"orientation\": \"v\", \"showlegend\": true, \"type\": \"scatter\", \"x\": [258.7142857142857], \"xaxis\": \"x\", \"y\": [17368143.57142857], \"yaxis\": \"y\"}, {\"hovertemplate\": \"GICS Sub-Industry=Distillers & Vintners<br>CEO Pay Ratio=%{marker.size}<br>CEO Pay=%{y}<extra></extra>\", \"legendgroup\": \"Distillers & Vintners\", \"marker\": {\"color\": \"#FF97FF\", \"size\": [149.5], \"sizemode\": \"area\", \"sizeref\": 12.628333333333332, \"symbol\": \"circle\"}, \"mode\": \"markers\", \"name\": \"Distillers & Vintners\", \"orientation\": \"v\", \"showlegend\": true, \"type\": \"scatter\", \"x\": [149.5], \"xaxis\": \"x\", \"y\": [8254592.5], \"yaxis\": \"y\"}, {\"hovertemplate\": \"GICS Sub-Industry=Distributors<br>CEO Pay Ratio=%{marker.size}<br>CEO Pay=%{y}<extra></extra>\", \"legendgroup\": \"Distributors\", \"marker\": {\"color\": \"#FECB52\", \"size\": [140.5], \"sizemode\": \"area\", \"sizeref\": 12.628333333333332, \"symbol\": \"circle\"}, \"mode\": \"markers\", \"name\": \"Distributors\", \"orientation\": \"v\", \"showlegend\": true, \"type\": \"scatter\", \"x\": [140.5], \"xaxis\": \"x\", \"y\": [4859646.0], \"yaxis\": \"y\"}, {\"hovertemplate\": \"GICS Sub-Industry=Diversified Banks<br>CEO Pay Ratio=%{marker.size}<br>CEO Pay=%{y}<extra></extra>\", \"legendgroup\": \"Diversified Banks\", \"marker\": {\"color\": \"#636efa\", \"size\": [327.25], \"sizemode\": \"area\", \"sizeref\": 12.628333333333332, \"symbol\": \"circle\"}, \"mode\": \"markers\", \"name\": \"Diversified Banks\", \"orientation\": \"v\", \"showlegend\": true, \"type\": \"scatter\", \"x\": [327.25], \"xaxis\": \"x\", \"y\": [24061005.5], \"yaxis\": \"y\"}, {\"hovertemplate\": \"GICS Sub-Industry=Diversified Chemicals<br>CEO Pay Ratio=%{marker.size}<br>CEO Pay=%{y}<extra></extra>\", \"legendgroup\": \"Diversified Chemicals\", \"marker\": {\"color\": \"#EF553B\", \"size\": [178.0], \"sizemode\": \"area\", \"sizeref\": 12.628333333333332, \"symbol\": \"circle\"}, \"mode\": \"markers\", \"name\": \"Diversified Chemicals\", \"orientation\": \"v\", \"showlegend\": true, \"type\": \"scatter\", \"x\": [178.0], \"xaxis\": \"x\", \"y\": [14556133.0], \"yaxis\": \"y\"}, {\"hovertemplate\": \"GICS Sub-Industry=Diversified Support Services<br>CEO Pay Ratio=%{marker.size}<br>CEO Pay=%{y}<extra></extra>\", \"legendgroup\": \"Diversified Support Services\", \"marker\": {\"color\": \"#00cc96\", \"size\": [62.0], \"sizemode\": \"area\", \"sizeref\": 12.628333333333332, \"symbol\": \"circle\"}, \"mode\": \"markers\", \"name\": \"Diversified Support Services\", \"orientation\": \"v\", \"showlegend\": true, \"type\": \"scatter\", \"x\": [62.0], \"xaxis\": \"x\", \"y\": [3427417.5], \"yaxis\": \"y\"}, {\"hovertemplate\": \"GICS Sub-Industry=Drug Retail<br>CEO Pay Ratio=%{marker.size}<br>CEO Pay=%{y}<extra></extra>\", \"legendgroup\": \"Drug Retail\", \"marker\": {\"color\": \"#ab63fa\", \"size\": [562.0], \"sizemode\": \"area\", \"sizeref\": 12.628333333333332, \"symbol\": \"circle\"}, \"mode\": \"markers\", \"name\": \"Drug Retail\", \"orientation\": \"v\", \"showlegend\": true, \"type\": \"scatter\", \"x\": [562.0], \"xaxis\": \"x\", \"y\": [19156202.0], \"yaxis\": \"y\"}, {\"hovertemplate\": \"GICS Sub-Industry=Electric Utilities<br>CEO Pay Ratio=%{marker.size}<br>CEO Pay=%{y}<extra></extra>\", \"legendgroup\": \"Electric Utilities\", \"marker\": {\"color\": \"#FFA15A\", \"size\": [91.63636363636364], \"sizemode\": \"area\", \"sizeref\": 12.628333333333332, \"symbol\": \"circle\"}, \"mode\": \"markers\", \"name\": \"Electric Utilities\", \"orientation\": \"v\", \"showlegend\": true, \"type\": \"scatter\", \"x\": [91.63636363636364], \"xaxis\": \"x\", \"y\": [12830433.454545455], \"yaxis\": \"y\"}, {\"hovertemplate\": \"GICS Sub-Industry=Electrical Components & Equipment<br>CEO Pay Ratio=%{marker.size}<br>CEO Pay=%{y}<extra></extra>\", \"legendgroup\": \"Electrical Components & Equipment\", \"marker\": {\"color\": \"#19d3f3\", \"size\": [297.3333333333333], \"sizemode\": \"area\", \"sizeref\": 12.628333333333332, \"symbol\": \"circle\"}, \"mode\": \"markers\", \"name\": \"Electrical Components & Equipment\", \"orientation\": \"v\", \"showlegend\": true, \"type\": \"scatter\", \"x\": [297.3333333333333], \"xaxis\": \"x\", \"y\": [16822437.0], \"yaxis\": \"y\"}, {\"hovertemplate\": \"GICS Sub-Industry=Electronic Components<br>CEO Pay Ratio=%{marker.size}<br>CEO Pay=%{y}<extra></extra>\", \"legendgroup\": \"Electronic Components\", \"marker\": {\"color\": \"#FF6692\", \"size\": [528.5], \"sizemode\": \"area\", \"sizeref\": 12.628333333333332, \"symbol\": \"circle\"}, \"mode\": \"markers\", \"name\": \"Electronic Components\", \"orientation\": \"v\", \"showlegend\": true, \"type\": \"scatter\", \"x\": [528.5], \"xaxis\": \"x\", \"y\": [12197007.0], \"yaxis\": \"y\"}, {\"hovertemplate\": \"GICS Sub-Industry=Electronic Equipment & Instruments<br>CEO Pay Ratio=%{marker.size}<br>CEO Pay=%{y}<extra></extra>\", \"legendgroup\": \"Electronic Equipment & Instruments\", \"marker\": {\"color\": \"#B6E880\", \"size\": [101.5], \"sizemode\": \"area\", \"sizeref\": 12.628333333333332, \"symbol\": \"circle\"}, \"mode\": \"markers\", \"name\": \"Electronic Equipment & Instruments\", \"orientation\": \"v\", \"showlegend\": true, \"type\": \"scatter\", \"x\": [101.5], \"xaxis\": \"x\", \"y\": [8308316.0], \"yaxis\": \"y\"}, {\"hovertemplate\": \"GICS Sub-Industry=Electronic Manufacturing Services<br>CEO Pay Ratio=%{marker.size}<br>CEO Pay=%{y}<extra></extra>\", \"legendgroup\": \"Electronic Manufacturing Services\", \"marker\": {\"color\": \"#FF97FF\", \"size\": [243.0], \"sizemode\": \"area\", \"sizeref\": 12.628333333333332, \"symbol\": \"circle\"}, \"mode\": \"markers\", \"name\": \"Electronic Manufacturing Services\", \"orientation\": \"v\", \"showlegend\": true, \"type\": \"scatter\", \"x\": [243.0], \"xaxis\": \"x\", \"y\": [5271910.0], \"yaxis\": \"y\"}, {\"hovertemplate\": \"GICS Sub-Industry=Environmental & Facilities Services<br>CEO Pay Ratio=%{marker.size}<br>CEO Pay=%{y}<extra></extra>\", \"legendgroup\": \"Environmental & Facilities Services\", \"marker\": {\"color\": \"#FECB52\", \"size\": [147.0], \"sizemode\": \"area\", \"sizeref\": 12.628333333333332, \"symbol\": \"circle\"}, \"mode\": \"markers\", \"name\": \"Environmental & Facilities Services\", \"orientation\": \"v\", \"showlegend\": true, \"type\": \"scatter\", \"x\": [147.0], \"xaxis\": \"x\", \"y\": [9565416.333333334], \"yaxis\": \"y\"}, {\"hovertemplate\": \"GICS Sub-Industry=Fertilizers & Agricultural Chemicals<br>CEO Pay Ratio=%{marker.size}<br>CEO Pay=%{y}<extra></extra>\", \"legendgroup\": \"Fertilizers & Agricultural Chemicals\", \"marker\": {\"color\": \"#636efa\", \"size\": [146.0], \"sizemode\": \"area\", \"sizeref\": 12.628333333333332, \"symbol\": \"circle\"}, \"mode\": \"markers\", \"name\": \"Fertilizers & Agricultural Chemicals\", \"orientation\": \"v\", \"showlegend\": true, \"type\": \"scatter\", \"x\": [146.0], \"xaxis\": \"x\", \"y\": [10217203.333333334], \"yaxis\": \"y\"}, {\"hovertemplate\": \"GICS Sub-Industry=Financial Exchanges & Data<br>CEO Pay Ratio=%{marker.size}<br>CEO Pay=%{y}<extra></extra>\", \"legendgroup\": \"Financial Exchanges & Data\", \"marker\": {\"color\": \"#EF553B\", \"size\": [158.57142857142858], \"sizemode\": \"area\", \"sizeref\": 12.628333333333332, \"symbol\": \"circle\"}, \"mode\": \"markers\", \"name\": \"Financial Exchanges & Data\", \"orientation\": \"v\", \"showlegend\": true, \"type\": \"scatter\", \"x\": [158.57142857142858], \"xaxis\": \"x\", \"y\": [11946079.57142857], \"yaxis\": \"y\"}, {\"hovertemplate\": \"GICS Sub-Industry=Food Distributors<br>CEO Pay Ratio=%{marker.size}<br>CEO Pay=%{y}<extra></extra>\", \"legendgroup\": \"Food Distributors\", \"marker\": {\"color\": \"#00cc96\", \"size\": [152.0], \"sizemode\": \"area\", \"sizeref\": 12.628333333333332, \"symbol\": \"circle\"}, \"mode\": \"markers\", \"name\": \"Food Distributors\", \"orientation\": \"v\", \"showlegend\": true, \"type\": \"scatter\", \"x\": [152.0], \"xaxis\": \"x\", \"y\": [10742679.0], \"yaxis\": \"y\"}, {\"hovertemplate\": \"GICS Sub-Industry=Food Retail<br>CEO Pay Ratio=%{marker.size}<br>CEO Pay=%{y}<extra></extra>\", \"legendgroup\": \"Food Retail\", \"marker\": {\"color\": \"#ab63fa\", \"size\": [483.0], \"sizemode\": \"area\", \"sizeref\": 12.628333333333332, \"symbol\": \"circle\"}, \"mode\": \"markers\", \"name\": \"Food Retail\", \"orientation\": \"v\", \"showlegend\": true, \"type\": \"scatter\", \"x\": [483.0], \"xaxis\": \"x\", \"y\": [12037872.0], \"yaxis\": \"y\"}, {\"hovertemplate\": \"GICS Sub-Industry=Gas Utilities<br>CEO Pay Ratio=%{marker.size}<br>CEO Pay=%{y}<extra></extra>\", \"legendgroup\": \"Gas Utilities\", \"marker\": {\"color\": \"#FFA15A\", \"size\": [123.0], \"sizemode\": \"area\", \"sizeref\": 12.628333333333332, \"symbol\": \"circle\"}, \"mode\": \"markers\", \"name\": \"Gas Utilities\", \"orientation\": \"v\", \"showlegend\": true, \"type\": \"scatter\", \"x\": [123.0], \"xaxis\": \"x\", \"y\": [10395993.0], \"yaxis\": \"y\"}, {\"hovertemplate\": \"GICS Sub-Industry=General Merchandise Stores<br>CEO Pay Ratio=%{marker.size}<br>CEO Pay=%{y}<extra></extra>\", \"legendgroup\": \"General Merchandise Stores\", \"marker\": {\"color\": \"#19d3f3\", \"size\": [778.3333333333334], \"sizemode\": \"area\", \"sizeref\": 12.628333333333332, \"symbol\": \"circle\"}, \"mode\": \"markers\", \"name\": \"General Merchandise Stores\", \"orientation\": \"v\", \"showlegend\": true, \"type\": \"scatter\", \"x\": [778.3333333333334], \"xaxis\": \"x\", \"y\": [13850347.666666666], \"yaxis\": \"y\"}, {\"hovertemplate\": \"GICS Sub-Industry=Health Care Distributors<br>CEO Pay Ratio=%{marker.size}<br>CEO Pay=%{y}<extra></extra>\", \"legendgroup\": \"Health Care Distributors\", \"marker\": {\"color\": \"#FF6692\", \"size\": [223.5], \"sizemode\": \"area\", \"sizeref\": 12.628333333333332, \"symbol\": \"circle\"}, \"mode\": \"markers\", \"name\": \"Health Care Distributors\", \"orientation\": \"v\", \"showlegend\": true, \"type\": \"scatter\", \"x\": [223.5], \"xaxis\": \"x\", \"y\": [14069992.333333334], \"yaxis\": \"y\"}, {\"hovertemplate\": \"GICS Sub-Industry=Health Care Equipment<br>CEO Pay Ratio=%{marker.size}<br>CEO Pay=%{y}<extra></extra>\", \"legendgroup\": \"Health Care Equipment\", \"marker\": {\"color\": \"#B6E880\", \"size\": [192.88235294117646], \"sizemode\": \"area\", \"sizeref\": 12.628333333333332, \"symbol\": \"circle\"}, \"mode\": \"markers\", \"name\": \"Health Care Equipment\", \"orientation\": \"v\", \"showlegend\": true, \"type\": \"scatter\", \"x\": [192.88235294117646], \"xaxis\": \"x\", \"y\": [12488449.88235294], \"yaxis\": \"y\"}, {\"hovertemplate\": \"GICS Sub-Industry=Health Care Facilities<br>CEO Pay Ratio=%{marker.size}<br>CEO Pay=%{y}<extra></extra>\", \"legendgroup\": \"Health Care Facilities\", \"marker\": {\"color\": \"#FF97FF\", \"size\": [502.0], \"sizemode\": \"area\", \"sizeref\": 12.628333333333332, \"symbol\": \"circle\"}, \"mode\": \"markers\", \"name\": \"Health Care Facilities\", \"orientation\": \"v\", \"showlegend\": true, \"type\": \"scatter\", \"x\": [502.0], \"xaxis\": \"x\", \"y\": [29409713.0], \"yaxis\": \"y\"}, {\"hovertemplate\": \"GICS Sub-Industry=Health Care REITs<br>CEO Pay Ratio=%{marker.size}<br>CEO Pay=%{y}<extra></extra>\", \"legendgroup\": \"Health Care REITs\", \"marker\": {\"color\": \"#FECB52\", \"size\": [128.5], \"sizemode\": \"area\", \"sizeref\": 12.628333333333332, \"symbol\": \"circle\"}, \"mode\": \"markers\", \"name\": \"Health Care REITs\", \"orientation\": \"v\", \"showlegend\": true, \"type\": \"scatter\", \"x\": [128.5], \"xaxis\": \"x\", \"y\": [12245229.5], \"yaxis\": \"y\"}, {\"hovertemplate\": \"GICS Sub-Industry=Health Care Services<br>CEO Pay Ratio=%{marker.size}<br>CEO Pay=%{y}<extra></extra>\", \"legendgroup\": \"Health Care Services\", \"marker\": {\"color\": \"#636efa\", \"size\": [415.5], \"sizemode\": \"area\", \"sizeref\": 12.628333333333332, \"symbol\": \"circle\"}, \"mode\": \"markers\", \"name\": \"Health Care Services\", \"orientation\": \"v\", \"showlegend\": true, \"type\": \"scatter\", \"x\": [415.5], \"xaxis\": \"x\", \"y\": [15960002.0], \"yaxis\": \"y\"}, {\"hovertemplate\": \"GICS Sub-Industry=Health Care Supplies<br>CEO Pay Ratio=%{marker.size}<br>CEO Pay=%{y}<extra></extra>\", \"legendgroup\": \"Health Care Supplies\", \"marker\": {\"color\": \"#EF553B\", \"size\": [775.5], \"sizemode\": \"area\", \"sizeref\": 12.628333333333332, \"symbol\": \"circle\"}, \"mode\": \"markers\", \"name\": \"Health Care Supplies\", \"orientation\": \"v\", \"showlegend\": true, \"type\": \"scatter\", \"x\": [775.5], \"xaxis\": \"x\", \"y\": [14817691.0], \"yaxis\": \"y\"}, {\"hovertemplate\": \"GICS Sub-Industry=Health Care Technology<br>CEO Pay Ratio=%{marker.size}<br>CEO Pay=%{y}<extra></extra>\", \"legendgroup\": \"Health Care Technology\", \"marker\": {\"color\": \"#00cc96\", \"size\": [151.0], \"sizemode\": \"area\", \"sizeref\": 12.628333333333332, \"symbol\": \"circle\"}, \"mode\": \"markers\", \"name\": \"Health Care Technology\", \"orientation\": \"v\", \"showlegend\": true, \"type\": \"scatter\", \"x\": [151.0], \"xaxis\": \"x\", \"y\": [9798716.0], \"yaxis\": \"y\"}, {\"hovertemplate\": \"GICS Sub-Industry=Home Furnishings<br>CEO Pay Ratio=%{marker.size}<br>CEO Pay=%{y}<extra></extra>\", \"legendgroup\": \"Home Furnishings\", \"marker\": {\"color\": \"#ab63fa\", \"size\": [195.5], \"sizemode\": \"area\", \"sizeref\": 12.628333333333332, \"symbol\": \"circle\"}, \"mode\": \"markers\", \"name\": \"Home Furnishings\", \"orientation\": \"v\", \"showlegend\": true, \"type\": \"scatter\", \"x\": [195.5], \"xaxis\": \"x\", \"y\": [7417913.5], \"yaxis\": \"y\"}, {\"hovertemplate\": \"GICS Sub-Industry=Home Improvement Retail<br>CEO Pay Ratio=%{marker.size}<br>CEO Pay=%{y}<extra></extra>\", \"legendgroup\": \"Home Improvement Retail\", \"marker\": {\"color\": \"#FFA15A\", \"size\": [496.0], \"sizemode\": \"area\", \"sizeref\": 12.628333333333332, \"symbol\": \"circle\"}, \"mode\": \"markers\", \"name\": \"Home Improvement Retail\", \"orientation\": \"v\", \"showlegend\": true, \"type\": \"scatter\", \"x\": [496.0], \"xaxis\": \"x\", \"y\": [11255601.0], \"yaxis\": \"y\"}, {\"hovertemplate\": \"GICS Sub-Industry=Homebuilding<br>CEO Pay Ratio=%{marker.size}<br>CEO Pay=%{y}<extra></extra>\", \"legendgroup\": \"Homebuilding\", \"marker\": {\"color\": \"#19d3f3\", \"size\": [122.5], \"sizemode\": \"area\", \"sizeref\": 12.628333333333332, \"symbol\": \"circle\"}, \"mode\": \"markers\", \"name\": \"Homebuilding\", \"orientation\": \"v\", \"showlegend\": true, \"type\": \"scatter\", \"x\": [122.5], \"xaxis\": \"x\", \"y\": [11465071.0], \"yaxis\": \"y\"}, {\"hovertemplate\": \"GICS Sub-Industry=Hotel & Resort REITs<br>CEO Pay Ratio=%{marker.size}<br>CEO Pay=%{y}<extra></extra>\", \"legendgroup\": \"Hotel & Resort REITs\", \"marker\": {\"color\": \"#FF6692\", \"size\": [48.0], \"sizemode\": \"area\", \"sizeref\": 12.628333333333332, \"symbol\": \"circle\"}, \"mode\": \"markers\", \"name\": \"Hotel & Resort REITs\", \"orientation\": \"v\", \"showlegend\": true, \"type\": \"scatter\", \"x\": [48.0], \"xaxis\": \"x\", \"y\": [9434465.0], \"yaxis\": \"y\"}, {\"hovertemplate\": \"GICS Sub-Industry=Hotels, Resorts & Cruise Lines<br>CEO Pay Ratio=%{marker.size}<br>CEO Pay=%{y}<extra></extra>\", \"legendgroup\": \"Hotels, Resorts & Cruise Lines\", \"marker\": {\"color\": \"#B6E880\", \"size\": [417.5], \"sizemode\": \"area\", \"sizeref\": 12.628333333333332, \"symbol\": \"circle\"}, \"mode\": \"markers\", \"name\": \"Hotels, Resorts & Cruise Lines\", \"orientation\": \"v\", \"showlegend\": true, \"type\": \"scatter\", \"x\": [417.5], \"xaxis\": \"x\", \"y\": [17411699.0], \"yaxis\": \"y\"}, {\"hovertemplate\": \"GICS Sub-Industry=Household Appliances<br>CEO Pay Ratio=%{marker.size}<br>CEO Pay=%{y}<extra></extra>\", \"legendgroup\": \"Household Appliances\", \"marker\": {\"color\": \"#FF97FF\", \"size\": [675.0], \"sizemode\": \"area\", \"sizeref\": 12.628333333333332, \"symbol\": \"circle\"}, \"mode\": \"markers\", \"name\": \"Household Appliances\", \"orientation\": \"v\", \"showlegend\": true, \"type\": \"scatter\", \"x\": [675.0], \"xaxis\": \"x\", \"y\": [14011663.0], \"yaxis\": \"y\"}, {\"hovertemplate\": \"GICS Sub-Industry=Household Products<br>CEO Pay Ratio=%{marker.size}<br>CEO Pay=%{y}<extra></extra>\", \"legendgroup\": \"Household Products\", \"marker\": {\"color\": \"#FECB52\", \"size\": [287.0], \"sizemode\": \"area\", \"sizeref\": 12.628333333333332, \"symbol\": \"circle\"}, \"mode\": \"markers\", \"name\": \"Household Products\", \"orientation\": \"v\", \"showlegend\": true, \"type\": \"scatter\", \"x\": [287.0], \"xaxis\": \"x\", \"y\": [10854856.666666666], \"yaxis\": \"y\"}, {\"hovertemplate\": \"GICS Sub-Industry=Housewares & Specialties<br>CEO Pay Ratio=%{marker.size}<br>CEO Pay=%{y}<extra></extra>\", \"legendgroup\": \"Housewares & Specialties\", \"marker\": {\"color\": \"#636efa\", \"size\": [272.0], \"sizemode\": \"area\", \"sizeref\": 12.628333333333332, \"symbol\": \"circle\"}, \"mode\": \"markers\", \"name\": \"Housewares & Specialties\", \"orientation\": \"v\", \"showlegend\": true, \"type\": \"scatter\", \"x\": [272.0], \"xaxis\": \"x\", \"y\": [8624805.0], \"yaxis\": \"y\"}, {\"hovertemplate\": \"GICS Sub-Industry=Hypermarkets & Super Centers<br>CEO Pay Ratio=%{marker.size}<br>CEO Pay=%{y}<extra></extra>\", \"legendgroup\": \"Hypermarkets & Super Centers\", \"marker\": {\"color\": \"#EF553B\", \"size\": [576.0], \"sizemode\": \"area\", \"sizeref\": 12.628333333333332, \"symbol\": \"circle\"}, \"mode\": \"markers\", \"name\": \"Hypermarkets & Super Centers\", \"orientation\": \"v\", \"showlegend\": true, \"type\": \"scatter\", \"x\": [576.0], \"xaxis\": \"x\", \"y\": [15060775.0], \"yaxis\": \"y\"}, {\"hovertemplate\": \"GICS Sub-Industry=IT Consulting & Other Services<br>CEO Pay Ratio=%{marker.size}<br>CEO Pay=%{y}<extra></extra>\", \"legendgroup\": \"IT Consulting & Other Services\", \"marker\": {\"color\": \"#00cc96\", \"size\": [295.0], \"sizemode\": \"area\", \"sizeref\": 12.628333333333332, \"symbol\": \"circle\"}, \"mode\": \"markers\", \"name\": \"IT Consulting & Other Services\", \"orientation\": \"v\", \"showlegend\": true, \"type\": \"scatter\", \"x\": [295.0], \"xaxis\": \"x\", \"y\": [14412811.5], \"yaxis\": \"y\"}, {\"hovertemplate\": \"GICS Sub-Industry=Independent Power Producers & Energy Traders<br>CEO Pay Ratio=%{marker.size}<br>CEO Pay=%{y}<extra></extra>\", \"legendgroup\": \"Independent Power Producers & Energy Traders\", \"marker\": {\"color\": \"#ab63fa\", \"size\": [80.0], \"sizemode\": \"area\", \"sizeref\": 12.628333333333332, \"symbol\": \"circle\"}, \"mode\": \"markers\", \"name\": \"Independent Power Producers & Energy Traders\", \"orientation\": \"v\", \"showlegend\": true, \"type\": \"scatter\", \"x\": [80.0], \"xaxis\": \"x\", \"y\": [9146053.0], \"yaxis\": \"y\"}, {\"hovertemplate\": \"GICS Sub-Industry=Industrial Conglomerates<br>CEO Pay Ratio=%{marker.size}<br>CEO Pay=%{y}<extra></extra>\", \"legendgroup\": \"Industrial Conglomerates\", \"marker\": {\"color\": \"#FFA15A\", \"size\": [377.6666666666667], \"sizemode\": \"area\", \"sizeref\": 12.628333333333332, \"symbol\": \"circle\"}, \"mode\": \"markers\", \"name\": \"Industrial Conglomerates\", \"orientation\": \"v\", \"showlegend\": true, \"type\": \"scatter\", \"x\": [377.6666666666667], \"xaxis\": \"x\", \"y\": [23976594.666666668], \"yaxis\": \"y\"}, {\"hovertemplate\": \"GICS Sub-Industry=Industrial Gases<br>CEO Pay Ratio=%{marker.size}<br>CEO Pay=%{y}<extra></extra>\", \"legendgroup\": \"Industrial Gases\", \"marker\": {\"color\": \"#19d3f3\", \"size\": [954.0], \"sizemode\": \"area\", \"sizeref\": 12.628333333333332, \"symbol\": \"circle\"}, \"mode\": \"markers\", \"name\": \"Industrial Gases\", \"orientation\": \"v\", \"showlegend\": true, \"type\": \"scatter\", \"x\": [954.0], \"xaxis\": \"x\", \"y\": [41590641.5], \"yaxis\": \"y\"}, {\"hovertemplate\": \"GICS Sub-Industry=Industrial Machinery<br>CEO Pay Ratio=%{marker.size}<br>CEO Pay=%{y}<extra></extra>\", \"legendgroup\": \"Industrial Machinery\", \"marker\": {\"color\": \"#FF6692\", \"size\": [247.25], \"sizemode\": \"area\", \"sizeref\": 12.628333333333332, \"symbol\": \"circle\"}, \"mode\": \"markers\", \"name\": \"Industrial Machinery\", \"orientation\": \"v\", \"showlegend\": true, \"type\": \"scatter\", \"x\": [247.25], \"xaxis\": \"x\", \"y\": [13850243.75], \"yaxis\": \"y\"}, {\"hovertemplate\": \"GICS Sub-Industry=Industrial REITs<br>CEO Pay Ratio=%{marker.size}<br>CEO Pay=%{y}<extra></extra>\", \"legendgroup\": \"Industrial REITs\", \"marker\": {\"color\": \"#B6E880\", \"size\": [156.5], \"sizemode\": \"area\", \"sizeref\": 12.628333333333332, \"symbol\": \"circle\"}, \"mode\": \"markers\", \"name\": \"Industrial REITs\", \"orientation\": \"v\", \"showlegend\": true, \"type\": \"scatter\", \"x\": [156.5], \"xaxis\": \"x\", \"y\": [18538671.0], \"yaxis\": \"y\"}, {\"hovertemplate\": \"GICS Sub-Industry=Insurance Brokers<br>CEO Pay Ratio=%{marker.size}<br>CEO Pay=%{y}<extra></extra>\", \"legendgroup\": \"Insurance Brokers\", \"marker\": {\"color\": \"#FF97FF\", \"size\": [219.33333333333334], \"sizemode\": \"area\", \"sizeref\": 12.628333333333332, \"symbol\": \"circle\"}, \"mode\": \"markers\", \"name\": \"Insurance Brokers\", \"orientation\": \"v\", \"showlegend\": true, \"type\": \"scatter\", \"x\": [219.33333333333334], \"xaxis\": \"x\", \"y\": [14611312.666666666], \"yaxis\": \"y\"}, {\"hovertemplate\": \"GICS Sub-Industry=Integrated Oil & Gas<br>CEO Pay Ratio=%{marker.size}<br>CEO Pay=%{y}<extra></extra>\", \"legendgroup\": \"Integrated Oil & Gas\", \"marker\": {\"color\": \"#FECB52\", \"size\": [147.0], \"sizemode\": \"area\", \"sizeref\": 12.628333333333332, \"symbol\": \"circle\"}, \"mode\": \"markers\", \"name\": \"Integrated Oil & Gas\", \"orientation\": \"v\", \"showlegend\": true, \"type\": \"scatter\", \"x\": [147.0], \"xaxis\": \"x\", \"y\": [23057464.666666668], \"yaxis\": \"y\"}, {\"hovertemplate\": \"GICS Sub-Industry=Integrated Telecommunication Services<br>CEO Pay Ratio=%{marker.size}<br>CEO Pay=%{y}<extra></extra>\", \"legendgroup\": \"Integrated Telecommunication Services\", \"marker\": {\"color\": \"#636efa\", \"size\": [215.0], \"sizemode\": \"area\", \"sizeref\": 12.628333333333332, \"symbol\": \"circle\"}, \"mode\": \"markers\", \"name\": \"Integrated Telecommunication Services\", \"orientation\": \"v\", \"showlegend\": true, \"type\": \"scatter\", \"x\": [215.0], \"xaxis\": \"x\", \"y\": [25072374.0], \"yaxis\": \"y\"}, {\"hovertemplate\": \"GICS Sub-Industry=Interactive Home Entertainment<br>CEO Pay Ratio=%{marker.size}<br>CEO Pay=%{y}<extra></extra>\", \"legendgroup\": \"Interactive Home Entertainment\", \"marker\": {\"color\": \"#EF553B\", \"size\": [268.5], \"sizemode\": \"area\", \"sizeref\": 12.628333333333332, \"symbol\": \"circle\"}, \"mode\": \"markers\", \"name\": \"Interactive Home Entertainment\", \"orientation\": \"v\", \"showlegend\": true, \"type\": \"scatter\", \"x\": [268.5], \"xaxis\": \"x\", \"y\": [25744323.5], \"yaxis\": \"y\"}, {\"hovertemplate\": \"GICS Sub-Industry=Interactive Media & Services<br>CEO Pay Ratio=%{marker.size}<br>CEO Pay=%{y}<extra></extra>\", \"legendgroup\": \"Interactive Media & Services\", \"marker\": {\"color\": \"#00cc96\", \"size\": [393.0], \"sizemode\": \"area\", \"sizeref\": 12.628333333333332, \"symbol\": \"circle\"}, \"mode\": \"markers\", \"name\": \"Interactive Media & Services\", \"orientation\": \"v\", \"showlegend\": true, \"type\": \"scatter\", \"x\": [393.0], \"xaxis\": \"x\", \"y\": [101345842.0], \"yaxis\": \"y\"}, {\"hovertemplate\": \"GICS Sub-Industry=Internet & Direct Marketing Retail<br>CEO Pay Ratio=%{marker.size}<br>CEO Pay=%{y}<extra></extra>\", \"legendgroup\": \"Internet & Direct Marketing Retail\", \"marker\": {\"color\": \"#ab63fa\", \"size\": [155.33333333333334], \"sizemode\": \"area\", \"sizeref\": 12.628333333333332, \"symbol\": \"circle\"}, \"mode\": \"markers\", \"name\": \"Internet & Direct Marketing Retail\", \"orientation\": \"v\", \"showlegend\": true, \"type\": \"scatter\", \"x\": [155.33333333333334], \"xaxis\": \"x\", \"y\": [7728369.0], \"yaxis\": \"y\"}, {\"hovertemplate\": \"GICS Sub-Industry=Internet Services & Infrastructure<br>CEO Pay Ratio=%{marker.size}<br>CEO Pay=%{y}<extra></extra>\", \"legendgroup\": \"Internet Services & Infrastructure\", \"marker\": {\"color\": \"#FFA15A\", \"size\": [148.0], \"sizemode\": \"area\", \"sizeref\": 12.628333333333332, \"symbol\": \"circle\"}, \"mode\": \"markers\", \"name\": \"Internet Services & Infrastructure\", \"orientation\": \"v\", \"showlegend\": true, \"type\": \"scatter\", \"x\": [148.0], \"xaxis\": \"x\", \"y\": [12987287.0], \"yaxis\": \"y\"}, {\"hovertemplate\": \"GICS Sub-Industry=Investment Banking & Brokerage<br>CEO Pay Ratio=%{marker.size}<br>CEO Pay=%{y}<extra></extra>\", \"legendgroup\": \"Investment Banking & Brokerage\", \"marker\": {\"color\": \"#19d3f3\", \"size\": [213.0], \"sizemode\": \"area\", \"sizeref\": 12.628333333333332, \"symbol\": \"circle\"}, \"mode\": \"markers\", \"name\": \"Investment Banking & Brokerage\", \"orientation\": \"v\", \"showlegend\": true, \"type\": \"scatter\", \"x\": [213.0], \"xaxis\": \"x\", \"y\": [28150066.0], \"yaxis\": \"y\"}, {\"hovertemplate\": \"GICS Sub-Industry=Leisure Products<br>CEO Pay Ratio=%{marker.size}<br>CEO Pay=%{y}<extra></extra>\", \"legendgroup\": \"Leisure Products\", \"marker\": {\"color\": \"#FF6692\", \"size\": [127.0], \"sizemode\": \"area\", \"sizeref\": 12.628333333333332, \"symbol\": \"circle\"}, \"mode\": \"markers\", \"name\": \"Leisure Products\", \"orientation\": \"v\", \"showlegend\": true, \"type\": \"scatter\", \"x\": [127.0], \"xaxis\": \"x\", \"y\": [8499623.0], \"yaxis\": \"y\"}, {\"hovertemplate\": \"GICS Sub-Industry=Life & Health Insurance<br>CEO Pay Ratio=%{marker.size}<br>CEO Pay=%{y}<extra></extra>\", \"legendgroup\": \"Life & Health Insurance\", \"marker\": {\"color\": \"#B6E880\", \"size\": [225.25], \"sizemode\": \"area\", \"sizeref\": 12.628333333333332, \"symbol\": \"circle\"}, \"mode\": \"markers\", \"name\": \"Life & Health Insurance\", \"orientation\": \"v\", \"showlegend\": true, \"type\": \"scatter\", \"x\": [225.25], \"xaxis\": \"x\", \"y\": [17019914.75], \"yaxis\": \"y\"}, {\"hovertemplate\": \"GICS Sub-Industry=Life Sciences Tools & Services<br>CEO Pay Ratio=%{marker.size}<br>CEO Pay=%{y}<extra></extra>\", \"legendgroup\": \"Life Sciences Tools & Services\", \"marker\": {\"color\": \"#FF97FF\", \"size\": [122.0], \"sizemode\": \"area\", \"sizeref\": 12.628333333333332, \"symbol\": \"circle\"}, \"mode\": \"markers\", \"name\": \"Life Sciences Tools & Services\", \"orientation\": \"v\", \"showlegend\": true, \"type\": \"scatter\", \"x\": [122.0], \"xaxis\": \"x\", \"y\": [9394836.0], \"yaxis\": \"y\"}, {\"hovertemplate\": \"GICS Sub-Industry=Managed Health Care<br>CEO Pay Ratio=%{marker.size}<br>CEO Pay=%{y}<extra></extra>\", \"legendgroup\": \"Managed Health Care\", \"marker\": {\"color\": \"#FECB52\", \"size\": [302.4], \"sizemode\": \"area\", \"sizeref\": 12.628333333333332, \"symbol\": \"circle\"}, \"mode\": \"markers\", \"name\": \"Managed Health Care\", \"orientation\": \"v\", \"showlegend\": true, \"type\": \"scatter\", \"x\": [302.4], \"xaxis\": \"x\", \"y\": [19371714.6], \"yaxis\": \"y\"}, {\"hovertemplate\": \"GICS Sub-Industry=Metal & Glass Containers<br>CEO Pay Ratio=%{marker.size}<br>CEO Pay=%{y}<extra></extra>\", \"legendgroup\": \"Metal & Glass Containers\", \"marker\": {\"color\": \"#636efa\", \"size\": [126.0], \"sizemode\": \"area\", \"sizeref\": 12.628333333333332, \"symbol\": \"circle\"}, \"mode\": \"markers\", \"name\": \"Metal & Glass Containers\", \"orientation\": \"v\", \"showlegend\": true, \"type\": \"scatter\", \"x\": [126.0], \"xaxis\": \"x\", \"y\": [11855919.0], \"yaxis\": \"y\"}, {\"hovertemplate\": \"GICS Sub-Industry=Movies & Entertainment<br>CEO Pay Ratio=%{marker.size}<br>CEO Pay=%{y}<extra></extra>\", \"legendgroup\": \"Movies & Entertainment\", \"marker\": {\"color\": \"#EF553B\", \"size\": [631.6666666666666], \"sizemode\": \"area\", \"sizeref\": 12.628333333333332, \"symbol\": \"circle\"}, \"mode\": \"markers\", \"name\": \"Movies & Entertainment\", \"orientation\": \"v\", \"showlegend\": true, \"type\": \"scatter\", \"x\": [631.6666666666666], \"xaxis\": \"x\", \"y\": [33555270.333333336], \"yaxis\": \"y\"}, {\"hovertemplate\": \"GICS Sub-Industry=Multi-Sector Holdings<br>CEO Pay Ratio=%{marker.size}<br>CEO Pay=%{y}<extra></extra>\", \"legendgroup\": \"Multi-Sector Holdings\", \"marker\": {\"color\": \"#00cc96\", \"size\": [6.0], \"sizemode\": \"area\", \"sizeref\": 12.628333333333332, \"symbol\": \"circle\"}, \"mode\": \"markers\", \"name\": \"Multi-Sector Holdings\", \"orientation\": \"v\", \"showlegend\": true, \"type\": \"scatter\", \"x\": [6.0], \"xaxis\": \"x\", \"y\": [374773.0], \"yaxis\": \"y\"}, {\"hovertemplate\": \"GICS Sub-Industry=Multi-Utilities<br>CEO Pay Ratio=%{marker.size}<br>CEO Pay=%{y}<extra></extra>\", \"legendgroup\": \"Multi-Utilities\", \"marker\": {\"color\": \"#ab63fa\", \"size\": [102.27272727272727], \"sizemode\": \"area\", \"sizeref\": 12.628333333333332, \"symbol\": \"circle\"}, \"mode\": \"markers\", \"name\": \"Multi-Utilities\", \"orientation\": \"v\", \"showlegend\": true, \"type\": \"scatter\", \"x\": [102.27272727272727], \"xaxis\": \"x\", \"y\": [12926458.272727273], \"yaxis\": \"y\"}, {\"hovertemplate\": \"GICS Sub-Industry=Multi-line Insurance<br>CEO Pay Ratio=%{marker.size}<br>CEO Pay=%{y}<extra></extra>\", \"legendgroup\": \"Multi-line Insurance\", \"marker\": {\"color\": \"#FFA15A\", \"size\": [189.0], \"sizemode\": \"area\", \"sizeref\": 12.628333333333332, \"symbol\": \"circle\"}, \"mode\": \"markers\", \"name\": \"Multi-line Insurance\", \"orientation\": \"v\", \"showlegend\": true, \"type\": \"scatter\", \"x\": [189.0], \"xaxis\": \"x\", \"y\": [11297016.333333334], \"yaxis\": \"y\"}, {\"hovertemplate\": \"GICS Sub-Industry=Office REITs<br>CEO Pay Ratio=%{marker.size}<br>CEO Pay=%{y}<extra></extra>\", \"legendgroup\": \"Office REITs\", \"marker\": {\"color\": \"#19d3f3\", \"size\": [190.0], \"sizemode\": \"area\", \"sizeref\": 12.628333333333332, \"symbol\": \"circle\"}, \"mode\": \"markers\", \"name\": \"Office REITs\", \"orientation\": \"v\", \"showlegend\": true, \"type\": \"scatter\", \"x\": [190.0], \"xaxis\": \"x\", \"y\": [14791500.333333334], \"yaxis\": \"y\"}, {\"hovertemplate\": \"GICS Sub-Industry=Oil & Gas Equipment & Services<br>CEO Pay Ratio=%{marker.size}<br>CEO Pay=%{y}<extra></extra>\", \"legendgroup\": \"Oil & Gas Equipment & Services\", \"marker\": {\"color\": \"#FF6692\", \"size\": [220.5], \"sizemode\": \"area\", \"sizeref\": 12.628333333333332, \"symbol\": \"circle\"}, \"mode\": \"markers\", \"name\": \"Oil & Gas Equipment & Services\", \"orientation\": \"v\", \"showlegend\": true, \"type\": \"scatter\", \"x\": [220.5], \"xaxis\": \"x\", \"y\": [14905698.5], \"yaxis\": \"y\"}, {\"hovertemplate\": \"GICS Sub-Industry=Oil & Gas Exploration & Production<br>CEO Pay Ratio=%{marker.size}<br>CEO Pay=%{y}<extra></extra>\", \"legendgroup\": \"Oil & Gas Exploration & Production\", \"marker\": {\"color\": \"#B6E880\", \"size\": [109.11111111111111], \"sizemode\": \"area\", \"sizeref\": 12.628333333333332, \"symbol\": \"circle\"}, \"mode\": \"markers\", \"name\": \"Oil & Gas Exploration & Production\", \"orientation\": \"v\", \"showlegend\": true, \"type\": \"scatter\", \"x\": [109.11111111111111], \"xaxis\": \"x\", \"y\": [15667760.555555556], \"yaxis\": \"y\"}, {\"hovertemplate\": \"GICS Sub-Industry=Oil & Gas Refining & Marketing<br>CEO Pay Ratio=%{marker.size}<br>CEO Pay=%{y}<extra></extra>\", \"legendgroup\": \"Oil & Gas Refining & Marketing\", \"marker\": {\"color\": \"#FF97FF\", \"size\": [106.75], \"sizemode\": \"area\", \"sizeref\": 12.628333333333332, \"symbol\": \"circle\"}, \"mode\": \"markers\", \"name\": \"Oil & Gas Refining & Marketing\", \"orientation\": \"v\", \"showlegend\": true, \"type\": \"scatter\", \"x\": [106.75], \"xaxis\": \"x\", \"y\": [22350369.25], \"yaxis\": \"y\"}, {\"hovertemplate\": \"GICS Sub-Industry=Oil & Gas Storage & Transportation<br>CEO Pay Ratio=%{marker.size}<br>CEO Pay=%{y}<extra></extra>\", \"legendgroup\": \"Oil & Gas Storage & Transportation\", \"marker\": {\"color\": \"#FECB52\", \"size\": [40.0], \"sizemode\": \"area\", \"sizeref\": 12.628333333333332, \"symbol\": \"circle\"}, \"mode\": \"markers\", \"name\": \"Oil & Gas Storage & Transportation\", \"orientation\": \"v\", \"showlegend\": true, \"type\": \"scatter\", \"x\": [40.0], \"xaxis\": \"x\", \"y\": [5476505.5], \"yaxis\": \"y\"}, {\"hovertemplate\": \"GICS Sub-Industry=Packaged Foods & Meats<br>CEO Pay Ratio=%{marker.size}<br>CEO Pay=%{y}<extra></extra>\", \"legendgroup\": \"Packaged Foods & Meats\", \"marker\": {\"color\": \"#636efa\", \"size\": [306.77777777777777], \"sizemode\": \"area\", \"sizeref\": 12.628333333333332, \"symbol\": \"circle\"}, \"mode\": \"markers\", \"name\": \"Packaged Foods & Meats\", \"orientation\": \"v\", \"showlegend\": true, \"type\": \"scatter\", \"x\": [306.77777777777777], \"xaxis\": \"x\", \"y\": [13058601.777777778], \"yaxis\": \"y\"}, {\"hovertemplate\": \"GICS Sub-Industry=Paper Packaging<br>CEO Pay Ratio=%{marker.size}<br>CEO Pay=%{y}<extra></extra>\", \"legendgroup\": \"Paper Packaging\", \"marker\": {\"color\": \"#EF553B\", \"size\": [299.5], \"sizemode\": \"area\", \"sizeref\": 12.628333333333332, \"symbol\": \"circle\"}, \"mode\": \"markers\", \"name\": \"Paper Packaging\", \"orientation\": \"v\", \"showlegend\": true, \"type\": \"scatter\", \"x\": [299.5], \"xaxis\": \"x\", \"y\": [9870540.75], \"yaxis\": \"y\"}, {\"hovertemplate\": \"GICS Sub-Industry=Personal Products<br>CEO Pay Ratio=%{marker.size}<br>CEO Pay=%{y}<extra></extra>\", \"legendgroup\": \"Personal Products\", \"marker\": {\"color\": \"#00cc96\", \"size\": [333.0], \"sizemode\": \"area\", \"sizeref\": 12.628333333333332, \"symbol\": \"circle\"}, \"mode\": \"markers\", \"name\": \"Personal Products\", \"orientation\": \"v\", \"showlegend\": true, \"type\": \"scatter\", \"x\": [333.0], \"xaxis\": \"x\", \"y\": [22905128.0], \"yaxis\": \"y\"}, {\"hovertemplate\": \"GICS Sub-Industry=Pharmaceuticals<br>CEO Pay Ratio=%{marker.size}<br>CEO Pay=%{y}<extra></extra>\", \"legendgroup\": \"Pharmaceuticals\", \"marker\": {\"color\": \"#ab63fa\", \"size\": [225.125], \"sizemode\": \"area\", \"sizeref\": 12.628333333333332, \"symbol\": \"circle\"}, \"mode\": \"markers\", \"name\": \"Pharmaceuticals\", \"orientation\": \"v\", \"showlegend\": true, \"type\": \"scatter\", \"x\": [225.125], \"xaxis\": \"x\", \"y\": [18504178.75], \"yaxis\": \"y\"}, {\"hovertemplate\": \"GICS Sub-Industry=Property & Casualty Insurance<br>CEO Pay Ratio=%{marker.size}<br>CEO Pay=%{y}<extra></extra>\", \"legendgroup\": \"Property & Casualty Insurance\", \"marker\": {\"color\": \"#FFA15A\", \"size\": [220.66666666666666], \"sizemode\": \"area\", \"sizeref\": 12.628333333333332, \"symbol\": \"circle\"}, \"mode\": \"markers\", \"name\": \"Property & Casualty Insurance\", \"orientation\": \"v\", \"showlegend\": true, \"type\": \"scatter\", \"x\": [220.66666666666666], \"xaxis\": \"x\", \"y\": [14837995.666666666], \"yaxis\": \"y\"}, {\"hovertemplate\": \"GICS Sub-Industry=Railroads<br>CEO Pay Ratio=%{marker.size}<br>CEO Pay=%{y}<extra></extra>\", \"legendgroup\": \"Railroads\", \"marker\": {\"color\": \"#19d3f3\", \"size\": [148.25], \"sizemode\": \"area\", \"sizeref\": 12.628333333333332, \"symbol\": \"circle\"}, \"mode\": \"markers\", \"name\": \"Railroads\", \"orientation\": \"v\", \"showlegend\": true, \"type\": \"scatter\", \"x\": [148.25], \"xaxis\": \"x\", \"y\": [12592428.25], \"yaxis\": \"y\"}, {\"hovertemplate\": \"GICS Sub-Industry=Real Estate Services<br>CEO Pay Ratio=%{marker.size}<br>CEO Pay=%{y}<extra></extra>\", \"legendgroup\": \"Real Estate Services\", \"marker\": {\"color\": \"#FF6692\", \"size\": [157.0], \"sizemode\": \"area\", \"sizeref\": 12.628333333333332, \"symbol\": \"circle\"}, \"mode\": \"markers\", \"name\": \"Real Estate Services\", \"orientation\": \"v\", \"showlegend\": true, \"type\": \"scatter\", \"x\": [157.0], \"xaxis\": \"x\", \"y\": [10347557.0], \"yaxis\": \"y\"}, {\"hovertemplate\": \"GICS Sub-Industry=Regional Banks<br>CEO Pay Ratio=%{marker.size}<br>CEO Pay=%{y}<extra></extra>\", \"legendgroup\": \"Regional Banks\", \"marker\": {\"color\": \"#B6E880\", \"size\": [154.2], \"sizemode\": \"area\", \"sizeref\": 12.628333333333332, \"symbol\": \"circle\"}, \"mode\": \"markers\", \"name\": \"Regional Banks\", \"orientation\": \"v\", \"showlegend\": true, \"type\": \"scatter\", \"x\": [154.2], \"xaxis\": \"x\", \"y\": [9835753.4], \"yaxis\": \"y\"}, {\"hovertemplate\": \"GICS Sub-Industry=Reinsurance<br>CEO Pay Ratio=%{marker.size}<br>CEO Pay=%{y}<extra></extra>\", \"legendgroup\": \"Reinsurance\", \"marker\": {\"color\": \"#FF97FF\", \"size\": [53.0], \"sizemode\": \"area\", \"sizeref\": 12.628333333333332, \"symbol\": \"circle\"}, \"mode\": \"markers\", \"name\": \"Reinsurance\", \"orientation\": \"v\", \"showlegend\": true, \"type\": \"scatter\", \"x\": [53.0], \"xaxis\": \"x\", \"y\": [7626619.0], \"yaxis\": \"y\"}, {\"hovertemplate\": \"GICS Sub-Industry=Research & Consulting Services<br>CEO Pay Ratio=%{marker.size}<br>CEO Pay=%{y}<extra></extra>\", \"legendgroup\": \"Research & Consulting Services\", \"marker\": {\"color\": \"#FECB52\", \"size\": [213.75], \"sizemode\": \"area\", \"sizeref\": 12.628333333333332, \"symbol\": \"circle\"}, \"mode\": \"markers\", \"name\": \"Research & Consulting Services\", \"orientation\": \"v\", \"showlegend\": true, \"type\": \"scatter\", \"x\": [213.75], \"xaxis\": \"x\", \"y\": [12334722.5], \"yaxis\": \"y\"}, {\"hovertemplate\": \"GICS Sub-Industry=Residential REITs<br>CEO Pay Ratio=%{marker.size}<br>CEO Pay=%{y}<extra></extra>\", \"legendgroup\": \"Residential REITs\", \"marker\": {\"color\": \"#636efa\", \"size\": [123.8], \"sizemode\": \"area\", \"sizeref\": 12.628333333333332, \"symbol\": \"circle\"}, \"mode\": \"markers\", \"name\": \"Residential REITs\", \"orientation\": \"v\", \"showlegend\": true, \"type\": \"scatter\", \"x\": [123.8], \"xaxis\": \"x\", \"y\": [8391829.0], \"yaxis\": \"y\"}, {\"hovertemplate\": \"GICS Sub-Industry=Restaurants<br>CEO Pay Ratio=%{marker.size}<br>CEO Pay=%{y}<extra></extra>\", \"legendgroup\": \"Restaurants\", \"marker\": {\"color\": \"#EF553B\", \"size\": [5051.333333333333], \"sizemode\": \"area\", \"sizeref\": 12.628333333333332, \"symbol\": \"circle\"}, \"mode\": \"markers\", \"name\": \"Restaurants\", \"orientation\": \"v\", \"showlegend\": true, \"type\": \"scatter\", \"x\": [5051.333333333333], \"xaxis\": \"x\", \"y\": [67638328.5], \"yaxis\": \"y\"}, {\"hovertemplate\": \"GICS Sub-Industry=Retail REITs<br>CEO Pay Ratio=%{marker.size}<br>CEO Pay=%{y}<extra></extra>\", \"legendgroup\": \"Retail REITs\", \"marker\": {\"color\": \"#00cc96\", \"size\": [87.0], \"sizemode\": \"area\", \"sizeref\": 12.628333333333332, \"symbol\": \"circle\"}, \"mode\": \"markers\", \"name\": \"Retail REITs\", \"orientation\": \"v\", \"showlegend\": true, \"type\": \"scatter\", \"x\": [87.0], \"xaxis\": \"x\", \"y\": [7635445.4], \"yaxis\": \"y\"}, {\"hovertemplate\": \"GICS Sub-Industry=Semiconductor Equipment<br>CEO Pay Ratio=%{marker.size}<br>CEO Pay=%{y}<extra></extra>\", \"legendgroup\": \"Semiconductor Equipment\", \"marker\": {\"color\": \"#ab63fa\", \"size\": [109.66666666666667], \"sizemode\": \"area\", \"sizeref\": 12.628333333333332, \"symbol\": \"circle\"}, \"mode\": \"markers\", \"name\": \"Semiconductor Equipment\", \"orientation\": \"v\", \"showlegend\": true, \"type\": \"scatter\", \"x\": [109.66666666666667], \"xaxis\": \"x\", \"y\": [11277770.666666666], \"yaxis\": \"y\"}, {\"hovertemplate\": \"GICS Sub-Industry=Semiconductors<br>CEO Pay Ratio=%{marker.size}<br>CEO Pay=%{y}<extra></extra>\", \"legendgroup\": \"Semiconductors\", \"marker\": {\"color\": \"#FFA15A\", \"size\": [301.0833333333333], \"sizemode\": \"area\", \"sizeref\": 12.628333333333332, \"symbol\": \"circle\"}, \"mode\": \"markers\", \"name\": \"Semiconductors\", \"orientation\": \"v\", \"showlegend\": true, \"type\": \"scatter\", \"x\": [301.0833333333333], \"xaxis\": \"x\", \"y\": [22752542.833333332], \"yaxis\": \"y\"}, {\"hovertemplate\": \"GICS Sub-Industry=Soft Drinks<br>CEO Pay Ratio=%{marker.size}<br>CEO Pay=%{y}<extra></extra>\", \"legendgroup\": \"Soft Drinks\", \"marker\": {\"color\": \"#19d3f3\", \"size\": [758.6666666666666], \"sizemode\": \"area\", \"sizeref\": 12.628333333333332, \"symbol\": \"circle\"}, \"mode\": \"markers\", \"name\": \"Soft Drinks\", \"orientation\": \"v\", \"showlegend\": true, \"type\": \"scatter\", \"x\": [758.6666666666666], \"xaxis\": \"x\", \"y\": [16495632.333333334], \"yaxis\": \"y\"}, {\"hovertemplate\": \"GICS Sub-Industry=Specialized REITs<br>CEO Pay Ratio=%{marker.size}<br>CEO Pay=%{y}<extra></extra>\", \"legendgroup\": \"Specialized REITs\", \"marker\": {\"color\": \"#FF6692\", \"size\": [126.28571428571429], \"sizemode\": \"area\", \"sizeref\": 12.628333333333332, \"symbol\": \"circle\"}, \"mode\": \"markers\", \"name\": \"Specialized REITs\", \"orientation\": \"v\", \"showlegend\": true, \"type\": \"scatter\", \"x\": [126.28571428571429], \"xaxis\": \"x\", \"y\": [9232087.857142856], \"yaxis\": \"y\"}, {\"hovertemplate\": \"GICS Sub-Industry=Specialty Chemicals<br>CEO Pay Ratio=%{marker.size}<br>CEO Pay=%{y}<extra></extra>\", \"legendgroup\": \"Specialty Chemicals\", \"marker\": {\"color\": \"#B6E880\", \"size\": [257.0], \"sizemode\": \"area\", \"sizeref\": 12.628333333333332, \"symbol\": \"circle\"}, \"mode\": \"markers\", \"name\": \"Specialty Chemicals\", \"orientation\": \"v\", \"showlegend\": true, \"type\": \"scatter\", \"x\": [257.0], \"xaxis\": \"x\", \"y\": [14162454.833333334], \"yaxis\": \"y\"}, {\"hovertemplate\": \"GICS Sub-Industry=Specialty Stores<br>CEO Pay Ratio=%{marker.size}<br>CEO Pay=%{y}<extra></extra>\", \"legendgroup\": \"Specialty Stores\", \"marker\": {\"color\": \"#FF97FF\", \"size\": [304.8], \"sizemode\": \"area\", \"sizeref\": 12.628333333333332, \"symbol\": \"circle\"}, \"mode\": \"markers\", \"name\": \"Specialty Stores\", \"orientation\": \"v\", \"showlegend\": true, \"type\": \"scatter\", \"x\": [304.8], \"xaxis\": \"x\", \"y\": [9062430.2], \"yaxis\": \"y\"}, {\"hovertemplate\": \"GICS Sub-Industry=Steel<br>CEO Pay Ratio=%{marker.size}<br>CEO Pay=%{y}<extra></extra>\", \"legendgroup\": \"Steel\", \"marker\": {\"color\": \"#FECB52\", \"size\": [218.0], \"sizemode\": \"area\", \"sizeref\": 12.628333333333332, \"symbol\": \"circle\"}, \"mode\": \"markers\", \"name\": \"Steel\", \"orientation\": \"v\", \"showlegend\": true, \"type\": \"scatter\", \"x\": [218.0], \"xaxis\": \"x\", \"y\": [19099582.0], \"yaxis\": \"y\"}, {\"hovertemplate\": \"GICS Sub-Industry=Systems Software<br>CEO Pay Ratio=%{marker.size}<br>CEO Pay=%{y}<extra></extra>\", \"legendgroup\": \"Systems Software\", \"marker\": {\"color\": \"#636efa\", \"size\": [132.0], \"sizemode\": \"area\", \"sizeref\": 12.628333333333332, \"symbol\": \"circle\"}, \"mode\": \"markers\", \"name\": \"Systems Software\", \"orientation\": \"v\", \"showlegend\": true, \"type\": \"scatter\", \"x\": [132.0], \"xaxis\": \"x\", \"y\": [23744538.666666668], \"yaxis\": \"y\"}, {\"hovertemplate\": \"GICS Sub-Industry=Technology Distributors<br>CEO Pay Ratio=%{marker.size}<br>CEO Pay=%{y}<extra></extra>\", \"legendgroup\": \"Technology Distributors\", \"marker\": {\"color\": \"#EF553B\", \"size\": [66.0], \"sizemode\": \"area\", \"sizeref\": 12.628333333333332, \"symbol\": \"circle\"}, \"mode\": \"markers\", \"name\": \"Technology Distributors\", \"orientation\": \"v\", \"showlegend\": true, \"type\": \"scatter\", \"x\": [66.0], \"xaxis\": \"x\", \"y\": [6191797.0], \"yaxis\": \"y\"}, {\"hovertemplate\": \"GICS Sub-Industry=Technology Hardware, Storage & Peripherals<br>CEO Pay Ratio=%{marker.size}<br>CEO Pay=%{y}<extra></extra>\", \"legendgroup\": \"Technology Hardware, Storage & Peripherals\", \"marker\": {\"color\": \"#00cc96\", \"size\": [538.5714285714286], \"sizemode\": \"area\", \"sizeref\": 12.628333333333332, \"symbol\": \"circle\"}, \"mode\": \"markers\", \"name\": \"Technology Hardware, Storage & Peripherals\", \"orientation\": \"v\", \"showlegend\": true, \"type\": \"scatter\", \"x\": [538.5714285714286], \"xaxis\": \"x\", \"y\": [15159740.42857143], \"yaxis\": \"y\"}, {\"hovertemplate\": \"GICS Sub-Industry=Thrifts & Mortgage Finance<br>CEO Pay Ratio=%{marker.size}<br>CEO Pay=%{y}<extra></extra>\", \"legendgroup\": \"Thrifts & Mortgage Finance\", \"marker\": {\"color\": \"#ab63fa\", \"size\": [86.0], \"sizemode\": \"area\", \"sizeref\": 12.628333333333332, \"symbol\": \"circle\"}, \"mode\": \"markers\", \"name\": \"Thrifts & Mortgage Finance\", \"orientation\": \"v\", \"showlegend\": true, \"type\": \"scatter\", \"x\": [86.0], \"xaxis\": \"x\", \"y\": [5700284.0], \"yaxis\": \"y\"}, {\"hovertemplate\": \"GICS Sub-Industry=Tobacco<br>CEO Pay Ratio=%{marker.size}<br>CEO Pay=%{y}<extra></extra>\", \"legendgroup\": \"Tobacco\", \"marker\": {\"color\": \"#FFA15A\", \"size\": [632.5], \"sizemode\": \"area\", \"sizeref\": 12.628333333333332, \"symbol\": \"circle\"}, \"mode\": \"markers\", \"name\": \"Tobacco\", \"orientation\": \"v\", \"showlegend\": true, \"type\": \"scatter\", \"x\": [632.5], \"xaxis\": \"x\", \"y\": [18782523.5], \"yaxis\": \"y\"}, {\"hovertemplate\": \"GICS Sub-Industry=Trading Companies & Distributors<br>CEO Pay Ratio=%{marker.size}<br>CEO Pay=%{y}<extra></extra>\", \"legendgroup\": \"Trading Companies & Distributors\", \"marker\": {\"color\": \"#19d3f3\", \"size\": [84.0], \"sizemode\": \"area\", \"sizeref\": 12.628333333333332, \"symbol\": \"circle\"}, \"mode\": \"markers\", \"name\": \"Trading Companies & Distributors\", \"orientation\": \"v\", \"showlegend\": true, \"type\": \"scatter\", \"x\": [84.0], \"xaxis\": \"x\", \"y\": [6215830.0], \"yaxis\": \"y\"}, {\"hovertemplate\": \"GICS Sub-Industry=Water Utilities<br>CEO Pay Ratio=%{marker.size}<br>CEO Pay=%{y}<extra></extra>\", \"legendgroup\": \"Water Utilities\", \"marker\": {\"color\": \"#FF6692\", \"size\": [60.0], \"sizemode\": \"area\", \"sizeref\": 12.628333333333332, \"symbol\": \"circle\"}, \"mode\": \"markers\", \"name\": \"Water Utilities\", \"orientation\": \"v\", \"showlegend\": true, \"type\": \"scatter\", \"x\": [60.0], \"xaxis\": \"x\", \"y\": [4983114.0], \"yaxis\": \"y\"}, {\"hovertemplate\": \"GICS Sub-Industry=Wireless Telecommunication Services<br>CEO Pay Ratio=%{marker.size}<br>CEO Pay=%{y}<extra></extra>\", \"legendgroup\": \"Wireless Telecommunication Services\", \"marker\": {\"color\": \"#B6E880\", \"size\": [446.0], \"sizemode\": \"area\", \"sizeref\": 12.628333333333332, \"symbol\": \"circle\"}, \"mode\": \"markers\", \"name\": \"Wireless Telecommunication Services\", \"orientation\": \"v\", \"showlegend\": true, \"type\": \"scatter\", \"x\": [446.0], \"xaxis\": \"x\", \"y\": [27762231.0], \"yaxis\": \"y\"}],                        {\"legend\": {\"itemsizing\": \"constant\", \"title\": {\"text\": \"GICS Sub-Industry\"}, \"tracegroupgap\": 0}, \"margin\": {\"t\": 60}, \"template\": {\"data\": {\"bar\": [{\"error_x\": {\"color\": \"#2a3f5f\"}, \"error_y\": {\"color\": \"#2a3f5f\"}, \"marker\": {\"line\": {\"color\": \"#E5ECF6\", \"width\": 0.5}}, \"type\": \"bar\"}], \"barpolar\": [{\"marker\": {\"line\": {\"color\": \"#E5ECF6\", \"width\": 0.5}}, \"type\": \"barpolar\"}], \"carpet\": [{\"aaxis\": {\"endlinecolor\": \"#2a3f5f\", \"gridcolor\": \"white\", \"linecolor\": \"white\", \"minorgridcolor\": \"white\", \"startlinecolor\": \"#2a3f5f\"}, \"baxis\": {\"endlinecolor\": \"#2a3f5f\", \"gridcolor\": \"white\", \"linecolor\": \"white\", \"minorgridcolor\": \"white\", \"startlinecolor\": \"#2a3f5f\"}, \"type\": \"carpet\"}], \"choropleth\": [{\"colorbar\": {\"outlinewidth\": 0, \"ticks\": \"\"}, \"type\": \"choropleth\"}], \"contour\": [{\"colorbar\": {\"outlinewidth\": 0, \"ticks\": \"\"}, \"colorscale\": [[0.0, \"#0d0887\"], [0.1111111111111111, \"#46039f\"], [0.2222222222222222, \"#7201a8\"], [0.3333333333333333, \"#9c179e\"], [0.4444444444444444, \"#bd3786\"], [0.5555555555555556, \"#d8576b\"], [0.6666666666666666, \"#ed7953\"], [0.7777777777777778, \"#fb9f3a\"], [0.8888888888888888, \"#fdca26\"], [1.0, \"#f0f921\"]], \"type\": \"contour\"}], \"contourcarpet\": [{\"colorbar\": {\"outlinewidth\": 0, \"ticks\": \"\"}, \"type\": \"contourcarpet\"}], \"heatmap\": [{\"colorbar\": {\"outlinewidth\": 0, \"ticks\": \"\"}, \"colorscale\": [[0.0, \"#0d0887\"], [0.1111111111111111, \"#46039f\"], [0.2222222222222222, \"#7201a8\"], [0.3333333333333333, \"#9c179e\"], [0.4444444444444444, \"#bd3786\"], [0.5555555555555556, \"#d8576b\"], [0.6666666666666666, \"#ed7953\"], [0.7777777777777778, \"#fb9f3a\"], [0.8888888888888888, \"#fdca26\"], [1.0, \"#f0f921\"]], \"type\": \"heatmap\"}], \"heatmapgl\": [{\"colorbar\": {\"outlinewidth\": 0, \"ticks\": \"\"}, \"colorscale\": [[0.0, \"#0d0887\"], [0.1111111111111111, \"#46039f\"], [0.2222222222222222, \"#7201a8\"], [0.3333333333333333, \"#9c179e\"], [0.4444444444444444, \"#bd3786\"], [0.5555555555555556, \"#d8576b\"], [0.6666666666666666, \"#ed7953\"], [0.7777777777777778, \"#fb9f3a\"], [0.8888888888888888, \"#fdca26\"], [1.0, \"#f0f921\"]], \"type\": \"heatmapgl\"}], \"histogram\": [{\"marker\": {\"colorbar\": {\"outlinewidth\": 0, \"ticks\": \"\"}}, \"type\": \"histogram\"}], \"histogram2d\": [{\"colorbar\": {\"outlinewidth\": 0, \"ticks\": \"\"}, \"colorscale\": [[0.0, \"#0d0887\"], [0.1111111111111111, \"#46039f\"], [0.2222222222222222, \"#7201a8\"], [0.3333333333333333, \"#9c179e\"], [0.4444444444444444, \"#bd3786\"], [0.5555555555555556, \"#d8576b\"], [0.6666666666666666, \"#ed7953\"], [0.7777777777777778, \"#fb9f3a\"], [0.8888888888888888, \"#fdca26\"], [1.0, \"#f0f921\"]], \"type\": \"histogram2d\"}], \"histogram2dcontour\": [{\"colorbar\": {\"outlinewidth\": 0, \"ticks\": \"\"}, \"colorscale\": [[0.0, \"#0d0887\"], [0.1111111111111111, \"#46039f\"], [0.2222222222222222, \"#7201a8\"], [0.3333333333333333, \"#9c179e\"], [0.4444444444444444, \"#bd3786\"], [0.5555555555555556, \"#d8576b\"], [0.6666666666666666, \"#ed7953\"], [0.7777777777777778, \"#fb9f3a\"], [0.8888888888888888, \"#fdca26\"], [1.0, \"#f0f921\"]], \"type\": \"histogram2dcontour\"}], \"mesh3d\": [{\"colorbar\": {\"outlinewidth\": 0, \"ticks\": \"\"}, \"type\": \"mesh3d\"}], \"parcoords\": [{\"line\": {\"colorbar\": {\"outlinewidth\": 0, \"ticks\": \"\"}}, \"type\": \"parcoords\"}], \"pie\": [{\"automargin\": true, \"type\": \"pie\"}], \"scatter\": [{\"marker\": {\"colorbar\": {\"outlinewidth\": 0, \"ticks\": \"\"}}, \"type\": \"scatter\"}], \"scatter3d\": [{\"line\": {\"colorbar\": {\"outlinewidth\": 0, \"ticks\": \"\"}}, \"marker\": {\"colorbar\": {\"outlinewidth\": 0, \"ticks\": \"\"}}, \"type\": \"scatter3d\"}], \"scattercarpet\": [{\"marker\": {\"colorbar\": {\"outlinewidth\": 0, \"ticks\": \"\"}}, \"type\": \"scattercarpet\"}], \"scattergeo\": [{\"marker\": {\"colorbar\": {\"outlinewidth\": 0, \"ticks\": \"\"}}, \"type\": \"scattergeo\"}], \"scattergl\": [{\"marker\": {\"colorbar\": {\"outlinewidth\": 0, \"ticks\": \"\"}}, \"type\": \"scattergl\"}], \"scattermapbox\": [{\"marker\": {\"colorbar\": {\"outlinewidth\": 0, \"ticks\": \"\"}}, \"type\": \"scattermapbox\"}], \"scatterpolar\": [{\"marker\": {\"colorbar\": {\"outlinewidth\": 0, \"ticks\": \"\"}}, \"type\": \"scatterpolar\"}], \"scatterpolargl\": [{\"marker\": {\"colorbar\": {\"outlinewidth\": 0, \"ticks\": \"\"}}, \"type\": \"scatterpolargl\"}], \"scatterternary\": [{\"marker\": {\"colorbar\": {\"outlinewidth\": 0, \"ticks\": \"\"}}, \"type\": \"scatterternary\"}], \"surface\": [{\"colorbar\": {\"outlinewidth\": 0, \"ticks\": \"\"}, \"colorscale\": [[0.0, \"#0d0887\"], [0.1111111111111111, \"#46039f\"], [0.2222222222222222, \"#7201a8\"], [0.3333333333333333, \"#9c179e\"], [0.4444444444444444, \"#bd3786\"], [0.5555555555555556, \"#d8576b\"], [0.6666666666666666, \"#ed7953\"], [0.7777777777777778, \"#fb9f3a\"], [0.8888888888888888, \"#fdca26\"], [1.0, \"#f0f921\"]], \"type\": \"surface\"}], \"table\": [{\"cells\": {\"fill\": {\"color\": \"#EBF0F8\"}, \"line\": {\"color\": \"white\"}}, \"header\": {\"fill\": {\"color\": \"#C8D4E3\"}, \"line\": {\"color\": \"white\"}}, \"type\": \"table\"}]}, \"layout\": {\"annotationdefaults\": {\"arrowcolor\": \"#2a3f5f\", \"arrowhead\": 0, \"arrowwidth\": 1}, \"autotypenumbers\": \"strict\", \"coloraxis\": {\"colorbar\": {\"outlinewidth\": 0, \"ticks\": \"\"}}, \"colorscale\": {\"diverging\": [[0, \"#8e0152\"], [0.1, \"#c51b7d\"], [0.2, \"#de77ae\"], [0.3, \"#f1b6da\"], [0.4, \"#fde0ef\"], [0.5, \"#f7f7f7\"], [0.6, \"#e6f5d0\"], [0.7, \"#b8e186\"], [0.8, \"#7fbc41\"], [0.9, \"#4d9221\"], [1, \"#276419\"]], \"sequential\": [[0.0, \"#0d0887\"], [0.1111111111111111, \"#46039f\"], [0.2222222222222222, \"#7201a8\"], [0.3333333333333333, \"#9c179e\"], [0.4444444444444444, \"#bd3786\"], [0.5555555555555556, \"#d8576b\"], [0.6666666666666666, \"#ed7953\"], [0.7777777777777778, \"#fb9f3a\"], [0.8888888888888888, \"#fdca26\"], [1.0, \"#f0f921\"]], \"sequentialminus\": [[0.0, \"#0d0887\"], [0.1111111111111111, \"#46039f\"], [0.2222222222222222, \"#7201a8\"], [0.3333333333333333, \"#9c179e\"], [0.4444444444444444, \"#bd3786\"], [0.5555555555555556, \"#d8576b\"], [0.6666666666666666, \"#ed7953\"], [0.7777777777777778, \"#fb9f3a\"], [0.8888888888888888, \"#fdca26\"], [1.0, \"#f0f921\"]]}, \"colorway\": [\"#636efa\", \"#EF553B\", \"#00cc96\", \"#ab63fa\", \"#FFA15A\", \"#19d3f3\", \"#FF6692\", \"#B6E880\", \"#FF97FF\", \"#FECB52\"], \"font\": {\"color\": \"#2a3f5f\"}, \"geo\": {\"bgcolor\": \"white\", \"lakecolor\": \"white\", \"landcolor\": \"#E5ECF6\", \"showlakes\": true, \"showland\": true, \"subunitcolor\": \"white\"}, \"hoverlabel\": {\"align\": \"left\"}, \"hovermode\": \"closest\", \"mapbox\": {\"style\": \"light\"}, \"paper_bgcolor\": \"white\", \"plot_bgcolor\": \"#E5ECF6\", \"polar\": {\"angularaxis\": {\"gridcolor\": \"white\", \"linecolor\": \"white\", \"ticks\": \"\"}, \"bgcolor\": \"#E5ECF6\", \"radialaxis\": {\"gridcolor\": \"white\", \"linecolor\": \"white\", \"ticks\": \"\"}}, \"scene\": {\"xaxis\": {\"backgroundcolor\": \"#E5ECF6\", \"gridcolor\": \"white\", \"gridwidth\": 2, \"linecolor\": \"white\", \"showbackground\": true, \"ticks\": \"\", \"zerolinecolor\": \"white\"}, \"yaxis\": {\"backgroundcolor\": \"#E5ECF6\", \"gridcolor\": \"white\", \"gridwidth\": 2, \"linecolor\": \"white\", \"showbackground\": true, \"ticks\": \"\", \"zerolinecolor\": \"white\"}, \"zaxis\": {\"backgroundcolor\": \"#E5ECF6\", \"gridcolor\": \"white\", \"gridwidth\": 2, \"linecolor\": \"white\", \"showbackground\": true, \"ticks\": \"\", \"zerolinecolor\": \"white\"}}, \"shapedefaults\": {\"line\": {\"color\": \"#2a3f5f\"}}, \"ternary\": {\"aaxis\": {\"gridcolor\": \"white\", \"linecolor\": \"white\", \"ticks\": \"\"}, \"baxis\": {\"gridcolor\": \"white\", \"linecolor\": \"white\", \"ticks\": \"\"}, \"bgcolor\": \"#E5ECF6\", \"caxis\": {\"gridcolor\": \"white\", \"linecolor\": \"white\", \"ticks\": \"\"}}, \"title\": {\"x\": 0.05}, \"xaxis\": {\"automargin\": true, \"gridcolor\": \"white\", \"linecolor\": \"white\", \"ticks\": \"\", \"title\": {\"standoff\": 15}, \"zerolinecolor\": \"white\", \"zerolinewidth\": 2}, \"yaxis\": {\"automargin\": true, \"gridcolor\": \"white\", \"linecolor\": \"white\", \"ticks\": \"\", \"title\": {\"standoff\": 15}, \"zerolinecolor\": \"white\", \"zerolinewidth\": 2}}}, \"xaxis\": {\"anchor\": \"y\", \"domain\": [0.0, 1.0], \"title\": {\"text\": \"CEO Pay Ratio\"}}, \"yaxis\": {\"anchor\": \"x\", \"domain\": [0.0, 1.0], \"title\": {\"text\": \"CEO Pay\"}}},                        {\"responsive\": true}                    ).then(function(){\n",
       "                            \n",
       "var gd = document.getElementById('08d518da-e48c-4a7c-a8a4-5fd0f5fd1986');\n",
       "var x = new MutationObserver(function (mutations, observer) {{\n",
       "        var display = window.getComputedStyle(gd).display;\n",
       "        if (!display || display === 'none') {{\n",
       "            console.log([gd, 'removed!']);\n",
       "            Plotly.purge(gd);\n",
       "            observer.disconnect();\n",
       "        }}\n",
       "}});\n",
       "\n",
       "// Listen for the removal of the full notebook cells\n",
       "var notebookContainer = gd.closest('#notebook-container');\n",
       "if (notebookContainer) {{\n",
       "    x.observe(notebookContainer, {childList: true});\n",
       "}}\n",
       "\n",
       "// Listen for the clearing of the current output cell\n",
       "var outputEl = gd.closest('.output');\n",
       "if (outputEl) {{\n",
       "    x.observe(outputEl, {childList: true});\n",
       "}}\n",
       "\n",
       "                        })                };                });            </script>        </div>"
      ]
     },
     "metadata": {},
     "output_type": "display_data"
    }
   ],
   "source": [
    "\n",
    "px.scatter(mean_ceo_pay_df, x= 'CEO Pay Ratio', y= 'CEO Pay', color= 'GICS Sub-Industry', size= 'CEO Pay Ratio')"
   ]
  },
  {
   "cell_type": "code",
   "execution_count": 6,
   "metadata": {},
   "outputs": [
    {
     "data": {
      "application/vnd.plotly.v1+json": {
       "config": {
        "plotlyServerURL": "https://plot.ly"
       },
       "data": [
        {
         "hovertemplate": "GICS Sub-Industry=Advertising<br>CEO Pay Ratio=%{marker.size}<br>Median Employee Pay=%{y}<extra></extra>",
         "legendgroup": "Advertising",
         "marker": {
          "color": "#636efa",
          "size": [
           450
          ],
          "sizemode": "area",
          "sizeref": 12.628333333333332,
          "symbol": "circle"
         },
         "mode": "markers",
         "name": "Advertising",
         "orientation": "v",
         "showlegend": true,
         "type": "scatter",
         "x": [
          450
         ],
         "xaxis": "x",
         "y": [
          44059
         ],
         "yaxis": "y"
        },
        {
         "hovertemplate": "GICS Sub-Industry=Aerospace & Defense<br>CEO Pay Ratio=%{marker.size}<br>Median Employee Pay=%{y}<extra></extra>",
         "legendgroup": "Aerospace & Defense",
         "marker": {
          "color": "#EF553B",
          "size": [
           215.33333333333334
          ],
          "sizemode": "area",
          "sizeref": 12.628333333333332,
          "symbol": "circle"
         },
         "mode": "markers",
         "name": "Aerospace & Defense",
         "orientation": "v",
         "showlegend": true,
         "type": "scatter",
         "x": [
          215.33333333333334
         ],
         "xaxis": "x",
         "y": [
          97959
         ],
         "yaxis": "y"
        },
        {
         "hovertemplate": "GICS Sub-Industry=Agricultural & Farm Machinery<br>CEO Pay Ratio=%{marker.size}<br>Median Employee Pay=%{y}<extra></extra>",
         "legendgroup": "Agricultural & Farm Machinery",
         "marker": {
          "color": "#00cc96",
          "size": [
           270
          ],
          "sizemode": "area",
          "sizeref": 12.628333333333332,
          "symbol": "circle"
         },
         "mode": "markers",
         "name": "Agricultural & Farm Machinery",
         "orientation": "v",
         "showlegend": true,
         "type": "scatter",
         "x": [
          270
         ],
         "xaxis": "x",
         "y": [
          80267
         ],
         "yaxis": "y"
        },
        {
         "hovertemplate": "GICS Sub-Industry=Agricultural Products<br>CEO Pay Ratio=%{marker.size}<br>Median Employee Pay=%{y}<extra></extra>",
         "legendgroup": "Agricultural Products",
         "marker": {
          "color": "#ab63fa",
          "size": [
           284
          ],
          "sizemode": "area",
          "sizeref": 12.628333333333332,
          "symbol": "circle"
         },
         "mode": "markers",
         "name": "Agricultural Products",
         "orientation": "v",
         "showlegend": true,
         "type": "scatter",
         "x": [
          284
         ],
         "xaxis": "x",
         "y": [
          63981
         ],
         "yaxis": "y"
        },
        {
         "hovertemplate": "GICS Sub-Industry=Air Freight & Logistics<br>CEO Pay Ratio=%{marker.size}<br>Median Employee Pay=%{y}<extra></extra>",
         "legendgroup": "Air Freight & Logistics",
         "marker": {
          "color": "#FFA15A",
          "size": [
           227
          ],
          "sizemode": "area",
          "sizeref": 12.628333333333332,
          "symbol": "circle"
         },
         "mode": "markers",
         "name": "Air Freight & Logistics",
         "orientation": "v",
         "showlegend": true,
         "type": "scatter",
         "x": [
          227
         ],
         "xaxis": "x",
         "y": [
          63461
         ],
         "yaxis": "y"
        },
        {
         "hovertemplate": "GICS Sub-Industry=Airlines<br>CEO Pay Ratio=%{marker.size}<br>Median Employee Pay=%{y}<extra></extra>",
         "legendgroup": "Airlines",
         "marker": {
          "color": "#19d3f3",
          "size": [
           137.8
          ],
          "sizemode": "area",
          "sizeref": 12.628333333333332,
          "symbol": "circle"
         },
         "mode": "markers",
         "name": "Airlines",
         "orientation": "v",
         "showlegend": true,
         "type": "scatter",
         "x": [
          137.8
         ],
         "xaxis": "x",
         "y": [
          79422.6
         ],
         "yaxis": "y"
        },
        {
         "hovertemplate": "GICS Sub-Industry=Apparel Retail<br>CEO Pay Ratio=%{marker.size}<br>Median Employee Pay=%{y}<extra></extra>",
         "legendgroup": "Apparel Retail",
         "marker": {
          "color": "#FF6692",
          "size": [
           751
          ],
          "sizemode": "area",
          "sizeref": 12.628333333333332,
          "symbol": "circle"
         },
         "mode": "markers",
         "name": "Apparel Retail",
         "orientation": "v",
         "showlegend": true,
         "type": "scatter",
         "x": [
          751
         ],
         "xaxis": "x",
         "y": [
          11758.5
         ],
         "yaxis": "y"
        },
        {
         "hovertemplate": "GICS Sub-Industry=Apparel, Accessories & Luxury Goods<br>CEO Pay Ratio=%{marker.size}<br>Median Employee Pay=%{y}<extra></extra>",
         "legendgroup": "Apparel, Accessories & Luxury Goods",
         "marker": {
          "color": "#B6E880",
          "size": [
           647.3333333333334
          ],
          "sizemode": "area",
          "sizeref": 12.628333333333332,
          "symbol": "circle"
         },
         "mode": "markers",
         "name": "Apparel, Accessories & Luxury Goods",
         "orientation": "v",
         "showlegend": true,
         "type": "scatter",
         "x": [
          647.3333333333334
         ],
         "xaxis": "x",
         "y": [
          18804
         ],
         "yaxis": "y"
        },
        {
         "hovertemplate": "GICS Sub-Industry=Application Software<br>CEO Pay Ratio=%{marker.size}<br>Median Employee Pay=%{y}<extra></extra>",
         "legendgroup": "Application Software",
         "marker": {
          "color": "#FF97FF",
          "size": [
           153.25
          ],
          "sizemode": "area",
          "sizeref": 12.628333333333332,
          "symbol": "circle"
         },
         "mode": "markers",
         "name": "Application Software",
         "orientation": "v",
         "showlegend": true,
         "type": "scatter",
         "x": [
          153.25
         ],
         "xaxis": "x",
         "y": [
          120321.25
         ],
         "yaxis": "y"
        },
        {
         "hovertemplate": "GICS Sub-Industry=Asset Management & Custody Banks<br>CEO Pay Ratio=%{marker.size}<br>Median Employee Pay=%{y}<extra></extra>",
         "legendgroup": "Asset Management & Custody Banks",
         "marker": {
          "color": "#FECB52",
          "size": [
           135.83333333333334
          ],
          "sizemode": "area",
          "sizeref": 12.628333333333332,
          "symbol": "circle"
         },
         "mode": "markers",
         "name": "Asset Management & Custody Banks",
         "orientation": "v",
         "showlegend": true,
         "type": "scatter",
         "x": [
          135.83333333333334
         ],
         "xaxis": "x",
         "y": [
          80823.5
         ],
         "yaxis": "y"
        },
        {
         "hovertemplate": "GICS Sub-Industry=Auto Parts & Equipment<br>CEO Pay Ratio=%{marker.size}<br>Median Employee Pay=%{y}<extra></extra>",
         "legendgroup": "Auto Parts & Equipment",
         "marker": {
          "color": "#636efa",
          "size": [
           1195.5
          ],
          "sizemode": "area",
          "sizeref": 12.628333333333332,
          "symbol": "circle"
         },
         "mode": "markers",
         "name": "Auto Parts & Equipment",
         "orientation": "v",
         "showlegend": true,
         "type": "scatter",
         "x": [
          1195.5
         ],
         "xaxis": "x",
         "y": [
          25845.5
         ],
         "yaxis": "y"
        },
        {
         "hovertemplate": "GICS Sub-Industry=Automobile Manufacturers<br>CEO Pay Ratio=%{marker.size}<br>Median Employee Pay=%{y}<extra></extra>",
         "legendgroup": "Automobile Manufacturers",
         "marker": {
          "color": "#EF553B",
          "size": [
           239.5
          ],
          "sizemode": "area",
          "sizeref": 12.628333333333332,
          "symbol": "circle"
         },
         "mode": "markers",
         "name": "Automobile Manufacturers",
         "orientation": "v",
         "showlegend": true,
         "type": "scatter",
         "x": [
          239.5
         ],
         "xaxis": "x",
         "y": [
          85515.5
         ],
         "yaxis": "y"
        },
        {
         "hovertemplate": "GICS Sub-Industry=Automotive Retail<br>CEO Pay Ratio=%{marker.size}<br>Median Employee Pay=%{y}<extra></extra>",
         "legendgroup": "Automotive Retail",
         "marker": {
          "color": "#00cc96",
          "size": [
           395
          ],
          "sizemode": "area",
          "sizeref": 12.628333333333332,
          "symbol": "circle"
         },
         "mode": "markers",
         "name": "Automotive Retail",
         "orientation": "v",
         "showlegend": true,
         "type": "scatter",
         "x": [
          395
         ],
         "xaxis": "x",
         "y": [
          19463
         ],
         "yaxis": "y"
        },
        {
         "hovertemplate": "GICS Sub-Industry=Biotechnology<br>CEO Pay Ratio=%{marker.size}<br>Median Employee Pay=%{y}<extra></extra>",
         "legendgroup": "Biotechnology",
         "marker": {
          "color": "#ab63fa",
          "size": [
           113.42857142857143
          ],
          "sizemode": "area",
          "sizeref": 12.628333333333332,
          "symbol": "circle"
         },
         "mode": "markers",
         "name": "Biotechnology",
         "orientation": "v",
         "showlegend": true,
         "type": "scatter",
         "x": [
          113.42857142857143
         ],
         "xaxis": "x",
         "y": [
          185329.85714285713
         ],
         "yaxis": "y"
        },
        {
         "hovertemplate": "GICS Sub-Industry=Broadcasting<br>CEO Pay Ratio=%{marker.size}<br>Median Employee Pay=%{y}<extra></extra>",
         "legendgroup": "Broadcasting",
         "marker": {
          "color": "#FFA15A",
          "size": [
           578
          ],
          "sizemode": "area",
          "sizeref": 12.628333333333332,
          "symbol": "circle"
         },
         "mode": "markers",
         "name": "Broadcasting",
         "orientation": "v",
         "showlegend": true,
         "type": "scatter",
         "x": [
          578
         ],
         "xaxis": "x",
         "y": [
          79343
         ],
         "yaxis": "y"
        },
        {
         "hovertemplate": "GICS Sub-Industry=Building Products<br>CEO Pay Ratio=%{marker.size}<br>Median Employee Pay=%{y}<extra></extra>",
         "legendgroup": "Building Products",
         "marker": {
          "color": "#19d3f3",
          "size": [
           195.4
          ],
          "sizemode": "area",
          "sizeref": 12.628333333333332,
          "symbol": "circle"
         },
         "mode": "markers",
         "name": "Building Products",
         "orientation": "v",
         "showlegend": true,
         "type": "scatter",
         "x": [
          195.4
         ],
         "xaxis": "x",
         "y": [
          46096.8
         ],
         "yaxis": "y"
        },
        {
         "hovertemplate": "GICS Sub-Industry=Cable & Satellite<br>CEO Pay Ratio=%{marker.size}<br>Median Employee Pay=%{y}<extra></extra>",
         "legendgroup": "Cable & Satellite",
         "marker": {
          "color": "#FF6692",
          "size": [
           222
          ],
          "sizemode": "area",
          "sizeref": 12.628333333333332,
          "symbol": "circle"
         },
         "mode": "markers",
         "name": "Cable & Satellite",
         "orientation": "v",
         "showlegend": true,
         "type": "scatter",
         "x": [
          222
         ],
         "xaxis": "x",
         "y": [
          68445
         ],
         "yaxis": "y"
        },
        {
         "hovertemplate": "GICS Sub-Industry=Casinos & Gaming<br>CEO Pay Ratio=%{marker.size}<br>Median Employee Pay=%{y}<extra></extra>",
         "legendgroup": "Casinos & Gaming",
         "marker": {
          "color": "#B6E880",
          "size": [
           442
          ],
          "sizemode": "area",
          "sizeref": 12.628333333333332,
          "symbol": "circle"
         },
         "mode": "markers",
         "name": "Casinos & Gaming",
         "orientation": "v",
         "showlegend": true,
         "type": "scatter",
         "x": [
          442
         ],
         "xaxis": "x",
         "y": [
          40970.666666666664
         ],
         "yaxis": "y"
        },
        {
         "hovertemplate": "GICS Sub-Industry=Commodity Chemicals<br>CEO Pay Ratio=%{marker.size}<br>Median Employee Pay=%{y}<extra></extra>",
         "legendgroup": "Commodity Chemicals",
         "marker": {
          "color": "#FF97FF",
          "size": [
           145
          ],
          "sizemode": "area",
          "sizeref": 12.628333333333332,
          "symbol": "circle"
         },
         "mode": "markers",
         "name": "Commodity Chemicals",
         "orientation": "v",
         "showlegend": true,
         "type": "scatter",
         "x": [
          145
         ],
         "xaxis": "x",
         "y": [
          109556
         ],
         "yaxis": "y"
        },
        {
         "hovertemplate": "GICS Sub-Industry=Communications Equipment<br>CEO Pay Ratio=%{marker.size}<br>Median Employee Pay=%{y}<extra></extra>",
         "legendgroup": "Communications Equipment",
         "marker": {
          "color": "#FECB52",
          "size": [
           116.4
          ],
          "sizemode": "area",
          "sizeref": 12.628333333333332,
          "symbol": "circle"
         },
         "mode": "markers",
         "name": "Communications Equipment",
         "orientation": "v",
         "showlegend": true,
         "type": "scatter",
         "x": [
          116.4
         ],
         "xaxis": "x",
         "y": [
          138871
         ],
         "yaxis": "y"
        },
        {
         "hovertemplate": "GICS Sub-Industry=Computer & Electronics Retail<br>CEO Pay Ratio=%{marker.size}<br>Median Employee Pay=%{y}<extra></extra>",
         "legendgroup": "Computer & Electronics Retail",
         "marker": {
          "color": "#636efa",
          "size": [
           610
          ],
          "sizemode": "area",
          "sizeref": 12.628333333333332,
          "symbol": "circle"
         },
         "mode": "markers",
         "name": "Computer & Electronics Retail",
         "orientation": "v",
         "showlegend": true,
         "type": "scatter",
         "x": [
          610
         ],
         "xaxis": "x",
         "y": [
          28500
         ],
         "yaxis": "y"
        },
        {
         "hovertemplate": "GICS Sub-Industry=Construction & Engineering<br>CEO Pay Ratio=%{marker.size}<br>Median Employee Pay=%{y}<extra></extra>",
         "legendgroup": "Construction & Engineering",
         "marker": {
          "color": "#EF553B",
          "size": [
           142
          ],
          "sizemode": "area",
          "sizeref": 12.628333333333332,
          "symbol": "circle"
         },
         "mode": "markers",
         "name": "Construction & Engineering",
         "orientation": "v",
         "showlegend": true,
         "type": "scatter",
         "x": [
          142
         ],
         "xaxis": "x",
         "y": [
          83438.5
         ],
         "yaxis": "y"
        },
        {
         "hovertemplate": "GICS Sub-Industry=Construction Machinery & Heavy Trucks<br>CEO Pay Ratio=%{marker.size}<br>Median Employee Pay=%{y}<extra></extra>",
         "legendgroup": "Construction Machinery & Heavy Trucks",
         "marker": {
          "color": "#00cc96",
          "size": [
           530
          ],
          "sizemode": "area",
          "sizeref": 12.628333333333332,
          "symbol": "circle"
         },
         "mode": "markers",
         "name": "Construction Machinery & Heavy Trucks",
         "orientation": "v",
         "showlegend": true,
         "type": "scatter",
         "x": [
          530
         ],
         "xaxis": "x",
         "y": [
          65132
         ],
         "yaxis": "y"
        },
        {
         "hovertemplate": "GICS Sub-Industry=Construction Materials<br>CEO Pay Ratio=%{marker.size}<br>Median Employee Pay=%{y}<extra></extra>",
         "legendgroup": "Construction Materials",
         "marker": {
          "color": "#ab63fa",
          "size": [
           116
          ],
          "sizemode": "area",
          "sizeref": 12.628333333333332,
          "symbol": "circle"
         },
         "mode": "markers",
         "name": "Construction Materials",
         "orientation": "v",
         "showlegend": true,
         "type": "scatter",
         "x": [
          116
         ],
         "xaxis": "x",
         "y": [
          78448.5
         ],
         "yaxis": "y"
        },
        {
         "hovertemplate": "GICS Sub-Industry=Consumer Electronics<br>CEO Pay Ratio=%{marker.size}<br>Median Employee Pay=%{y}<extra></extra>",
         "legendgroup": "Consumer Electronics",
         "marker": {
          "color": "#FFA15A",
          "size": [
           92
          ],
          "sizemode": "area",
          "sizeref": 12.628333333333332,
          "symbol": "circle"
         },
         "mode": "markers",
         "name": "Consumer Electronics",
         "orientation": "v",
         "showlegend": true,
         "type": "scatter",
         "x": [
          92
         ],
         "xaxis": "x",
         "y": [
          35188
         ],
         "yaxis": "y"
        },
        {
         "hovertemplate": "GICS Sub-Industry=Consumer Finance<br>CEO Pay Ratio=%{marker.size}<br>Median Employee Pay=%{y}<extra></extra>",
         "legendgroup": "Consumer Finance",
         "marker": {
          "color": "#19d3f3",
          "size": [
           249
          ],
          "sizemode": "area",
          "sizeref": 12.628333333333332,
          "symbol": "circle"
         },
         "mode": "markers",
         "name": "Consumer Finance",
         "orientation": "v",
         "showlegend": true,
         "type": "scatter",
         "x": [
          249
         ],
         "xaxis": "x",
         "y": [
          59663.333333333336
         ],
         "yaxis": "y"
        },
        {
         "hovertemplate": "GICS Sub-Industry=Copper<br>CEO Pay Ratio=%{marker.size}<br>Median Employee Pay=%{y}<extra></extra>",
         "legendgroup": "Copper",
         "marker": {
          "color": "#FF6692",
          "size": [
           207
          ],
          "sizemode": "area",
          "sizeref": 12.628333333333332,
          "symbol": "circle"
         },
         "mode": "markers",
         "name": "Copper",
         "orientation": "v",
         "showlegend": true,
         "type": "scatter",
         "x": [
          207
         ],
         "xaxis": "x",
         "y": [
          75874
         ],
         "yaxis": "y"
        },
        {
         "hovertemplate": "GICS Sub-Industry=Data Processing & Outsourced Services<br>CEO Pay Ratio=%{marker.size}<br>Median Employee Pay=%{y}<extra></extra>",
         "legendgroup": "Data Processing & Outsourced Services",
         "marker": {
          "color": "#B6E880",
          "size": [
           258.7142857142857
          ],
          "sizemode": "area",
          "sizeref": 12.628333333333332,
          "symbol": "circle"
         },
         "mode": "markers",
         "name": "Data Processing & Outsourced Services",
         "orientation": "v",
         "showlegend": true,
         "type": "scatter",
         "x": [
          258.7142857142857
         ],
         "xaxis": "x",
         "y": [
          75266.85714285714
         ],
         "yaxis": "y"
        },
        {
         "hovertemplate": "GICS Sub-Industry=Distillers & Vintners<br>CEO Pay Ratio=%{marker.size}<br>Median Employee Pay=%{y}<extra></extra>",
         "legendgroup": "Distillers & Vintners",
         "marker": {
          "color": "#FF97FF",
          "size": [
           149.5
          ],
          "sizemode": "area",
          "sizeref": 12.628333333333332,
          "symbol": "circle"
         },
         "mode": "markers",
         "name": "Distillers & Vintners",
         "orientation": "v",
         "showlegend": true,
         "type": "scatter",
         "x": [
          149.5
         ],
         "xaxis": "x",
         "y": [
          55985.5
         ],
         "yaxis": "y"
        },
        {
         "hovertemplate": "GICS Sub-Industry=Distributors<br>CEO Pay Ratio=%{marker.size}<br>Median Employee Pay=%{y}<extra></extra>",
         "legendgroup": "Distributors",
         "marker": {
          "color": "#FECB52",
          "size": [
           140.5
          ],
          "sizemode": "area",
          "sizeref": 12.628333333333332,
          "symbol": "circle"
         },
         "mode": "markers",
         "name": "Distributors",
         "orientation": "v",
         "showlegend": true,
         "type": "scatter",
         "x": [
          140.5
         ],
         "xaxis": "x",
         "y": [
          40020
         ],
         "yaxis": "y"
        },
        {
         "hovertemplate": "GICS Sub-Industry=Diversified Banks<br>CEO Pay Ratio=%{marker.size}<br>Median Employee Pay=%{y}<extra></extra>",
         "legendgroup": "Diversified Banks",
         "marker": {
          "color": "#636efa",
          "size": [
           327.25
          ],
          "sizemode": "area",
          "sizeref": 12.628333333333332,
          "symbol": "circle"
         },
         "mode": "markers",
         "name": "Diversified Banks",
         "orientation": "v",
         "showlegend": true,
         "type": "scatter",
         "x": [
          327.25
         ],
         "xaxis": "x",
         "y": [
          78037
         ],
         "yaxis": "y"
        },
        {
         "hovertemplate": "GICS Sub-Industry=Diversified Chemicals<br>CEO Pay Ratio=%{marker.size}<br>Median Employee Pay=%{y}<extra></extra>",
         "legendgroup": "Diversified Chemicals",
         "marker": {
          "color": "#EF553B",
          "size": [
           178
          ],
          "sizemode": "area",
          "sizeref": 12.628333333333332,
          "symbol": "circle"
         },
         "mode": "markers",
         "name": "Diversified Chemicals",
         "orientation": "v",
         "showlegend": true,
         "type": "scatter",
         "x": [
          178
         ],
         "xaxis": "x",
         "y": [
          81638
         ],
         "yaxis": "y"
        },
        {
         "hovertemplate": "GICS Sub-Industry=Diversified Support Services<br>CEO Pay Ratio=%{marker.size}<br>Median Employee Pay=%{y}<extra></extra>",
         "legendgroup": "Diversified Support Services",
         "marker": {
          "color": "#00cc96",
          "size": [
           62
          ],
          "sizemode": "area",
          "sizeref": 12.628333333333332,
          "symbol": "circle"
         },
         "mode": "markers",
         "name": "Diversified Support Services",
         "orientation": "v",
         "showlegend": true,
         "type": "scatter",
         "x": [
          62
         ],
         "xaxis": "x",
         "y": [
          45536
         ],
         "yaxis": "y"
        },
        {
         "hovertemplate": "GICS Sub-Industry=Drug Retail<br>CEO Pay Ratio=%{marker.size}<br>Median Employee Pay=%{y}<extra></extra>",
         "legendgroup": "Drug Retail",
         "marker": {
          "color": "#ab63fa",
          "size": [
           562
          ],
          "sizemode": "area",
          "sizeref": 12.628333333333332,
          "symbol": "circle"
         },
         "mode": "markers",
         "name": "Drug Retail",
         "orientation": "v",
         "showlegend": true,
         "type": "scatter",
         "x": [
          562
         ],
         "xaxis": "x",
         "y": [
          34074
         ],
         "yaxis": "y"
        },
        {
         "hovertemplate": "GICS Sub-Industry=Electric Utilities<br>CEO Pay Ratio=%{marker.size}<br>Median Employee Pay=%{y}<extra></extra>",
         "legendgroup": "Electric Utilities",
         "marker": {
          "color": "#FFA15A",
          "size": [
           91.63636363636364
          ],
          "sizemode": "area",
          "sizeref": 12.628333333333332,
          "symbol": "circle"
         },
         "mode": "markers",
         "name": "Electric Utilities",
         "orientation": "v",
         "showlegend": true,
         "type": "scatter",
         "x": [
          91.63636363636364
         ],
         "xaxis": "x",
         "y": [
          143280.54545454544
         ],
         "yaxis": "y"
        },
        {
         "hovertemplate": "GICS Sub-Industry=Electrical Components & Equipment<br>CEO Pay Ratio=%{marker.size}<br>Median Employee Pay=%{y}<extra></extra>",
         "legendgroup": "Electrical Components & Equipment",
         "marker": {
          "color": "#19d3f3",
          "size": [
           297.3333333333333
          ],
          "sizemode": "area",
          "sizeref": 12.628333333333332,
          "symbol": "circle"
         },
         "mode": "markers",
         "name": "Electrical Components & Equipment",
         "orientation": "v",
         "showlegend": true,
         "type": "scatter",
         "x": [
          297.3333333333333
         ],
         "xaxis": "x",
         "y": [
          63810.333333333336
         ],
         "yaxis": "y"
        },
        {
         "hovertemplate": "GICS Sub-Industry=Electronic Components<br>CEO Pay Ratio=%{marker.size}<br>Median Employee Pay=%{y}<extra></extra>",
         "legendgroup": "Electronic Components",
         "marker": {
          "color": "#FF6692",
          "size": [
           528.5
          ],
          "sizemode": "area",
          "sizeref": 12.628333333333332,
          "symbol": "circle"
         },
         "mode": "markers",
         "name": "Electronic Components",
         "orientation": "v",
         "showlegend": true,
         "type": "scatter",
         "x": [
          528.5
         ],
         "xaxis": "x",
         "y": [
          31159
         ],
         "yaxis": "y"
        },
        {
         "hovertemplate": "GICS Sub-Industry=Electronic Equipment & Instruments<br>CEO Pay Ratio=%{marker.size}<br>Median Employee Pay=%{y}<extra></extra>",
         "legendgroup": "Electronic Equipment & Instruments",
         "marker": {
          "color": "#B6E880",
          "size": [
           101.5
          ],
          "sizemode": "area",
          "sizeref": 12.628333333333332,
          "symbol": "circle"
         },
         "mode": "markers",
         "name": "Electronic Equipment & Instruments",
         "orientation": "v",
         "showlegend": true,
         "type": "scatter",
         "x": [
          101.5
         ],
         "xaxis": "x",
         "y": [
          80714
         ],
         "yaxis": "y"
        },
        {
         "hovertemplate": "GICS Sub-Industry=Electronic Manufacturing Services<br>CEO Pay Ratio=%{marker.size}<br>Median Employee Pay=%{y}<extra></extra>",
         "legendgroup": "Electronic Manufacturing Services",
         "marker": {
          "color": "#FF97FF",
          "size": [
           243
          ],
          "sizemode": "area",
          "sizeref": 12.628333333333332,
          "symbol": "circle"
         },
         "mode": "markers",
         "name": "Electronic Manufacturing Services",
         "orientation": "v",
         "showlegend": true,
         "type": "scatter",
         "x": [
          243
         ],
         "xaxis": "x",
         "y": [
          26025.5
         ],
         "yaxis": "y"
        },
        {
         "hovertemplate": "GICS Sub-Industry=Environmental & Facilities Services<br>CEO Pay Ratio=%{marker.size}<br>Median Employee Pay=%{y}<extra></extra>",
         "legendgroup": "Environmental & Facilities Services",
         "marker": {
          "color": "#FECB52",
          "size": [
           147
          ],
          "sizemode": "area",
          "sizeref": 12.628333333333332,
          "symbol": "circle"
         },
         "mode": "markers",
         "name": "Environmental & Facilities Services",
         "orientation": "v",
         "showlegend": true,
         "type": "scatter",
         "x": [
          147
         ],
         "xaxis": "x",
         "y": [
          63360.333333333336
         ],
         "yaxis": "y"
        },
        {
         "hovertemplate": "GICS Sub-Industry=Fertilizers & Agricultural Chemicals<br>CEO Pay Ratio=%{marker.size}<br>Median Employee Pay=%{y}<extra></extra>",
         "legendgroup": "Fertilizers & Agricultural Chemicals",
         "marker": {
          "color": "#636efa",
          "size": [
           146
          ],
          "sizemode": "area",
          "sizeref": 12.628333333333332,
          "symbol": "circle"
         },
         "mode": "markers",
         "name": "Fertilizers & Agricultural Chemicals",
         "orientation": "v",
         "showlegend": true,
         "type": "scatter",
         "x": [
          146
         ],
         "xaxis": "x",
         "y": [
          79996.66666666667
         ],
         "yaxis": "y"
        },
        {
         "hovertemplate": "GICS Sub-Industry=Financial Exchanges & Data<br>CEO Pay Ratio=%{marker.size}<br>Median Employee Pay=%{y}<extra></extra>",
         "legendgroup": "Financial Exchanges & Data",
         "marker": {
          "color": "#EF553B",
          "size": [
           158.57142857142858
          ],
          "sizemode": "area",
          "sizeref": 12.628333333333332,
          "symbol": "circle"
         },
         "mode": "markers",
         "name": "Financial Exchanges & Data",
         "orientation": "v",
         "showlegend": true,
         "type": "scatter",
         "x": [
          158.57142857142858
         ],
         "xaxis": "x",
         "y": [
          105986.85714285714
         ],
         "yaxis": "y"
        },
        {
         "hovertemplate": "GICS Sub-Industry=Food Distributors<br>CEO Pay Ratio=%{marker.size}<br>Median Employee Pay=%{y}<extra></extra>",
         "legendgroup": "Food Distributors",
         "marker": {
          "color": "#00cc96",
          "size": [
           152
          ],
          "sizemode": "area",
          "sizeref": 12.628333333333332,
          "symbol": "circle"
         },
         "mode": "markers",
         "name": "Food Distributors",
         "orientation": "v",
         "showlegend": true,
         "type": "scatter",
         "x": [
          152
         ],
         "xaxis": "x",
         "y": [
          70801
         ],
         "yaxis": "y"
        },
        {
         "hovertemplate": "GICS Sub-Industry=Food Retail<br>CEO Pay Ratio=%{marker.size}<br>Median Employee Pay=%{y}<extra></extra>",
         "legendgroup": "Food Retail",
         "marker": {
          "color": "#ab63fa",
          "size": [
           483
          ],
          "sizemode": "area",
          "sizeref": 12.628333333333332,
          "symbol": "circle"
         },
         "mode": "markers",
         "name": "Food Retail",
         "orientation": "v",
         "showlegend": true,
         "type": "scatter",
         "x": [
          483
         ],
         "xaxis": "x",
         "y": [
          24912
         ],
         "yaxis": "y"
        },
        {
         "hovertemplate": "GICS Sub-Industry=Gas Utilities<br>CEO Pay Ratio=%{marker.size}<br>Median Employee Pay=%{y}<extra></extra>",
         "legendgroup": "Gas Utilities",
         "marker": {
          "color": "#FFA15A",
          "size": [
           123
          ],
          "sizemode": "area",
          "sizeref": 12.628333333333332,
          "symbol": "circle"
         },
         "mode": "markers",
         "name": "Gas Utilities",
         "orientation": "v",
         "showlegend": true,
         "type": "scatter",
         "x": [
          123
         ],
         "xaxis": "x",
         "y": [
          84516
         ],
         "yaxis": "y"
        },
        {
         "hovertemplate": "GICS Sub-Industry=General Merchandise Stores<br>CEO Pay Ratio=%{marker.size}<br>Median Employee Pay=%{y}<extra></extra>",
         "legendgroup": "General Merchandise Stores",
         "marker": {
          "color": "#19d3f3",
          "size": [
           778.3333333333334
          ],
          "sizemode": "area",
          "sizeref": 12.628333333333332,
          "symbol": "circle"
         },
         "mode": "markers",
         "name": "General Merchandise Stores",
         "orientation": "v",
         "showlegend": true,
         "type": "scatter",
         "x": [
          778.3333333333334
         ],
         "xaxis": "x",
         "y": [
          17675.333333333332
         ],
         "yaxis": "y"
        },
        {
         "hovertemplate": "GICS Sub-Industry=Health Care Distributors<br>CEO Pay Ratio=%{marker.size}<br>Median Employee Pay=%{y}<extra></extra>",
         "legendgroup": "Health Care Distributors",
         "marker": {
          "color": "#FF6692",
          "size": [
           223.5
          ],
          "sizemode": "area",
          "sizeref": 12.628333333333332,
          "symbol": "circle"
         },
         "mode": "markers",
         "name": "Health Care Distributors",
         "orientation": "v",
         "showlegend": true,
         "type": "scatter",
         "x": [
          223.5
         ],
         "xaxis": "x",
         "y": [
          69108.66666666667
         ],
         "yaxis": "y"
        },
        {
         "hovertemplate": "GICS Sub-Industry=Health Care Equipment<br>CEO Pay Ratio=%{marker.size}<br>Median Employee Pay=%{y}<extra></extra>",
         "legendgroup": "Health Care Equipment",
         "marker": {
          "color": "#B6E880",
          "size": [
           192.88235294117646
          ],
          "sizemode": "area",
          "sizeref": 12.628333333333332,
          "symbol": "circle"
         },
         "mode": "markers",
         "name": "Health Care Equipment",
         "orientation": "v",
         "showlegend": true,
         "type": "scatter",
         "x": [
          192.88235294117646
         ],
         "xaxis": "x",
         "y": [
          74927
         ],
         "yaxis": "y"
        },
        {
         "hovertemplate": "GICS Sub-Industry=Health Care Facilities<br>CEO Pay Ratio=%{marker.size}<br>Median Employee Pay=%{y}<extra></extra>",
         "legendgroup": "Health Care Facilities",
         "marker": {
          "color": "#FF97FF",
          "size": [
           502
          ],
          "sizemode": "area",
          "sizeref": 12.628333333333332,
          "symbol": "circle"
         },
         "mode": "markers",
         "name": "Health Care Facilities",
         "orientation": "v",
         "showlegend": true,
         "type": "scatter",
         "x": [
          502
         ],
         "xaxis": "x",
         "y": [
          58450.5
         ],
         "yaxis": "y"
        },
        {
         "hovertemplate": "GICS Sub-Industry=Health Care REITs<br>CEO Pay Ratio=%{marker.size}<br>Median Employee Pay=%{y}<extra></extra>",
         "legendgroup": "Health Care REITs",
         "marker": {
          "color": "#FECB52",
          "size": [
           128.5
          ],
          "sizemode": "area",
          "sizeref": 12.628333333333332,
          "symbol": "circle"
         },
         "mode": "markers",
         "name": "Health Care REITs",
         "orientation": "v",
         "showlegend": true,
         "type": "scatter",
         "x": [
          128.5
         ],
         "xaxis": "x",
         "y": [
          95907.5
         ],
         "yaxis": "y"
        },
        {
         "hovertemplate": "GICS Sub-Industry=Health Care Services<br>CEO Pay Ratio=%{marker.size}<br>Median Employee Pay=%{y}<extra></extra>",
         "legendgroup": "Health Care Services",
         "marker": {
          "color": "#636efa",
          "size": [
           415.5
          ],
          "sizemode": "area",
          "sizeref": 12.628333333333332,
          "symbol": "circle"
         },
         "mode": "markers",
         "name": "Health Care Services",
         "orientation": "v",
         "showlegend": true,
         "type": "scatter",
         "x": [
          415.5
         ],
         "xaxis": "x",
         "y": [
          41139
         ],
         "yaxis": "y"
        },
        {
         "hovertemplate": "GICS Sub-Industry=Health Care Supplies<br>CEO Pay Ratio=%{marker.size}<br>Median Employee Pay=%{y}<extra></extra>",
         "legendgroup": "Health Care Supplies",
         "marker": {
          "color": "#EF553B",
          "size": [
           775.5
          ],
          "sizemode": "area",
          "sizeref": 12.628333333333332,
          "symbol": "circle"
         },
         "mode": "markers",
         "name": "Health Care Supplies",
         "orientation": "v",
         "showlegend": true,
         "type": "scatter",
         "x": [
          775.5
         ],
         "xaxis": "x",
         "y": [
          32308.5
         ],
         "yaxis": "y"
        },
        {
         "hovertemplate": "GICS Sub-Industry=Health Care Technology<br>CEO Pay Ratio=%{marker.size}<br>Median Employee Pay=%{y}<extra></extra>",
         "legendgroup": "Health Care Technology",
         "marker": {
          "color": "#00cc96",
          "size": [
           151
          ],
          "sizemode": "area",
          "sizeref": 12.628333333333332,
          "symbol": "circle"
         },
         "mode": "markers",
         "name": "Health Care Technology",
         "orientation": "v",
         "showlegend": true,
         "type": "scatter",
         "x": [
          151
         ],
         "xaxis": "x",
         "y": [
          64784
         ],
         "yaxis": "y"
        },
        {
         "hovertemplate": "GICS Sub-Industry=Home Furnishings<br>CEO Pay Ratio=%{marker.size}<br>Median Employee Pay=%{y}<extra></extra>",
         "legendgroup": "Home Furnishings",
         "marker": {
          "color": "#ab63fa",
          "size": [
           195.5
          ],
          "sizemode": "area",
          "sizeref": 12.628333333333332,
          "symbol": "circle"
         },
         "mode": "markers",
         "name": "Home Furnishings",
         "orientation": "v",
         "showlegend": true,
         "type": "scatter",
         "x": [
          195.5
         ],
         "xaxis": "x",
         "y": [
          39094
         ],
         "yaxis": "y"
        },
        {
         "hovertemplate": "GICS Sub-Industry=Home Improvement Retail<br>CEO Pay Ratio=%{marker.size}<br>Median Employee Pay=%{y}<extra></extra>",
         "legendgroup": "Home Improvement Retail",
         "marker": {
          "color": "#FFA15A",
          "size": [
           496
          ],
          "sizemode": "area",
          "sizeref": 12.628333333333332,
          "symbol": "circle"
         },
         "mode": "markers",
         "name": "Home Improvement Retail",
         "orientation": "v",
         "showlegend": true,
         "type": "scatter",
         "x": [
          496
         ],
         "xaxis": "x",
         "y": [
          22700
         ],
         "yaxis": "y"
        },
        {
         "hovertemplate": "GICS Sub-Industry=Homebuilding<br>CEO Pay Ratio=%{marker.size}<br>Median Employee Pay=%{y}<extra></extra>",
         "legendgroup": "Homebuilding",
         "marker": {
          "color": "#19d3f3",
          "size": [
           122.5
          ],
          "sizemode": "area",
          "sizeref": 12.628333333333332,
          "symbol": "circle"
         },
         "mode": "markers",
         "name": "Homebuilding",
         "orientation": "v",
         "showlegend": true,
         "type": "scatter",
         "x": [
          122.5
         ],
         "xaxis": "x",
         "y": [
          91162.75
         ],
         "yaxis": "y"
        },
        {
         "hovertemplate": "GICS Sub-Industry=Hotel & Resort REITs<br>CEO Pay Ratio=%{marker.size}<br>Median Employee Pay=%{y}<extra></extra>",
         "legendgroup": "Hotel & Resort REITs",
         "marker": {
          "color": "#FF6692",
          "size": [
           48
          ],
          "sizemode": "area",
          "sizeref": 12.628333333333332,
          "symbol": "circle"
         },
         "mode": "markers",
         "name": "Hotel & Resort REITs",
         "orientation": "v",
         "showlegend": true,
         "type": "scatter",
         "x": [
          48
         ],
         "xaxis": "x",
         "y": [
          197781
         ],
         "yaxis": "y"
        },
        {
         "hovertemplate": "GICS Sub-Industry=Hotels, Resorts & Cruise Lines<br>CEO Pay Ratio=%{marker.size}<br>Median Employee Pay=%{y}<extra></extra>",
         "legendgroup": "Hotels, Resorts & Cruise Lines",
         "marker": {
          "color": "#B6E880",
          "size": [
           417.5
          ],
          "sizemode": "area",
          "sizeref": 12.628333333333332,
          "symbol": "circle"
         },
         "mode": "markers",
         "name": "Hotels, Resorts & Cruise Lines",
         "orientation": "v",
         "showlegend": true,
         "type": "scatter",
         "x": [
          417.5
         ],
         "xaxis": "x",
         "y": [
          41286.5
         ],
         "yaxis": "y"
        },
        {
         "hovertemplate": "GICS Sub-Industry=Household Appliances<br>CEO Pay Ratio=%{marker.size}<br>Median Employee Pay=%{y}<extra></extra>",
         "legendgroup": "Household Appliances",
         "marker": {
          "color": "#FF97FF",
          "size": [
           675
          ],
          "sizemode": "area",
          "sizeref": 12.628333333333332,
          "symbol": "circle"
         },
         "mode": "markers",
         "name": "Household Appliances",
         "orientation": "v",
         "showlegend": true,
         "type": "scatter",
         "x": [
          675
         ],
         "xaxis": "x",
         "y": [
          20765
         ],
         "yaxis": "y"
        },
        {
         "hovertemplate": "GICS Sub-Industry=Household Products<br>CEO Pay Ratio=%{marker.size}<br>Median Employee Pay=%{y}<extra></extra>",
         "legendgroup": "Household Products",
         "marker": {
          "color": "#FECB52",
          "size": [
           287
          ],
          "sizemode": "area",
          "sizeref": 12.628333333333332,
          "symbol": "circle"
         },
         "mode": "markers",
         "name": "Household Products",
         "orientation": "v",
         "showlegend": true,
         "type": "scatter",
         "x": [
          287
         ],
         "xaxis": "x",
         "y": [
          45911.666666666664
         ],
         "yaxis": "y"
        },
        {
         "hovertemplate": "GICS Sub-Industry=Housewares & Specialties<br>CEO Pay Ratio=%{marker.size}<br>Median Employee Pay=%{y}<extra></extra>",
         "legendgroup": "Housewares & Specialties",
         "marker": {
          "color": "#636efa",
          "size": [
           272
          ],
          "sizemode": "area",
          "sizeref": 12.628333333333332,
          "symbol": "circle"
         },
         "mode": "markers",
         "name": "Housewares & Specialties",
         "orientation": "v",
         "showlegend": true,
         "type": "scatter",
         "x": [
          272
         ],
         "xaxis": "x",
         "y": [
          31704
         ],
         "yaxis": "y"
        },
        {
         "hovertemplate": "GICS Sub-Industry=Hypermarkets & Super Centers<br>CEO Pay Ratio=%{marker.size}<br>Median Employee Pay=%{y}<extra></extra>",
         "legendgroup": "Hypermarkets & Super Centers",
         "marker": {
          "color": "#EF553B",
          "size": [
           576
          ],
          "sizemode": "area",
          "sizeref": 12.628333333333332,
          "symbol": "circle"
         },
         "mode": "markers",
         "name": "Hypermarkets & Super Centers",
         "orientation": "v",
         "showlegend": true,
         "type": "scatter",
         "x": [
          576
         ],
         "xaxis": "x",
         "y": [
          34898
         ],
         "yaxis": "y"
        },
        {
         "hovertemplate": "GICS Sub-Industry=IT Consulting & Other Services<br>CEO Pay Ratio=%{marker.size}<br>Median Employee Pay=%{y}<extra></extra>",
         "legendgroup": "IT Consulting & Other Services",
         "marker": {
          "color": "#00cc96",
          "size": [
           295
          ],
          "sizemode": "area",
          "sizeref": 12.628333333333332,
          "symbol": "circle"
         },
         "mode": "markers",
         "name": "IT Consulting & Other Services",
         "orientation": "v",
         "showlegend": true,
         "type": "scatter",
         "x": [
          295
         ],
         "xaxis": "x",
         "y": [
          71122.5
         ],
         "yaxis": "y"
        },
        {
         "hovertemplate": "GICS Sub-Industry=Independent Power Producers & Energy Traders<br>CEO Pay Ratio=%{marker.size}<br>Median Employee Pay=%{y}<extra></extra>",
         "legendgroup": "Independent Power Producers & Energy Traders",
         "marker": {
          "color": "#ab63fa",
          "size": [
           80
          ],
          "sizemode": "area",
          "sizeref": 12.628333333333332,
          "symbol": "circle"
         },
         "mode": "markers",
         "name": "Independent Power Producers & Energy Traders",
         "orientation": "v",
         "showlegend": true,
         "type": "scatter",
         "x": [
          80
         ],
         "xaxis": "x",
         "y": [
          114883
         ],
         "yaxis": "y"
        },
        {
         "hovertemplate": "GICS Sub-Industry=Industrial Conglomerates<br>CEO Pay Ratio=%{marker.size}<br>Median Employee Pay=%{y}<extra></extra>",
         "legendgroup": "Industrial Conglomerates",
         "marker": {
          "color": "#FFA15A",
          "size": [
           377.6666666666667
          ],
          "sizemode": "area",
          "sizeref": 12.628333333333332,
          "symbol": "circle"
         },
         "mode": "markers",
         "name": "Industrial Conglomerates",
         "orientation": "v",
         "showlegend": true,
         "type": "scatter",
         "x": [
          377.6666666666667
         ],
         "xaxis": "x",
         "y": [
          65557.33333333333
         ],
         "yaxis": "y"
        },
        {
         "hovertemplate": "GICS Sub-Industry=Industrial Gases<br>CEO Pay Ratio=%{marker.size}<br>Median Employee Pay=%{y}<extra></extra>",
         "legendgroup": "Industrial Gases",
         "marker": {
          "color": "#19d3f3",
          "size": [
           954
          ],
          "sizemode": "area",
          "sizeref": 12.628333333333332,
          "symbol": "circle"
         },
         "mode": "markers",
         "name": "Industrial Gases",
         "orientation": "v",
         "showlegend": true,
         "type": "scatter",
         "x": [
          954
         ],
         "xaxis": "x",
         "y": [
          50818
         ],
         "yaxis": "y"
        },
        {
         "hovertemplate": "GICS Sub-Industry=Industrial Machinery<br>CEO Pay Ratio=%{marker.size}<br>Median Employee Pay=%{y}<extra></extra>",
         "legendgroup": "Industrial Machinery",
         "marker": {
          "color": "#FF6692",
          "size": [
           247.25
          ],
          "sizemode": "area",
          "sizeref": 12.628333333333332,
          "symbol": "circle"
         },
         "mode": "markers",
         "name": "Industrial Machinery",
         "orientation": "v",
         "showlegend": true,
         "type": "scatter",
         "x": [
          247.25
         ],
         "xaxis": "x",
         "y": [
          58193
         ],
         "yaxis": "y"
        },
        {
         "hovertemplate": "GICS Sub-Industry=Industrial REITs<br>CEO Pay Ratio=%{marker.size}<br>Median Employee Pay=%{y}<extra></extra>",
         "legendgroup": "Industrial REITs",
         "marker": {
          "color": "#B6E880",
          "size": [
           156.5
          ],
          "sizemode": "area",
          "sizeref": 12.628333333333332,
          "symbol": "circle"
         },
         "mode": "markers",
         "name": "Industrial REITs",
         "orientation": "v",
         "showlegend": true,
         "type": "scatter",
         "x": [
          156.5
         ],
         "xaxis": "x",
         "y": [
          120232.5
         ],
         "yaxis": "y"
        },
        {
         "hovertemplate": "GICS Sub-Industry=Insurance Brokers<br>CEO Pay Ratio=%{marker.size}<br>Median Employee Pay=%{y}<extra></extra>",
         "legendgroup": "Insurance Brokers",
         "marker": {
          "color": "#FF97FF",
          "size": [
           219.33333333333334
          ],
          "sizemode": "area",
          "sizeref": 12.628333333333332,
          "symbol": "circle"
         },
         "mode": "markers",
         "name": "Insurance Brokers",
         "orientation": "v",
         "showlegend": true,
         "type": "scatter",
         "x": [
          219.33333333333334
         ],
         "xaxis": "x",
         "y": [
          65390
         ],
         "yaxis": "y"
        },
        {
         "hovertemplate": "GICS Sub-Industry=Integrated Oil & Gas<br>CEO Pay Ratio=%{marker.size}<br>Median Employee Pay=%{y}<extra></extra>",
         "legendgroup": "Integrated Oil & Gas",
         "marker": {
          "color": "#FECB52",
          "size": [
           147
          ],
          "sizemode": "area",
          "sizeref": 12.628333333333332,
          "symbol": "circle"
         },
         "mode": "markers",
         "name": "Integrated Oil & Gas",
         "orientation": "v",
         "showlegend": true,
         "type": "scatter",
         "x": [
          147
         ],
         "xaxis": "x",
         "y": [
          164227.66666666666
         ],
         "yaxis": "y"
        },
        {
         "hovertemplate": "GICS Sub-Industry=Integrated Telecommunication Services<br>CEO Pay Ratio=%{marker.size}<br>Median Employee Pay=%{y}<extra></extra>",
         "legendgroup": "Integrated Telecommunication Services",
         "marker": {
          "color": "#636efa",
          "size": [
           215
          ],
          "sizemode": "area",
          "sizeref": 12.628333333333332,
          "symbol": "circle"
         },
         "mode": "markers",
         "name": "Integrated Telecommunication Services",
         "orientation": "v",
         "showlegend": true,
         "type": "scatter",
         "x": [
          215
         ],
         "xaxis": "x",
         "y": [
          135800.5
         ],
         "yaxis": "y"
        },
        {
         "hovertemplate": "GICS Sub-Industry=Interactive Home Entertainment<br>CEO Pay Ratio=%{marker.size}<br>Median Employee Pay=%{y}<extra></extra>",
         "legendgroup": "Interactive Home Entertainment",
         "marker": {
          "color": "#EF553B",
          "size": [
           268.5
          ],
          "sizemode": "area",
          "sizeref": 12.628333333333332,
          "symbol": "circle"
         },
         "mode": "markers",
         "name": "Interactive Home Entertainment",
         "orientation": "v",
         "showlegend": true,
         "type": "scatter",
         "x": [
          268.5
         ],
         "xaxis": "x",
         "y": [
          96147
         ],
         "yaxis": "y"
        },
        {
         "hovertemplate": "GICS Sub-Industry=Interactive Media & Services<br>CEO Pay Ratio=%{marker.size}<br>Median Employee Pay=%{y}<extra></extra>",
         "legendgroup": "Interactive Media & Services",
         "marker": {
          "color": "#00cc96",
          "size": [
           393
          ],
          "sizemode": "area",
          "sizeref": 12.628333333333332,
          "symbol": "circle"
         },
         "mode": "markers",
         "name": "Interactive Media & Services",
         "orientation": "v",
         "showlegend": true,
         "type": "scatter",
         "x": [
          393
         ],
         "xaxis": "x",
         "y": [
          239915.33333333334
         ],
         "yaxis": "y"
        },
        {
         "hovertemplate": "GICS Sub-Industry=Internet & Direct Marketing Retail<br>CEO Pay Ratio=%{marker.size}<br>Median Employee Pay=%{y}<extra></extra>",
         "legendgroup": "Internet & Direct Marketing Retail",
         "marker": {
          "color": "#ab63fa",
          "size": [
           155.33333333333334
          ],
          "sizemode": "area",
          "sizeref": 12.628333333333332,
          "symbol": "circle"
         },
         "mode": "markers",
         "name": "Internet & Direct Marketing Retail",
         "orientation": "v",
         "showlegend": true,
         "type": "scatter",
         "x": [
          155.33333333333334
         ],
         "xaxis": "x",
         "y": [
          84488.33333333333
         ],
         "yaxis": "y"
        },
        {
         "hovertemplate": "GICS Sub-Industry=Internet Services & Infrastructure<br>CEO Pay Ratio=%{marker.size}<br>Median Employee Pay=%{y}<extra></extra>",
         "legendgroup": "Internet Services & Infrastructure",
         "marker": {
          "color": "#FFA15A",
          "size": [
           148
          ],
          "sizemode": "area",
          "sizeref": 12.628333333333332,
          "symbol": "circle"
         },
         "mode": "markers",
         "name": "Internet Services & Infrastructure",
         "orientation": "v",
         "showlegend": true,
         "type": "scatter",
         "x": [
          148
         ],
         "xaxis": "x",
         "y": [
          120325.33333333333
         ],
         "yaxis": "y"
        },
        {
         "hovertemplate": "GICS Sub-Industry=Investment Banking & Brokerage<br>CEO Pay Ratio=%{marker.size}<br>Median Employee Pay=%{y}<extra></extra>",
         "legendgroup": "Investment Banking & Brokerage",
         "marker": {
          "color": "#19d3f3",
          "size": [
           213
          ],
          "sizemode": "area",
          "sizeref": 12.628333333333332,
          "symbol": "circle"
         },
         "mode": "markers",
         "name": "Investment Banking & Brokerage",
         "orientation": "v",
         "showlegend": true,
         "type": "scatter",
         "x": [
          213
         ],
         "xaxis": "x",
         "y": [
          133134
         ],
         "yaxis": "y"
        },
        {
         "hovertemplate": "GICS Sub-Industry=Leisure Products<br>CEO Pay Ratio=%{marker.size}<br>Median Employee Pay=%{y}<extra></extra>",
         "legendgroup": "Leisure Products",
         "marker": {
          "color": "#FF6692",
          "size": [
           127
          ],
          "sizemode": "area",
          "sizeref": 12.628333333333332,
          "symbol": "circle"
         },
         "mode": "markers",
         "name": "Leisure Products",
         "orientation": "v",
         "showlegend": true,
         "type": "scatter",
         "x": [
          127
         ],
         "xaxis": "x",
         "y": [
          66893
         ],
         "yaxis": "y"
        },
        {
         "hovertemplate": "GICS Sub-Industry=Life & Health Insurance<br>CEO Pay Ratio=%{marker.size}<br>Median Employee Pay=%{y}<extra></extra>",
         "legendgroup": "Life & Health Insurance",
         "marker": {
          "color": "#B6E880",
          "size": [
           225.25
          ],
          "sizemode": "area",
          "sizeref": 12.628333333333332,
          "symbol": "circle"
         },
         "mode": "markers",
         "name": "Life & Health Insurance",
         "orientation": "v",
         "showlegend": true,
         "type": "scatter",
         "x": [
          225.25
         ],
         "xaxis": "x",
         "y": [
          74100.5
         ],
         "yaxis": "y"
        },
        {
         "hovertemplate": "GICS Sub-Industry=Life Sciences Tools & Services<br>CEO Pay Ratio=%{marker.size}<br>Median Employee Pay=%{y}<extra></extra>",
         "legendgroup": "Life Sciences Tools & Services",
         "marker": {
          "color": "#FF97FF",
          "size": [
           122
          ],
          "sizemode": "area",
          "sizeref": 12.628333333333332,
          "symbol": "circle"
         },
         "mode": "markers",
         "name": "Life Sciences Tools & Services",
         "orientation": "v",
         "showlegend": true,
         "type": "scatter",
         "x": [
          122
         ],
         "xaxis": "x",
         "y": [
          83847.33333333333
         ],
         "yaxis": "y"
        },
        {
         "hovertemplate": "GICS Sub-Industry=Managed Health Care<br>CEO Pay Ratio=%{marker.size}<br>Median Employee Pay=%{y}<extra></extra>",
         "legendgroup": "Managed Health Care",
         "marker": {
          "color": "#FECB52",
          "size": [
           302.4
          ],
          "sizemode": "area",
          "sizeref": 12.628333333333332,
          "symbol": "circle"
         },
         "mode": "markers",
         "name": "Managed Health Care",
         "orientation": "v",
         "showlegend": true,
         "type": "scatter",
         "x": [
          302.4
         ],
         "xaxis": "x",
         "y": [
          64522
         ],
         "yaxis": "y"
        },
        {
         "hovertemplate": "GICS Sub-Industry=Metal & Glass Containers<br>CEO Pay Ratio=%{marker.size}<br>Median Employee Pay=%{y}<extra></extra>",
         "legendgroup": "Metal & Glass Containers",
         "marker": {
          "color": "#636efa",
          "size": [
           126
          ],
          "sizemode": "area",
          "sizeref": 12.628333333333332,
          "symbol": "circle"
         },
         "mode": "markers",
         "name": "Metal & Glass Containers",
         "orientation": "v",
         "showlegend": true,
         "type": "scatter",
         "x": [
          126
         ],
         "xaxis": "x",
         "y": [
          93903
         ],
         "yaxis": "y"
        },
        {
         "hovertemplate": "GICS Sub-Industry=Movies & Entertainment<br>CEO Pay Ratio=%{marker.size}<br>Median Employee Pay=%{y}<extra></extra>",
         "legendgroup": "Movies & Entertainment",
         "marker": {
          "color": "#EF553B",
          "size": [
           631.6666666666666
          ],
          "sizemode": "area",
          "sizeref": 12.628333333333332,
          "symbol": "circle"
         },
         "mode": "markers",
         "name": "Movies & Entertainment",
         "orientation": "v",
         "showlegend": true,
         "type": "scatter",
         "x": [
          631.6666666666666
         ],
         "xaxis": "x",
         "y": [
          91149.33333333333
         ],
         "yaxis": "y"
        },
        {
         "hovertemplate": "GICS Sub-Industry=Multi-Sector Holdings<br>CEO Pay Ratio=%{marker.size}<br>Median Employee Pay=%{y}<extra></extra>",
         "legendgroup": "Multi-Sector Holdings",
         "marker": {
          "color": "#00cc96",
          "size": [
           6
          ],
          "sizemode": "area",
          "sizeref": 12.628333333333332,
          "symbol": "circle"
         },
         "mode": "markers",
         "name": "Multi-Sector Holdings",
         "orientation": "v",
         "showlegend": true,
         "type": "scatter",
         "x": [
          6
         ],
         "xaxis": "x",
         "y": [
          65740
         ],
         "yaxis": "y"
        },
        {
         "hovertemplate": "GICS Sub-Industry=Multi-Utilities<br>CEO Pay Ratio=%{marker.size}<br>Median Employee Pay=%{y}<extra></extra>",
         "legendgroup": "Multi-Utilities",
         "marker": {
          "color": "#ab63fa",
          "size": [
           102.27272727272727
          ],
          "sizemode": "area",
          "sizeref": 12.628333333333332,
          "symbol": "circle"
         },
         "mode": "markers",
         "name": "Multi-Utilities",
         "orientation": "v",
         "showlegend": true,
         "type": "scatter",
         "x": [
          102.27272727272727
         ],
         "xaxis": "x",
         "y": [
          124371.63636363637
         ],
         "yaxis": "y"
        },
        {
         "hovertemplate": "GICS Sub-Industry=Multi-line Insurance<br>CEO Pay Ratio=%{marker.size}<br>Median Employee Pay=%{y}<extra></extra>",
         "legendgroup": "Multi-line Insurance",
         "marker": {
          "color": "#FFA15A",
          "size": [
           189
          ],
          "sizemode": "area",
          "sizeref": 12.628333333333332,
          "symbol": "circle"
         },
         "mode": "markers",
         "name": "Multi-line Insurance",
         "orientation": "v",
         "showlegend": true,
         "type": "scatter",
         "x": [
          189
         ],
         "xaxis": "x",
         "y": [
          62113.666666666664
         ],
         "yaxis": "y"
        },
        {
         "hovertemplate": "GICS Sub-Industry=Office REITs<br>CEO Pay Ratio=%{marker.size}<br>Median Employee Pay=%{y}<extra></extra>",
         "legendgroup": "Office REITs",
         "marker": {
          "color": "#19d3f3",
          "size": [
           190
          ],
          "sizemode": "area",
          "sizeref": 12.628333333333332,
          "symbol": "circle"
         },
         "mode": "markers",
         "name": "Office REITs",
         "orientation": "v",
         "showlegend": true,
         "type": "scatter",
         "x": [
          190
         ],
         "xaxis": "x",
         "y": [
          84198.33333333333
         ],
         "yaxis": "y"
        },
        {
         "hovertemplate": "GICS Sub-Industry=Oil & Gas Equipment & Services<br>CEO Pay Ratio=%{marker.size}<br>Median Employee Pay=%{y}<extra></extra>",
         "legendgroup": "Oil & Gas Equipment & Services",
         "marker": {
          "color": "#FF6692",
          "size": [
           220.5
          ],
          "sizemode": "area",
          "sizeref": 12.628333333333332,
          "symbol": "circle"
         },
         "mode": "markers",
         "name": "Oil & Gas Equipment & Services",
         "orientation": "v",
         "showlegend": true,
         "type": "scatter",
         "x": [
          220.5
         ],
         "xaxis": "x",
         "y": [
          68244.5
         ],
         "yaxis": "y"
        },
        {
         "hovertemplate": "GICS Sub-Industry=Oil & Gas Exploration & Production<br>CEO Pay Ratio=%{marker.size}<br>Median Employee Pay=%{y}<extra></extra>",
         "legendgroup": "Oil & Gas Exploration & Production",
         "marker": {
          "color": "#B6E880",
          "size": [
           109.11111111111111
          ],
          "sizemode": "area",
          "sizeref": 12.628333333333332,
          "symbol": "circle"
         },
         "mode": "markers",
         "name": "Oil & Gas Exploration & Production",
         "orientation": "v",
         "showlegend": true,
         "type": "scatter",
         "x": [
          109.11111111111111
         ],
         "xaxis": "x",
         "y": [
          149869.77777777778
         ],
         "yaxis": "y"
        },
        {
         "hovertemplate": "GICS Sub-Industry=Oil & Gas Refining & Marketing<br>CEO Pay Ratio=%{marker.size}<br>Median Employee Pay=%{y}<extra></extra>",
         "legendgroup": "Oil & Gas Refining & Marketing",
         "marker": {
          "color": "#FF97FF",
          "size": [
           106.75
          ],
          "sizemode": "area",
          "sizeref": 12.628333333333332,
          "symbol": "circle"
         },
         "mode": "markers",
         "name": "Oil & Gas Refining & Marketing",
         "orientation": "v",
         "showlegend": true,
         "type": "scatter",
         "x": [
          106.75
         ],
         "xaxis": "x",
         "y": [
          200158.75
         ],
         "yaxis": "y"
        },
        {
         "hovertemplate": "GICS Sub-Industry=Oil & Gas Storage & Transportation<br>CEO Pay Ratio=%{marker.size}<br>Median Employee Pay=%{y}<extra></extra>",
         "legendgroup": "Oil & Gas Storage & Transportation",
         "marker": {
          "color": "#FECB52",
          "size": [
           40
          ],
          "sizemode": "area",
          "sizeref": 12.628333333333332,
          "symbol": "circle"
         },
         "mode": "markers",
         "name": "Oil & Gas Storage & Transportation",
         "orientation": "v",
         "showlegend": true,
         "type": "scatter",
         "x": [
          40
         ],
         "xaxis": "x",
         "y": [
          123813
         ],
         "yaxis": "y"
        },
        {
         "hovertemplate": "GICS Sub-Industry=Packaged Foods & Meats<br>CEO Pay Ratio=%{marker.size}<br>Median Employee Pay=%{y}<extra></extra>",
         "legendgroup": "Packaged Foods & Meats",
         "marker": {
          "color": "#636efa",
          "size": [
           306.77777777777777
          ],
          "sizemode": "area",
          "sizeref": 12.628333333333332,
          "symbol": "circle"
         },
         "mode": "markers",
         "name": "Packaged Foods & Meats",
         "orientation": "v",
         "showlegend": true,
         "type": "scatter",
         "x": [
          306.77777777777777
         ],
         "xaxis": "x",
         "y": [
          46025.444444444445
         ],
         "yaxis": "y"
        },
        {
         "hovertemplate": "GICS Sub-Industry=Paper Packaging<br>CEO Pay Ratio=%{marker.size}<br>Median Employee Pay=%{y}<extra></extra>",
         "legendgroup": "Paper Packaging",
         "marker": {
          "color": "#EF553B",
          "size": [
           299.5
          ],
          "sizemode": "area",
          "sizeref": 12.628333333333332,
          "symbol": "circle"
         },
         "mode": "markers",
         "name": "Paper Packaging",
         "orientation": "v",
         "showlegend": true,
         "type": "scatter",
         "x": [
          299.5
         ],
         "xaxis": "x",
         "y": [
          49383.25
         ],
         "yaxis": "y"
        },
        {
         "hovertemplate": "GICS Sub-Industry=Personal Products<br>CEO Pay Ratio=%{marker.size}<br>Median Employee Pay=%{y}<extra></extra>",
         "legendgroup": "Personal Products",
         "marker": {
          "color": "#00cc96",
          "size": [
           333
          ],
          "sizemode": "area",
          "sizeref": 12.628333333333332,
          "symbol": "circle"
         },
         "mode": "markers",
         "name": "Personal Products",
         "orientation": "v",
         "showlegend": true,
         "type": "scatter",
         "x": [
          333
         ],
         "xaxis": "x",
         "y": [
          68883
         ],
         "yaxis": "y"
        },
        {
         "hovertemplate": "GICS Sub-Industry=Pharmaceuticals<br>CEO Pay Ratio=%{marker.size}<br>Median Employee Pay=%{y}<extra></extra>",
         "legendgroup": "Pharmaceuticals",
         "marker": {
          "color": "#ab63fa",
          "size": [
           225.125
          ],
          "sizemode": "area",
          "sizeref": 12.628333333333332,
          "symbol": "circle"
         },
         "mode": "markers",
         "name": "Pharmaceuticals",
         "orientation": "v",
         "showlegend": true,
         "type": "scatter",
         "x": [
          225.125
         ],
         "xaxis": "x",
         "y": [
          86932.75
         ],
         "yaxis": "y"
        },
        {
         "hovertemplate": "GICS Sub-Industry=Property & Casualty Insurance<br>CEO Pay Ratio=%{marker.size}<br>Median Employee Pay=%{y}<extra></extra>",
         "legendgroup": "Property & Casualty Insurance",
         "marker": {
          "color": "#FFA15A",
          "size": [
           220.66666666666666
          ],
          "sizemode": "area",
          "sizeref": 12.628333333333332,
          "symbol": "circle"
         },
         "mode": "markers",
         "name": "Property & Casualty Insurance",
         "orientation": "v",
         "showlegend": true,
         "type": "scatter",
         "x": [
          220.66666666666666
         ],
         "xaxis": "x",
         "y": [
          75125
         ],
         "yaxis": "y"
        },
        {
         "hovertemplate": "GICS Sub-Industry=Railroads<br>CEO Pay Ratio=%{marker.size}<br>Median Employee Pay=%{y}<extra></extra>",
         "legendgroup": "Railroads",
         "marker": {
          "color": "#19d3f3",
          "size": [
           148.25
          ],
          "sizemode": "area",
          "sizeref": 12.628333333333332,
          "symbol": "circle"
         },
         "mode": "markers",
         "name": "Railroads",
         "orientation": "v",
         "showlegend": true,
         "type": "scatter",
         "x": [
          148.25
         ],
         "xaxis": "x",
         "y": [
          83435.5
         ],
         "yaxis": "y"
        },
        {
         "hovertemplate": "GICS Sub-Industry=Real Estate Services<br>CEO Pay Ratio=%{marker.size}<br>Median Employee Pay=%{y}<extra></extra>",
         "legendgroup": "Real Estate Services",
         "marker": {
          "color": "#FF6692",
          "size": [
           157
          ],
          "sizemode": "area",
          "sizeref": 12.628333333333332,
          "symbol": "circle"
         },
         "mode": "markers",
         "name": "Real Estate Services",
         "orientation": "v",
         "showlegend": true,
         "type": "scatter",
         "x": [
          157
         ],
         "xaxis": "x",
         "y": [
          65849
         ],
         "yaxis": "y"
        },
        {
         "hovertemplate": "GICS Sub-Industry=Regional Banks<br>CEO Pay Ratio=%{marker.size}<br>Median Employee Pay=%{y}<extra></extra>",
         "legendgroup": "Regional Banks",
         "marker": {
          "color": "#B6E880",
          "size": [
           154.2
          ],
          "sizemode": "area",
          "sizeref": 12.628333333333332,
          "symbol": "circle"
         },
         "mode": "markers",
         "name": "Regional Banks",
         "orientation": "v",
         "showlegend": true,
         "type": "scatter",
         "x": [
          154.2
         ],
         "xaxis": "x",
         "y": [
          64137.2
         ],
         "yaxis": "y"
        },
        {
         "hovertemplate": "GICS Sub-Industry=Reinsurance<br>CEO Pay Ratio=%{marker.size}<br>Median Employee Pay=%{y}<extra></extra>",
         "legendgroup": "Reinsurance",
         "marker": {
          "color": "#FF97FF",
          "size": [
           53
          ],
          "sizemode": "area",
          "sizeref": 12.628333333333332,
          "symbol": "circle"
         },
         "mode": "markers",
         "name": "Reinsurance",
         "orientation": "v",
         "showlegend": true,
         "type": "scatter",
         "x": [
          53
         ],
         "xaxis": "x",
         "y": [
          144915
         ],
         "yaxis": "y"
        },
        {
         "hovertemplate": "GICS Sub-Industry=Research & Consulting Services<br>CEO Pay Ratio=%{marker.size}<br>Median Employee Pay=%{y}<extra></extra>",
         "legendgroup": "Research & Consulting Services",
         "marker": {
          "color": "#FECB52",
          "size": [
           213.75
          ],
          "sizemode": "area",
          "sizeref": 12.628333333333332,
          "symbol": "circle"
         },
         "mode": "markers",
         "name": "Research & Consulting Services",
         "orientation": "v",
         "showlegend": true,
         "type": "scatter",
         "x": [
          213.75
         ],
         "xaxis": "x",
         "y": [
          68232.5
         ],
         "yaxis": "y"
        },
        {
         "hovertemplate": "GICS Sub-Industry=Residential REITs<br>CEO Pay Ratio=%{marker.size}<br>Median Employee Pay=%{y}<extra></extra>",
         "legendgroup": "Residential REITs",
         "marker": {
          "color": "#636efa",
          "size": [
           123.8
          ],
          "sizemode": "area",
          "sizeref": 12.628333333333332,
          "symbol": "circle"
         },
         "mode": "markers",
         "name": "Residential REITs",
         "orientation": "v",
         "showlegend": true,
         "type": "scatter",
         "x": [
          123.8
         ],
         "xaxis": "x",
         "y": [
          69459.4
         ],
         "yaxis": "y"
        },
        {
         "hovertemplate": "GICS Sub-Industry=Restaurants<br>CEO Pay Ratio=%{marker.size}<br>Median Employee Pay=%{y}<extra></extra>",
         "legendgroup": "Restaurants",
         "marker": {
          "color": "#EF553B",
          "size": [
           5051.333333333333
          ],
          "sizemode": "area",
          "sizeref": 12.628333333333332,
          "symbol": "circle"
         },
         "mode": "markers",
         "name": "Restaurants",
         "orientation": "v",
         "showlegend": true,
         "type": "scatter",
         "x": [
          5051.333333333333
         ],
         "xaxis": "x",
         "y": [
          13706.166666666666
         ],
         "yaxis": "y"
        },
        {
         "hovertemplate": "GICS Sub-Industry=Retail REITs<br>CEO Pay Ratio=%{marker.size}<br>Median Employee Pay=%{y}<extra></extra>",
         "legendgroup": "Retail REITs",
         "marker": {
          "color": "#00cc96",
          "size": [
           87
          ],
          "sizemode": "area",
          "sizeref": 12.628333333333332,
          "symbol": "circle"
         },
         "mode": "markers",
         "name": "Retail REITs",
         "orientation": "v",
         "showlegend": true,
         "type": "scatter",
         "x": [
          87
         ],
         "xaxis": "x",
         "y": [
          95417
         ],
         "yaxis": "y"
        },
        {
         "hovertemplate": "GICS Sub-Industry=Semiconductor Equipment<br>CEO Pay Ratio=%{marker.size}<br>Median Employee Pay=%{y}<extra></extra>",
         "legendgroup": "Semiconductor Equipment",
         "marker": {
          "color": "#ab63fa",
          "size": [
           109.66666666666667
          ],
          "sizemode": "area",
          "sizeref": 12.628333333333332,
          "symbol": "circle"
         },
         "mode": "markers",
         "name": "Semiconductor Equipment",
         "orientation": "v",
         "showlegend": true,
         "type": "scatter",
         "x": [
          109.66666666666667
         ],
         "xaxis": "x",
         "y": [
          102075.33333333333
         ],
         "yaxis": "y"
        },
        {
         "hovertemplate": "GICS Sub-Industry=Semiconductors<br>CEO Pay Ratio=%{marker.size}<br>Median Employee Pay=%{y}<extra></extra>",
         "legendgroup": "Semiconductors",
         "marker": {
          "color": "#FFA15A",
          "size": [
           301.0833333333333
          ],
          "sizemode": "area",
          "sizeref": 12.628333333333332,
          "symbol": "circle"
         },
         "mode": "markers",
         "name": "Semiconductors",
         "orientation": "v",
         "showlegend": true,
         "type": "scatter",
         "x": [
          301.0833333333333
         ],
         "xaxis": "x",
         "y": [
          85674.58333333333
         ],
         "yaxis": "y"
        },
        {
         "hovertemplate": "GICS Sub-Industry=Soft Drinks<br>CEO Pay Ratio=%{marker.size}<br>Median Employee Pay=%{y}<extra></extra>",
         "legendgroup": "Soft Drinks",
         "marker": {
          "color": "#19d3f3",
          "size": [
           758.6666666666666
          ],
          "sizemode": "area",
          "sizeref": 12.628333333333332,
          "symbol": "circle"
         },
         "mode": "markers",
         "name": "Soft Drinks",
         "orientation": "v",
         "showlegend": true,
         "type": "scatter",
         "x": [
          758.6666666666666
         ],
         "xaxis": "x",
         "y": [
          37517
         ],
         "yaxis": "y"
        },
        {
         "hovertemplate": "GICS Sub-Industry=Specialized REITs<br>CEO Pay Ratio=%{marker.size}<br>Median Employee Pay=%{y}<extra></extra>",
         "legendgroup": "Specialized REITs",
         "marker": {
          "color": "#FF6692",
          "size": [
           126.28571428571429
          ],
          "sizemode": "area",
          "sizeref": 12.628333333333332,
          "symbol": "circle"
         },
         "mode": "markers",
         "name": "Specialized REITs",
         "orientation": "v",
         "showlegend": true,
         "type": "scatter",
         "x": [
          126.28571428571429
         ],
         "xaxis": "x",
         "y": [
          83803.42857142857
         ],
         "yaxis": "y"
        },
        {
         "hovertemplate": "GICS Sub-Industry=Specialty Chemicals<br>CEO Pay Ratio=%{marker.size}<br>Median Employee Pay=%{y}<extra></extra>",
         "legendgroup": "Specialty Chemicals",
         "marker": {
          "color": "#B6E880",
          "size": [
           257
          ],
          "sizemode": "area",
          "sizeref": 12.628333333333332,
          "symbol": "circle"
         },
         "mode": "markers",
         "name": "Specialty Chemicals",
         "orientation": "v",
         "showlegend": true,
         "type": "scatter",
         "x": [
          257
         ],
         "xaxis": "x",
         "y": [
          62098
         ],
         "yaxis": "y"
        },
        {
         "hovertemplate": "GICS Sub-Industry=Specialty Stores<br>CEO Pay Ratio=%{marker.size}<br>Median Employee Pay=%{y}<extra></extra>",
         "legendgroup": "Specialty Stores",
         "marker": {
          "color": "#FF97FF",
          "size": [
           304.8
          ],
          "sizemode": "area",
          "sizeref": 12.628333333333332,
          "symbol": "circle"
         },
         "mode": "markers",
         "name": "Specialty Stores",
         "orientation": "v",
         "showlegend": true,
         "type": "scatter",
         "x": [
          304.8
         ],
         "xaxis": "x",
         "y": [
          31326.4
         ],
         "yaxis": "y"
        },
        {
         "hovertemplate": "GICS Sub-Industry=Steel<br>CEO Pay Ratio=%{marker.size}<br>Median Employee Pay=%{y}<extra></extra>",
         "legendgroup": "Steel",
         "marker": {
          "color": "#FECB52",
          "size": [
           218
          ],
          "sizemode": "area",
          "sizeref": 12.628333333333332,
          "symbol": "circle"
         },
         "mode": "markers",
         "name": "Steel",
         "orientation": "v",
         "showlegend": true,
         "type": "scatter",
         "x": [
          218
         ],
         "xaxis": "x",
         "y": [
          87573
         ],
         "yaxis": "y"
        },
        {
         "hovertemplate": "GICS Sub-Industry=Systems Software<br>CEO Pay Ratio=%{marker.size}<br>Median Employee Pay=%{y}<extra></extra>",
         "legendgroup": "Systems Software",
         "marker": {
          "color": "#636efa",
          "size": [
           132
          ],
          "sizemode": "area",
          "sizeref": 12.628333333333332,
          "symbol": "circle"
         },
         "mode": "markers",
         "name": "Systems Software",
         "orientation": "v",
         "showlegend": true,
         "type": "scatter",
         "x": [
          132
         ],
         "xaxis": "x",
         "y": [
          175944.33333333334
         ],
         "yaxis": "y"
        },
        {
         "hovertemplate": "GICS Sub-Industry=Technology Distributors<br>CEO Pay Ratio=%{marker.size}<br>Median Employee Pay=%{y}<extra></extra>",
         "legendgroup": "Technology Distributors",
         "marker": {
          "color": "#EF553B",
          "size": [
           66
          ],
          "sizemode": "area",
          "sizeref": 12.628333333333332,
          "symbol": "circle"
         },
         "mode": "markers",
         "name": "Technology Distributors",
         "orientation": "v",
         "showlegend": true,
         "type": "scatter",
         "x": [
          66
         ],
         "xaxis": "x",
         "y": [
          93452
         ],
         "yaxis": "y"
        },
        {
         "hovertemplate": "GICS Sub-Industry=Technology Hardware, Storage & Peripherals<br>CEO Pay Ratio=%{marker.size}<br>Median Employee Pay=%{y}<extra></extra>",
         "legendgroup": "Technology Hardware, Storage & Peripherals",
         "marker": {
          "color": "#00cc96",
          "size": [
           538.5714285714286
          ],
          "sizemode": "area",
          "sizeref": 12.628333333333332,
          "symbol": "circle"
         },
         "mode": "markers",
         "name": "Technology Hardware, Storage & Peripherals",
         "orientation": "v",
         "showlegend": true,
         "type": "scatter",
         "x": [
          538.5714285714286
         ],
         "xaxis": "x",
         "y": [
          66659.71428571429
         ],
         "yaxis": "y"
        },
        {
         "hovertemplate": "GICS Sub-Industry=Thrifts & Mortgage Finance<br>CEO Pay Ratio=%{marker.size}<br>Median Employee Pay=%{y}<extra></extra>",
         "legendgroup": "Thrifts & Mortgage Finance",
         "marker": {
          "color": "#ab63fa",
          "size": [
           86
          ],
          "sizemode": "area",
          "sizeref": 12.628333333333332,
          "symbol": "circle"
         },
         "mode": "markers",
         "name": "Thrifts & Mortgage Finance",
         "orientation": "v",
         "showlegend": true,
         "type": "scatter",
         "x": [
          86
         ],
         "xaxis": "x",
         "y": [
          66596
         ],
         "yaxis": "y"
        },
        {
         "hovertemplate": "GICS Sub-Industry=Tobacco<br>CEO Pay Ratio=%{marker.size}<br>Median Employee Pay=%{y}<extra></extra>",
         "legendgroup": "Tobacco",
         "marker": {
          "color": "#FFA15A",
          "size": [
           632.5
          ],
          "sizemode": "area",
          "sizeref": 12.628333333333332,
          "symbol": "circle"
         },
         "mode": "markers",
         "name": "Tobacco",
         "orientation": "v",
         "showlegend": true,
         "type": "scatter",
         "x": [
          632.5
         ],
         "xaxis": "x",
         "y": [
          80690
         ],
         "yaxis": "y"
        },
        {
         "hovertemplate": "GICS Sub-Industry=Trading Companies & Distributors<br>CEO Pay Ratio=%{marker.size}<br>Median Employee Pay=%{y}<extra></extra>",
         "legendgroup": "Trading Companies & Distributors",
         "marker": {
          "color": "#19d3f3",
          "size": [
           84
          ],
          "sizemode": "area",
          "sizeref": 12.628333333333332,
          "symbol": "circle"
         },
         "mode": "markers",
         "name": "Trading Companies & Distributors",
         "orientation": "v",
         "showlegend": true,
         "type": "scatter",
         "x": [
          84
         ],
         "xaxis": "x",
         "y": [
          73881
         ],
         "yaxis": "y"
        },
        {
         "hovertemplate": "GICS Sub-Industry=Water Utilities<br>CEO Pay Ratio=%{marker.size}<br>Median Employee Pay=%{y}<extra></extra>",
         "legendgroup": "Water Utilities",
         "marker": {
          "color": "#FF6692",
          "size": [
           60
          ],
          "sizemode": "area",
          "sizeref": 12.628333333333332,
          "symbol": "circle"
         },
         "mode": "markers",
         "name": "Water Utilities",
         "orientation": "v",
         "showlegend": true,
         "type": "scatter",
         "x": [
          60
         ],
         "xaxis": "x",
         "y": [
          83599
         ],
         "yaxis": "y"
        },
        {
         "hovertemplate": "GICS Sub-Industry=Wireless Telecommunication Services<br>CEO Pay Ratio=%{marker.size}<br>Median Employee Pay=%{y}<extra></extra>",
         "legendgroup": "Wireless Telecommunication Services",
         "marker": {
          "color": "#B6E880",
          "size": [
           446
          ],
          "sizemode": "area",
          "sizeref": 12.628333333333332,
          "symbol": "circle"
         },
         "mode": "markers",
         "name": "Wireless Telecommunication Services",
         "orientation": "v",
         "showlegend": true,
         "type": "scatter",
         "x": [
          446
         ],
         "xaxis": "x",
         "y": [
          62195
         ],
         "yaxis": "y"
        }
       ],
       "layout": {
        "legend": {
         "itemsizing": "constant",
         "title": {
          "text": "GICS Sub-Industry"
         },
         "tracegroupgap": 0
        },
        "margin": {
         "t": 60
        },
        "template": {
         "data": {
          "bar": [
           {
            "error_x": {
             "color": "#2a3f5f"
            },
            "error_y": {
             "color": "#2a3f5f"
            },
            "marker": {
             "line": {
              "color": "#E5ECF6",
              "width": 0.5
             }
            },
            "type": "bar"
           }
          ],
          "barpolar": [
           {
            "marker": {
             "line": {
              "color": "#E5ECF6",
              "width": 0.5
             }
            },
            "type": "barpolar"
           }
          ],
          "carpet": [
           {
            "aaxis": {
             "endlinecolor": "#2a3f5f",
             "gridcolor": "white",
             "linecolor": "white",
             "minorgridcolor": "white",
             "startlinecolor": "#2a3f5f"
            },
            "baxis": {
             "endlinecolor": "#2a3f5f",
             "gridcolor": "white",
             "linecolor": "white",
             "minorgridcolor": "white",
             "startlinecolor": "#2a3f5f"
            },
            "type": "carpet"
           }
          ],
          "choropleth": [
           {
            "colorbar": {
             "outlinewidth": 0,
             "ticks": ""
            },
            "type": "choropleth"
           }
          ],
          "contour": [
           {
            "colorbar": {
             "outlinewidth": 0,
             "ticks": ""
            },
            "colorscale": [
             [
              0,
              "#0d0887"
             ],
             [
              0.1111111111111111,
              "#46039f"
             ],
             [
              0.2222222222222222,
              "#7201a8"
             ],
             [
              0.3333333333333333,
              "#9c179e"
             ],
             [
              0.4444444444444444,
              "#bd3786"
             ],
             [
              0.5555555555555556,
              "#d8576b"
             ],
             [
              0.6666666666666666,
              "#ed7953"
             ],
             [
              0.7777777777777778,
              "#fb9f3a"
             ],
             [
              0.8888888888888888,
              "#fdca26"
             ],
             [
              1,
              "#f0f921"
             ]
            ],
            "type": "contour"
           }
          ],
          "contourcarpet": [
           {
            "colorbar": {
             "outlinewidth": 0,
             "ticks": ""
            },
            "type": "contourcarpet"
           }
          ],
          "heatmap": [
           {
            "colorbar": {
             "outlinewidth": 0,
             "ticks": ""
            },
            "colorscale": [
             [
              0,
              "#0d0887"
             ],
             [
              0.1111111111111111,
              "#46039f"
             ],
             [
              0.2222222222222222,
              "#7201a8"
             ],
             [
              0.3333333333333333,
              "#9c179e"
             ],
             [
              0.4444444444444444,
              "#bd3786"
             ],
             [
              0.5555555555555556,
              "#d8576b"
             ],
             [
              0.6666666666666666,
              "#ed7953"
             ],
             [
              0.7777777777777778,
              "#fb9f3a"
             ],
             [
              0.8888888888888888,
              "#fdca26"
             ],
             [
              1,
              "#f0f921"
             ]
            ],
            "type": "heatmap"
           }
          ],
          "heatmapgl": [
           {
            "colorbar": {
             "outlinewidth": 0,
             "ticks": ""
            },
            "colorscale": [
             [
              0,
              "#0d0887"
             ],
             [
              0.1111111111111111,
              "#46039f"
             ],
             [
              0.2222222222222222,
              "#7201a8"
             ],
             [
              0.3333333333333333,
              "#9c179e"
             ],
             [
              0.4444444444444444,
              "#bd3786"
             ],
             [
              0.5555555555555556,
              "#d8576b"
             ],
             [
              0.6666666666666666,
              "#ed7953"
             ],
             [
              0.7777777777777778,
              "#fb9f3a"
             ],
             [
              0.8888888888888888,
              "#fdca26"
             ],
             [
              1,
              "#f0f921"
             ]
            ],
            "type": "heatmapgl"
           }
          ],
          "histogram": [
           {
            "marker": {
             "colorbar": {
              "outlinewidth": 0,
              "ticks": ""
             }
            },
            "type": "histogram"
           }
          ],
          "histogram2d": [
           {
            "colorbar": {
             "outlinewidth": 0,
             "ticks": ""
            },
            "colorscale": [
             [
              0,
              "#0d0887"
             ],
             [
              0.1111111111111111,
              "#46039f"
             ],
             [
              0.2222222222222222,
              "#7201a8"
             ],
             [
              0.3333333333333333,
              "#9c179e"
             ],
             [
              0.4444444444444444,
              "#bd3786"
             ],
             [
              0.5555555555555556,
              "#d8576b"
             ],
             [
              0.6666666666666666,
              "#ed7953"
             ],
             [
              0.7777777777777778,
              "#fb9f3a"
             ],
             [
              0.8888888888888888,
              "#fdca26"
             ],
             [
              1,
              "#f0f921"
             ]
            ],
            "type": "histogram2d"
           }
          ],
          "histogram2dcontour": [
           {
            "colorbar": {
             "outlinewidth": 0,
             "ticks": ""
            },
            "colorscale": [
             [
              0,
              "#0d0887"
             ],
             [
              0.1111111111111111,
              "#46039f"
             ],
             [
              0.2222222222222222,
              "#7201a8"
             ],
             [
              0.3333333333333333,
              "#9c179e"
             ],
             [
              0.4444444444444444,
              "#bd3786"
             ],
             [
              0.5555555555555556,
              "#d8576b"
             ],
             [
              0.6666666666666666,
              "#ed7953"
             ],
             [
              0.7777777777777778,
              "#fb9f3a"
             ],
             [
              0.8888888888888888,
              "#fdca26"
             ],
             [
              1,
              "#f0f921"
             ]
            ],
            "type": "histogram2dcontour"
           }
          ],
          "mesh3d": [
           {
            "colorbar": {
             "outlinewidth": 0,
             "ticks": ""
            },
            "type": "mesh3d"
           }
          ],
          "parcoords": [
           {
            "line": {
             "colorbar": {
              "outlinewidth": 0,
              "ticks": ""
             }
            },
            "type": "parcoords"
           }
          ],
          "pie": [
           {
            "automargin": true,
            "type": "pie"
           }
          ],
          "scatter": [
           {
            "marker": {
             "colorbar": {
              "outlinewidth": 0,
              "ticks": ""
             }
            },
            "type": "scatter"
           }
          ],
          "scatter3d": [
           {
            "line": {
             "colorbar": {
              "outlinewidth": 0,
              "ticks": ""
             }
            },
            "marker": {
             "colorbar": {
              "outlinewidth": 0,
              "ticks": ""
             }
            },
            "type": "scatter3d"
           }
          ],
          "scattercarpet": [
           {
            "marker": {
             "colorbar": {
              "outlinewidth": 0,
              "ticks": ""
             }
            },
            "type": "scattercarpet"
           }
          ],
          "scattergeo": [
           {
            "marker": {
             "colorbar": {
              "outlinewidth": 0,
              "ticks": ""
             }
            },
            "type": "scattergeo"
           }
          ],
          "scattergl": [
           {
            "marker": {
             "colorbar": {
              "outlinewidth": 0,
              "ticks": ""
             }
            },
            "type": "scattergl"
           }
          ],
          "scattermapbox": [
           {
            "marker": {
             "colorbar": {
              "outlinewidth": 0,
              "ticks": ""
             }
            },
            "type": "scattermapbox"
           }
          ],
          "scatterpolar": [
           {
            "marker": {
             "colorbar": {
              "outlinewidth": 0,
              "ticks": ""
             }
            },
            "type": "scatterpolar"
           }
          ],
          "scatterpolargl": [
           {
            "marker": {
             "colorbar": {
              "outlinewidth": 0,
              "ticks": ""
             }
            },
            "type": "scatterpolargl"
           }
          ],
          "scatterternary": [
           {
            "marker": {
             "colorbar": {
              "outlinewidth": 0,
              "ticks": ""
             }
            },
            "type": "scatterternary"
           }
          ],
          "surface": [
           {
            "colorbar": {
             "outlinewidth": 0,
             "ticks": ""
            },
            "colorscale": [
             [
              0,
              "#0d0887"
             ],
             [
              0.1111111111111111,
              "#46039f"
             ],
             [
              0.2222222222222222,
              "#7201a8"
             ],
             [
              0.3333333333333333,
              "#9c179e"
             ],
             [
              0.4444444444444444,
              "#bd3786"
             ],
             [
              0.5555555555555556,
              "#d8576b"
             ],
             [
              0.6666666666666666,
              "#ed7953"
             ],
             [
              0.7777777777777778,
              "#fb9f3a"
             ],
             [
              0.8888888888888888,
              "#fdca26"
             ],
             [
              1,
              "#f0f921"
             ]
            ],
            "type": "surface"
           }
          ],
          "table": [
           {
            "cells": {
             "fill": {
              "color": "#EBF0F8"
             },
             "line": {
              "color": "white"
             }
            },
            "header": {
             "fill": {
              "color": "#C8D4E3"
             },
             "line": {
              "color": "white"
             }
            },
            "type": "table"
           }
          ]
         },
         "layout": {
          "annotationdefaults": {
           "arrowcolor": "#2a3f5f",
           "arrowhead": 0,
           "arrowwidth": 1
          },
          "autotypenumbers": "strict",
          "coloraxis": {
           "colorbar": {
            "outlinewidth": 0,
            "ticks": ""
           }
          },
          "colorscale": {
           "diverging": [
            [
             0,
             "#8e0152"
            ],
            [
             0.1,
             "#c51b7d"
            ],
            [
             0.2,
             "#de77ae"
            ],
            [
             0.3,
             "#f1b6da"
            ],
            [
             0.4,
             "#fde0ef"
            ],
            [
             0.5,
             "#f7f7f7"
            ],
            [
             0.6,
             "#e6f5d0"
            ],
            [
             0.7,
             "#b8e186"
            ],
            [
             0.8,
             "#7fbc41"
            ],
            [
             0.9,
             "#4d9221"
            ],
            [
             1,
             "#276419"
            ]
           ],
           "sequential": [
            [
             0,
             "#0d0887"
            ],
            [
             0.1111111111111111,
             "#46039f"
            ],
            [
             0.2222222222222222,
             "#7201a8"
            ],
            [
             0.3333333333333333,
             "#9c179e"
            ],
            [
             0.4444444444444444,
             "#bd3786"
            ],
            [
             0.5555555555555556,
             "#d8576b"
            ],
            [
             0.6666666666666666,
             "#ed7953"
            ],
            [
             0.7777777777777778,
             "#fb9f3a"
            ],
            [
             0.8888888888888888,
             "#fdca26"
            ],
            [
             1,
             "#f0f921"
            ]
           ],
           "sequentialminus": [
            [
             0,
             "#0d0887"
            ],
            [
             0.1111111111111111,
             "#46039f"
            ],
            [
             0.2222222222222222,
             "#7201a8"
            ],
            [
             0.3333333333333333,
             "#9c179e"
            ],
            [
             0.4444444444444444,
             "#bd3786"
            ],
            [
             0.5555555555555556,
             "#d8576b"
            ],
            [
             0.6666666666666666,
             "#ed7953"
            ],
            [
             0.7777777777777778,
             "#fb9f3a"
            ],
            [
             0.8888888888888888,
             "#fdca26"
            ],
            [
             1,
             "#f0f921"
            ]
           ]
          },
          "colorway": [
           "#636efa",
           "#EF553B",
           "#00cc96",
           "#ab63fa",
           "#FFA15A",
           "#19d3f3",
           "#FF6692",
           "#B6E880",
           "#FF97FF",
           "#FECB52"
          ],
          "font": {
           "color": "#2a3f5f"
          },
          "geo": {
           "bgcolor": "white",
           "lakecolor": "white",
           "landcolor": "#E5ECF6",
           "showlakes": true,
           "showland": true,
           "subunitcolor": "white"
          },
          "hoverlabel": {
           "align": "left"
          },
          "hovermode": "closest",
          "mapbox": {
           "style": "light"
          },
          "paper_bgcolor": "white",
          "plot_bgcolor": "#E5ECF6",
          "polar": {
           "angularaxis": {
            "gridcolor": "white",
            "linecolor": "white",
            "ticks": ""
           },
           "bgcolor": "#E5ECF6",
           "radialaxis": {
            "gridcolor": "white",
            "linecolor": "white",
            "ticks": ""
           }
          },
          "scene": {
           "xaxis": {
            "backgroundcolor": "#E5ECF6",
            "gridcolor": "white",
            "gridwidth": 2,
            "linecolor": "white",
            "showbackground": true,
            "ticks": "",
            "zerolinecolor": "white"
           },
           "yaxis": {
            "backgroundcolor": "#E5ECF6",
            "gridcolor": "white",
            "gridwidth": 2,
            "linecolor": "white",
            "showbackground": true,
            "ticks": "",
            "zerolinecolor": "white"
           },
           "zaxis": {
            "backgroundcolor": "#E5ECF6",
            "gridcolor": "white",
            "gridwidth": 2,
            "linecolor": "white",
            "showbackground": true,
            "ticks": "",
            "zerolinecolor": "white"
           }
          },
          "shapedefaults": {
           "line": {
            "color": "#2a3f5f"
           }
          },
          "ternary": {
           "aaxis": {
            "gridcolor": "white",
            "linecolor": "white",
            "ticks": ""
           },
           "baxis": {
            "gridcolor": "white",
            "linecolor": "white",
            "ticks": ""
           },
           "bgcolor": "#E5ECF6",
           "caxis": {
            "gridcolor": "white",
            "linecolor": "white",
            "ticks": ""
           }
          },
          "title": {
           "x": 0.05
          },
          "xaxis": {
           "automargin": true,
           "gridcolor": "white",
           "linecolor": "white",
           "ticks": "",
           "title": {
            "standoff": 15
           },
           "zerolinecolor": "white",
           "zerolinewidth": 2
          },
          "yaxis": {
           "automargin": true,
           "gridcolor": "white",
           "linecolor": "white",
           "ticks": "",
           "title": {
            "standoff": 15
           },
           "zerolinecolor": "white",
           "zerolinewidth": 2
          }
         }
        },
        "xaxis": {
         "anchor": "y",
         "domain": [
          0,
          1
         ],
         "title": {
          "text": "CEO Pay Ratio"
         }
        },
        "yaxis": {
         "anchor": "x",
         "domain": [
          0,
          1
         ],
         "title": {
          "text": "Median Employee Pay"
         }
        }
       }
      },
      "text/html": [
       "<div>                            <div id=\"4a21bd4b-e417-4531-8947-8e34298f49f2\" class=\"plotly-graph-div\" style=\"height:525px; width:100%;\"></div>            <script type=\"text/javascript\">                require([\"plotly\"], function(Plotly) {                    window.PLOTLYENV=window.PLOTLYENV || {};                                    if (document.getElementById(\"4a21bd4b-e417-4531-8947-8e34298f49f2\")) {                    Plotly.newPlot(                        \"4a21bd4b-e417-4531-8947-8e34298f49f2\",                        [{\"hovertemplate\": \"GICS Sub-Industry=Advertising<br>CEO Pay Ratio=%{marker.size}<br>Median Employee Pay=%{y}<extra></extra>\", \"legendgroup\": \"Advertising\", \"marker\": {\"color\": \"#636efa\", \"size\": [450.0], \"sizemode\": \"area\", \"sizeref\": 12.628333333333332, \"symbol\": \"circle\"}, \"mode\": \"markers\", \"name\": \"Advertising\", \"orientation\": \"v\", \"showlegend\": true, \"type\": \"scatter\", \"x\": [450.0], \"xaxis\": \"x\", \"y\": [44059.0], \"yaxis\": \"y\"}, {\"hovertemplate\": \"GICS Sub-Industry=Aerospace & Defense<br>CEO Pay Ratio=%{marker.size}<br>Median Employee Pay=%{y}<extra></extra>\", \"legendgroup\": \"Aerospace & Defense\", \"marker\": {\"color\": \"#EF553B\", \"size\": [215.33333333333334], \"sizemode\": \"area\", \"sizeref\": 12.628333333333332, \"symbol\": \"circle\"}, \"mode\": \"markers\", \"name\": \"Aerospace & Defense\", \"orientation\": \"v\", \"showlegend\": true, \"type\": \"scatter\", \"x\": [215.33333333333334], \"xaxis\": \"x\", \"y\": [97959.0], \"yaxis\": \"y\"}, {\"hovertemplate\": \"GICS Sub-Industry=Agricultural & Farm Machinery<br>CEO Pay Ratio=%{marker.size}<br>Median Employee Pay=%{y}<extra></extra>\", \"legendgroup\": \"Agricultural & Farm Machinery\", \"marker\": {\"color\": \"#00cc96\", \"size\": [270.0], \"sizemode\": \"area\", \"sizeref\": 12.628333333333332, \"symbol\": \"circle\"}, \"mode\": \"markers\", \"name\": \"Agricultural & Farm Machinery\", \"orientation\": \"v\", \"showlegend\": true, \"type\": \"scatter\", \"x\": [270.0], \"xaxis\": \"x\", \"y\": [80267.0], \"yaxis\": \"y\"}, {\"hovertemplate\": \"GICS Sub-Industry=Agricultural Products<br>CEO Pay Ratio=%{marker.size}<br>Median Employee Pay=%{y}<extra></extra>\", \"legendgroup\": \"Agricultural Products\", \"marker\": {\"color\": \"#ab63fa\", \"size\": [284.0], \"sizemode\": \"area\", \"sizeref\": 12.628333333333332, \"symbol\": \"circle\"}, \"mode\": \"markers\", \"name\": \"Agricultural Products\", \"orientation\": \"v\", \"showlegend\": true, \"type\": \"scatter\", \"x\": [284.0], \"xaxis\": \"x\", \"y\": [63981.0], \"yaxis\": \"y\"}, {\"hovertemplate\": \"GICS Sub-Industry=Air Freight & Logistics<br>CEO Pay Ratio=%{marker.size}<br>Median Employee Pay=%{y}<extra></extra>\", \"legendgroup\": \"Air Freight & Logistics\", \"marker\": {\"color\": \"#FFA15A\", \"size\": [227.0], \"sizemode\": \"area\", \"sizeref\": 12.628333333333332, \"symbol\": \"circle\"}, \"mode\": \"markers\", \"name\": \"Air Freight & Logistics\", \"orientation\": \"v\", \"showlegend\": true, \"type\": \"scatter\", \"x\": [227.0], \"xaxis\": \"x\", \"y\": [63461.0], \"yaxis\": \"y\"}, {\"hovertemplate\": \"GICS Sub-Industry=Airlines<br>CEO Pay Ratio=%{marker.size}<br>Median Employee Pay=%{y}<extra></extra>\", \"legendgroup\": \"Airlines\", \"marker\": {\"color\": \"#19d3f3\", \"size\": [137.8], \"sizemode\": \"area\", \"sizeref\": 12.628333333333332, \"symbol\": \"circle\"}, \"mode\": \"markers\", \"name\": \"Airlines\", \"orientation\": \"v\", \"showlegend\": true, \"type\": \"scatter\", \"x\": [137.8], \"xaxis\": \"x\", \"y\": [79422.6], \"yaxis\": \"y\"}, {\"hovertemplate\": \"GICS Sub-Industry=Apparel Retail<br>CEO Pay Ratio=%{marker.size}<br>Median Employee Pay=%{y}<extra></extra>\", \"legendgroup\": \"Apparel Retail\", \"marker\": {\"color\": \"#FF6692\", \"size\": [751.0], \"sizemode\": \"area\", \"sizeref\": 12.628333333333332, \"symbol\": \"circle\"}, \"mode\": \"markers\", \"name\": \"Apparel Retail\", \"orientation\": \"v\", \"showlegend\": true, \"type\": \"scatter\", \"x\": [751.0], \"xaxis\": \"x\", \"y\": [11758.5], \"yaxis\": \"y\"}, {\"hovertemplate\": \"GICS Sub-Industry=Apparel, Accessories & Luxury Goods<br>CEO Pay Ratio=%{marker.size}<br>Median Employee Pay=%{y}<extra></extra>\", \"legendgroup\": \"Apparel, Accessories & Luxury Goods\", \"marker\": {\"color\": \"#B6E880\", \"size\": [647.3333333333334], \"sizemode\": \"area\", \"sizeref\": 12.628333333333332, \"symbol\": \"circle\"}, \"mode\": \"markers\", \"name\": \"Apparel, Accessories & Luxury Goods\", \"orientation\": \"v\", \"showlegend\": true, \"type\": \"scatter\", \"x\": [647.3333333333334], \"xaxis\": \"x\", \"y\": [18804.0], \"yaxis\": \"y\"}, {\"hovertemplate\": \"GICS Sub-Industry=Application Software<br>CEO Pay Ratio=%{marker.size}<br>Median Employee Pay=%{y}<extra></extra>\", \"legendgroup\": \"Application Software\", \"marker\": {\"color\": \"#FF97FF\", \"size\": [153.25], \"sizemode\": \"area\", \"sizeref\": 12.628333333333332, \"symbol\": \"circle\"}, \"mode\": \"markers\", \"name\": \"Application Software\", \"orientation\": \"v\", \"showlegend\": true, \"type\": \"scatter\", \"x\": [153.25], \"xaxis\": \"x\", \"y\": [120321.25], \"yaxis\": \"y\"}, {\"hovertemplate\": \"GICS Sub-Industry=Asset Management & Custody Banks<br>CEO Pay Ratio=%{marker.size}<br>Median Employee Pay=%{y}<extra></extra>\", \"legendgroup\": \"Asset Management & Custody Banks\", \"marker\": {\"color\": \"#FECB52\", \"size\": [135.83333333333334], \"sizemode\": \"area\", \"sizeref\": 12.628333333333332, \"symbol\": \"circle\"}, \"mode\": \"markers\", \"name\": \"Asset Management & Custody Banks\", \"orientation\": \"v\", \"showlegend\": true, \"type\": \"scatter\", \"x\": [135.83333333333334], \"xaxis\": \"x\", \"y\": [80823.5], \"yaxis\": \"y\"}, {\"hovertemplate\": \"GICS Sub-Industry=Auto Parts & Equipment<br>CEO Pay Ratio=%{marker.size}<br>Median Employee Pay=%{y}<extra></extra>\", \"legendgroup\": \"Auto Parts & Equipment\", \"marker\": {\"color\": \"#636efa\", \"size\": [1195.5], \"sizemode\": \"area\", \"sizeref\": 12.628333333333332, \"symbol\": \"circle\"}, \"mode\": \"markers\", \"name\": \"Auto Parts & Equipment\", \"orientation\": \"v\", \"showlegend\": true, \"type\": \"scatter\", \"x\": [1195.5], \"xaxis\": \"x\", \"y\": [25845.5], \"yaxis\": \"y\"}, {\"hovertemplate\": \"GICS Sub-Industry=Automobile Manufacturers<br>CEO Pay Ratio=%{marker.size}<br>Median Employee Pay=%{y}<extra></extra>\", \"legendgroup\": \"Automobile Manufacturers\", \"marker\": {\"color\": \"#EF553B\", \"size\": [239.5], \"sizemode\": \"area\", \"sizeref\": 12.628333333333332, \"symbol\": \"circle\"}, \"mode\": \"markers\", \"name\": \"Automobile Manufacturers\", \"orientation\": \"v\", \"showlegend\": true, \"type\": \"scatter\", \"x\": [239.5], \"xaxis\": \"x\", \"y\": [85515.5], \"yaxis\": \"y\"}, {\"hovertemplate\": \"GICS Sub-Industry=Automotive Retail<br>CEO Pay Ratio=%{marker.size}<br>Median Employee Pay=%{y}<extra></extra>\", \"legendgroup\": \"Automotive Retail\", \"marker\": {\"color\": \"#00cc96\", \"size\": [395.0], \"sizemode\": \"area\", \"sizeref\": 12.628333333333332, \"symbol\": \"circle\"}, \"mode\": \"markers\", \"name\": \"Automotive Retail\", \"orientation\": \"v\", \"showlegend\": true, \"type\": \"scatter\", \"x\": [395.0], \"xaxis\": \"x\", \"y\": [19463.0], \"yaxis\": \"y\"}, {\"hovertemplate\": \"GICS Sub-Industry=Biotechnology<br>CEO Pay Ratio=%{marker.size}<br>Median Employee Pay=%{y}<extra></extra>\", \"legendgroup\": \"Biotechnology\", \"marker\": {\"color\": \"#ab63fa\", \"size\": [113.42857142857143], \"sizemode\": \"area\", \"sizeref\": 12.628333333333332, \"symbol\": \"circle\"}, \"mode\": \"markers\", \"name\": \"Biotechnology\", \"orientation\": \"v\", \"showlegend\": true, \"type\": \"scatter\", \"x\": [113.42857142857143], \"xaxis\": \"x\", \"y\": [185329.85714285713], \"yaxis\": \"y\"}, {\"hovertemplate\": \"GICS Sub-Industry=Broadcasting<br>CEO Pay Ratio=%{marker.size}<br>Median Employee Pay=%{y}<extra></extra>\", \"legendgroup\": \"Broadcasting\", \"marker\": {\"color\": \"#FFA15A\", \"size\": [578.0], \"sizemode\": \"area\", \"sizeref\": 12.628333333333332, \"symbol\": \"circle\"}, \"mode\": \"markers\", \"name\": \"Broadcasting\", \"orientation\": \"v\", \"showlegend\": true, \"type\": \"scatter\", \"x\": [578.0], \"xaxis\": \"x\", \"y\": [79343.0], \"yaxis\": \"y\"}, {\"hovertemplate\": \"GICS Sub-Industry=Building Products<br>CEO Pay Ratio=%{marker.size}<br>Median Employee Pay=%{y}<extra></extra>\", \"legendgroup\": \"Building Products\", \"marker\": {\"color\": \"#19d3f3\", \"size\": [195.4], \"sizemode\": \"area\", \"sizeref\": 12.628333333333332, \"symbol\": \"circle\"}, \"mode\": \"markers\", \"name\": \"Building Products\", \"orientation\": \"v\", \"showlegend\": true, \"type\": \"scatter\", \"x\": [195.4], \"xaxis\": \"x\", \"y\": [46096.8], \"yaxis\": \"y\"}, {\"hovertemplate\": \"GICS Sub-Industry=Cable & Satellite<br>CEO Pay Ratio=%{marker.size}<br>Median Employee Pay=%{y}<extra></extra>\", \"legendgroup\": \"Cable & Satellite\", \"marker\": {\"color\": \"#FF6692\", \"size\": [222.0], \"sizemode\": \"area\", \"sizeref\": 12.628333333333332, \"symbol\": \"circle\"}, \"mode\": \"markers\", \"name\": \"Cable & Satellite\", \"orientation\": \"v\", \"showlegend\": true, \"type\": \"scatter\", \"x\": [222.0], \"xaxis\": \"x\", \"y\": [68445.0], \"yaxis\": \"y\"}, {\"hovertemplate\": \"GICS Sub-Industry=Casinos & Gaming<br>CEO Pay Ratio=%{marker.size}<br>Median Employee Pay=%{y}<extra></extra>\", \"legendgroup\": \"Casinos & Gaming\", \"marker\": {\"color\": \"#B6E880\", \"size\": [442.0], \"sizemode\": \"area\", \"sizeref\": 12.628333333333332, \"symbol\": \"circle\"}, \"mode\": \"markers\", \"name\": \"Casinos & Gaming\", \"orientation\": \"v\", \"showlegend\": true, \"type\": \"scatter\", \"x\": [442.0], \"xaxis\": \"x\", \"y\": [40970.666666666664], \"yaxis\": \"y\"}, {\"hovertemplate\": \"GICS Sub-Industry=Commodity Chemicals<br>CEO Pay Ratio=%{marker.size}<br>Median Employee Pay=%{y}<extra></extra>\", \"legendgroup\": \"Commodity Chemicals\", \"marker\": {\"color\": \"#FF97FF\", \"size\": [145.0], \"sizemode\": \"area\", \"sizeref\": 12.628333333333332, \"symbol\": \"circle\"}, \"mode\": \"markers\", \"name\": \"Commodity Chemicals\", \"orientation\": \"v\", \"showlegend\": true, \"type\": \"scatter\", \"x\": [145.0], \"xaxis\": \"x\", \"y\": [109556.0], \"yaxis\": \"y\"}, {\"hovertemplate\": \"GICS Sub-Industry=Communications Equipment<br>CEO Pay Ratio=%{marker.size}<br>Median Employee Pay=%{y}<extra></extra>\", \"legendgroup\": \"Communications Equipment\", \"marker\": {\"color\": \"#FECB52\", \"size\": [116.4], \"sizemode\": \"area\", \"sizeref\": 12.628333333333332, \"symbol\": \"circle\"}, \"mode\": \"markers\", \"name\": \"Communications Equipment\", \"orientation\": \"v\", \"showlegend\": true, \"type\": \"scatter\", \"x\": [116.4], \"xaxis\": \"x\", \"y\": [138871.0], \"yaxis\": \"y\"}, {\"hovertemplate\": \"GICS Sub-Industry=Computer & Electronics Retail<br>CEO Pay Ratio=%{marker.size}<br>Median Employee Pay=%{y}<extra></extra>\", \"legendgroup\": \"Computer & Electronics Retail\", \"marker\": {\"color\": \"#636efa\", \"size\": [610.0], \"sizemode\": \"area\", \"sizeref\": 12.628333333333332, \"symbol\": \"circle\"}, \"mode\": \"markers\", \"name\": \"Computer & Electronics Retail\", \"orientation\": \"v\", \"showlegend\": true, \"type\": \"scatter\", \"x\": [610.0], \"xaxis\": \"x\", \"y\": [28500.0], \"yaxis\": \"y\"}, {\"hovertemplate\": \"GICS Sub-Industry=Construction & Engineering<br>CEO Pay Ratio=%{marker.size}<br>Median Employee Pay=%{y}<extra></extra>\", \"legendgroup\": \"Construction & Engineering\", \"marker\": {\"color\": \"#EF553B\", \"size\": [142.0], \"sizemode\": \"area\", \"sizeref\": 12.628333333333332, \"symbol\": \"circle\"}, \"mode\": \"markers\", \"name\": \"Construction & Engineering\", \"orientation\": \"v\", \"showlegend\": true, \"type\": \"scatter\", \"x\": [142.0], \"xaxis\": \"x\", \"y\": [83438.5], \"yaxis\": \"y\"}, {\"hovertemplate\": \"GICS Sub-Industry=Construction Machinery & Heavy Trucks<br>CEO Pay Ratio=%{marker.size}<br>Median Employee Pay=%{y}<extra></extra>\", \"legendgroup\": \"Construction Machinery & Heavy Trucks\", \"marker\": {\"color\": \"#00cc96\", \"size\": [530.0], \"sizemode\": \"area\", \"sizeref\": 12.628333333333332, \"symbol\": \"circle\"}, \"mode\": \"markers\", \"name\": \"Construction Machinery & Heavy Trucks\", \"orientation\": \"v\", \"showlegend\": true, \"type\": \"scatter\", \"x\": [530.0], \"xaxis\": \"x\", \"y\": [65132.0], \"yaxis\": \"y\"}, {\"hovertemplate\": \"GICS Sub-Industry=Construction Materials<br>CEO Pay Ratio=%{marker.size}<br>Median Employee Pay=%{y}<extra></extra>\", \"legendgroup\": \"Construction Materials\", \"marker\": {\"color\": \"#ab63fa\", \"size\": [116.0], \"sizemode\": \"area\", \"sizeref\": 12.628333333333332, \"symbol\": \"circle\"}, \"mode\": \"markers\", \"name\": \"Construction Materials\", \"orientation\": \"v\", \"showlegend\": true, \"type\": \"scatter\", \"x\": [116.0], \"xaxis\": \"x\", \"y\": [78448.5], \"yaxis\": \"y\"}, {\"hovertemplate\": \"GICS Sub-Industry=Consumer Electronics<br>CEO Pay Ratio=%{marker.size}<br>Median Employee Pay=%{y}<extra></extra>\", \"legendgroup\": \"Consumer Electronics\", \"marker\": {\"color\": \"#FFA15A\", \"size\": [92.0], \"sizemode\": \"area\", \"sizeref\": 12.628333333333332, \"symbol\": \"circle\"}, \"mode\": \"markers\", \"name\": \"Consumer Electronics\", \"orientation\": \"v\", \"showlegend\": true, \"type\": \"scatter\", \"x\": [92.0], \"xaxis\": \"x\", \"y\": [35188.0], \"yaxis\": \"y\"}, {\"hovertemplate\": \"GICS Sub-Industry=Consumer Finance<br>CEO Pay Ratio=%{marker.size}<br>Median Employee Pay=%{y}<extra></extra>\", \"legendgroup\": \"Consumer Finance\", \"marker\": {\"color\": \"#19d3f3\", \"size\": [249.0], \"sizemode\": \"area\", \"sizeref\": 12.628333333333332, \"symbol\": \"circle\"}, \"mode\": \"markers\", \"name\": \"Consumer Finance\", \"orientation\": \"v\", \"showlegend\": true, \"type\": \"scatter\", \"x\": [249.0], \"xaxis\": \"x\", \"y\": [59663.333333333336], \"yaxis\": \"y\"}, {\"hovertemplate\": \"GICS Sub-Industry=Copper<br>CEO Pay Ratio=%{marker.size}<br>Median Employee Pay=%{y}<extra></extra>\", \"legendgroup\": \"Copper\", \"marker\": {\"color\": \"#FF6692\", \"size\": [207.0], \"sizemode\": \"area\", \"sizeref\": 12.628333333333332, \"symbol\": \"circle\"}, \"mode\": \"markers\", \"name\": \"Copper\", \"orientation\": \"v\", \"showlegend\": true, \"type\": \"scatter\", \"x\": [207.0], \"xaxis\": \"x\", \"y\": [75874.0], \"yaxis\": \"y\"}, {\"hovertemplate\": \"GICS Sub-Industry=Data Processing & Outsourced Services<br>CEO Pay Ratio=%{marker.size}<br>Median Employee Pay=%{y}<extra></extra>\", \"legendgroup\": \"Data Processing & Outsourced Services\", \"marker\": {\"color\": \"#B6E880\", \"size\": [258.7142857142857], \"sizemode\": \"area\", \"sizeref\": 12.628333333333332, \"symbol\": \"circle\"}, \"mode\": \"markers\", \"name\": \"Data Processing & Outsourced Services\", \"orientation\": \"v\", \"showlegend\": true, \"type\": \"scatter\", \"x\": [258.7142857142857], \"xaxis\": \"x\", \"y\": [75266.85714285714], \"yaxis\": \"y\"}, {\"hovertemplate\": \"GICS Sub-Industry=Distillers & Vintners<br>CEO Pay Ratio=%{marker.size}<br>Median Employee Pay=%{y}<extra></extra>\", \"legendgroup\": \"Distillers & Vintners\", \"marker\": {\"color\": \"#FF97FF\", \"size\": [149.5], \"sizemode\": \"area\", \"sizeref\": 12.628333333333332, \"symbol\": \"circle\"}, \"mode\": \"markers\", \"name\": \"Distillers & Vintners\", \"orientation\": \"v\", \"showlegend\": true, \"type\": \"scatter\", \"x\": [149.5], \"xaxis\": \"x\", \"y\": [55985.5], \"yaxis\": \"y\"}, {\"hovertemplate\": \"GICS Sub-Industry=Distributors<br>CEO Pay Ratio=%{marker.size}<br>Median Employee Pay=%{y}<extra></extra>\", \"legendgroup\": \"Distributors\", \"marker\": {\"color\": \"#FECB52\", \"size\": [140.5], \"sizemode\": \"area\", \"sizeref\": 12.628333333333332, \"symbol\": \"circle\"}, \"mode\": \"markers\", \"name\": \"Distributors\", \"orientation\": \"v\", \"showlegend\": true, \"type\": \"scatter\", \"x\": [140.5], \"xaxis\": \"x\", \"y\": [40020.0], \"yaxis\": \"y\"}, {\"hovertemplate\": \"GICS Sub-Industry=Diversified Banks<br>CEO Pay Ratio=%{marker.size}<br>Median Employee Pay=%{y}<extra></extra>\", \"legendgroup\": \"Diversified Banks\", \"marker\": {\"color\": \"#636efa\", \"size\": [327.25], \"sizemode\": \"area\", \"sizeref\": 12.628333333333332, \"symbol\": \"circle\"}, \"mode\": \"markers\", \"name\": \"Diversified Banks\", \"orientation\": \"v\", \"showlegend\": true, \"type\": \"scatter\", \"x\": [327.25], \"xaxis\": \"x\", \"y\": [78037.0], \"yaxis\": \"y\"}, {\"hovertemplate\": \"GICS Sub-Industry=Diversified Chemicals<br>CEO Pay Ratio=%{marker.size}<br>Median Employee Pay=%{y}<extra></extra>\", \"legendgroup\": \"Diversified Chemicals\", \"marker\": {\"color\": \"#EF553B\", \"size\": [178.0], \"sizemode\": \"area\", \"sizeref\": 12.628333333333332, \"symbol\": \"circle\"}, \"mode\": \"markers\", \"name\": \"Diversified Chemicals\", \"orientation\": \"v\", \"showlegend\": true, \"type\": \"scatter\", \"x\": [178.0], \"xaxis\": \"x\", \"y\": [81638.0], \"yaxis\": \"y\"}, {\"hovertemplate\": \"GICS Sub-Industry=Diversified Support Services<br>CEO Pay Ratio=%{marker.size}<br>Median Employee Pay=%{y}<extra></extra>\", \"legendgroup\": \"Diversified Support Services\", \"marker\": {\"color\": \"#00cc96\", \"size\": [62.0], \"sizemode\": \"area\", \"sizeref\": 12.628333333333332, \"symbol\": \"circle\"}, \"mode\": \"markers\", \"name\": \"Diversified Support Services\", \"orientation\": \"v\", \"showlegend\": true, \"type\": \"scatter\", \"x\": [62.0], \"xaxis\": \"x\", \"y\": [45536.0], \"yaxis\": \"y\"}, {\"hovertemplate\": \"GICS Sub-Industry=Drug Retail<br>CEO Pay Ratio=%{marker.size}<br>Median Employee Pay=%{y}<extra></extra>\", \"legendgroup\": \"Drug Retail\", \"marker\": {\"color\": \"#ab63fa\", \"size\": [562.0], \"sizemode\": \"area\", \"sizeref\": 12.628333333333332, \"symbol\": \"circle\"}, \"mode\": \"markers\", \"name\": \"Drug Retail\", \"orientation\": \"v\", \"showlegend\": true, \"type\": \"scatter\", \"x\": [562.0], \"xaxis\": \"x\", \"y\": [34074.0], \"yaxis\": \"y\"}, {\"hovertemplate\": \"GICS Sub-Industry=Electric Utilities<br>CEO Pay Ratio=%{marker.size}<br>Median Employee Pay=%{y}<extra></extra>\", \"legendgroup\": \"Electric Utilities\", \"marker\": {\"color\": \"#FFA15A\", \"size\": [91.63636363636364], \"sizemode\": \"area\", \"sizeref\": 12.628333333333332, \"symbol\": \"circle\"}, \"mode\": \"markers\", \"name\": \"Electric Utilities\", \"orientation\": \"v\", \"showlegend\": true, \"type\": \"scatter\", \"x\": [91.63636363636364], \"xaxis\": \"x\", \"y\": [143280.54545454544], \"yaxis\": \"y\"}, {\"hovertemplate\": \"GICS Sub-Industry=Electrical Components & Equipment<br>CEO Pay Ratio=%{marker.size}<br>Median Employee Pay=%{y}<extra></extra>\", \"legendgroup\": \"Electrical Components & Equipment\", \"marker\": {\"color\": \"#19d3f3\", \"size\": [297.3333333333333], \"sizemode\": \"area\", \"sizeref\": 12.628333333333332, \"symbol\": \"circle\"}, \"mode\": \"markers\", \"name\": \"Electrical Components & Equipment\", \"orientation\": \"v\", \"showlegend\": true, \"type\": \"scatter\", \"x\": [297.3333333333333], \"xaxis\": \"x\", \"y\": [63810.333333333336], \"yaxis\": \"y\"}, {\"hovertemplate\": \"GICS Sub-Industry=Electronic Components<br>CEO Pay Ratio=%{marker.size}<br>Median Employee Pay=%{y}<extra></extra>\", \"legendgroup\": \"Electronic Components\", \"marker\": {\"color\": \"#FF6692\", \"size\": [528.5], \"sizemode\": \"area\", \"sizeref\": 12.628333333333332, \"symbol\": \"circle\"}, \"mode\": \"markers\", \"name\": \"Electronic Components\", \"orientation\": \"v\", \"showlegend\": true, \"type\": \"scatter\", \"x\": [528.5], \"xaxis\": \"x\", \"y\": [31159.0], \"yaxis\": \"y\"}, {\"hovertemplate\": \"GICS Sub-Industry=Electronic Equipment & Instruments<br>CEO Pay Ratio=%{marker.size}<br>Median Employee Pay=%{y}<extra></extra>\", \"legendgroup\": \"Electronic Equipment & Instruments\", \"marker\": {\"color\": \"#B6E880\", \"size\": [101.5], \"sizemode\": \"area\", \"sizeref\": 12.628333333333332, \"symbol\": \"circle\"}, \"mode\": \"markers\", \"name\": \"Electronic Equipment & Instruments\", \"orientation\": \"v\", \"showlegend\": true, \"type\": \"scatter\", \"x\": [101.5], \"xaxis\": \"x\", \"y\": [80714.0], \"yaxis\": \"y\"}, {\"hovertemplate\": \"GICS Sub-Industry=Electronic Manufacturing Services<br>CEO Pay Ratio=%{marker.size}<br>Median Employee Pay=%{y}<extra></extra>\", \"legendgroup\": \"Electronic Manufacturing Services\", \"marker\": {\"color\": \"#FF97FF\", \"size\": [243.0], \"sizemode\": \"area\", \"sizeref\": 12.628333333333332, \"symbol\": \"circle\"}, \"mode\": \"markers\", \"name\": \"Electronic Manufacturing Services\", \"orientation\": \"v\", \"showlegend\": true, \"type\": \"scatter\", \"x\": [243.0], \"xaxis\": \"x\", \"y\": [26025.5], \"yaxis\": \"y\"}, {\"hovertemplate\": \"GICS Sub-Industry=Environmental & Facilities Services<br>CEO Pay Ratio=%{marker.size}<br>Median Employee Pay=%{y}<extra></extra>\", \"legendgroup\": \"Environmental & Facilities Services\", \"marker\": {\"color\": \"#FECB52\", \"size\": [147.0], \"sizemode\": \"area\", \"sizeref\": 12.628333333333332, \"symbol\": \"circle\"}, \"mode\": \"markers\", \"name\": \"Environmental & Facilities Services\", \"orientation\": \"v\", \"showlegend\": true, \"type\": \"scatter\", \"x\": [147.0], \"xaxis\": \"x\", \"y\": [63360.333333333336], \"yaxis\": \"y\"}, {\"hovertemplate\": \"GICS Sub-Industry=Fertilizers & Agricultural Chemicals<br>CEO Pay Ratio=%{marker.size}<br>Median Employee Pay=%{y}<extra></extra>\", \"legendgroup\": \"Fertilizers & Agricultural Chemicals\", \"marker\": {\"color\": \"#636efa\", \"size\": [146.0], \"sizemode\": \"area\", \"sizeref\": 12.628333333333332, \"symbol\": \"circle\"}, \"mode\": \"markers\", \"name\": \"Fertilizers & Agricultural Chemicals\", \"orientation\": \"v\", \"showlegend\": true, \"type\": \"scatter\", \"x\": [146.0], \"xaxis\": \"x\", \"y\": [79996.66666666667], \"yaxis\": \"y\"}, {\"hovertemplate\": \"GICS Sub-Industry=Financial Exchanges & Data<br>CEO Pay Ratio=%{marker.size}<br>Median Employee Pay=%{y}<extra></extra>\", \"legendgroup\": \"Financial Exchanges & Data\", \"marker\": {\"color\": \"#EF553B\", \"size\": [158.57142857142858], \"sizemode\": \"area\", \"sizeref\": 12.628333333333332, \"symbol\": \"circle\"}, \"mode\": \"markers\", \"name\": \"Financial Exchanges & Data\", \"orientation\": \"v\", \"showlegend\": true, \"type\": \"scatter\", \"x\": [158.57142857142858], \"xaxis\": \"x\", \"y\": [105986.85714285714], \"yaxis\": \"y\"}, {\"hovertemplate\": \"GICS Sub-Industry=Food Distributors<br>CEO Pay Ratio=%{marker.size}<br>Median Employee Pay=%{y}<extra></extra>\", \"legendgroup\": \"Food Distributors\", \"marker\": {\"color\": \"#00cc96\", \"size\": [152.0], \"sizemode\": \"area\", \"sizeref\": 12.628333333333332, \"symbol\": \"circle\"}, \"mode\": \"markers\", \"name\": \"Food Distributors\", \"orientation\": \"v\", \"showlegend\": true, \"type\": \"scatter\", \"x\": [152.0], \"xaxis\": \"x\", \"y\": [70801.0], \"yaxis\": \"y\"}, {\"hovertemplate\": \"GICS Sub-Industry=Food Retail<br>CEO Pay Ratio=%{marker.size}<br>Median Employee Pay=%{y}<extra></extra>\", \"legendgroup\": \"Food Retail\", \"marker\": {\"color\": \"#ab63fa\", \"size\": [483.0], \"sizemode\": \"area\", \"sizeref\": 12.628333333333332, \"symbol\": \"circle\"}, \"mode\": \"markers\", \"name\": \"Food Retail\", \"orientation\": \"v\", \"showlegend\": true, \"type\": \"scatter\", \"x\": [483.0], \"xaxis\": \"x\", \"y\": [24912.0], \"yaxis\": \"y\"}, {\"hovertemplate\": \"GICS Sub-Industry=Gas Utilities<br>CEO Pay Ratio=%{marker.size}<br>Median Employee Pay=%{y}<extra></extra>\", \"legendgroup\": \"Gas Utilities\", \"marker\": {\"color\": \"#FFA15A\", \"size\": [123.0], \"sizemode\": \"area\", \"sizeref\": 12.628333333333332, \"symbol\": \"circle\"}, \"mode\": \"markers\", \"name\": \"Gas Utilities\", \"orientation\": \"v\", \"showlegend\": true, \"type\": \"scatter\", \"x\": [123.0], \"xaxis\": \"x\", \"y\": [84516.0], \"yaxis\": \"y\"}, {\"hovertemplate\": \"GICS Sub-Industry=General Merchandise Stores<br>CEO Pay Ratio=%{marker.size}<br>Median Employee Pay=%{y}<extra></extra>\", \"legendgroup\": \"General Merchandise Stores\", \"marker\": {\"color\": \"#19d3f3\", \"size\": [778.3333333333334], \"sizemode\": \"area\", \"sizeref\": 12.628333333333332, \"symbol\": \"circle\"}, \"mode\": \"markers\", \"name\": \"General Merchandise Stores\", \"orientation\": \"v\", \"showlegend\": true, \"type\": \"scatter\", \"x\": [778.3333333333334], \"xaxis\": \"x\", \"y\": [17675.333333333332], \"yaxis\": \"y\"}, {\"hovertemplate\": \"GICS Sub-Industry=Health Care Distributors<br>CEO Pay Ratio=%{marker.size}<br>Median Employee Pay=%{y}<extra></extra>\", \"legendgroup\": \"Health Care Distributors\", \"marker\": {\"color\": \"#FF6692\", \"size\": [223.5], \"sizemode\": \"area\", \"sizeref\": 12.628333333333332, \"symbol\": \"circle\"}, \"mode\": \"markers\", \"name\": \"Health Care Distributors\", \"orientation\": \"v\", \"showlegend\": true, \"type\": \"scatter\", \"x\": [223.5], \"xaxis\": \"x\", \"y\": [69108.66666666667], \"yaxis\": \"y\"}, {\"hovertemplate\": \"GICS Sub-Industry=Health Care Equipment<br>CEO Pay Ratio=%{marker.size}<br>Median Employee Pay=%{y}<extra></extra>\", \"legendgroup\": \"Health Care Equipment\", \"marker\": {\"color\": \"#B6E880\", \"size\": [192.88235294117646], \"sizemode\": \"area\", \"sizeref\": 12.628333333333332, \"symbol\": \"circle\"}, \"mode\": \"markers\", \"name\": \"Health Care Equipment\", \"orientation\": \"v\", \"showlegend\": true, \"type\": \"scatter\", \"x\": [192.88235294117646], \"xaxis\": \"x\", \"y\": [74927.0], \"yaxis\": \"y\"}, {\"hovertemplate\": \"GICS Sub-Industry=Health Care Facilities<br>CEO Pay Ratio=%{marker.size}<br>Median Employee Pay=%{y}<extra></extra>\", \"legendgroup\": \"Health Care Facilities\", \"marker\": {\"color\": \"#FF97FF\", \"size\": [502.0], \"sizemode\": \"area\", \"sizeref\": 12.628333333333332, \"symbol\": \"circle\"}, \"mode\": \"markers\", \"name\": \"Health Care Facilities\", \"orientation\": \"v\", \"showlegend\": true, \"type\": \"scatter\", \"x\": [502.0], \"xaxis\": \"x\", \"y\": [58450.5], \"yaxis\": \"y\"}, {\"hovertemplate\": \"GICS Sub-Industry=Health Care REITs<br>CEO Pay Ratio=%{marker.size}<br>Median Employee Pay=%{y}<extra></extra>\", \"legendgroup\": \"Health Care REITs\", \"marker\": {\"color\": \"#FECB52\", \"size\": [128.5], \"sizemode\": \"area\", \"sizeref\": 12.628333333333332, \"symbol\": \"circle\"}, \"mode\": \"markers\", \"name\": \"Health Care REITs\", \"orientation\": \"v\", \"showlegend\": true, \"type\": \"scatter\", \"x\": [128.5], \"xaxis\": \"x\", \"y\": [95907.5], \"yaxis\": \"y\"}, {\"hovertemplate\": \"GICS Sub-Industry=Health Care Services<br>CEO Pay Ratio=%{marker.size}<br>Median Employee Pay=%{y}<extra></extra>\", \"legendgroup\": \"Health Care Services\", \"marker\": {\"color\": \"#636efa\", \"size\": [415.5], \"sizemode\": \"area\", \"sizeref\": 12.628333333333332, \"symbol\": \"circle\"}, \"mode\": \"markers\", \"name\": \"Health Care Services\", \"orientation\": \"v\", \"showlegend\": true, \"type\": \"scatter\", \"x\": [415.5], \"xaxis\": \"x\", \"y\": [41139.0], \"yaxis\": \"y\"}, {\"hovertemplate\": \"GICS Sub-Industry=Health Care Supplies<br>CEO Pay Ratio=%{marker.size}<br>Median Employee Pay=%{y}<extra></extra>\", \"legendgroup\": \"Health Care Supplies\", \"marker\": {\"color\": \"#EF553B\", \"size\": [775.5], \"sizemode\": \"area\", \"sizeref\": 12.628333333333332, \"symbol\": \"circle\"}, \"mode\": \"markers\", \"name\": \"Health Care Supplies\", \"orientation\": \"v\", \"showlegend\": true, \"type\": \"scatter\", \"x\": [775.5], \"xaxis\": \"x\", \"y\": [32308.5], \"yaxis\": \"y\"}, {\"hovertemplate\": \"GICS Sub-Industry=Health Care Technology<br>CEO Pay Ratio=%{marker.size}<br>Median Employee Pay=%{y}<extra></extra>\", \"legendgroup\": \"Health Care Technology\", \"marker\": {\"color\": \"#00cc96\", \"size\": [151.0], \"sizemode\": \"area\", \"sizeref\": 12.628333333333332, \"symbol\": \"circle\"}, \"mode\": \"markers\", \"name\": \"Health Care Technology\", \"orientation\": \"v\", \"showlegend\": true, \"type\": \"scatter\", \"x\": [151.0], \"xaxis\": \"x\", \"y\": [64784.0], \"yaxis\": \"y\"}, {\"hovertemplate\": \"GICS Sub-Industry=Home Furnishings<br>CEO Pay Ratio=%{marker.size}<br>Median Employee Pay=%{y}<extra></extra>\", \"legendgroup\": \"Home Furnishings\", \"marker\": {\"color\": \"#ab63fa\", \"size\": [195.5], \"sizemode\": \"area\", \"sizeref\": 12.628333333333332, \"symbol\": \"circle\"}, \"mode\": \"markers\", \"name\": \"Home Furnishings\", \"orientation\": \"v\", \"showlegend\": true, \"type\": \"scatter\", \"x\": [195.5], \"xaxis\": \"x\", \"y\": [39094.0], \"yaxis\": \"y\"}, {\"hovertemplate\": \"GICS Sub-Industry=Home Improvement Retail<br>CEO Pay Ratio=%{marker.size}<br>Median Employee Pay=%{y}<extra></extra>\", \"legendgroup\": \"Home Improvement Retail\", \"marker\": {\"color\": \"#FFA15A\", \"size\": [496.0], \"sizemode\": \"area\", \"sizeref\": 12.628333333333332, \"symbol\": \"circle\"}, \"mode\": \"markers\", \"name\": \"Home Improvement Retail\", \"orientation\": \"v\", \"showlegend\": true, \"type\": \"scatter\", \"x\": [496.0], \"xaxis\": \"x\", \"y\": [22700.0], \"yaxis\": \"y\"}, {\"hovertemplate\": \"GICS Sub-Industry=Homebuilding<br>CEO Pay Ratio=%{marker.size}<br>Median Employee Pay=%{y}<extra></extra>\", \"legendgroup\": \"Homebuilding\", \"marker\": {\"color\": \"#19d3f3\", \"size\": [122.5], \"sizemode\": \"area\", \"sizeref\": 12.628333333333332, \"symbol\": \"circle\"}, \"mode\": \"markers\", \"name\": \"Homebuilding\", \"orientation\": \"v\", \"showlegend\": true, \"type\": \"scatter\", \"x\": [122.5], \"xaxis\": \"x\", \"y\": [91162.75], \"yaxis\": \"y\"}, {\"hovertemplate\": \"GICS Sub-Industry=Hotel & Resort REITs<br>CEO Pay Ratio=%{marker.size}<br>Median Employee Pay=%{y}<extra></extra>\", \"legendgroup\": \"Hotel & Resort REITs\", \"marker\": {\"color\": \"#FF6692\", \"size\": [48.0], \"sizemode\": \"area\", \"sizeref\": 12.628333333333332, \"symbol\": \"circle\"}, \"mode\": \"markers\", \"name\": \"Hotel & Resort REITs\", \"orientation\": \"v\", \"showlegend\": true, \"type\": \"scatter\", \"x\": [48.0], \"xaxis\": \"x\", \"y\": [197781.0], \"yaxis\": \"y\"}, {\"hovertemplate\": \"GICS Sub-Industry=Hotels, Resorts & Cruise Lines<br>CEO Pay Ratio=%{marker.size}<br>Median Employee Pay=%{y}<extra></extra>\", \"legendgroup\": \"Hotels, Resorts & Cruise Lines\", \"marker\": {\"color\": \"#B6E880\", \"size\": [417.5], \"sizemode\": \"area\", \"sizeref\": 12.628333333333332, \"symbol\": \"circle\"}, \"mode\": \"markers\", \"name\": \"Hotels, Resorts & Cruise Lines\", \"orientation\": \"v\", \"showlegend\": true, \"type\": \"scatter\", \"x\": [417.5], \"xaxis\": \"x\", \"y\": [41286.5], \"yaxis\": \"y\"}, {\"hovertemplate\": \"GICS Sub-Industry=Household Appliances<br>CEO Pay Ratio=%{marker.size}<br>Median Employee Pay=%{y}<extra></extra>\", \"legendgroup\": \"Household Appliances\", \"marker\": {\"color\": \"#FF97FF\", \"size\": [675.0], \"sizemode\": \"area\", \"sizeref\": 12.628333333333332, \"symbol\": \"circle\"}, \"mode\": \"markers\", \"name\": \"Household Appliances\", \"orientation\": \"v\", \"showlegend\": true, \"type\": \"scatter\", \"x\": [675.0], \"xaxis\": \"x\", \"y\": [20765.0], \"yaxis\": \"y\"}, {\"hovertemplate\": \"GICS Sub-Industry=Household Products<br>CEO Pay Ratio=%{marker.size}<br>Median Employee Pay=%{y}<extra></extra>\", \"legendgroup\": \"Household Products\", \"marker\": {\"color\": \"#FECB52\", \"size\": [287.0], \"sizemode\": \"area\", \"sizeref\": 12.628333333333332, \"symbol\": \"circle\"}, \"mode\": \"markers\", \"name\": \"Household Products\", \"orientation\": \"v\", \"showlegend\": true, \"type\": \"scatter\", \"x\": [287.0], \"xaxis\": \"x\", \"y\": [45911.666666666664], \"yaxis\": \"y\"}, {\"hovertemplate\": \"GICS Sub-Industry=Housewares & Specialties<br>CEO Pay Ratio=%{marker.size}<br>Median Employee Pay=%{y}<extra></extra>\", \"legendgroup\": \"Housewares & Specialties\", \"marker\": {\"color\": \"#636efa\", \"size\": [272.0], \"sizemode\": \"area\", \"sizeref\": 12.628333333333332, \"symbol\": \"circle\"}, \"mode\": \"markers\", \"name\": \"Housewares & Specialties\", \"orientation\": \"v\", \"showlegend\": true, \"type\": \"scatter\", \"x\": [272.0], \"xaxis\": \"x\", \"y\": [31704.0], \"yaxis\": \"y\"}, {\"hovertemplate\": \"GICS Sub-Industry=Hypermarkets & Super Centers<br>CEO Pay Ratio=%{marker.size}<br>Median Employee Pay=%{y}<extra></extra>\", \"legendgroup\": \"Hypermarkets & Super Centers\", \"marker\": {\"color\": \"#EF553B\", \"size\": [576.0], \"sizemode\": \"area\", \"sizeref\": 12.628333333333332, \"symbol\": \"circle\"}, \"mode\": \"markers\", \"name\": \"Hypermarkets & Super Centers\", \"orientation\": \"v\", \"showlegend\": true, \"type\": \"scatter\", \"x\": [576.0], \"xaxis\": \"x\", \"y\": [34898.0], \"yaxis\": \"y\"}, {\"hovertemplate\": \"GICS Sub-Industry=IT Consulting & Other Services<br>CEO Pay Ratio=%{marker.size}<br>Median Employee Pay=%{y}<extra></extra>\", \"legendgroup\": \"IT Consulting & Other Services\", \"marker\": {\"color\": \"#00cc96\", \"size\": [295.0], \"sizemode\": \"area\", \"sizeref\": 12.628333333333332, \"symbol\": \"circle\"}, \"mode\": \"markers\", \"name\": \"IT Consulting & Other Services\", \"orientation\": \"v\", \"showlegend\": true, \"type\": \"scatter\", \"x\": [295.0], \"xaxis\": \"x\", \"y\": [71122.5], \"yaxis\": \"y\"}, {\"hovertemplate\": \"GICS Sub-Industry=Independent Power Producers & Energy Traders<br>CEO Pay Ratio=%{marker.size}<br>Median Employee Pay=%{y}<extra></extra>\", \"legendgroup\": \"Independent Power Producers & Energy Traders\", \"marker\": {\"color\": \"#ab63fa\", \"size\": [80.0], \"sizemode\": \"area\", \"sizeref\": 12.628333333333332, \"symbol\": \"circle\"}, \"mode\": \"markers\", \"name\": \"Independent Power Producers & Energy Traders\", \"orientation\": \"v\", \"showlegend\": true, \"type\": \"scatter\", \"x\": [80.0], \"xaxis\": \"x\", \"y\": [114883.0], \"yaxis\": \"y\"}, {\"hovertemplate\": \"GICS Sub-Industry=Industrial Conglomerates<br>CEO Pay Ratio=%{marker.size}<br>Median Employee Pay=%{y}<extra></extra>\", \"legendgroup\": \"Industrial Conglomerates\", \"marker\": {\"color\": \"#FFA15A\", \"size\": [377.6666666666667], \"sizemode\": \"area\", \"sizeref\": 12.628333333333332, \"symbol\": \"circle\"}, \"mode\": \"markers\", \"name\": \"Industrial Conglomerates\", \"orientation\": \"v\", \"showlegend\": true, \"type\": \"scatter\", \"x\": [377.6666666666667], \"xaxis\": \"x\", \"y\": [65557.33333333333], \"yaxis\": \"y\"}, {\"hovertemplate\": \"GICS Sub-Industry=Industrial Gases<br>CEO Pay Ratio=%{marker.size}<br>Median Employee Pay=%{y}<extra></extra>\", \"legendgroup\": \"Industrial Gases\", \"marker\": {\"color\": \"#19d3f3\", \"size\": [954.0], \"sizemode\": \"area\", \"sizeref\": 12.628333333333332, \"symbol\": \"circle\"}, \"mode\": \"markers\", \"name\": \"Industrial Gases\", \"orientation\": \"v\", \"showlegend\": true, \"type\": \"scatter\", \"x\": [954.0], \"xaxis\": \"x\", \"y\": [50818.0], \"yaxis\": \"y\"}, {\"hovertemplate\": \"GICS Sub-Industry=Industrial Machinery<br>CEO Pay Ratio=%{marker.size}<br>Median Employee Pay=%{y}<extra></extra>\", \"legendgroup\": \"Industrial Machinery\", \"marker\": {\"color\": \"#FF6692\", \"size\": [247.25], \"sizemode\": \"area\", \"sizeref\": 12.628333333333332, \"symbol\": \"circle\"}, \"mode\": \"markers\", \"name\": \"Industrial Machinery\", \"orientation\": \"v\", \"showlegend\": true, \"type\": \"scatter\", \"x\": [247.25], \"xaxis\": \"x\", \"y\": [58193.0], \"yaxis\": \"y\"}, {\"hovertemplate\": \"GICS Sub-Industry=Industrial REITs<br>CEO Pay Ratio=%{marker.size}<br>Median Employee Pay=%{y}<extra></extra>\", \"legendgroup\": \"Industrial REITs\", \"marker\": {\"color\": \"#B6E880\", \"size\": [156.5], \"sizemode\": \"area\", \"sizeref\": 12.628333333333332, \"symbol\": \"circle\"}, \"mode\": \"markers\", \"name\": \"Industrial REITs\", \"orientation\": \"v\", \"showlegend\": true, \"type\": \"scatter\", \"x\": [156.5], \"xaxis\": \"x\", \"y\": [120232.5], \"yaxis\": \"y\"}, {\"hovertemplate\": \"GICS Sub-Industry=Insurance Brokers<br>CEO Pay Ratio=%{marker.size}<br>Median Employee Pay=%{y}<extra></extra>\", \"legendgroup\": \"Insurance Brokers\", \"marker\": {\"color\": \"#FF97FF\", \"size\": [219.33333333333334], \"sizemode\": \"area\", \"sizeref\": 12.628333333333332, \"symbol\": \"circle\"}, \"mode\": \"markers\", \"name\": \"Insurance Brokers\", \"orientation\": \"v\", \"showlegend\": true, \"type\": \"scatter\", \"x\": [219.33333333333334], \"xaxis\": \"x\", \"y\": [65390.0], \"yaxis\": \"y\"}, {\"hovertemplate\": \"GICS Sub-Industry=Integrated Oil & Gas<br>CEO Pay Ratio=%{marker.size}<br>Median Employee Pay=%{y}<extra></extra>\", \"legendgroup\": \"Integrated Oil & Gas\", \"marker\": {\"color\": \"#FECB52\", \"size\": [147.0], \"sizemode\": \"area\", \"sizeref\": 12.628333333333332, \"symbol\": \"circle\"}, \"mode\": \"markers\", \"name\": \"Integrated Oil & Gas\", \"orientation\": \"v\", \"showlegend\": true, \"type\": \"scatter\", \"x\": [147.0], \"xaxis\": \"x\", \"y\": [164227.66666666666], \"yaxis\": \"y\"}, {\"hovertemplate\": \"GICS Sub-Industry=Integrated Telecommunication Services<br>CEO Pay Ratio=%{marker.size}<br>Median Employee Pay=%{y}<extra></extra>\", \"legendgroup\": \"Integrated Telecommunication Services\", \"marker\": {\"color\": \"#636efa\", \"size\": [215.0], \"sizemode\": \"area\", \"sizeref\": 12.628333333333332, \"symbol\": \"circle\"}, \"mode\": \"markers\", \"name\": \"Integrated Telecommunication Services\", \"orientation\": \"v\", \"showlegend\": true, \"type\": \"scatter\", \"x\": [215.0], \"xaxis\": \"x\", \"y\": [135800.5], \"yaxis\": \"y\"}, {\"hovertemplate\": \"GICS Sub-Industry=Interactive Home Entertainment<br>CEO Pay Ratio=%{marker.size}<br>Median Employee Pay=%{y}<extra></extra>\", \"legendgroup\": \"Interactive Home Entertainment\", \"marker\": {\"color\": \"#EF553B\", \"size\": [268.5], \"sizemode\": \"area\", \"sizeref\": 12.628333333333332, \"symbol\": \"circle\"}, \"mode\": \"markers\", \"name\": \"Interactive Home Entertainment\", \"orientation\": \"v\", \"showlegend\": true, \"type\": \"scatter\", \"x\": [268.5], \"xaxis\": \"x\", \"y\": [96147.0], \"yaxis\": \"y\"}, {\"hovertemplate\": \"GICS Sub-Industry=Interactive Media & Services<br>CEO Pay Ratio=%{marker.size}<br>Median Employee Pay=%{y}<extra></extra>\", \"legendgroup\": \"Interactive Media & Services\", \"marker\": {\"color\": \"#00cc96\", \"size\": [393.0], \"sizemode\": \"area\", \"sizeref\": 12.628333333333332, \"symbol\": \"circle\"}, \"mode\": \"markers\", \"name\": \"Interactive Media & Services\", \"orientation\": \"v\", \"showlegend\": true, \"type\": \"scatter\", \"x\": [393.0], \"xaxis\": \"x\", \"y\": [239915.33333333334], \"yaxis\": \"y\"}, {\"hovertemplate\": \"GICS Sub-Industry=Internet & Direct Marketing Retail<br>CEO Pay Ratio=%{marker.size}<br>Median Employee Pay=%{y}<extra></extra>\", \"legendgroup\": \"Internet & Direct Marketing Retail\", \"marker\": {\"color\": \"#ab63fa\", \"size\": [155.33333333333334], \"sizemode\": \"area\", \"sizeref\": 12.628333333333332, \"symbol\": \"circle\"}, \"mode\": \"markers\", \"name\": \"Internet & Direct Marketing Retail\", \"orientation\": \"v\", \"showlegend\": true, \"type\": \"scatter\", \"x\": [155.33333333333334], \"xaxis\": \"x\", \"y\": [84488.33333333333], \"yaxis\": \"y\"}, {\"hovertemplate\": \"GICS Sub-Industry=Internet Services & Infrastructure<br>CEO Pay Ratio=%{marker.size}<br>Median Employee Pay=%{y}<extra></extra>\", \"legendgroup\": \"Internet Services & Infrastructure\", \"marker\": {\"color\": \"#FFA15A\", \"size\": [148.0], \"sizemode\": \"area\", \"sizeref\": 12.628333333333332, \"symbol\": \"circle\"}, \"mode\": \"markers\", \"name\": \"Internet Services & Infrastructure\", \"orientation\": \"v\", \"showlegend\": true, \"type\": \"scatter\", \"x\": [148.0], \"xaxis\": \"x\", \"y\": [120325.33333333333], \"yaxis\": \"y\"}, {\"hovertemplate\": \"GICS Sub-Industry=Investment Banking & Brokerage<br>CEO Pay Ratio=%{marker.size}<br>Median Employee Pay=%{y}<extra></extra>\", \"legendgroup\": \"Investment Banking & Brokerage\", \"marker\": {\"color\": \"#19d3f3\", \"size\": [213.0], \"sizemode\": \"area\", \"sizeref\": 12.628333333333332, \"symbol\": \"circle\"}, \"mode\": \"markers\", \"name\": \"Investment Banking & Brokerage\", \"orientation\": \"v\", \"showlegend\": true, \"type\": \"scatter\", \"x\": [213.0], \"xaxis\": \"x\", \"y\": [133134.0], \"yaxis\": \"y\"}, {\"hovertemplate\": \"GICS Sub-Industry=Leisure Products<br>CEO Pay Ratio=%{marker.size}<br>Median Employee Pay=%{y}<extra></extra>\", \"legendgroup\": \"Leisure Products\", \"marker\": {\"color\": \"#FF6692\", \"size\": [127.0], \"sizemode\": \"area\", \"sizeref\": 12.628333333333332, \"symbol\": \"circle\"}, \"mode\": \"markers\", \"name\": \"Leisure Products\", \"orientation\": \"v\", \"showlegend\": true, \"type\": \"scatter\", \"x\": [127.0], \"xaxis\": \"x\", \"y\": [66893.0], \"yaxis\": \"y\"}, {\"hovertemplate\": \"GICS Sub-Industry=Life & Health Insurance<br>CEO Pay Ratio=%{marker.size}<br>Median Employee Pay=%{y}<extra></extra>\", \"legendgroup\": \"Life & Health Insurance\", \"marker\": {\"color\": \"#B6E880\", \"size\": [225.25], \"sizemode\": \"area\", \"sizeref\": 12.628333333333332, \"symbol\": \"circle\"}, \"mode\": \"markers\", \"name\": \"Life & Health Insurance\", \"orientation\": \"v\", \"showlegend\": true, \"type\": \"scatter\", \"x\": [225.25], \"xaxis\": \"x\", \"y\": [74100.5], \"yaxis\": \"y\"}, {\"hovertemplate\": \"GICS Sub-Industry=Life Sciences Tools & Services<br>CEO Pay Ratio=%{marker.size}<br>Median Employee Pay=%{y}<extra></extra>\", \"legendgroup\": \"Life Sciences Tools & Services\", \"marker\": {\"color\": \"#FF97FF\", \"size\": [122.0], \"sizemode\": \"area\", \"sizeref\": 12.628333333333332, \"symbol\": \"circle\"}, \"mode\": \"markers\", \"name\": \"Life Sciences Tools & Services\", \"orientation\": \"v\", \"showlegend\": true, \"type\": \"scatter\", \"x\": [122.0], \"xaxis\": \"x\", \"y\": [83847.33333333333], \"yaxis\": \"y\"}, {\"hovertemplate\": \"GICS Sub-Industry=Managed Health Care<br>CEO Pay Ratio=%{marker.size}<br>Median Employee Pay=%{y}<extra></extra>\", \"legendgroup\": \"Managed Health Care\", \"marker\": {\"color\": \"#FECB52\", \"size\": [302.4], \"sizemode\": \"area\", \"sizeref\": 12.628333333333332, \"symbol\": \"circle\"}, \"mode\": \"markers\", \"name\": \"Managed Health Care\", \"orientation\": \"v\", \"showlegend\": true, \"type\": \"scatter\", \"x\": [302.4], \"xaxis\": \"x\", \"y\": [64522.0], \"yaxis\": \"y\"}, {\"hovertemplate\": \"GICS Sub-Industry=Metal & Glass Containers<br>CEO Pay Ratio=%{marker.size}<br>Median Employee Pay=%{y}<extra></extra>\", \"legendgroup\": \"Metal & Glass Containers\", \"marker\": {\"color\": \"#636efa\", \"size\": [126.0], \"sizemode\": \"area\", \"sizeref\": 12.628333333333332, \"symbol\": \"circle\"}, \"mode\": \"markers\", \"name\": \"Metal & Glass Containers\", \"orientation\": \"v\", \"showlegend\": true, \"type\": \"scatter\", \"x\": [126.0], \"xaxis\": \"x\", \"y\": [93903.0], \"yaxis\": \"y\"}, {\"hovertemplate\": \"GICS Sub-Industry=Movies & Entertainment<br>CEO Pay Ratio=%{marker.size}<br>Median Employee Pay=%{y}<extra></extra>\", \"legendgroup\": \"Movies & Entertainment\", \"marker\": {\"color\": \"#EF553B\", \"size\": [631.6666666666666], \"sizemode\": \"area\", \"sizeref\": 12.628333333333332, \"symbol\": \"circle\"}, \"mode\": \"markers\", \"name\": \"Movies & Entertainment\", \"orientation\": \"v\", \"showlegend\": true, \"type\": \"scatter\", \"x\": [631.6666666666666], \"xaxis\": \"x\", \"y\": [91149.33333333333], \"yaxis\": \"y\"}, {\"hovertemplate\": \"GICS Sub-Industry=Multi-Sector Holdings<br>CEO Pay Ratio=%{marker.size}<br>Median Employee Pay=%{y}<extra></extra>\", \"legendgroup\": \"Multi-Sector Holdings\", \"marker\": {\"color\": \"#00cc96\", \"size\": [6.0], \"sizemode\": \"area\", \"sizeref\": 12.628333333333332, \"symbol\": \"circle\"}, \"mode\": \"markers\", \"name\": \"Multi-Sector Holdings\", \"orientation\": \"v\", \"showlegend\": true, \"type\": \"scatter\", \"x\": [6.0], \"xaxis\": \"x\", \"y\": [65740.0], \"yaxis\": \"y\"}, {\"hovertemplate\": \"GICS Sub-Industry=Multi-Utilities<br>CEO Pay Ratio=%{marker.size}<br>Median Employee Pay=%{y}<extra></extra>\", \"legendgroup\": \"Multi-Utilities\", \"marker\": {\"color\": \"#ab63fa\", \"size\": [102.27272727272727], \"sizemode\": \"area\", \"sizeref\": 12.628333333333332, \"symbol\": \"circle\"}, \"mode\": \"markers\", \"name\": \"Multi-Utilities\", \"orientation\": \"v\", \"showlegend\": true, \"type\": \"scatter\", \"x\": [102.27272727272727], \"xaxis\": \"x\", \"y\": [124371.63636363637], \"yaxis\": \"y\"}, {\"hovertemplate\": \"GICS Sub-Industry=Multi-line Insurance<br>CEO Pay Ratio=%{marker.size}<br>Median Employee Pay=%{y}<extra></extra>\", \"legendgroup\": \"Multi-line Insurance\", \"marker\": {\"color\": \"#FFA15A\", \"size\": [189.0], \"sizemode\": \"area\", \"sizeref\": 12.628333333333332, \"symbol\": \"circle\"}, \"mode\": \"markers\", \"name\": \"Multi-line Insurance\", \"orientation\": \"v\", \"showlegend\": true, \"type\": \"scatter\", \"x\": [189.0], \"xaxis\": \"x\", \"y\": [62113.666666666664], \"yaxis\": \"y\"}, {\"hovertemplate\": \"GICS Sub-Industry=Office REITs<br>CEO Pay Ratio=%{marker.size}<br>Median Employee Pay=%{y}<extra></extra>\", \"legendgroup\": \"Office REITs\", \"marker\": {\"color\": \"#19d3f3\", \"size\": [190.0], \"sizemode\": \"area\", \"sizeref\": 12.628333333333332, \"symbol\": \"circle\"}, \"mode\": \"markers\", \"name\": \"Office REITs\", \"orientation\": \"v\", \"showlegend\": true, \"type\": \"scatter\", \"x\": [190.0], \"xaxis\": \"x\", \"y\": [84198.33333333333], \"yaxis\": \"y\"}, {\"hovertemplate\": \"GICS Sub-Industry=Oil & Gas Equipment & Services<br>CEO Pay Ratio=%{marker.size}<br>Median Employee Pay=%{y}<extra></extra>\", \"legendgroup\": \"Oil & Gas Equipment & Services\", \"marker\": {\"color\": \"#FF6692\", \"size\": [220.5], \"sizemode\": \"area\", \"sizeref\": 12.628333333333332, \"symbol\": \"circle\"}, \"mode\": \"markers\", \"name\": \"Oil & Gas Equipment & Services\", \"orientation\": \"v\", \"showlegend\": true, \"type\": \"scatter\", \"x\": [220.5], \"xaxis\": \"x\", \"y\": [68244.5], \"yaxis\": \"y\"}, {\"hovertemplate\": \"GICS Sub-Industry=Oil & Gas Exploration & Production<br>CEO Pay Ratio=%{marker.size}<br>Median Employee Pay=%{y}<extra></extra>\", \"legendgroup\": \"Oil & Gas Exploration & Production\", \"marker\": {\"color\": \"#B6E880\", \"size\": [109.11111111111111], \"sizemode\": \"area\", \"sizeref\": 12.628333333333332, \"symbol\": \"circle\"}, \"mode\": \"markers\", \"name\": \"Oil & Gas Exploration & Production\", \"orientation\": \"v\", \"showlegend\": true, \"type\": \"scatter\", \"x\": [109.11111111111111], \"xaxis\": \"x\", \"y\": [149869.77777777778], \"yaxis\": \"y\"}, {\"hovertemplate\": \"GICS Sub-Industry=Oil & Gas Refining & Marketing<br>CEO Pay Ratio=%{marker.size}<br>Median Employee Pay=%{y}<extra></extra>\", \"legendgroup\": \"Oil & Gas Refining & Marketing\", \"marker\": {\"color\": \"#FF97FF\", \"size\": [106.75], \"sizemode\": \"area\", \"sizeref\": 12.628333333333332, \"symbol\": \"circle\"}, \"mode\": \"markers\", \"name\": \"Oil & Gas Refining & Marketing\", \"orientation\": \"v\", \"showlegend\": true, \"type\": \"scatter\", \"x\": [106.75], \"xaxis\": \"x\", \"y\": [200158.75], \"yaxis\": \"y\"}, {\"hovertemplate\": \"GICS Sub-Industry=Oil & Gas Storage & Transportation<br>CEO Pay Ratio=%{marker.size}<br>Median Employee Pay=%{y}<extra></extra>\", \"legendgroup\": \"Oil & Gas Storage & Transportation\", \"marker\": {\"color\": \"#FECB52\", \"size\": [40.0], \"sizemode\": \"area\", \"sizeref\": 12.628333333333332, \"symbol\": \"circle\"}, \"mode\": \"markers\", \"name\": \"Oil & Gas Storage & Transportation\", \"orientation\": \"v\", \"showlegend\": true, \"type\": \"scatter\", \"x\": [40.0], \"xaxis\": \"x\", \"y\": [123813.0], \"yaxis\": \"y\"}, {\"hovertemplate\": \"GICS Sub-Industry=Packaged Foods & Meats<br>CEO Pay Ratio=%{marker.size}<br>Median Employee Pay=%{y}<extra></extra>\", \"legendgroup\": \"Packaged Foods & Meats\", \"marker\": {\"color\": \"#636efa\", \"size\": [306.77777777777777], \"sizemode\": \"area\", \"sizeref\": 12.628333333333332, \"symbol\": \"circle\"}, \"mode\": \"markers\", \"name\": \"Packaged Foods & Meats\", \"orientation\": \"v\", \"showlegend\": true, \"type\": \"scatter\", \"x\": [306.77777777777777], \"xaxis\": \"x\", \"y\": [46025.444444444445], \"yaxis\": \"y\"}, {\"hovertemplate\": \"GICS Sub-Industry=Paper Packaging<br>CEO Pay Ratio=%{marker.size}<br>Median Employee Pay=%{y}<extra></extra>\", \"legendgroup\": \"Paper Packaging\", \"marker\": {\"color\": \"#EF553B\", \"size\": [299.5], \"sizemode\": \"area\", \"sizeref\": 12.628333333333332, \"symbol\": \"circle\"}, \"mode\": \"markers\", \"name\": \"Paper Packaging\", \"orientation\": \"v\", \"showlegend\": true, \"type\": \"scatter\", \"x\": [299.5], \"xaxis\": \"x\", \"y\": [49383.25], \"yaxis\": \"y\"}, {\"hovertemplate\": \"GICS Sub-Industry=Personal Products<br>CEO Pay Ratio=%{marker.size}<br>Median Employee Pay=%{y}<extra></extra>\", \"legendgroup\": \"Personal Products\", \"marker\": {\"color\": \"#00cc96\", \"size\": [333.0], \"sizemode\": \"area\", \"sizeref\": 12.628333333333332, \"symbol\": \"circle\"}, \"mode\": \"markers\", \"name\": \"Personal Products\", \"orientation\": \"v\", \"showlegend\": true, \"type\": \"scatter\", \"x\": [333.0], \"xaxis\": \"x\", \"y\": [68883.0], \"yaxis\": \"y\"}, {\"hovertemplate\": \"GICS Sub-Industry=Pharmaceuticals<br>CEO Pay Ratio=%{marker.size}<br>Median Employee Pay=%{y}<extra></extra>\", \"legendgroup\": \"Pharmaceuticals\", \"marker\": {\"color\": \"#ab63fa\", \"size\": [225.125], \"sizemode\": \"area\", \"sizeref\": 12.628333333333332, \"symbol\": \"circle\"}, \"mode\": \"markers\", \"name\": \"Pharmaceuticals\", \"orientation\": \"v\", \"showlegend\": true, \"type\": \"scatter\", \"x\": [225.125], \"xaxis\": \"x\", \"y\": [86932.75], \"yaxis\": \"y\"}, {\"hovertemplate\": \"GICS Sub-Industry=Property & Casualty Insurance<br>CEO Pay Ratio=%{marker.size}<br>Median Employee Pay=%{y}<extra></extra>\", \"legendgroup\": \"Property & Casualty Insurance\", \"marker\": {\"color\": \"#FFA15A\", \"size\": [220.66666666666666], \"sizemode\": \"area\", \"sizeref\": 12.628333333333332, \"symbol\": \"circle\"}, \"mode\": \"markers\", \"name\": \"Property & Casualty Insurance\", \"orientation\": \"v\", \"showlegend\": true, \"type\": \"scatter\", \"x\": [220.66666666666666], \"xaxis\": \"x\", \"y\": [75125.0], \"yaxis\": \"y\"}, {\"hovertemplate\": \"GICS Sub-Industry=Railroads<br>CEO Pay Ratio=%{marker.size}<br>Median Employee Pay=%{y}<extra></extra>\", \"legendgroup\": \"Railroads\", \"marker\": {\"color\": \"#19d3f3\", \"size\": [148.25], \"sizemode\": \"area\", \"sizeref\": 12.628333333333332, \"symbol\": \"circle\"}, \"mode\": \"markers\", \"name\": \"Railroads\", \"orientation\": \"v\", \"showlegend\": true, \"type\": \"scatter\", \"x\": [148.25], \"xaxis\": \"x\", \"y\": [83435.5], \"yaxis\": \"y\"}, {\"hovertemplate\": \"GICS Sub-Industry=Real Estate Services<br>CEO Pay Ratio=%{marker.size}<br>Median Employee Pay=%{y}<extra></extra>\", \"legendgroup\": \"Real Estate Services\", \"marker\": {\"color\": \"#FF6692\", \"size\": [157.0], \"sizemode\": \"area\", \"sizeref\": 12.628333333333332, \"symbol\": \"circle\"}, \"mode\": \"markers\", \"name\": \"Real Estate Services\", \"orientation\": \"v\", \"showlegend\": true, \"type\": \"scatter\", \"x\": [157.0], \"xaxis\": \"x\", \"y\": [65849.0], \"yaxis\": \"y\"}, {\"hovertemplate\": \"GICS Sub-Industry=Regional Banks<br>CEO Pay Ratio=%{marker.size}<br>Median Employee Pay=%{y}<extra></extra>\", \"legendgroup\": \"Regional Banks\", \"marker\": {\"color\": \"#B6E880\", \"size\": [154.2], \"sizemode\": \"area\", \"sizeref\": 12.628333333333332, \"symbol\": \"circle\"}, \"mode\": \"markers\", \"name\": \"Regional Banks\", \"orientation\": \"v\", \"showlegend\": true, \"type\": \"scatter\", \"x\": [154.2], \"xaxis\": \"x\", \"y\": [64137.2], \"yaxis\": \"y\"}, {\"hovertemplate\": \"GICS Sub-Industry=Reinsurance<br>CEO Pay Ratio=%{marker.size}<br>Median Employee Pay=%{y}<extra></extra>\", \"legendgroup\": \"Reinsurance\", \"marker\": {\"color\": \"#FF97FF\", \"size\": [53.0], \"sizemode\": \"area\", \"sizeref\": 12.628333333333332, \"symbol\": \"circle\"}, \"mode\": \"markers\", \"name\": \"Reinsurance\", \"orientation\": \"v\", \"showlegend\": true, \"type\": \"scatter\", \"x\": [53.0], \"xaxis\": \"x\", \"y\": [144915.0], \"yaxis\": \"y\"}, {\"hovertemplate\": \"GICS Sub-Industry=Research & Consulting Services<br>CEO Pay Ratio=%{marker.size}<br>Median Employee Pay=%{y}<extra></extra>\", \"legendgroup\": \"Research & Consulting Services\", \"marker\": {\"color\": \"#FECB52\", \"size\": [213.75], \"sizemode\": \"area\", \"sizeref\": 12.628333333333332, \"symbol\": \"circle\"}, \"mode\": \"markers\", \"name\": \"Research & Consulting Services\", \"orientation\": \"v\", \"showlegend\": true, \"type\": \"scatter\", \"x\": [213.75], \"xaxis\": \"x\", \"y\": [68232.5], \"yaxis\": \"y\"}, {\"hovertemplate\": \"GICS Sub-Industry=Residential REITs<br>CEO Pay Ratio=%{marker.size}<br>Median Employee Pay=%{y}<extra></extra>\", \"legendgroup\": \"Residential REITs\", \"marker\": {\"color\": \"#636efa\", \"size\": [123.8], \"sizemode\": \"area\", \"sizeref\": 12.628333333333332, \"symbol\": \"circle\"}, \"mode\": \"markers\", \"name\": \"Residential REITs\", \"orientation\": \"v\", \"showlegend\": true, \"type\": \"scatter\", \"x\": [123.8], \"xaxis\": \"x\", \"y\": [69459.4], \"yaxis\": \"y\"}, {\"hovertemplate\": \"GICS Sub-Industry=Restaurants<br>CEO Pay Ratio=%{marker.size}<br>Median Employee Pay=%{y}<extra></extra>\", \"legendgroup\": \"Restaurants\", \"marker\": {\"color\": \"#EF553B\", \"size\": [5051.333333333333], \"sizemode\": \"area\", \"sizeref\": 12.628333333333332, \"symbol\": \"circle\"}, \"mode\": \"markers\", \"name\": \"Restaurants\", \"orientation\": \"v\", \"showlegend\": true, \"type\": \"scatter\", \"x\": [5051.333333333333], \"xaxis\": \"x\", \"y\": [13706.166666666666], \"yaxis\": \"y\"}, {\"hovertemplate\": \"GICS Sub-Industry=Retail REITs<br>CEO Pay Ratio=%{marker.size}<br>Median Employee Pay=%{y}<extra></extra>\", \"legendgroup\": \"Retail REITs\", \"marker\": {\"color\": \"#00cc96\", \"size\": [87.0], \"sizemode\": \"area\", \"sizeref\": 12.628333333333332, \"symbol\": \"circle\"}, \"mode\": \"markers\", \"name\": \"Retail REITs\", \"orientation\": \"v\", \"showlegend\": true, \"type\": \"scatter\", \"x\": [87.0], \"xaxis\": \"x\", \"y\": [95417.0], \"yaxis\": \"y\"}, {\"hovertemplate\": \"GICS Sub-Industry=Semiconductor Equipment<br>CEO Pay Ratio=%{marker.size}<br>Median Employee Pay=%{y}<extra></extra>\", \"legendgroup\": \"Semiconductor Equipment\", \"marker\": {\"color\": \"#ab63fa\", \"size\": [109.66666666666667], \"sizemode\": \"area\", \"sizeref\": 12.628333333333332, \"symbol\": \"circle\"}, \"mode\": \"markers\", \"name\": \"Semiconductor Equipment\", \"orientation\": \"v\", \"showlegend\": true, \"type\": \"scatter\", \"x\": [109.66666666666667], \"xaxis\": \"x\", \"y\": [102075.33333333333], \"yaxis\": \"y\"}, {\"hovertemplate\": \"GICS Sub-Industry=Semiconductors<br>CEO Pay Ratio=%{marker.size}<br>Median Employee Pay=%{y}<extra></extra>\", \"legendgroup\": \"Semiconductors\", \"marker\": {\"color\": \"#FFA15A\", \"size\": [301.0833333333333], \"sizemode\": \"area\", \"sizeref\": 12.628333333333332, \"symbol\": \"circle\"}, \"mode\": \"markers\", \"name\": \"Semiconductors\", \"orientation\": \"v\", \"showlegend\": true, \"type\": \"scatter\", \"x\": [301.0833333333333], \"xaxis\": \"x\", \"y\": [85674.58333333333], \"yaxis\": \"y\"}, {\"hovertemplate\": \"GICS Sub-Industry=Soft Drinks<br>CEO Pay Ratio=%{marker.size}<br>Median Employee Pay=%{y}<extra></extra>\", \"legendgroup\": \"Soft Drinks\", \"marker\": {\"color\": \"#19d3f3\", \"size\": [758.6666666666666], \"sizemode\": \"area\", \"sizeref\": 12.628333333333332, \"symbol\": \"circle\"}, \"mode\": \"markers\", \"name\": \"Soft Drinks\", \"orientation\": \"v\", \"showlegend\": true, \"type\": \"scatter\", \"x\": [758.6666666666666], \"xaxis\": \"x\", \"y\": [37517.0], \"yaxis\": \"y\"}, {\"hovertemplate\": \"GICS Sub-Industry=Specialized REITs<br>CEO Pay Ratio=%{marker.size}<br>Median Employee Pay=%{y}<extra></extra>\", \"legendgroup\": \"Specialized REITs\", \"marker\": {\"color\": \"#FF6692\", \"size\": [126.28571428571429], \"sizemode\": \"area\", \"sizeref\": 12.628333333333332, \"symbol\": \"circle\"}, \"mode\": \"markers\", \"name\": \"Specialized REITs\", \"orientation\": \"v\", \"showlegend\": true, \"type\": \"scatter\", \"x\": [126.28571428571429], \"xaxis\": \"x\", \"y\": [83803.42857142857], \"yaxis\": \"y\"}, {\"hovertemplate\": \"GICS Sub-Industry=Specialty Chemicals<br>CEO Pay Ratio=%{marker.size}<br>Median Employee Pay=%{y}<extra></extra>\", \"legendgroup\": \"Specialty Chemicals\", \"marker\": {\"color\": \"#B6E880\", \"size\": [257.0], \"sizemode\": \"area\", \"sizeref\": 12.628333333333332, \"symbol\": \"circle\"}, \"mode\": \"markers\", \"name\": \"Specialty Chemicals\", \"orientation\": \"v\", \"showlegend\": true, \"type\": \"scatter\", \"x\": [257.0], \"xaxis\": \"x\", \"y\": [62098.0], \"yaxis\": \"y\"}, {\"hovertemplate\": \"GICS Sub-Industry=Specialty Stores<br>CEO Pay Ratio=%{marker.size}<br>Median Employee Pay=%{y}<extra></extra>\", \"legendgroup\": \"Specialty Stores\", \"marker\": {\"color\": \"#FF97FF\", \"size\": [304.8], \"sizemode\": \"area\", \"sizeref\": 12.628333333333332, \"symbol\": \"circle\"}, \"mode\": \"markers\", \"name\": \"Specialty Stores\", \"orientation\": \"v\", \"showlegend\": true, \"type\": \"scatter\", \"x\": [304.8], \"xaxis\": \"x\", \"y\": [31326.4], \"yaxis\": \"y\"}, {\"hovertemplate\": \"GICS Sub-Industry=Steel<br>CEO Pay Ratio=%{marker.size}<br>Median Employee Pay=%{y}<extra></extra>\", \"legendgroup\": \"Steel\", \"marker\": {\"color\": \"#FECB52\", \"size\": [218.0], \"sizemode\": \"area\", \"sizeref\": 12.628333333333332, \"symbol\": \"circle\"}, \"mode\": \"markers\", \"name\": \"Steel\", \"orientation\": \"v\", \"showlegend\": true, \"type\": \"scatter\", \"x\": [218.0], \"xaxis\": \"x\", \"y\": [87573.0], \"yaxis\": \"y\"}, {\"hovertemplate\": \"GICS Sub-Industry=Systems Software<br>CEO Pay Ratio=%{marker.size}<br>Median Employee Pay=%{y}<extra></extra>\", \"legendgroup\": \"Systems Software\", \"marker\": {\"color\": \"#636efa\", \"size\": [132.0], \"sizemode\": \"area\", \"sizeref\": 12.628333333333332, \"symbol\": \"circle\"}, \"mode\": \"markers\", \"name\": \"Systems Software\", \"orientation\": \"v\", \"showlegend\": true, \"type\": \"scatter\", \"x\": [132.0], \"xaxis\": \"x\", \"y\": [175944.33333333334], \"yaxis\": \"y\"}, {\"hovertemplate\": \"GICS Sub-Industry=Technology Distributors<br>CEO Pay Ratio=%{marker.size}<br>Median Employee Pay=%{y}<extra></extra>\", \"legendgroup\": \"Technology Distributors\", \"marker\": {\"color\": \"#EF553B\", \"size\": [66.0], \"sizemode\": \"area\", \"sizeref\": 12.628333333333332, \"symbol\": \"circle\"}, \"mode\": \"markers\", \"name\": \"Technology Distributors\", \"orientation\": \"v\", \"showlegend\": true, \"type\": \"scatter\", \"x\": [66.0], \"xaxis\": \"x\", \"y\": [93452.0], \"yaxis\": \"y\"}, {\"hovertemplate\": \"GICS Sub-Industry=Technology Hardware, Storage & Peripherals<br>CEO Pay Ratio=%{marker.size}<br>Median Employee Pay=%{y}<extra></extra>\", \"legendgroup\": \"Technology Hardware, Storage & Peripherals\", \"marker\": {\"color\": \"#00cc96\", \"size\": [538.5714285714286], \"sizemode\": \"area\", \"sizeref\": 12.628333333333332, \"symbol\": \"circle\"}, \"mode\": \"markers\", \"name\": \"Technology Hardware, Storage & Peripherals\", \"orientation\": \"v\", \"showlegend\": true, \"type\": \"scatter\", \"x\": [538.5714285714286], \"xaxis\": \"x\", \"y\": [66659.71428571429], \"yaxis\": \"y\"}, {\"hovertemplate\": \"GICS Sub-Industry=Thrifts & Mortgage Finance<br>CEO Pay Ratio=%{marker.size}<br>Median Employee Pay=%{y}<extra></extra>\", \"legendgroup\": \"Thrifts & Mortgage Finance\", \"marker\": {\"color\": \"#ab63fa\", \"size\": [86.0], \"sizemode\": \"area\", \"sizeref\": 12.628333333333332, \"symbol\": \"circle\"}, \"mode\": \"markers\", \"name\": \"Thrifts & Mortgage Finance\", \"orientation\": \"v\", \"showlegend\": true, \"type\": \"scatter\", \"x\": [86.0], \"xaxis\": \"x\", \"y\": [66596.0], \"yaxis\": \"y\"}, {\"hovertemplate\": \"GICS Sub-Industry=Tobacco<br>CEO Pay Ratio=%{marker.size}<br>Median Employee Pay=%{y}<extra></extra>\", \"legendgroup\": \"Tobacco\", \"marker\": {\"color\": \"#FFA15A\", \"size\": [632.5], \"sizemode\": \"area\", \"sizeref\": 12.628333333333332, \"symbol\": \"circle\"}, \"mode\": \"markers\", \"name\": \"Tobacco\", \"orientation\": \"v\", \"showlegend\": true, \"type\": \"scatter\", \"x\": [632.5], \"xaxis\": \"x\", \"y\": [80690.0], \"yaxis\": \"y\"}, {\"hovertemplate\": \"GICS Sub-Industry=Trading Companies & Distributors<br>CEO Pay Ratio=%{marker.size}<br>Median Employee Pay=%{y}<extra></extra>\", \"legendgroup\": \"Trading Companies & Distributors\", \"marker\": {\"color\": \"#19d3f3\", \"size\": [84.0], \"sizemode\": \"area\", \"sizeref\": 12.628333333333332, \"symbol\": \"circle\"}, \"mode\": \"markers\", \"name\": \"Trading Companies & Distributors\", \"orientation\": \"v\", \"showlegend\": true, \"type\": \"scatter\", \"x\": [84.0], \"xaxis\": \"x\", \"y\": [73881.0], \"yaxis\": \"y\"}, {\"hovertemplate\": \"GICS Sub-Industry=Water Utilities<br>CEO Pay Ratio=%{marker.size}<br>Median Employee Pay=%{y}<extra></extra>\", \"legendgroup\": \"Water Utilities\", \"marker\": {\"color\": \"#FF6692\", \"size\": [60.0], \"sizemode\": \"area\", \"sizeref\": 12.628333333333332, \"symbol\": \"circle\"}, \"mode\": \"markers\", \"name\": \"Water Utilities\", \"orientation\": \"v\", \"showlegend\": true, \"type\": \"scatter\", \"x\": [60.0], \"xaxis\": \"x\", \"y\": [83599.0], \"yaxis\": \"y\"}, {\"hovertemplate\": \"GICS Sub-Industry=Wireless Telecommunication Services<br>CEO Pay Ratio=%{marker.size}<br>Median Employee Pay=%{y}<extra></extra>\", \"legendgroup\": \"Wireless Telecommunication Services\", \"marker\": {\"color\": \"#B6E880\", \"size\": [446.0], \"sizemode\": \"area\", \"sizeref\": 12.628333333333332, \"symbol\": \"circle\"}, \"mode\": \"markers\", \"name\": \"Wireless Telecommunication Services\", \"orientation\": \"v\", \"showlegend\": true, \"type\": \"scatter\", \"x\": [446.0], \"xaxis\": \"x\", \"y\": [62195.0], \"yaxis\": \"y\"}],                        {\"legend\": {\"itemsizing\": \"constant\", \"title\": {\"text\": \"GICS Sub-Industry\"}, \"tracegroupgap\": 0}, \"margin\": {\"t\": 60}, \"template\": {\"data\": {\"bar\": [{\"error_x\": {\"color\": \"#2a3f5f\"}, \"error_y\": {\"color\": \"#2a3f5f\"}, \"marker\": {\"line\": {\"color\": \"#E5ECF6\", \"width\": 0.5}}, \"type\": \"bar\"}], \"barpolar\": [{\"marker\": {\"line\": {\"color\": \"#E5ECF6\", \"width\": 0.5}}, \"type\": \"barpolar\"}], \"carpet\": [{\"aaxis\": {\"endlinecolor\": \"#2a3f5f\", \"gridcolor\": \"white\", \"linecolor\": \"white\", \"minorgridcolor\": \"white\", \"startlinecolor\": \"#2a3f5f\"}, \"baxis\": {\"endlinecolor\": \"#2a3f5f\", \"gridcolor\": \"white\", \"linecolor\": \"white\", \"minorgridcolor\": \"white\", \"startlinecolor\": \"#2a3f5f\"}, \"type\": \"carpet\"}], \"choropleth\": [{\"colorbar\": {\"outlinewidth\": 0, \"ticks\": \"\"}, \"type\": \"choropleth\"}], \"contour\": [{\"colorbar\": {\"outlinewidth\": 0, \"ticks\": \"\"}, \"colorscale\": [[0.0, \"#0d0887\"], [0.1111111111111111, \"#46039f\"], [0.2222222222222222, \"#7201a8\"], [0.3333333333333333, \"#9c179e\"], [0.4444444444444444, \"#bd3786\"], [0.5555555555555556, \"#d8576b\"], [0.6666666666666666, \"#ed7953\"], [0.7777777777777778, \"#fb9f3a\"], [0.8888888888888888, \"#fdca26\"], [1.0, \"#f0f921\"]], \"type\": \"contour\"}], \"contourcarpet\": [{\"colorbar\": {\"outlinewidth\": 0, \"ticks\": \"\"}, \"type\": \"contourcarpet\"}], \"heatmap\": [{\"colorbar\": {\"outlinewidth\": 0, \"ticks\": \"\"}, \"colorscale\": [[0.0, \"#0d0887\"], [0.1111111111111111, \"#46039f\"], [0.2222222222222222, \"#7201a8\"], [0.3333333333333333, \"#9c179e\"], [0.4444444444444444, \"#bd3786\"], [0.5555555555555556, \"#d8576b\"], [0.6666666666666666, \"#ed7953\"], [0.7777777777777778, \"#fb9f3a\"], [0.8888888888888888, \"#fdca26\"], [1.0, \"#f0f921\"]], \"type\": \"heatmap\"}], \"heatmapgl\": [{\"colorbar\": {\"outlinewidth\": 0, \"ticks\": \"\"}, \"colorscale\": [[0.0, \"#0d0887\"], [0.1111111111111111, \"#46039f\"], [0.2222222222222222, \"#7201a8\"], [0.3333333333333333, \"#9c179e\"], [0.4444444444444444, \"#bd3786\"], [0.5555555555555556, \"#d8576b\"], [0.6666666666666666, \"#ed7953\"], [0.7777777777777778, \"#fb9f3a\"], [0.8888888888888888, \"#fdca26\"], [1.0, \"#f0f921\"]], \"type\": \"heatmapgl\"}], \"histogram\": [{\"marker\": {\"colorbar\": {\"outlinewidth\": 0, \"ticks\": \"\"}}, \"type\": \"histogram\"}], \"histogram2d\": [{\"colorbar\": {\"outlinewidth\": 0, \"ticks\": \"\"}, \"colorscale\": [[0.0, \"#0d0887\"], [0.1111111111111111, \"#46039f\"], [0.2222222222222222, \"#7201a8\"], [0.3333333333333333, \"#9c179e\"], [0.4444444444444444, \"#bd3786\"], [0.5555555555555556, \"#d8576b\"], [0.6666666666666666, \"#ed7953\"], [0.7777777777777778, \"#fb9f3a\"], [0.8888888888888888, \"#fdca26\"], [1.0, \"#f0f921\"]], \"type\": \"histogram2d\"}], \"histogram2dcontour\": [{\"colorbar\": {\"outlinewidth\": 0, \"ticks\": \"\"}, \"colorscale\": [[0.0, \"#0d0887\"], [0.1111111111111111, \"#46039f\"], [0.2222222222222222, \"#7201a8\"], [0.3333333333333333, \"#9c179e\"], [0.4444444444444444, \"#bd3786\"], [0.5555555555555556, \"#d8576b\"], [0.6666666666666666, \"#ed7953\"], [0.7777777777777778, \"#fb9f3a\"], [0.8888888888888888, \"#fdca26\"], [1.0, \"#f0f921\"]], \"type\": \"histogram2dcontour\"}], \"mesh3d\": [{\"colorbar\": {\"outlinewidth\": 0, \"ticks\": \"\"}, \"type\": \"mesh3d\"}], \"parcoords\": [{\"line\": {\"colorbar\": {\"outlinewidth\": 0, \"ticks\": \"\"}}, \"type\": \"parcoords\"}], \"pie\": [{\"automargin\": true, \"type\": \"pie\"}], \"scatter\": [{\"marker\": {\"colorbar\": {\"outlinewidth\": 0, \"ticks\": \"\"}}, \"type\": \"scatter\"}], \"scatter3d\": [{\"line\": {\"colorbar\": {\"outlinewidth\": 0, \"ticks\": \"\"}}, \"marker\": {\"colorbar\": {\"outlinewidth\": 0, \"ticks\": \"\"}}, \"type\": \"scatter3d\"}], \"scattercarpet\": [{\"marker\": {\"colorbar\": {\"outlinewidth\": 0, \"ticks\": \"\"}}, \"type\": \"scattercarpet\"}], \"scattergeo\": [{\"marker\": {\"colorbar\": {\"outlinewidth\": 0, \"ticks\": \"\"}}, \"type\": \"scattergeo\"}], \"scattergl\": [{\"marker\": {\"colorbar\": {\"outlinewidth\": 0, \"ticks\": \"\"}}, \"type\": \"scattergl\"}], \"scattermapbox\": [{\"marker\": {\"colorbar\": {\"outlinewidth\": 0, \"ticks\": \"\"}}, \"type\": \"scattermapbox\"}], \"scatterpolar\": [{\"marker\": {\"colorbar\": {\"outlinewidth\": 0, \"ticks\": \"\"}}, \"type\": \"scatterpolar\"}], \"scatterpolargl\": [{\"marker\": {\"colorbar\": {\"outlinewidth\": 0, \"ticks\": \"\"}}, \"type\": \"scatterpolargl\"}], \"scatterternary\": [{\"marker\": {\"colorbar\": {\"outlinewidth\": 0, \"ticks\": \"\"}}, \"type\": \"scatterternary\"}], \"surface\": [{\"colorbar\": {\"outlinewidth\": 0, \"ticks\": \"\"}, \"colorscale\": [[0.0, \"#0d0887\"], [0.1111111111111111, \"#46039f\"], [0.2222222222222222, \"#7201a8\"], [0.3333333333333333, \"#9c179e\"], [0.4444444444444444, \"#bd3786\"], [0.5555555555555556, \"#d8576b\"], [0.6666666666666666, \"#ed7953\"], [0.7777777777777778, \"#fb9f3a\"], [0.8888888888888888, \"#fdca26\"], [1.0, \"#f0f921\"]], \"type\": \"surface\"}], \"table\": [{\"cells\": {\"fill\": {\"color\": \"#EBF0F8\"}, \"line\": {\"color\": \"white\"}}, \"header\": {\"fill\": {\"color\": \"#C8D4E3\"}, \"line\": {\"color\": \"white\"}}, \"type\": \"table\"}]}, \"layout\": {\"annotationdefaults\": {\"arrowcolor\": \"#2a3f5f\", \"arrowhead\": 0, \"arrowwidth\": 1}, \"autotypenumbers\": \"strict\", \"coloraxis\": {\"colorbar\": {\"outlinewidth\": 0, \"ticks\": \"\"}}, \"colorscale\": {\"diverging\": [[0, \"#8e0152\"], [0.1, \"#c51b7d\"], [0.2, \"#de77ae\"], [0.3, \"#f1b6da\"], [0.4, \"#fde0ef\"], [0.5, \"#f7f7f7\"], [0.6, \"#e6f5d0\"], [0.7, \"#b8e186\"], [0.8, \"#7fbc41\"], [0.9, \"#4d9221\"], [1, \"#276419\"]], \"sequential\": [[0.0, \"#0d0887\"], [0.1111111111111111, \"#46039f\"], [0.2222222222222222, \"#7201a8\"], [0.3333333333333333, \"#9c179e\"], [0.4444444444444444, \"#bd3786\"], [0.5555555555555556, \"#d8576b\"], [0.6666666666666666, \"#ed7953\"], [0.7777777777777778, \"#fb9f3a\"], [0.8888888888888888, \"#fdca26\"], [1.0, \"#f0f921\"]], \"sequentialminus\": [[0.0, \"#0d0887\"], [0.1111111111111111, \"#46039f\"], [0.2222222222222222, \"#7201a8\"], [0.3333333333333333, \"#9c179e\"], [0.4444444444444444, \"#bd3786\"], [0.5555555555555556, \"#d8576b\"], [0.6666666666666666, \"#ed7953\"], [0.7777777777777778, \"#fb9f3a\"], [0.8888888888888888, \"#fdca26\"], [1.0, \"#f0f921\"]]}, \"colorway\": [\"#636efa\", \"#EF553B\", \"#00cc96\", \"#ab63fa\", \"#FFA15A\", \"#19d3f3\", \"#FF6692\", \"#B6E880\", \"#FF97FF\", \"#FECB52\"], \"font\": {\"color\": \"#2a3f5f\"}, \"geo\": {\"bgcolor\": \"white\", \"lakecolor\": \"white\", \"landcolor\": \"#E5ECF6\", \"showlakes\": true, \"showland\": true, \"subunitcolor\": \"white\"}, \"hoverlabel\": {\"align\": \"left\"}, \"hovermode\": \"closest\", \"mapbox\": {\"style\": \"light\"}, \"paper_bgcolor\": \"white\", \"plot_bgcolor\": \"#E5ECF6\", \"polar\": {\"angularaxis\": {\"gridcolor\": \"white\", \"linecolor\": \"white\", \"ticks\": \"\"}, \"bgcolor\": \"#E5ECF6\", \"radialaxis\": {\"gridcolor\": \"white\", \"linecolor\": \"white\", \"ticks\": \"\"}}, \"scene\": {\"xaxis\": {\"backgroundcolor\": \"#E5ECF6\", \"gridcolor\": \"white\", \"gridwidth\": 2, \"linecolor\": \"white\", \"showbackground\": true, \"ticks\": \"\", \"zerolinecolor\": \"white\"}, \"yaxis\": {\"backgroundcolor\": \"#E5ECF6\", \"gridcolor\": \"white\", \"gridwidth\": 2, \"linecolor\": \"white\", \"showbackground\": true, \"ticks\": \"\", \"zerolinecolor\": \"white\"}, \"zaxis\": {\"backgroundcolor\": \"#E5ECF6\", \"gridcolor\": \"white\", \"gridwidth\": 2, \"linecolor\": \"white\", \"showbackground\": true, \"ticks\": \"\", \"zerolinecolor\": \"white\"}}, \"shapedefaults\": {\"line\": {\"color\": \"#2a3f5f\"}}, \"ternary\": {\"aaxis\": {\"gridcolor\": \"white\", \"linecolor\": \"white\", \"ticks\": \"\"}, \"baxis\": {\"gridcolor\": \"white\", \"linecolor\": \"white\", \"ticks\": \"\"}, \"bgcolor\": \"#E5ECF6\", \"caxis\": {\"gridcolor\": \"white\", \"linecolor\": \"white\", \"ticks\": \"\"}}, \"title\": {\"x\": 0.05}, \"xaxis\": {\"automargin\": true, \"gridcolor\": \"white\", \"linecolor\": \"white\", \"ticks\": \"\", \"title\": {\"standoff\": 15}, \"zerolinecolor\": \"white\", \"zerolinewidth\": 2}, \"yaxis\": {\"automargin\": true, \"gridcolor\": \"white\", \"linecolor\": \"white\", \"ticks\": \"\", \"title\": {\"standoff\": 15}, \"zerolinecolor\": \"white\", \"zerolinewidth\": 2}}}, \"xaxis\": {\"anchor\": \"y\", \"domain\": [0.0, 1.0], \"title\": {\"text\": \"CEO Pay Ratio\"}}, \"yaxis\": {\"anchor\": \"x\", \"domain\": [0.0, 1.0], \"title\": {\"text\": \"Median Employee Pay\"}}},                        {\"responsive\": true}                    ).then(function(){\n",
       "                            \n",
       "var gd = document.getElementById('4a21bd4b-e417-4531-8947-8e34298f49f2');\n",
       "var x = new MutationObserver(function (mutations, observer) {{\n",
       "        var display = window.getComputedStyle(gd).display;\n",
       "        if (!display || display === 'none') {{\n",
       "            console.log([gd, 'removed!']);\n",
       "            Plotly.purge(gd);\n",
       "            observer.disconnect();\n",
       "        }}\n",
       "}});\n",
       "\n",
       "// Listen for the removal of the full notebook cells\n",
       "var notebookContainer = gd.closest('#notebook-container');\n",
       "if (notebookContainer) {{\n",
       "    x.observe(notebookContainer, {childList: true});\n",
       "}}\n",
       "\n",
       "// Listen for the clearing of the current output cell\n",
       "var outputEl = gd.closest('.output');\n",
       "if (outputEl) {{\n",
       "    x.observe(outputEl, {childList: true});\n",
       "}}\n",
       "\n",
       "                        })                };                });            </script>        </div>"
      ]
     },
     "metadata": {},
     "output_type": "display_data"
    }
   ],
   "source": [
    "px.scatter(mean_ceo_pay_df, x= 'CEO Pay Ratio', y= 'Median Employee Pay', color= 'GICS Sub-Industry', size= 'CEO Pay Ratio')"
   ]
  }
 ],
 "metadata": {
  "kernelspec": {
   "display_name": "Python 3",
   "language": "python",
   "name": "python3"
  },
  "language_info": {
   "codemirror_mode": {
    "name": "ipython",
    "version": 3
   },
   "file_extension": ".py",
   "mimetype": "text/x-python",
   "name": "python",
   "nbconvert_exporter": "python",
   "pygments_lexer": "ipython3",
   "version": "3.7.3"
  }
 },
 "nbformat": 4,
 "nbformat_minor": 4
}
