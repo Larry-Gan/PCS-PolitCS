{
 "cells": [
  {
   "cell_type": "code",
   "execution_count": 1,
   "metadata": {},
   "outputs": [],
   "source": [
    "import requests\n",
    "import lxml.html as lh\n",
    "import pandas as pd\n"
   ]
  },
  {
   "cell_type": "code",
   "execution_count": 2,
   "metadata": {},
   "outputs": [],
   "source": [
    "#ratios go back to 2017\n",
    "#best buy only went back to \n",
    "#getting url\n",
    "url='https://www.salary.com/tools/executive-compensation-calculator/walmart-inc-executive-salaries?year=2020'\n",
    "page=requests.get(url)\n",
    "\n",
    "#getting all the tables\n",
    "doc=lh.fromstring(page.content)\n",
    "tr_elements=doc.xpath('//tr')"
   ]
  },
  {
   "cell_type": "code",
   "execution_count": 3,
   "metadata": {
    "scrolled": true
   },
   "outputs": [
    {
     "data": {
      "text/plain": [
       "[4, 4, 2, 1, 2, 1, 1, 1, 2, 1, 2, 1, 1, 1, 2, 1, 2, 1, 1, 1, 2, 1, 2, 1, 1, 1]"
      ]
     },
     "execution_count": 3,
     "metadata": {},
     "output_type": "execute_result"
    }
   ],
   "source": [
    "#seeing length of each row in the website\n",
    "[len(T) for T in tr_elements[:]]\n",
    "#I can probably use this to skip sites that don't have 4 columns"
   ]
  },
  {
   "cell_type": "code",
   "execution_count": 4,
   "metadata": {},
   "outputs": [
    {
     "name": "stdout",
     "output_type": "stream",
     "text": [
      "1 CEO Name\n",
      "2 CEO Pay\n",
      "3 Median Employee Pay\n",
      "4 CEO Pay Ratio\n"
     ]
    },
    {
     "data": {
      "text/plain": [
       "[('CEO Name', []),\n",
       " ('CEO Pay', []),\n",
       " ('Median Employee Pay', []),\n",
       " ('CEO Pay Ratio', [])]"
      ]
     },
     "execution_count": 4,
     "metadata": {},
     "output_type": "execute_result"
    }
   ],
   "source": [
    "tcol=[]\n",
    "i=0\n",
    "\n",
    "#seeing the content of a specified row this is for testing purposes only\n",
    "for t in tr_elements[0]:\n",
    "    i+=1\n",
    "    name=t.text_content()\n",
    "    print(i,name)\n",
    "    tcol.append((name, []))\n",
    "tcol"
   ]
  },
  {
   "cell_type": "code",
   "execution_count": 5,
   "metadata": {},
   "outputs": [
    {
     "data": {
      "text/plain": [
       "[('CEO Name', []),\n",
       " ('CEO Pay', []),\n",
       " ('Median Employee Pay', []),\n",
       " ('CEO Pay Ratio', [])]"
      ]
     },
     "execution_count": 5,
     "metadata": {},
     "output_type": "execute_result"
    }
   ],
   "source": [
    "#Makes a list of to make the graph later on\n",
    "col=[('CEO Name', []), ('CEO Pay', []), ('Median Employee Pay', []), ('CEO Pay Ratio', [])]\n",
    "col"
   ]
  },
  {
   "cell_type": "code",
   "execution_count": 6,
   "metadata": {},
   "outputs": [],
   "source": [
    "#this will find the table that has the relevant info for the CEO,\n",
    "#and put the correct info into col\n",
    "for j in range(0,len(tr_elements)):\n",
    "    #T is our j'th row\n",
    "    T=tr_elements[j]\n",
    "\n",
    "    #Only check rows of size 4 (with CEO Name, CEO Pay, Median Employee Pay,\n",
    "    #and CEO Pay Ratio)\n",
    "    if len(T)==4:\n",
    "        #checks if the current row has the 4 maagic words\n",
    "        table_Name = ['','','','']\n",
    "        i=0\n",
    "        for t in T:\n",
    "            name = t.text_content()\n",
    "            name = name.__str__()\n",
    "            table_Name[i]=name\n",
    "            i+=1\n",
    "        \n",
    "        #if it does, I'll take the data from the row right below it\n",
    "        if (table_Name[0] == 'CEO Name' and table_Name[1] == 'CEO Pay' and table_Name[2] == 'Median Employee Pay' and table_Name[3] == 'CEO Pay Ratio'):\n",
    "            T=tr_elements[j+1]\n",
    "            #i is the index of our column\n",
    "            i=0\n",
    "\n",
    "            #Iterate through each element of the row\n",
    "            for t in T.iterchildren():\n",
    "                #this part if for cleaning the cell contents\n",
    "                data=t.text_content() \n",
    "                data = data.__str__()\n",
    "                data = data.replace(r'$', '')\n",
    "                data = data.replace(r',', '')\n",
    "                data = data.strip()\n",
    "                data = data.replace(r'CEO Pay', '')\n",
    "                data = data.replace(r'Median Employee Pay', '')\n",
    "                data = data.replace(r'CEO Pay Ratio', '')\n",
    "                data = data.replace(r'Ratio', '')\n",
    "                data = data.replace(r':1', '')\n",
    "                data = data.strip()\n",
    "                #Check if row is empty\n",
    "                if i>0:\n",
    "                #Convert any numerical value to integers\n",
    "                    try:\n",
    "                        data=int(data)\n",
    "                    except:\n",
    "                        pass\n",
    "                #Append the data to col\n",
    "                col[i][1].append(data)\n",
    "                #Increment i for the next column\n",
    "                i+=1\n",
    "            break"
   ]
  },
  {
   "cell_type": "code",
   "execution_count": 7,
   "metadata": {},
   "outputs": [
    {
     "data": {
      "text/plain": [
       "[1, 1, 1, 1]"
      ]
     },
     "execution_count": 7,
     "metadata": {},
     "output_type": "execute_result"
    }
   ],
   "source": [
    "#this is also for testing purposes, will be [1, 1, 1, 1] is successful\n",
    "[len(C) for (title,C) in col]"
   ]
  },
  {
   "cell_type": "code",
   "execution_count": 8,
   "metadata": {},
   "outputs": [],
   "source": [
    "#making the dataframe\n",
    "Dict={title:column for (title,column) in col}\n",
    "df=pd.DataFrame(Dict)"
   ]
  },
  {
   "cell_type": "code",
   "execution_count": 9,
   "metadata": {},
   "outputs": [
    {
     "data": {
      "text/html": [
       "<div>\n",
       "<style scoped>\n",
       "    .dataframe tbody tr th:only-of-type {\n",
       "        vertical-align: middle;\n",
       "    }\n",
       "\n",
       "    .dataframe tbody tr th {\n",
       "        vertical-align: top;\n",
       "    }\n",
       "\n",
       "    .dataframe thead th {\n",
       "        text-align: right;\n",
       "    }\n",
       "</style>\n",
       "<table border=\"1\" class=\"dataframe\">\n",
       "  <thead>\n",
       "    <tr style=\"text-align: right;\">\n",
       "      <th></th>\n",
       "      <th>CEO Name</th>\n",
       "      <th>CEO Pay</th>\n",
       "      <th>Median Employee Pay</th>\n",
       "      <th>CEO Pay Ratio</th>\n",
       "    </tr>\n",
       "  </thead>\n",
       "  <tbody>\n",
       "    <tr>\n",
       "      <th>0</th>\n",
       "      <td>C. Douglas McMillon</td>\n",
       "      <td>22105350</td>\n",
       "      <td>22484</td>\n",
       "      <td>983</td>\n",
       "    </tr>\n",
       "  </tbody>\n",
       "</table>\n",
       "</div>"
      ],
      "text/plain": [
       "              CEO Name   CEO Pay  Median Employee Pay  CEO Pay Ratio\n",
       "0  C. Douglas McMillon  22105350                22484            983"
      ]
     },
     "execution_count": 9,
     "metadata": {},
     "output_type": "execute_result"
    }
   ],
   "source": [
    "#displaying the dataframe\n",
    "df"
   ]
  },
  {
   "cell_type": "code",
   "execution_count": null,
   "metadata": {},
   "outputs": [],
   "source": []
  }
 ],
 "metadata": {
  "kernelspec": {
   "display_name": "Python 3",
   "language": "python",
   "name": "python3"
  },
  "language_info": {
   "codemirror_mode": {
    "name": "ipython",
    "version": 3
   },
   "file_extension": ".py",
   "mimetype": "text/x-python",
   "name": "python",
   "nbconvert_exporter": "python",
   "pygments_lexer": "ipython3",
   "version": "3.7.3"
  }
 },
 "nbformat": 4,
 "nbformat_minor": 2
}
